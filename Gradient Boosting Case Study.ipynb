{
 "cells": [
  {
   "cell_type": "code",
   "execution_count": 43,
   "source": [
    "import pandas as pd\n",
    "import numpy as np\n",
    "import scipy\n",
    "import matplotlib.pyplot as plt\n",
    "from sklearn import tree\n",
    "from IPython.display import Image\n",
    "%matplotlib inline\n",
    "from sklearn import preprocessing\n",
    "from sklearn.ensemble import GradientBoostingClassifier\n",
    "from sklearn.metrics import classification_report, confusion_matrix, roc_curve, auc"
   ],
   "outputs": [],
   "metadata": {
    "colab": {},
    "colab_type": "code",
    "id": "DX307zY7Rz8L"
   }
  },
  {
   "cell_type": "markdown",
   "source": [
    "### Gradient boosting\n",
    "\n",
    "You may recall that we last encountered gradients when discussing the gradient descent algorithm in the context of fitting linear regression models.  For a particular regression model with n parameters, an n+1 dimensional space existed defined by all the parameters plus the cost/loss function to minimize.  The combination of parameters and loss function define a surface within the space.  The regression model is fitted by moving down the steepest 'downhill' gradient until we reach the lowest point of the surface, where all possible gradients are 'uphill.'  The final model is made up of the parameter estimates that define that location on the surface.\n",
    "\n",
    "Throughout all iterations of the gradient descent algorithm for linear regression, one thing remains constant: The underlying data used to estimate the parameters and calculate the loss function never changes.  In gradient boosting, however, the underlying data do change.  \n",
    "\n",
    "Each time we run a decision tree, we extract the residuals.  Then we run a new decision tree, using those residuals as the outcome to be predicted.  After reaching a stopping point, we add together the predicted values from all of the decision trees to create the final gradient boosted prediction.\n",
    "\n",
    "Gradient boosting can work on any combination of loss function and model type, as long as we can calculate the derivatives of the loss function with respect to the model parameters.  Most often, however, gradient boosting uses decision trees, and minimizes either the  residual (regression trees) or the negative log-likelihood (classification trees).  \n",
    "\n",
    "Let’s go through a simple regression example using Decision Trees as the base predictors (of course Gradient Boosting also works great with regression tasks). This is called Gradient Tree Boosting, or Gradient Boosted Regression Trees. First, let’s fit a `DecisionTreeRegressor` to the training set."
   ],
   "metadata": {
    "colab_type": "text",
    "id": "IXO1tobzRz8R",
    "run_control": {
     "frozen": false,
     "read_only": false
    }
   }
  },
  {
   "cell_type": "code",
   "execution_count": 44,
   "source": [
    "np.random.seed(42)\n",
    "X = np.random.rand(100, 1) - 0.5\n",
    "y = 3*X[:, 0]**2 + 0.05 * np.random.randn(100)"
   ],
   "outputs": [],
   "metadata": {
    "colab": {},
    "colab_type": "code",
    "id": "gGreKgygRz8R"
   }
  },
  {
   "cell_type": "code",
   "execution_count": 45,
   "source": [
    "from sklearn.tree import DecisionTreeRegressor\n",
    "\n",
    "tree_reg1 = DecisionTreeRegressor(max_depth=2, random_state=42)\n",
    "tree_reg1.fit(X, y)"
   ],
   "outputs": [
    {
     "output_type": "execute_result",
     "data": {
      "text/plain": [
       "DecisionTreeRegressor(max_depth=2, random_state=42)"
      ]
     },
     "metadata": {},
     "execution_count": 45
    }
   ],
   "metadata": {
    "colab": {},
    "colab_type": "code",
    "id": "a48uXlSBRz8U",
    "outputId": "f077e2e2-ca97-4aae-987a-176736cc6f1f"
   }
  },
  {
   "cell_type": "markdown",
   "source": [
    "Now train a second `DecisionTreeRegressor` on the residual errors made by the first predictor:"
   ],
   "metadata": {
    "colab_type": "text",
    "id": "W3ao2m6RRz8Z"
   }
  },
  {
   "cell_type": "code",
   "execution_count": 46,
   "source": [
    "y2 = y - tree_reg1.predict(X)\n",
    "tree_reg2 = DecisionTreeRegressor(max_depth=2, random_state=42)\n",
    "tree_reg2.fit(X, y2)"
   ],
   "outputs": [
    {
     "output_type": "execute_result",
     "data": {
      "text/plain": [
       "DecisionTreeRegressor(max_depth=2, random_state=42)"
      ]
     },
     "metadata": {},
     "execution_count": 46
    }
   ],
   "metadata": {
    "colab": {},
    "colab_type": "code",
    "id": "j_wMy80MRz8Z",
    "outputId": "41e4143a-5dad-40e7-b816-b08ff7a39799"
   }
  },
  {
   "cell_type": "markdown",
   "source": [
    "Then we train a third regressor on the residual errors made by the second predictor:\n",
    "\n"
   ],
   "metadata": {
    "colab_type": "text",
    "id": "T7iraM6-Rz8c"
   }
  },
  {
   "cell_type": "code",
   "execution_count": 47,
   "source": [
    "y3 = y2 - tree_reg2.predict(X)\n",
    "tree_reg3 = DecisionTreeRegressor(max_depth=2, random_state=42)\n",
    "tree_reg3.fit(X, y3)"
   ],
   "outputs": [
    {
     "output_type": "execute_result",
     "data": {
      "text/plain": [
       "DecisionTreeRegressor(max_depth=2, random_state=42)"
      ]
     },
     "metadata": {},
     "execution_count": 47
    }
   ],
   "metadata": {
    "colab": {},
    "colab_type": "code",
    "id": "luWV0lZGRz8c",
    "outputId": "53ef51ac-8293-4c24-b403-853320cdd4a7"
   }
  },
  {
   "cell_type": "markdown",
   "source": [
    "Now we have an ensemble containing three trees. It can make predictions on a new instance simply by adding up the predictions of all the trees:"
   ],
   "metadata": {
    "colab_type": "text",
    "id": "hNqDI9AcRz8g"
   }
  },
  {
   "cell_type": "code",
   "execution_count": 48,
   "source": [
    "X_new = np.array([[0.8]])"
   ],
   "outputs": [],
   "metadata": {
    "colab": {},
    "colab_type": "code",
    "id": "5UxW0hN1Rz8g"
   }
  },
  {
   "cell_type": "code",
   "execution_count": 49,
   "source": [
    "y_pred = sum(tree.predict(X_new) for tree in (tree_reg1, tree_reg2, tree_reg3))"
   ],
   "outputs": [],
   "metadata": {
    "colab": {},
    "colab_type": "code",
    "id": "2O_e-UpZRz8j"
   }
  },
  {
   "cell_type": "code",
   "execution_count": 50,
   "source": [
    "y_pred"
   ],
   "outputs": [
    {
     "output_type": "execute_result",
     "data": {
      "text/plain": [
       "array([0.75026781])"
      ]
     },
     "metadata": {},
     "execution_count": 50
    }
   ],
   "metadata": {
    "colab": {},
    "colab_type": "code",
    "id": "TKw9-uOJRz8m",
    "outputId": "2d615aee-f854-489a-e517-d8fbc7d1ea48"
   }
  },
  {
   "cell_type": "markdown",
   "source": [
    "The figure below represents the predictions of these three trees in the left column, and the ensemble’s predictions in the right column. In the first row, the ensemble has just one tree, so its predictions are exactly the same as the first tree’s predictions. In the second row, a new tree is trained on the residual errors of the first tree. On the right you can see that the ensemble’s predictions are equal to the sum of the predictions of the first two trees. Similarly, in the third row another tree is trained on the residual errors of the second tree. You can see that the ensemble’s predictions gradually get better as trees are added to the ensemble."
   ],
   "metadata": {
    "colab_type": "text",
    "id": "PlbPjAa1Rz8o"
   }
  },
  {
   "cell_type": "markdown",
   "source": [
    "**<font color='teal'>Run the below cell to develop a visual representation.</font>**"
   ],
   "metadata": {
    "colab_type": "text",
    "id": "WRMKci30Rz8p",
    "tags": []
   }
  },
  {
   "cell_type": "code",
   "execution_count": 51,
   "source": [
    "def plot_predictions(regressors, X, y, axes, label=None, style=\"r-\", data_style=\"b.\", data_label=None):\n",
    "    x1 = np.linspace(axes[0], axes[1], 500)\n",
    "    y_pred = sum(regressor.predict(x1.reshape(-1, 1)) for regressor in regressors)\n",
    "    plt.plot(X[:, 0], y, data_style, label=data_label)\n",
    "    plt.plot(x1, y_pred, style, linewidth=2, label=label)\n",
    "    if label or data_label:\n",
    "        plt.legend(loc=\"upper center\", fontsize=16)\n",
    "    plt.axis(axes)\n",
    "\n",
    "plt.figure(figsize=(11,11))\n",
    "\n",
    "plt.subplot(321)\n",
    "plot_predictions([tree_reg1], X, y, axes=[-0.5, 0.5, -0.1, 0.8], label=\"$h_1(x_1)$\", style=\"g-\", data_label=\"Training set\")\n",
    "plt.ylabel(\"$y$\", fontsize=16, rotation=0)\n",
    "plt.title(\"Residuals and tree predictions\", fontsize=16)\n",
    "\n",
    "plt.subplot(322)\n",
    "plot_predictions([tree_reg1], X, y, axes=[-0.5, 0.5, -0.1, 0.8], label=\"$h(x_1) = h_1(x_1)$\", data_label=\"Training set\")\n",
    "plt.ylabel(\"$y$\", fontsize=16, rotation=0)\n",
    "plt.title(\"Ensemble predictions\", fontsize=16)\n",
    "\n",
    "plt.subplot(323)\n",
    "plot_predictions([tree_reg2], X, y2, axes=[-0.5, 0.5, -0.5, 0.5], label=\"$h_2(x_1)$\", style=\"g-\", data_style=\"k+\", data_label=\"Residuals\")\n",
    "plt.ylabel(\"$y - h_1(x_1)$\", fontsize=16)\n",
    "\n",
    "plt.subplot(324)\n",
    "plot_predictions([tree_reg1, tree_reg2], X, y, axes=[-0.5, 0.5, -0.1, 0.8], label=\"$h(x_1) = h_1(x_1) + h_2(x_1)$\")\n",
    "plt.ylabel(\"$y$\", fontsize=16, rotation=0)\n",
    "\n",
    "plt.subplot(325)\n",
    "plot_predictions([tree_reg3], X, y3, axes=[-0.5, 0.5, -0.5, 0.5], label=\"$h_3(x_1)$\", style=\"g-\", data_style=\"k+\")\n",
    "plt.ylabel(\"$y - h_1(x_1) - h_2(x_1)$\", fontsize=16)\n",
    "plt.xlabel(\"$x_1$\", fontsize=16)\n",
    "\n",
    "plt.subplot(326)\n",
    "plot_predictions([tree_reg1, tree_reg2, tree_reg3], X, y, axes=[-0.5, 0.5, -0.1, 0.8], label=\"$h(x_1) = h_1(x_1) + h_2(x_1) + h_3(x_1)$\")\n",
    "plt.xlabel(\"$x_1$\", fontsize=16)\n",
    "plt.ylabel(\"$y$\", fontsize=16, rotation=0)\n",
    "\n",
    "#save_fig(\"gradient_boosting_plot\")\n",
    "plt.show()"
   ],
   "outputs": [
    {
     "output_type": "display_data",
     "data": {
      "text/plain": [
       "<Figure size 792x792 with 6 Axes>"
      ],
      "image/svg+xml": "<?xml version=\"1.0\" encoding=\"utf-8\" standalone=\"no\"?>\n<!DOCTYPE svg PUBLIC \"-//W3C//DTD SVG 1.1//EN\"\n  \"http://www.w3.org/Graphics/SVG/1.1/DTD/svg11.dtd\">\n<svg height=\"666.680625pt\" version=\"1.1\" viewBox=\"0 0 688.462812 666.680625\" width=\"688.462812pt\" xmlns=\"http://www.w3.org/2000/svg\" xmlns:xlink=\"http://www.w3.org/1999/xlink\">\n <metadata>\n  <rdf:RDF xmlns:cc=\"http://creativecommons.org/ns#\" xmlns:dc=\"http://purl.org/dc/elements/1.1/\" xmlns:rdf=\"http://www.w3.org/1999/02/22-rdf-syntax-ns#\">\n   <cc:Work>\n    <dc:type rdf:resource=\"http://purl.org/dc/dcmitype/StillImage\"/>\n    <dc:date>2021-08-12T12:08:11.984217</dc:date>\n    <dc:format>image/svg+xml</dc:format>\n    <dc:creator>\n     <cc:Agent>\n      <dc:title>Matplotlib v3.4.2, https://matplotlib.org/</dc:title>\n     </cc:Agent>\n    </dc:creator>\n   </cc:Work>\n  </rdf:RDF>\n </metadata>\n <defs>\n  <style type=\"text/css\">*{stroke-linecap:butt;stroke-linejoin:round;}</style>\n </defs>\n <g id=\"figure_1\">\n  <g id=\"patch_1\">\n   <path d=\"M 0 666.680625 \nL 688.462812 666.680625 \nL 688.462812 0 \nL 0 0 \nz\n\" style=\"fill:none;\"/>\n  </g>\n  <g id=\"axes_1\">\n   <g id=\"patch_2\">\n    <path d=\"M 58.002813 201.228088 \nL 337.002813 201.228088 \nL 337.002813 25.3575 \nL 58.002813 25.3575 \nz\n\" style=\"fill:#ffffff;\"/>\n   </g>\n   <g id=\"matplotlib.axis_1\">\n    <g id=\"xtick_1\">\n     <g id=\"line2d_1\">\n      <defs>\n       <path d=\"M 0 0 \nL 0 3.5 \n\" id=\"m198dce29f0\" style=\"stroke:#000000;stroke-width:0.8;\"/>\n      </defs>\n      <g>\n       <use style=\"stroke:#000000;stroke-width:0.8;\" x=\"85.902812\" xlink:href=\"#m198dce29f0\" y=\"201.228088\"/>\n      </g>\n     </g>\n     <g id=\"text_1\">\n      <!-- −0.4 -->\n      <g transform=\"translate(73.761406 215.826526)scale(0.1 -0.1)\">\n       <defs>\n        <path d=\"M 678 2272 \nL 4684 2272 \nL 4684 1741 \nL 678 1741 \nL 678 2272 \nz\n\" id=\"DejaVuSans-2212\" transform=\"scale(0.015625)\"/>\n        <path d=\"M 2034 4250 \nQ 1547 4250 1301 3770 \nQ 1056 3291 1056 2328 \nQ 1056 1369 1301 889 \nQ 1547 409 2034 409 \nQ 2525 409 2770 889 \nQ 3016 1369 3016 2328 \nQ 3016 3291 2770 3770 \nQ 2525 4250 2034 4250 \nz\nM 2034 4750 \nQ 2819 4750 3233 4129 \nQ 3647 3509 3647 2328 \nQ 3647 1150 3233 529 \nQ 2819 -91 2034 -91 \nQ 1250 -91 836 529 \nQ 422 1150 422 2328 \nQ 422 3509 836 4129 \nQ 1250 4750 2034 4750 \nz\n\" id=\"DejaVuSans-30\" transform=\"scale(0.015625)\"/>\n        <path d=\"M 684 794 \nL 1344 794 \nL 1344 0 \nL 684 0 \nL 684 794 \nz\n\" id=\"DejaVuSans-2e\" transform=\"scale(0.015625)\"/>\n        <path d=\"M 2419 4116 \nL 825 1625 \nL 2419 1625 \nL 2419 4116 \nz\nM 2253 4666 \nL 3047 4666 \nL 3047 1625 \nL 3713 1625 \nL 3713 1100 \nL 3047 1100 \nL 3047 0 \nL 2419 0 \nL 2419 1100 \nL 313 1100 \nL 313 1709 \nL 2253 4666 \nz\n\" id=\"DejaVuSans-34\" transform=\"scale(0.015625)\"/>\n       </defs>\n       <use xlink:href=\"#DejaVuSans-2212\"/>\n       <use x=\"83.789062\" xlink:href=\"#DejaVuSans-30\"/>\n       <use x=\"147.412109\" xlink:href=\"#DejaVuSans-2e\"/>\n       <use x=\"179.199219\" xlink:href=\"#DejaVuSans-34\"/>\n      </g>\n     </g>\n    </g>\n    <g id=\"xtick_2\">\n     <g id=\"line2d_2\">\n      <g>\n       <use style=\"stroke:#000000;stroke-width:0.8;\" x=\"141.702812\" xlink:href=\"#m198dce29f0\" y=\"201.228088\"/>\n      </g>\n     </g>\n     <g id=\"text_2\">\n      <!-- −0.2 -->\n      <g transform=\"translate(129.561406 215.826526)scale(0.1 -0.1)\">\n       <defs>\n        <path d=\"M 1228 531 \nL 3431 531 \nL 3431 0 \nL 469 0 \nL 469 531 \nQ 828 903 1448 1529 \nQ 2069 2156 2228 2338 \nQ 2531 2678 2651 2914 \nQ 2772 3150 2772 3378 \nQ 2772 3750 2511 3984 \nQ 2250 4219 1831 4219 \nQ 1534 4219 1204 4116 \nQ 875 4013 500 3803 \nL 500 4441 \nQ 881 4594 1212 4672 \nQ 1544 4750 1819 4750 \nQ 2544 4750 2975 4387 \nQ 3406 4025 3406 3419 \nQ 3406 3131 3298 2873 \nQ 3191 2616 2906 2266 \nQ 2828 2175 2409 1742 \nQ 1991 1309 1228 531 \nz\n\" id=\"DejaVuSans-32\" transform=\"scale(0.015625)\"/>\n       </defs>\n       <use xlink:href=\"#DejaVuSans-2212\"/>\n       <use x=\"83.789062\" xlink:href=\"#DejaVuSans-30\"/>\n       <use x=\"147.412109\" xlink:href=\"#DejaVuSans-2e\"/>\n       <use x=\"179.199219\" xlink:href=\"#DejaVuSans-32\"/>\n      </g>\n     </g>\n    </g>\n    <g id=\"xtick_3\">\n     <g id=\"line2d_3\">\n      <g>\n       <use style=\"stroke:#000000;stroke-width:0.8;\" x=\"197.502813\" xlink:href=\"#m198dce29f0\" y=\"201.228088\"/>\n      </g>\n     </g>\n     <g id=\"text_3\">\n      <!-- 0.0 -->\n      <g transform=\"translate(189.55125 215.826526)scale(0.1 -0.1)\">\n       <use xlink:href=\"#DejaVuSans-30\"/>\n       <use x=\"63.623047\" xlink:href=\"#DejaVuSans-2e\"/>\n       <use x=\"95.410156\" xlink:href=\"#DejaVuSans-30\"/>\n      </g>\n     </g>\n    </g>\n    <g id=\"xtick_4\">\n     <g id=\"line2d_4\">\n      <g>\n       <use style=\"stroke:#000000;stroke-width:0.8;\" x=\"253.302812\" xlink:href=\"#m198dce29f0\" y=\"201.228088\"/>\n      </g>\n     </g>\n     <g id=\"text_4\">\n      <!-- 0.2 -->\n      <g transform=\"translate(245.35125 215.826526)scale(0.1 -0.1)\">\n       <use xlink:href=\"#DejaVuSans-30\"/>\n       <use x=\"63.623047\" xlink:href=\"#DejaVuSans-2e\"/>\n       <use x=\"95.410156\" xlink:href=\"#DejaVuSans-32\"/>\n      </g>\n     </g>\n    </g>\n    <g id=\"xtick_5\">\n     <g id=\"line2d_5\">\n      <g>\n       <use style=\"stroke:#000000;stroke-width:0.8;\" x=\"309.102812\" xlink:href=\"#m198dce29f0\" y=\"201.228088\"/>\n      </g>\n     </g>\n     <g id=\"text_5\">\n      <!-- 0.4 -->\n      <g transform=\"translate(301.15125 215.826526)scale(0.1 -0.1)\">\n       <use xlink:href=\"#DejaVuSans-30\"/>\n       <use x=\"63.623047\" xlink:href=\"#DejaVuSans-2e\"/>\n       <use x=\"95.410156\" xlink:href=\"#DejaVuSans-34\"/>\n      </g>\n     </g>\n    </g>\n   </g>\n   <g id=\"matplotlib.axis_2\">\n    <g id=\"ytick_1\">\n     <g id=\"line2d_6\">\n      <defs>\n       <path d=\"M 0 0 \nL -3.5 0 \n\" id=\"m3f6da60ab7\" style=\"stroke:#000000;stroke-width:0.8;\"/>\n      </defs>\n      <g>\n       <use style=\"stroke:#000000;stroke-width:0.8;\" x=\"58.002813\" xlink:href=\"#m3f6da60ab7\" y=\"181.686912\"/>\n      </g>\n     </g>\n     <g id=\"text_6\">\n      <!-- 0.0 -->\n      <g transform=\"translate(35.099688 185.486131)scale(0.1 -0.1)\">\n       <use xlink:href=\"#DejaVuSans-30\"/>\n       <use x=\"63.623047\" xlink:href=\"#DejaVuSans-2e\"/>\n       <use x=\"95.410156\" xlink:href=\"#DejaVuSans-30\"/>\n      </g>\n     </g>\n    </g>\n    <g id=\"ytick_2\">\n     <g id=\"line2d_7\">\n      <g>\n       <use style=\"stroke:#000000;stroke-width:0.8;\" x=\"58.002813\" xlink:href=\"#m3f6da60ab7\" y=\"142.604559\"/>\n      </g>\n     </g>\n     <g id=\"text_7\">\n      <!-- 0.2 -->\n      <g transform=\"translate(35.099688 146.403778)scale(0.1 -0.1)\">\n       <use xlink:href=\"#DejaVuSans-30\"/>\n       <use x=\"63.623047\" xlink:href=\"#DejaVuSans-2e\"/>\n       <use x=\"95.410156\" xlink:href=\"#DejaVuSans-32\"/>\n      </g>\n     </g>\n    </g>\n    <g id=\"ytick_3\">\n     <g id=\"line2d_8\">\n      <g>\n       <use style=\"stroke:#000000;stroke-width:0.8;\" x=\"58.002813\" xlink:href=\"#m3f6da60ab7\" y=\"103.522206\"/>\n      </g>\n     </g>\n     <g id=\"text_8\">\n      <!-- 0.4 -->\n      <g transform=\"translate(35.099688 107.321425)scale(0.1 -0.1)\">\n       <use xlink:href=\"#DejaVuSans-30\"/>\n       <use x=\"63.623047\" xlink:href=\"#DejaVuSans-2e\"/>\n       <use x=\"95.410156\" xlink:href=\"#DejaVuSans-34\"/>\n      </g>\n     </g>\n    </g>\n    <g id=\"ytick_4\">\n     <g id=\"line2d_9\">\n      <g>\n       <use style=\"stroke:#000000;stroke-width:0.8;\" x=\"58.002813\" xlink:href=\"#m3f6da60ab7\" y=\"64.439853\"/>\n      </g>\n     </g>\n     <g id=\"text_9\">\n      <!-- 0.6 -->\n      <g transform=\"translate(35.099688 68.239072)scale(0.1 -0.1)\">\n       <defs>\n        <path d=\"M 2113 2584 \nQ 1688 2584 1439 2293 \nQ 1191 2003 1191 1497 \nQ 1191 994 1439 701 \nQ 1688 409 2113 409 \nQ 2538 409 2786 701 \nQ 3034 994 3034 1497 \nQ 3034 2003 2786 2293 \nQ 2538 2584 2113 2584 \nz\nM 3366 4563 \nL 3366 3988 \nQ 3128 4100 2886 4159 \nQ 2644 4219 2406 4219 \nQ 1781 4219 1451 3797 \nQ 1122 3375 1075 2522 \nQ 1259 2794 1537 2939 \nQ 1816 3084 2150 3084 \nQ 2853 3084 3261 2657 \nQ 3669 2231 3669 1497 \nQ 3669 778 3244 343 \nQ 2819 -91 2113 -91 \nQ 1303 -91 875 529 \nQ 447 1150 447 2328 \nQ 447 3434 972 4092 \nQ 1497 4750 2381 4750 \nQ 2619 4750 2861 4703 \nQ 3103 4656 3366 4563 \nz\n\" id=\"DejaVuSans-36\" transform=\"scale(0.015625)\"/>\n       </defs>\n       <use xlink:href=\"#DejaVuSans-30\"/>\n       <use x=\"63.623047\" xlink:href=\"#DejaVuSans-2e\"/>\n       <use x=\"95.410156\" xlink:href=\"#DejaVuSans-36\"/>\n      </g>\n     </g>\n    </g>\n    <g id=\"ytick_5\">\n     <g id=\"line2d_10\">\n      <g>\n       <use style=\"stroke:#000000;stroke-width:0.8;\" x=\"58.002813\" xlink:href=\"#m3f6da60ab7\" y=\"25.3575\"/>\n      </g>\n     </g>\n     <g id=\"text_10\">\n      <!-- 0.8 -->\n      <g transform=\"translate(35.099688 29.156719)scale(0.1 -0.1)\">\n       <defs>\n        <path d=\"M 2034 2216 \nQ 1584 2216 1326 1975 \nQ 1069 1734 1069 1313 \nQ 1069 891 1326 650 \nQ 1584 409 2034 409 \nQ 2484 409 2743 651 \nQ 3003 894 3003 1313 \nQ 3003 1734 2745 1975 \nQ 2488 2216 2034 2216 \nz\nM 1403 2484 \nQ 997 2584 770 2862 \nQ 544 3141 544 3541 \nQ 544 4100 942 4425 \nQ 1341 4750 2034 4750 \nQ 2731 4750 3128 4425 \nQ 3525 4100 3525 3541 \nQ 3525 3141 3298 2862 \nQ 3072 2584 2669 2484 \nQ 3125 2378 3379 2068 \nQ 3634 1759 3634 1313 \nQ 3634 634 3220 271 \nQ 2806 -91 2034 -91 \nQ 1263 -91 848 271 \nQ 434 634 434 1313 \nQ 434 1759 690 2068 \nQ 947 2378 1403 2484 \nz\nM 1172 3481 \nQ 1172 3119 1398 2916 \nQ 1625 2713 2034 2713 \nQ 2441 2713 2670 2916 \nQ 2900 3119 2900 3481 \nQ 2900 3844 2670 4047 \nQ 2441 4250 2034 4250 \nQ 1625 4250 1398 4047 \nQ 1172 3844 1172 3481 \nz\n\" id=\"DejaVuSans-38\" transform=\"scale(0.015625)\"/>\n       </defs>\n       <use xlink:href=\"#DejaVuSans-30\"/>\n       <use x=\"63.623047\" xlink:href=\"#DejaVuSans-2e\"/>\n       <use x=\"95.410156\" xlink:href=\"#DejaVuSans-38\"/>\n      </g>\n     </g>\n    </g>\n    <g id=\"text_11\">\n     <!-- $y$ -->\n     <g transform=\"translate(26.299688 109.932794)scale(0.16 -0.16)\">\n      <defs>\n       <path d=\"M 1588 -325 \nQ 1188 -997 936 -1164 \nQ 684 -1331 294 -1331 \nL -159 -1331 \nL -63 -850 \nL 269 -850 \nQ 509 -850 678 -719 \nQ 847 -588 1056 -206 \nL 1234 128 \nL 459 3500 \nL 1069 3500 \nL 1650 819 \nL 3256 3500 \nL 3859 3500 \nL 1588 -325 \nz\n\" id=\"DejaVuSans-Oblique-79\" transform=\"scale(0.015625)\"/>\n      </defs>\n      <use transform=\"translate(0 0.3125)\" xlink:href=\"#DejaVuSans-Oblique-79\"/>\n     </g>\n    </g>\n   </g>\n   <g id=\"line2d_11\">\n    <defs>\n     <path d=\"M 0 1.5 \nC 0.397805 1.5 0.77937 1.341951 1.06066 1.06066 \nC 1.341951 0.77937 1.5 0.397805 1.5 0 \nC 1.5 -0.397805 1.341951 -0.77937 1.06066 -1.06066 \nC 0.77937 -1.341951 0.397805 -1.5 0 -1.5 \nC -0.397805 -1.5 -0.77937 -1.341951 -1.06066 -1.06066 \nC -1.341951 -0.77937 -1.5 -0.397805 -1.5 0 \nC -1.5 0.397805 -1.341951 0.77937 -1.06066 1.06066 \nC -0.77937 1.341951 -0.397805 1.5 0 1.5 \nz\n\" id=\"m99b3cd3e12\" style=\"stroke:#0000ff;\"/>\n    </defs>\n    <g clip-path=\"url(#pdc160efd28)\">\n     <use style=\"fill:#0000ff;stroke:#0000ff;\" x=\"162.499506\" xlink:href=\"#m99b3cd3e12\" y=\"171.608961\"/>\n     <use style=\"fill:#0000ff;stroke:#0000ff;\" x=\"323.252104\" xlink:href=\"#m99b3cd3e12\" y=\"65.518567\"/>\n     <use style=\"fill:#0000ff;stroke:#0000ff;\" x=\"262.229122\" xlink:href=\"#m99b3cd3e12\" y=\"149.238474\"/>\n     <use style=\"fill:#0000ff;stroke:#0000ff;\" x=\"225.02853\" xlink:href=\"#m99b3cd3e12\" y=\"195.40051\"/>\n     <use style=\"fill:#0000ff;stroke:#0000ff;\" x=\"101.532013\" xlink:href=\"#m99b3cd3e12\" y=\"114.468014\"/>\n     <use style=\"fill:#0000ff;stroke:#0000ff;\" x=\"101.525284\" xlink:href=\"#m99b3cd3e12\" y=\"108.822762\"/>\n     <use style=\"fill:#0000ff;stroke:#0000ff;\" x=\"74.20814\" xlink:href=\"#m99b3cd3e12\" y=\"52.761072\"/>\n     <use style=\"fill:#0000ff;stroke:#0000ff;\" x=\"299.665957\" xlink:href=\"#m99b3cd3e12\" y=\"108.145375\"/>\n     <use style=\"fill:#0000ff;stroke:#0000ff;\" x=\"225.713901\" xlink:href=\"#m99b3cd3e12\" y=\"183.592556\"/>\n     <use style=\"fill:#0000ff;stroke:#0000ff;\" x=\"255.555062\" xlink:href=\"#m99b3cd3e12\" y=\"161.208787\"/>\n     <use style=\"fill:#0000ff;stroke:#0000ff;\" x=\"63.745886\" xlink:href=\"#m99b3cd3e12\" y=\"38.003028\"/>\n     <use style=\"fill:#0000ff;stroke:#0000ff;\" x=\"328.607661\" xlink:href=\"#m99b3cd3e12\" y=\"49.025116\"/>\n     <use style=\"fill:#0000ff;stroke:#0000ff;\" x=\"290.254309\" xlink:href=\"#m99b3cd3e12\" y=\"122.073364\"/>\n     <use style=\"fill:#0000ff;stroke:#0000ff;\" x=\"117.245424\" xlink:href=\"#m99b3cd3e12\" y=\"128.161727\"/>\n     <use style=\"fill:#0000ff;stroke:#0000ff;\" x=\"108.731978\" xlink:href=\"#m99b3cd3e12\" y=\"121.390671\"/>\n     <use style=\"fill:#0000ff;stroke:#0000ff;\" x=\"109.172671\" xlink:href=\"#m99b3cd3e12\" y=\"113.462731\"/>\n     <use style=\"fill:#0000ff;stroke:#0000ff;\" x=\"142.886398\" xlink:href=\"#m99b3cd3e12\" y=\"166.081202\"/>\n     <use style=\"fill:#0000ff;stroke:#0000ff;\" x=\"204.409857\" xlink:href=\"#m99b3cd3e12\" y=\"184.529071\"/>\n     <use style=\"fill:#0000ff;stroke:#0000ff;\" x=\"178.515473\" xlink:href=\"#m99b3cd3e12\" y=\"182.802902\"/>\n     <use style=\"fill:#0000ff;stroke:#0000ff;\" x=\"139.255743\" xlink:href=\"#m99b3cd3e12\" y=\"170.435089\"/>\n     <use style=\"fill:#0000ff;stroke:#0000ff;\" x=\"228.70977\" xlink:href=\"#m99b3cd3e12\" y=\"171.459212\"/>\n     <use style=\"fill:#0000ff;stroke:#0000ff;\" x=\"96.9216\" xlink:href=\"#m99b3cd3e12\" y=\"102.946368\"/>\n     <use style=\"fill:#0000ff;stroke:#0000ff;\" x=\"139.511169\" xlink:href=\"#m99b3cd3e12\" y=\"156.30933\"/>\n     <use style=\"fill:#0000ff;stroke:#0000ff;\" x=\"160.217767\" xlink:href=\"#m99b3cd3e12\" y=\"173.509298\"/>\n     <use style=\"fill:#0000ff;stroke:#0000ff;\" x=\"185.246338\" xlink:href=\"#m99b3cd3e12\" y=\"194.384572\"/>\n     <use style=\"fill:#0000ff;stroke:#0000ff;\" x=\"277.066906\" xlink:href=\"#m99b3cd3e12\" y=\"138.121086\"/>\n     <use style=\"fill:#0000ff;stroke:#0000ff;\" x=\"113.711798\" xlink:href=\"#m99b3cd3e12\" y=\"132.159451\"/>\n     <use style=\"fill:#0000ff;stroke:#0000ff;\" x=\"201.474221\" xlink:href=\"#m99b3cd3e12\" y=\"189.40685\"/>\n     <use style=\"fill:#0000ff;stroke:#0000ff;\" x=\"223.286477\" xlink:href=\"#m99b3cd3e12\" y=\"178.256053\"/>\n     <use style=\"fill:#0000ff;stroke:#0000ff;\" x=\"70.962478\" xlink:href=\"#m99b3cd3e12\" y=\"57.14626\"/>\n     <use style=\"fill:#0000ff;stroke:#0000ff;\" x=\"227.507826\" xlink:href=\"#m99b3cd3e12\" y=\"156.47743\"/>\n     <use style=\"fill:#0000ff;stroke:#0000ff;\" x=\"105.579043\" xlink:href=\"#m99b3cd3e12\" y=\"116.342791\"/>\n     <use style=\"fill:#0000ff;stroke:#0000ff;\" x=\"76.152207\" xlink:href=\"#m99b3cd3e12\" y=\"68.266432\"/>\n     <use style=\"fill:#0000ff;stroke:#0000ff;\" x=\"322.741877\" xlink:href=\"#m99b3cd3e12\" y=\"64.288921\"/>\n     <use style=\"fill:#0000ff;stroke:#0000ff;\" x=\"327.41415\" xlink:href=\"#m99b3cd3e12\" y=\"73.330891\"/>\n     <use style=\"fill:#0000ff;stroke:#0000ff;\" x=\"283.545673\" xlink:href=\"#m99b3cd3e12\" y=\"126.18976\"/>\n     <use style=\"fill:#0000ff;stroke:#0000ff;\" x=\"142.990054\" xlink:href=\"#m99b3cd3e12\" y=\"158.718438\"/>\n     <use style=\"fill:#0000ff;stroke:#0000ff;\" x=\"85.253332\" xlink:href=\"#m99b3cd3e12\" y=\"62.727012\"/>\n     <use style=\"fill:#0000ff;stroke:#0000ff;\" x=\"248.903827\" xlink:href=\"#m99b3cd3e12\" y=\"163.668506\"/>\n     <use style=\"fill:#0000ff;stroke:#0000ff;\" x=\"180.805358\" xlink:href=\"#m99b3cd3e12\" y=\"176.640884\"/>\n     <use style=\"fill:#0000ff;stroke:#0000ff;\" x=\"92.05148\" xlink:href=\"#m99b3cd3e12\" y=\"98.279367\"/>\n     <use style=\"fill:#0000ff;stroke:#0000ff;\" x=\"196.15717\" xlink:href=\"#m99b3cd3e12\" y=\"193.091947\"/>\n     <use style=\"fill:#0000ff;stroke:#0000ff;\" x=\"67.59721\" xlink:href=\"#m99b3cd3e12\" y=\"43.428537\"/>\n     <use style=\"fill:#0000ff;stroke:#0000ff;\" x=\"311.703205\" xlink:href=\"#m99b3cd3e12\" y=\"76.120352\"/>\n     <use style=\"fill:#0000ff;stroke:#0000ff;\" x=\"130.202427\" xlink:href=\"#m99b3cd3e12\" y=\"139.846734\"/>\n     <use style=\"fill:#0000ff;stroke:#0000ff;\" x=\"242.84653\" xlink:href=\"#m99b3cd3e12\" y=\"175.08764\"/>\n     <use style=\"fill:#0000ff;stroke:#0000ff;\" x=\"144.970203\" xlink:href=\"#m99b3cd3e12\" y=\"147.197151\"/>\n     <use style=\"fill:#0000ff;stroke:#0000ff;\" x=\"203.10179\" xlink:href=\"#m99b3cd3e12\" y=\"195.147729\"/>\n     <use style=\"fill:#0000ff;stroke:#0000ff;\" x=\"210.53498\" xlink:href=\"#m99b3cd3e12\" y=\"174.673895\"/>\n     <use style=\"fill:#0000ff;stroke:#0000ff;\" x=\"109.577206\" xlink:href=\"#m99b3cd3e12\" y=\"102.061909\"/>\n     <use style=\"fill:#0000ff;stroke:#0000ff;\" x=\"328.516924\" xlink:href=\"#m99b3cd3e12\" y=\"62.094452\"/>\n     <use style=\"fill:#0000ff;stroke:#0000ff;\" x=\"274.26487\" xlink:href=\"#m99b3cd3e12\" y=\"142.843093\"/>\n     <use style=\"fill:#0000ff;stroke:#0000ff;\" x=\"320.123017\" xlink:href=\"#m99b3cd3e12\" y=\"67.476449\"/>\n     <use style=\"fill:#0000ff;stroke:#0000ff;\" x=\"307.659643\" xlink:href=\"#m99b3cd3e12\" y=\"95.218744\"/>\n     <use style=\"fill:#0000ff;stroke:#0000ff;\" x=\"224.816907\" xlink:href=\"#m99b3cd3e12\" y=\"191.219089\"/>\n     <use style=\"fill:#0000ff;stroke:#0000ff;\" x=\"315.205724\" xlink:href=\"#m99b3cd3e12\" y=\"76.680102\"/>\n     <use style=\"fill:#0000ff;stroke:#0000ff;\" x=\"82.692221\" xlink:href=\"#m99b3cd3e12\" y=\"92.794085\"/>\n     <use style=\"fill:#0000ff;stroke:#0000ff;\" x=\"112.682031\" xlink:href=\"#m99b3cd3e12\" y=\"122.876006\"/>\n     <use style=\"fill:#0000ff;stroke:#0000ff;\" x=\"70.621226\" xlink:href=\"#m99b3cd3e12\" y=\"69.426088\"/>\n     <use style=\"fill:#0000ff;stroke:#0000ff;\" x=\"148.769975\" xlink:href=\"#m99b3cd3e12\" y=\"148.657399\"/>\n     <use style=\"fill:#0000ff;stroke:#0000ff;\" x=\"166.443776\" xlink:href=\"#m99b3cd3e12\" y=\"182.074692\"/>\n     <use style=\"fill:#0000ff;stroke:#0000ff;\" x=\"133.709192\" xlink:href=\"#m99b3cd3e12\" y=\"154.184519\"/>\n     <use style=\"fill:#0000ff;stroke:#0000ff;\" x=\"289.220578\" xlink:href=\"#m99b3cd3e12\" y=\"110.384889\"/>\n     <use style=\"fill:#0000ff;stroke:#0000ff;\" x=\"157.536991\" xlink:href=\"#m99b3cd3e12\" y=\"181.683861\"/>\n     <use style=\"fill:#0000ff;stroke:#0000ff;\" x=\"136.383541\" xlink:href=\"#m99b3cd3e12\" y=\"151.331245\"/>\n     <use style=\"fill:#0000ff;stroke:#0000ff;\" x=\"209.41502\" xlink:href=\"#m99b3cd3e12\" y=\"167.846677\"/>\n     <use style=\"fill:#0000ff;stroke:#0000ff;\" x=\"97.320671\" xlink:href=\"#m99b3cd3e12\" y=\"121.806479\"/>\n     <use style=\"fill:#0000ff;stroke:#0000ff;\" x=\"281.81577\" xlink:href=\"#m99b3cd3e12\" y=\"126.346156\"/>\n     <use style=\"fill:#0000ff;stroke:#0000ff;\" x=\"78.802442\" xlink:href=\"#m99b3cd3e12\" y=\"73.034921\"/>\n     <use style=\"fill:#0000ff;stroke:#0000ff;\" x=\"333.344268\" xlink:href=\"#m99b3cd3e12\" y=\"35.075755\"/>\n     <use style=\"fill:#0000ff;stroke:#0000ff;\" x=\"273.459103\" xlink:href=\"#m99b3cd3e12\" y=\"150.322521\"/>\n     <use style=\"fill:#0000ff;stroke:#0000ff;\" x=\"113.444488\" xlink:href=\"#m99b3cd3e12\" y=\"141.374658\"/>\n     <use style=\"fill:#0000ff;stroke:#0000ff;\" x=\"59.543483\" xlink:href=\"#m99b3cd3e12\" y=\"33.247796\"/>\n     <use style=\"fill:#0000ff;stroke:#0000ff;\" x=\"285.516551\" xlink:href=\"#m99b3cd3e12\" y=\"120.445456\"/>\n     <use style=\"fill:#0000ff;stroke:#0000ff;\" x=\"255.216011\" xlink:href=\"#m99b3cd3e12\" y=\"154.154464\"/>\n     <use style=\"fill:#0000ff;stroke:#0000ff;\" x=\"261.395812\" xlink:href=\"#m99b3cd3e12\" y=\"147.557219\"/>\n     <use style=\"fill:#0000ff;stroke:#0000ff;\" x=\"273.187239\" xlink:href=\"#m99b3cd3e12\" y=\"145.191504\"/>\n     <use style=\"fill:#0000ff;stroke:#0000ff;\" x=\"78.66127\" xlink:href=\"#m99b3cd3e12\" y=\"73.052321\"/>\n     <use style=\"fill:#0000ff;stroke:#0000ff;\" x=\"158.014751\" xlink:href=\"#m99b3cd3e12\" y=\"167.079985\"/>\n     <use style=\"fill:#0000ff;stroke:#0000ff;\" x=\"90.33028\" xlink:href=\"#m99b3cd3e12\" y=\"102.163671\"/>\n     <use style=\"fill:#0000ff;stroke:#0000ff;\" x=\"298.808668\" xlink:href=\"#m99b3cd3e12\" y=\"86.165534\"/>\n     <use style=\"fill:#0000ff;stroke:#0000ff;\" x=\"231.90299\" xlink:href=\"#m99b3cd3e12\" y=\"168.145086\"/>\n     <use style=\"fill:#0000ff;stroke:#0000ff;\" x=\"150.323361\" xlink:href=\"#m99b3cd3e12\" y=\"176.562969\"/>\n     <use style=\"fill:#0000ff;stroke:#0000ff;\" x=\"75.735592\" xlink:href=\"#m99b3cd3e12\" y=\"63.605128\"/>\n     <use style=\"fill:#0000ff;stroke:#0000ff;\" x=\"144.76688\" xlink:href=\"#m99b3cd3e12\" y=\"170.265296\"/>\n     <use style=\"fill:#0000ff;stroke:#0000ff;\" x=\"148.728959\" xlink:href=\"#m99b3cd3e12\" y=\"156.080771\"/>\n     <use style=\"fill:#0000ff;stroke:#0000ff;\" x=\"261.562936\" xlink:href=\"#m99b3cd3e12\" y=\"139.461015\"/>\n     <use style=\"fill:#0000ff;stroke:#0000ff;\" x=\"235.881347\" xlink:href=\"#m99b3cd3e12\" y=\"178.612683\"/>\n     <use style=\"fill:#0000ff;stroke:#0000ff;\" x=\"305.535168\" xlink:href=\"#m99b3cd3e12\" y=\"84.377729\"/>\n     <use style=\"fill:#0000ff;stroke:#0000ff;\" x=\"189.750777\" xlink:href=\"#m99b3cd3e12\" y=\"177.20122\"/>\n     <use style=\"fill:#0000ff;stroke:#0000ff;\" x=\"91.369607\" xlink:href=\"#m99b3cd3e12\" y=\"88.821648\"/>\n     <use style=\"fill:#0000ff;stroke:#0000ff;\" x=\"256.998108\" xlink:href=\"#m99b3cd3e12\" y=\"136.496052\"/>\n     <use style=\"fill:#0000ff;stroke:#0000ff;\" x=\"270.261841\" xlink:href=\"#m99b3cd3e12\" y=\"144.215315\"/>\n     <use style=\"fill:#0000ff;stroke:#0000ff;\" x=\"214.599151\" xlink:href=\"#m99b3cd3e12\" y=\"186.850106\"/>\n     <use style=\"fill:#0000ff;stroke:#0000ff;\" x=\"273.102656\" xlink:href=\"#m99b3cd3e12\" y=\"147.334712\"/>\n     <use style=\"fill:#0000ff;stroke:#0000ff;\" x=\"195.771784\" xlink:href=\"#m99b3cd3e12\" y=\"189.635291\"/>\n     <use style=\"fill:#0000ff;stroke:#0000ff;\" x=\"203.845272\" xlink:href=\"#m99b3cd3e12\" y=\"182.137285\"/>\n     <use style=\"fill:#0000ff;stroke:#0000ff;\" x=\"177.286757\" xlink:href=\"#m99b3cd3e12\" y=\"175.275743\"/>\n     <use style=\"fill:#0000ff;stroke:#0000ff;\" x=\"65.094749\" xlink:href=\"#m99b3cd3e12\" y=\"46.94746\"/>\n     <use style=\"fill:#0000ff;stroke:#0000ff;\" x=\"88.104521\" xlink:href=\"#m99b3cd3e12\" y=\"83.471677\"/>\n    </g>\n   </g>\n   <g id=\"line2d_12\">\n    <path clip-path=\"url(#pdc160efd28)\" d=\"M 58.002813 52.536867 \nL 77.012833 52.536867 \nL 77.571951 86.365674 \nL 96.581971 86.365674 \nL 97.141089 157.540637 \nL 287.241289 157.540637 \nL 287.800408 78.398416 \nL 337.002813 78.398416 \nL 337.002813 78.398416 \n\" style=\"fill:none;stroke:#008000;stroke-linecap:square;stroke-width:2;\"/>\n   </g>\n   <g id=\"patch_3\">\n    <path d=\"M 58.002813 201.228088 \nL 58.002813 25.3575 \n\" style=\"fill:none;stroke:#000000;stroke-linecap:square;stroke-linejoin:miter;stroke-width:0.8;\"/>\n   </g>\n   <g id=\"patch_4\">\n    <path d=\"M 337.002813 201.228088 \nL 337.002813 25.3575 \n\" style=\"fill:none;stroke:#000000;stroke-linecap:square;stroke-linejoin:miter;stroke-width:0.8;\"/>\n   </g>\n   <g id=\"patch_5\">\n    <path d=\"M 58.002813 201.228088 \nL 337.002813 201.228088 \n\" style=\"fill:none;stroke:#000000;stroke-linecap:square;stroke-linejoin:miter;stroke-width:0.8;\"/>\n   </g>\n   <g id=\"patch_6\">\n    <path d=\"M 58.002813 25.3575 \nL 337.002813 25.3575 \n\" style=\"fill:none;stroke:#000000;stroke-linecap:square;stroke-linejoin:miter;stroke-width:0.8;\"/>\n   </g>\n   <g id=\"text_12\">\n    <!-- Residuals and tree predictions -->\n    <g transform=\"translate(76.480312 19.3575)scale(0.16 -0.16)\">\n     <defs>\n      <path d=\"M 2841 2188 \nQ 3044 2119 3236 1894 \nQ 3428 1669 3622 1275 \nL 4263 0 \nL 3584 0 \nL 2988 1197 \nQ 2756 1666 2539 1819 \nQ 2322 1972 1947 1972 \nL 1259 1972 \nL 1259 0 \nL 628 0 \nL 628 4666 \nL 2053 4666 \nQ 2853 4666 3247 4331 \nQ 3641 3997 3641 3322 \nQ 3641 2881 3436 2590 \nQ 3231 2300 2841 2188 \nz\nM 1259 4147 \nL 1259 2491 \nL 2053 2491 \nQ 2509 2491 2742 2702 \nQ 2975 2913 2975 3322 \nQ 2975 3731 2742 3939 \nQ 2509 4147 2053 4147 \nL 1259 4147 \nz\n\" id=\"DejaVuSans-52\" transform=\"scale(0.015625)\"/>\n      <path d=\"M 3597 1894 \nL 3597 1613 \nL 953 1613 \nQ 991 1019 1311 708 \nQ 1631 397 2203 397 \nQ 2534 397 2845 478 \nQ 3156 559 3463 722 \nL 3463 178 \nQ 3153 47 2828 -22 \nQ 2503 -91 2169 -91 \nQ 1331 -91 842 396 \nQ 353 884 353 1716 \nQ 353 2575 817 3079 \nQ 1281 3584 2069 3584 \nQ 2775 3584 3186 3129 \nQ 3597 2675 3597 1894 \nz\nM 3022 2063 \nQ 3016 2534 2758 2815 \nQ 2500 3097 2075 3097 \nQ 1594 3097 1305 2825 \nQ 1016 2553 972 2059 \nL 3022 2063 \nz\n\" id=\"DejaVuSans-65\" transform=\"scale(0.015625)\"/>\n      <path d=\"M 2834 3397 \nL 2834 2853 \nQ 2591 2978 2328 3040 \nQ 2066 3103 1784 3103 \nQ 1356 3103 1142 2972 \nQ 928 2841 928 2578 \nQ 928 2378 1081 2264 \nQ 1234 2150 1697 2047 \nL 1894 2003 \nQ 2506 1872 2764 1633 \nQ 3022 1394 3022 966 \nQ 3022 478 2636 193 \nQ 2250 -91 1575 -91 \nQ 1294 -91 989 -36 \nQ 684 19 347 128 \nL 347 722 \nQ 666 556 975 473 \nQ 1284 391 1588 391 \nQ 1994 391 2212 530 \nQ 2431 669 2431 922 \nQ 2431 1156 2273 1281 \nQ 2116 1406 1581 1522 \nL 1381 1569 \nQ 847 1681 609 1914 \nQ 372 2147 372 2553 \nQ 372 3047 722 3315 \nQ 1072 3584 1716 3584 \nQ 2034 3584 2315 3537 \nQ 2597 3491 2834 3397 \nz\n\" id=\"DejaVuSans-73\" transform=\"scale(0.015625)\"/>\n      <path d=\"M 603 3500 \nL 1178 3500 \nL 1178 0 \nL 603 0 \nL 603 3500 \nz\nM 603 4863 \nL 1178 4863 \nL 1178 4134 \nL 603 4134 \nL 603 4863 \nz\n\" id=\"DejaVuSans-69\" transform=\"scale(0.015625)\"/>\n      <path d=\"M 2906 2969 \nL 2906 4863 \nL 3481 4863 \nL 3481 0 \nL 2906 0 \nL 2906 525 \nQ 2725 213 2448 61 \nQ 2172 -91 1784 -91 \nQ 1150 -91 751 415 \nQ 353 922 353 1747 \nQ 353 2572 751 3078 \nQ 1150 3584 1784 3584 \nQ 2172 3584 2448 3432 \nQ 2725 3281 2906 2969 \nz\nM 947 1747 \nQ 947 1113 1208 752 \nQ 1469 391 1925 391 \nQ 2381 391 2643 752 \nQ 2906 1113 2906 1747 \nQ 2906 2381 2643 2742 \nQ 2381 3103 1925 3103 \nQ 1469 3103 1208 2742 \nQ 947 2381 947 1747 \nz\n\" id=\"DejaVuSans-64\" transform=\"scale(0.015625)\"/>\n      <path d=\"M 544 1381 \nL 544 3500 \nL 1119 3500 \nL 1119 1403 \nQ 1119 906 1312 657 \nQ 1506 409 1894 409 \nQ 2359 409 2629 706 \nQ 2900 1003 2900 1516 \nL 2900 3500 \nL 3475 3500 \nL 3475 0 \nL 2900 0 \nL 2900 538 \nQ 2691 219 2414 64 \nQ 2138 -91 1772 -91 \nQ 1169 -91 856 284 \nQ 544 659 544 1381 \nz\nM 1991 3584 \nL 1991 3584 \nz\n\" id=\"DejaVuSans-75\" transform=\"scale(0.015625)\"/>\n      <path d=\"M 2194 1759 \nQ 1497 1759 1228 1600 \nQ 959 1441 959 1056 \nQ 959 750 1161 570 \nQ 1363 391 1709 391 \nQ 2188 391 2477 730 \nQ 2766 1069 2766 1631 \nL 2766 1759 \nL 2194 1759 \nz\nM 3341 1997 \nL 3341 0 \nL 2766 0 \nL 2766 531 \nQ 2569 213 2275 61 \nQ 1981 -91 1556 -91 \nQ 1019 -91 701 211 \nQ 384 513 384 1019 \nQ 384 1609 779 1909 \nQ 1175 2209 1959 2209 \nL 2766 2209 \nL 2766 2266 \nQ 2766 2663 2505 2880 \nQ 2244 3097 1772 3097 \nQ 1472 3097 1187 3025 \nQ 903 2953 641 2809 \nL 641 3341 \nQ 956 3463 1253 3523 \nQ 1550 3584 1831 3584 \nQ 2591 3584 2966 3190 \nQ 3341 2797 3341 1997 \nz\n\" id=\"DejaVuSans-61\" transform=\"scale(0.015625)\"/>\n      <path d=\"M 603 4863 \nL 1178 4863 \nL 1178 0 \nL 603 0 \nL 603 4863 \nz\n\" id=\"DejaVuSans-6c\" transform=\"scale(0.015625)\"/>\n      <path id=\"DejaVuSans-20\" transform=\"scale(0.015625)\"/>\n      <path d=\"M 3513 2113 \nL 3513 0 \nL 2938 0 \nL 2938 2094 \nQ 2938 2591 2744 2837 \nQ 2550 3084 2163 3084 \nQ 1697 3084 1428 2787 \nQ 1159 2491 1159 1978 \nL 1159 0 \nL 581 0 \nL 581 3500 \nL 1159 3500 \nL 1159 2956 \nQ 1366 3272 1645 3428 \nQ 1925 3584 2291 3584 \nQ 2894 3584 3203 3211 \nQ 3513 2838 3513 2113 \nz\n\" id=\"DejaVuSans-6e\" transform=\"scale(0.015625)\"/>\n      <path d=\"M 1172 4494 \nL 1172 3500 \nL 2356 3500 \nL 2356 3053 \nL 1172 3053 \nL 1172 1153 \nQ 1172 725 1289 603 \nQ 1406 481 1766 481 \nL 2356 481 \nL 2356 0 \nL 1766 0 \nQ 1100 0 847 248 \nQ 594 497 594 1153 \nL 594 3053 \nL 172 3053 \nL 172 3500 \nL 594 3500 \nL 594 4494 \nL 1172 4494 \nz\n\" id=\"DejaVuSans-74\" transform=\"scale(0.015625)\"/>\n      <path d=\"M 2631 2963 \nQ 2534 3019 2420 3045 \nQ 2306 3072 2169 3072 \nQ 1681 3072 1420 2755 \nQ 1159 2438 1159 1844 \nL 1159 0 \nL 581 0 \nL 581 3500 \nL 1159 3500 \nL 1159 2956 \nQ 1341 3275 1631 3429 \nQ 1922 3584 2338 3584 \nQ 2397 3584 2469 3576 \nQ 2541 3569 2628 3553 \nL 2631 2963 \nz\n\" id=\"DejaVuSans-72\" transform=\"scale(0.015625)\"/>\n      <path d=\"M 1159 525 \nL 1159 -1331 \nL 581 -1331 \nL 581 3500 \nL 1159 3500 \nL 1159 2969 \nQ 1341 3281 1617 3432 \nQ 1894 3584 2278 3584 \nQ 2916 3584 3314 3078 \nQ 3713 2572 3713 1747 \nQ 3713 922 3314 415 \nQ 2916 -91 2278 -91 \nQ 1894 -91 1617 61 \nQ 1341 213 1159 525 \nz\nM 3116 1747 \nQ 3116 2381 2855 2742 \nQ 2594 3103 2138 3103 \nQ 1681 3103 1420 2742 \nQ 1159 2381 1159 1747 \nQ 1159 1113 1420 752 \nQ 1681 391 2138 391 \nQ 2594 391 2855 752 \nQ 3116 1113 3116 1747 \nz\n\" id=\"DejaVuSans-70\" transform=\"scale(0.015625)\"/>\n      <path d=\"M 3122 3366 \nL 3122 2828 \nQ 2878 2963 2633 3030 \nQ 2388 3097 2138 3097 \nQ 1578 3097 1268 2742 \nQ 959 2388 959 1747 \nQ 959 1106 1268 751 \nQ 1578 397 2138 397 \nQ 2388 397 2633 464 \nQ 2878 531 3122 666 \nL 3122 134 \nQ 2881 22 2623 -34 \nQ 2366 -91 2075 -91 \nQ 1284 -91 818 406 \nQ 353 903 353 1747 \nQ 353 2603 823 3093 \nQ 1294 3584 2113 3584 \nQ 2378 3584 2631 3529 \nQ 2884 3475 3122 3366 \nz\n\" id=\"DejaVuSans-63\" transform=\"scale(0.015625)\"/>\n      <path d=\"M 1959 3097 \nQ 1497 3097 1228 2736 \nQ 959 2375 959 1747 \nQ 959 1119 1226 758 \nQ 1494 397 1959 397 \nQ 2419 397 2687 759 \nQ 2956 1122 2956 1747 \nQ 2956 2369 2687 2733 \nQ 2419 3097 1959 3097 \nz\nM 1959 3584 \nQ 2709 3584 3137 3096 \nQ 3566 2609 3566 1747 \nQ 3566 888 3137 398 \nQ 2709 -91 1959 -91 \nQ 1206 -91 779 398 \nQ 353 888 353 1747 \nQ 353 2609 779 3096 \nQ 1206 3584 1959 3584 \nz\n\" id=\"DejaVuSans-6f\" transform=\"scale(0.015625)\"/>\n     </defs>\n     <use xlink:href=\"#DejaVuSans-52\"/>\n     <use x=\"64.982422\" xlink:href=\"#DejaVuSans-65\"/>\n     <use x=\"126.505859\" xlink:href=\"#DejaVuSans-73\"/>\n     <use x=\"178.605469\" xlink:href=\"#DejaVuSans-69\"/>\n     <use x=\"206.388672\" xlink:href=\"#DejaVuSans-64\"/>\n     <use x=\"269.865234\" xlink:href=\"#DejaVuSans-75\"/>\n     <use x=\"333.244141\" xlink:href=\"#DejaVuSans-61\"/>\n     <use x=\"394.523438\" xlink:href=\"#DejaVuSans-6c\"/>\n     <use x=\"422.306641\" xlink:href=\"#DejaVuSans-73\"/>\n     <use x=\"474.40625\" xlink:href=\"#DejaVuSans-20\"/>\n     <use x=\"506.193359\" xlink:href=\"#DejaVuSans-61\"/>\n     <use x=\"567.472656\" xlink:href=\"#DejaVuSans-6e\"/>\n     <use x=\"630.851562\" xlink:href=\"#DejaVuSans-64\"/>\n     <use x=\"694.328125\" xlink:href=\"#DejaVuSans-20\"/>\n     <use x=\"726.115234\" xlink:href=\"#DejaVuSans-74\"/>\n     <use x=\"765.324219\" xlink:href=\"#DejaVuSans-72\"/>\n     <use x=\"804.1875\" xlink:href=\"#DejaVuSans-65\"/>\n     <use x=\"865.710938\" xlink:href=\"#DejaVuSans-65\"/>\n     <use x=\"927.234375\" xlink:href=\"#DejaVuSans-20\"/>\n     <use x=\"959.021484\" xlink:href=\"#DejaVuSans-70\"/>\n     <use x=\"1022.498047\" xlink:href=\"#DejaVuSans-72\"/>\n     <use x=\"1061.361328\" xlink:href=\"#DejaVuSans-65\"/>\n     <use x=\"1122.884766\" xlink:href=\"#DejaVuSans-64\"/>\n     <use x=\"1186.361328\" xlink:href=\"#DejaVuSans-69\"/>\n     <use x=\"1214.144531\" xlink:href=\"#DejaVuSans-63\"/>\n     <use x=\"1269.125\" xlink:href=\"#DejaVuSans-74\"/>\n     <use x=\"1308.333984\" xlink:href=\"#DejaVuSans-69\"/>\n     <use x=\"1336.117188\" xlink:href=\"#DejaVuSans-6f\"/>\n     <use x=\"1397.298828\" xlink:href=\"#DejaVuSans-6e\"/>\n     <use x=\"1460.677734\" xlink:href=\"#DejaVuSans-73\"/>\n    </g>\n   </g>\n   <g id=\"legend_1\">\n    <g id=\"patch_7\">\n     <path d=\"M 125.572813 85.1275 \nL 269.432813 85.1275 \nQ 272.632812 85.1275 272.632812 81.9275 \nL 272.632812 36.5575 \nQ 272.632812 33.3575 269.432813 33.3575 \nL 125.572813 33.3575 \nQ 122.372813 33.3575 122.372813 36.5575 \nL 122.372813 81.9275 \nQ 122.372813 85.1275 125.572813 85.1275 \nz\n\" style=\"fill:#ffffff;opacity:0.8;stroke:#cccccc;stroke-linejoin:miter;\"/>\n    </g>\n    <g id=\"line2d_13\"/>\n    <g id=\"line2d_14\">\n     <g>\n      <use style=\"fill:#0000ff;stroke:#0000ff;\" x=\"144.772813\" xlink:href=\"#m99b3cd3e12\" y=\"46.315\"/>\n     </g>\n    </g>\n    <g id=\"text_13\">\n     <!-- Training set -->\n     <g transform=\"translate(173.572812 51.915)scale(0.16 -0.16)\">\n      <defs>\n       <path d=\"M -19 4666 \nL 3928 4666 \nL 3928 4134 \nL 2272 4134 \nL 2272 0 \nL 1638 0 \nL 1638 4134 \nL -19 4134 \nL -19 4666 \nz\n\" id=\"DejaVuSans-54\" transform=\"scale(0.015625)\"/>\n       <path d=\"M 2906 1791 \nQ 2906 2416 2648 2759 \nQ 2391 3103 1925 3103 \nQ 1463 3103 1205 2759 \nQ 947 2416 947 1791 \nQ 947 1169 1205 825 \nQ 1463 481 1925 481 \nQ 2391 481 2648 825 \nQ 2906 1169 2906 1791 \nz\nM 3481 434 \nQ 3481 -459 3084 -895 \nQ 2688 -1331 1869 -1331 \nQ 1566 -1331 1297 -1286 \nQ 1028 -1241 775 -1147 \nL 775 -588 \nQ 1028 -725 1275 -790 \nQ 1522 -856 1778 -856 \nQ 2344 -856 2625 -561 \nQ 2906 -266 2906 331 \nL 2906 616 \nQ 2728 306 2450 153 \nQ 2172 0 1784 0 \nQ 1141 0 747 490 \nQ 353 981 353 1791 \nQ 353 2603 747 3093 \nQ 1141 3584 1784 3584 \nQ 2172 3584 2450 3431 \nQ 2728 3278 2906 2969 \nL 2906 3500 \nL 3481 3500 \nL 3481 434 \nz\n\" id=\"DejaVuSans-67\" transform=\"scale(0.015625)\"/>\n      </defs>\n      <use xlink:href=\"#DejaVuSans-54\"/>\n      <use x=\"46.333984\" xlink:href=\"#DejaVuSans-72\"/>\n      <use x=\"87.447266\" xlink:href=\"#DejaVuSans-61\"/>\n      <use x=\"148.726562\" xlink:href=\"#DejaVuSans-69\"/>\n      <use x=\"176.509766\" xlink:href=\"#DejaVuSans-6e\"/>\n      <use x=\"239.888672\" xlink:href=\"#DejaVuSans-69\"/>\n      <use x=\"267.671875\" xlink:href=\"#DejaVuSans-6e\"/>\n      <use x=\"331.050781\" xlink:href=\"#DejaVuSans-67\"/>\n      <use x=\"394.527344\" xlink:href=\"#DejaVuSans-20\"/>\n      <use x=\"426.314453\" xlink:href=\"#DejaVuSans-73\"/>\n      <use x=\"478.414062\" xlink:href=\"#DejaVuSans-65\"/>\n      <use x=\"539.9375\" xlink:href=\"#DejaVuSans-74\"/>\n     </g>\n    </g>\n    <g id=\"line2d_15\">\n     <path d=\"M 128.772813 69.8 \nL 160.772813 69.8 \n\" style=\"fill:none;stroke:#008000;stroke-linecap:square;stroke-width:2;\"/>\n    </g>\n    <g id=\"line2d_16\"/>\n    <g id=\"text_14\">\n     <!-- $h_1(x_1)$ -->\n     <g transform=\"translate(173.572812 75.4)scale(0.16 -0.16)\">\n      <defs>\n       <path d=\"M 3566 2113 \nL 3156 0 \nL 2578 0 \nL 2988 2091 \nQ 3016 2238 3031 2350 \nQ 3047 2463 3047 2528 \nQ 3047 2791 2881 2937 \nQ 2716 3084 2419 3084 \nQ 1956 3084 1617 2771 \nQ 1278 2459 1178 1941 \nL 800 0 \nL 225 0 \nL 1172 4863 \nL 1747 4863 \nL 1375 2950 \nQ 1594 3244 1934 3414 \nQ 2275 3584 2650 3584 \nQ 3113 3584 3367 3334 \nQ 3622 3084 3622 2631 \nQ 3622 2519 3608 2391 \nQ 3594 2263 3566 2113 \nz\n\" id=\"DejaVuSans-Oblique-68\" transform=\"scale(0.015625)\"/>\n       <path d=\"M 794 531 \nL 1825 531 \nL 1825 4091 \nL 703 3866 \nL 703 4441 \nL 1819 4666 \nL 2450 4666 \nL 2450 531 \nL 3481 531 \nL 3481 0 \nL 794 0 \nL 794 531 \nz\n\" id=\"DejaVuSans-31\" transform=\"scale(0.015625)\"/>\n       <path d=\"M 1984 4856 \nQ 1566 4138 1362 3434 \nQ 1159 2731 1159 2009 \nQ 1159 1288 1364 580 \nQ 1569 -128 1984 -844 \nL 1484 -844 \nQ 1016 -109 783 600 \nQ 550 1309 550 2009 \nQ 550 2706 781 3412 \nQ 1013 4119 1484 4856 \nL 1984 4856 \nz\n\" id=\"DejaVuSans-28\" transform=\"scale(0.015625)\"/>\n       <path d=\"M 3841 3500 \nL 2234 1784 \nL 3219 0 \nL 2559 0 \nL 1819 1388 \nL 531 0 \nL -166 0 \nL 1556 1844 \nL 641 3500 \nL 1300 3500 \nL 1972 2234 \nL 3144 3500 \nL 3841 3500 \nz\n\" id=\"DejaVuSans-Oblique-78\" transform=\"scale(0.015625)\"/>\n       <path d=\"M 513 4856 \nL 1013 4856 \nQ 1481 4119 1714 3412 \nQ 1947 2706 1947 2009 \nQ 1947 1309 1714 600 \nQ 1481 -109 1013 -844 \nL 513 -844 \nQ 928 -128 1133 580 \nQ 1338 1288 1338 2009 \nQ 1338 2731 1133 3434 \nQ 928 4138 513 4856 \nz\n\" id=\"DejaVuSans-29\" transform=\"scale(0.015625)\"/>\n      </defs>\n      <use transform=\"translate(0 0.015625)\" xlink:href=\"#DejaVuSans-Oblique-68\"/>\n      <use transform=\"translate(63.378906 -16.390625)scale(0.7)\" xlink:href=\"#DejaVuSans-31\"/>\n      <use transform=\"translate(110.649414 0.015625)\" xlink:href=\"#DejaVuSans-28\"/>\n      <use transform=\"translate(149.663086 0.015625)\" xlink:href=\"#DejaVuSans-Oblique-78\"/>\n      <use transform=\"translate(208.842773 -16.390625)scale(0.7)\" xlink:href=\"#DejaVuSans-31\"/>\n      <use transform=\"translate(256.113281 0.015625)\" xlink:href=\"#DejaVuSans-29\"/>\n     </g>\n    </g>\n   </g>\n  </g>\n  <g id=\"axes_2\">\n   <g id=\"patch_8\">\n    <path d=\"M 392.802812 201.228088 \nL 671.802812 201.228088 \nL 671.802812 25.3575 \nL 392.802812 25.3575 \nz\n\" style=\"fill:#ffffff;\"/>\n   </g>\n   <g id=\"matplotlib.axis_3\">\n    <g id=\"xtick_6\">\n     <g id=\"line2d_17\">\n      <g>\n       <use style=\"stroke:#000000;stroke-width:0.8;\" x=\"420.702812\" xlink:href=\"#m198dce29f0\" y=\"201.228088\"/>\n      </g>\n     </g>\n     <g id=\"text_15\">\n      <!-- −0.4 -->\n      <g transform=\"translate(408.561406 215.826526)scale(0.1 -0.1)\">\n       <use xlink:href=\"#DejaVuSans-2212\"/>\n       <use x=\"83.789062\" xlink:href=\"#DejaVuSans-30\"/>\n       <use x=\"147.412109\" xlink:href=\"#DejaVuSans-2e\"/>\n       <use x=\"179.199219\" xlink:href=\"#DejaVuSans-34\"/>\n      </g>\n     </g>\n    </g>\n    <g id=\"xtick_7\">\n     <g id=\"line2d_18\">\n      <g>\n       <use style=\"stroke:#000000;stroke-width:0.8;\" x=\"476.502812\" xlink:href=\"#m198dce29f0\" y=\"201.228088\"/>\n      </g>\n     </g>\n     <g id=\"text_16\">\n      <!-- −0.2 -->\n      <g transform=\"translate(464.361406 215.826526)scale(0.1 -0.1)\">\n       <use xlink:href=\"#DejaVuSans-2212\"/>\n       <use x=\"83.789062\" xlink:href=\"#DejaVuSans-30\"/>\n       <use x=\"147.412109\" xlink:href=\"#DejaVuSans-2e\"/>\n       <use x=\"179.199219\" xlink:href=\"#DejaVuSans-32\"/>\n      </g>\n     </g>\n    </g>\n    <g id=\"xtick_8\">\n     <g id=\"line2d_19\">\n      <g>\n       <use style=\"stroke:#000000;stroke-width:0.8;\" x=\"532.302812\" xlink:href=\"#m198dce29f0\" y=\"201.228088\"/>\n      </g>\n     </g>\n     <g id=\"text_17\">\n      <!-- 0.0 -->\n      <g transform=\"translate(524.35125 215.826526)scale(0.1 -0.1)\">\n       <use xlink:href=\"#DejaVuSans-30\"/>\n       <use x=\"63.623047\" xlink:href=\"#DejaVuSans-2e\"/>\n       <use x=\"95.410156\" xlink:href=\"#DejaVuSans-30\"/>\n      </g>\n     </g>\n    </g>\n    <g id=\"xtick_9\">\n     <g id=\"line2d_20\">\n      <g>\n       <use style=\"stroke:#000000;stroke-width:0.8;\" x=\"588.102812\" xlink:href=\"#m198dce29f0\" y=\"201.228088\"/>\n      </g>\n     </g>\n     <g id=\"text_18\">\n      <!-- 0.2 -->\n      <g transform=\"translate(580.15125 215.826526)scale(0.1 -0.1)\">\n       <use xlink:href=\"#DejaVuSans-30\"/>\n       <use x=\"63.623047\" xlink:href=\"#DejaVuSans-2e\"/>\n       <use x=\"95.410156\" xlink:href=\"#DejaVuSans-32\"/>\n      </g>\n     </g>\n    </g>\n    <g id=\"xtick_10\">\n     <g id=\"line2d_21\">\n      <g>\n       <use style=\"stroke:#000000;stroke-width:0.8;\" x=\"643.902812\" xlink:href=\"#m198dce29f0\" y=\"201.228088\"/>\n      </g>\n     </g>\n     <g id=\"text_19\">\n      <!-- 0.4 -->\n      <g transform=\"translate(635.95125 215.826526)scale(0.1 -0.1)\">\n       <use xlink:href=\"#DejaVuSans-30\"/>\n       <use x=\"63.623047\" xlink:href=\"#DejaVuSans-2e\"/>\n       <use x=\"95.410156\" xlink:href=\"#DejaVuSans-34\"/>\n      </g>\n     </g>\n    </g>\n   </g>\n   <g id=\"matplotlib.axis_4\">\n    <g id=\"ytick_6\">\n     <g id=\"line2d_22\">\n      <g>\n       <use style=\"stroke:#000000;stroke-width:0.8;\" x=\"392.802812\" xlink:href=\"#m3f6da60ab7\" y=\"181.686912\"/>\n      </g>\n     </g>\n     <g id=\"text_20\">\n      <!-- 0.0 -->\n      <g transform=\"translate(369.899687 185.486131)scale(0.1 -0.1)\">\n       <use xlink:href=\"#DejaVuSans-30\"/>\n       <use x=\"63.623047\" xlink:href=\"#DejaVuSans-2e\"/>\n       <use x=\"95.410156\" xlink:href=\"#DejaVuSans-30\"/>\n      </g>\n     </g>\n    </g>\n    <g id=\"ytick_7\">\n     <g id=\"line2d_23\">\n      <g>\n       <use style=\"stroke:#000000;stroke-width:0.8;\" x=\"392.802812\" xlink:href=\"#m3f6da60ab7\" y=\"142.604559\"/>\n      </g>\n     </g>\n     <g id=\"text_21\">\n      <!-- 0.2 -->\n      <g transform=\"translate(369.899687 146.403778)scale(0.1 -0.1)\">\n       <use xlink:href=\"#DejaVuSans-30\"/>\n       <use x=\"63.623047\" xlink:href=\"#DejaVuSans-2e\"/>\n       <use x=\"95.410156\" xlink:href=\"#DejaVuSans-32\"/>\n      </g>\n     </g>\n    </g>\n    <g id=\"ytick_8\">\n     <g id=\"line2d_24\">\n      <g>\n       <use style=\"stroke:#000000;stroke-width:0.8;\" x=\"392.802812\" xlink:href=\"#m3f6da60ab7\" y=\"103.522206\"/>\n      </g>\n     </g>\n     <g id=\"text_22\">\n      <!-- 0.4 -->\n      <g transform=\"translate(369.899687 107.321425)scale(0.1 -0.1)\">\n       <use xlink:href=\"#DejaVuSans-30\"/>\n       <use x=\"63.623047\" xlink:href=\"#DejaVuSans-2e\"/>\n       <use x=\"95.410156\" xlink:href=\"#DejaVuSans-34\"/>\n      </g>\n     </g>\n    </g>\n    <g id=\"ytick_9\">\n     <g id=\"line2d_25\">\n      <g>\n       <use style=\"stroke:#000000;stroke-width:0.8;\" x=\"392.802812\" xlink:href=\"#m3f6da60ab7\" y=\"64.439853\"/>\n      </g>\n     </g>\n     <g id=\"text_23\">\n      <!-- 0.6 -->\n      <g transform=\"translate(369.899687 68.239072)scale(0.1 -0.1)\">\n       <use xlink:href=\"#DejaVuSans-30\"/>\n       <use x=\"63.623047\" xlink:href=\"#DejaVuSans-2e\"/>\n       <use x=\"95.410156\" xlink:href=\"#DejaVuSans-36\"/>\n      </g>\n     </g>\n    </g>\n    <g id=\"ytick_10\">\n     <g id=\"line2d_26\">\n      <g>\n       <use style=\"stroke:#000000;stroke-width:0.8;\" x=\"392.802812\" xlink:href=\"#m3f6da60ab7\" y=\"25.3575\"/>\n      </g>\n     </g>\n     <g id=\"text_24\">\n      <!-- 0.8 -->\n      <g transform=\"translate(369.899687 29.156719)scale(0.1 -0.1)\">\n       <use xlink:href=\"#DejaVuSans-30\"/>\n       <use x=\"63.623047\" xlink:href=\"#DejaVuSans-2e\"/>\n       <use x=\"95.410156\" xlink:href=\"#DejaVuSans-38\"/>\n      </g>\n     </g>\n    </g>\n    <g id=\"text_25\">\n     <!-- $y$ -->\n     <g transform=\"translate(361.099687 109.932794)scale(0.16 -0.16)\">\n      <use transform=\"translate(0 0.3125)\" xlink:href=\"#DejaVuSans-Oblique-79\"/>\n     </g>\n    </g>\n   </g>\n   <g id=\"line2d_27\">\n    <g clip-path=\"url(#p17b9033742)\">\n     <use style=\"fill:#0000ff;stroke:#0000ff;\" x=\"497.299506\" xlink:href=\"#m99b3cd3e12\" y=\"171.608961\"/>\n     <use style=\"fill:#0000ff;stroke:#0000ff;\" x=\"658.052104\" xlink:href=\"#m99b3cd3e12\" y=\"65.518567\"/>\n     <use style=\"fill:#0000ff;stroke:#0000ff;\" x=\"597.029122\" xlink:href=\"#m99b3cd3e12\" y=\"149.238474\"/>\n     <use style=\"fill:#0000ff;stroke:#0000ff;\" x=\"559.82853\" xlink:href=\"#m99b3cd3e12\" y=\"195.40051\"/>\n     <use style=\"fill:#0000ff;stroke:#0000ff;\" x=\"436.332013\" xlink:href=\"#m99b3cd3e12\" y=\"114.468014\"/>\n     <use style=\"fill:#0000ff;stroke:#0000ff;\" x=\"436.325284\" xlink:href=\"#m99b3cd3e12\" y=\"108.822762\"/>\n     <use style=\"fill:#0000ff;stroke:#0000ff;\" x=\"409.00814\" xlink:href=\"#m99b3cd3e12\" y=\"52.761072\"/>\n     <use style=\"fill:#0000ff;stroke:#0000ff;\" x=\"634.465957\" xlink:href=\"#m99b3cd3e12\" y=\"108.145375\"/>\n     <use style=\"fill:#0000ff;stroke:#0000ff;\" x=\"560.513901\" xlink:href=\"#m99b3cd3e12\" y=\"183.592556\"/>\n     <use style=\"fill:#0000ff;stroke:#0000ff;\" x=\"590.355062\" xlink:href=\"#m99b3cd3e12\" y=\"161.208787\"/>\n     <use style=\"fill:#0000ff;stroke:#0000ff;\" x=\"398.545886\" xlink:href=\"#m99b3cd3e12\" y=\"38.003028\"/>\n     <use style=\"fill:#0000ff;stroke:#0000ff;\" x=\"663.407661\" xlink:href=\"#m99b3cd3e12\" y=\"49.025116\"/>\n     <use style=\"fill:#0000ff;stroke:#0000ff;\" x=\"625.054309\" xlink:href=\"#m99b3cd3e12\" y=\"122.073364\"/>\n     <use style=\"fill:#0000ff;stroke:#0000ff;\" x=\"452.045424\" xlink:href=\"#m99b3cd3e12\" y=\"128.161727\"/>\n     <use style=\"fill:#0000ff;stroke:#0000ff;\" x=\"443.531978\" xlink:href=\"#m99b3cd3e12\" y=\"121.390671\"/>\n     <use style=\"fill:#0000ff;stroke:#0000ff;\" x=\"443.972671\" xlink:href=\"#m99b3cd3e12\" y=\"113.462731\"/>\n     <use style=\"fill:#0000ff;stroke:#0000ff;\" x=\"477.686398\" xlink:href=\"#m99b3cd3e12\" y=\"166.081202\"/>\n     <use style=\"fill:#0000ff;stroke:#0000ff;\" x=\"539.209857\" xlink:href=\"#m99b3cd3e12\" y=\"184.529071\"/>\n     <use style=\"fill:#0000ff;stroke:#0000ff;\" x=\"513.315473\" xlink:href=\"#m99b3cd3e12\" y=\"182.802902\"/>\n     <use style=\"fill:#0000ff;stroke:#0000ff;\" x=\"474.055743\" xlink:href=\"#m99b3cd3e12\" y=\"170.435089\"/>\n     <use style=\"fill:#0000ff;stroke:#0000ff;\" x=\"563.50977\" xlink:href=\"#m99b3cd3e12\" y=\"171.459212\"/>\n     <use style=\"fill:#0000ff;stroke:#0000ff;\" x=\"431.7216\" xlink:href=\"#m99b3cd3e12\" y=\"102.946368\"/>\n     <use style=\"fill:#0000ff;stroke:#0000ff;\" x=\"474.311169\" xlink:href=\"#m99b3cd3e12\" y=\"156.30933\"/>\n     <use style=\"fill:#0000ff;stroke:#0000ff;\" x=\"495.017767\" xlink:href=\"#m99b3cd3e12\" y=\"173.509298\"/>\n     <use style=\"fill:#0000ff;stroke:#0000ff;\" x=\"520.046338\" xlink:href=\"#m99b3cd3e12\" y=\"194.384572\"/>\n     <use style=\"fill:#0000ff;stroke:#0000ff;\" x=\"611.866906\" xlink:href=\"#m99b3cd3e12\" y=\"138.121086\"/>\n     <use style=\"fill:#0000ff;stroke:#0000ff;\" x=\"448.511798\" xlink:href=\"#m99b3cd3e12\" y=\"132.159451\"/>\n     <use style=\"fill:#0000ff;stroke:#0000ff;\" x=\"536.274221\" xlink:href=\"#m99b3cd3e12\" y=\"189.40685\"/>\n     <use style=\"fill:#0000ff;stroke:#0000ff;\" x=\"558.086477\" xlink:href=\"#m99b3cd3e12\" y=\"178.256053\"/>\n     <use style=\"fill:#0000ff;stroke:#0000ff;\" x=\"405.762478\" xlink:href=\"#m99b3cd3e12\" y=\"57.14626\"/>\n     <use style=\"fill:#0000ff;stroke:#0000ff;\" x=\"562.307826\" xlink:href=\"#m99b3cd3e12\" y=\"156.47743\"/>\n     <use style=\"fill:#0000ff;stroke:#0000ff;\" x=\"440.379043\" xlink:href=\"#m99b3cd3e12\" y=\"116.342791\"/>\n     <use style=\"fill:#0000ff;stroke:#0000ff;\" x=\"410.952207\" xlink:href=\"#m99b3cd3e12\" y=\"68.266432\"/>\n     <use style=\"fill:#0000ff;stroke:#0000ff;\" x=\"657.541877\" xlink:href=\"#m99b3cd3e12\" y=\"64.288921\"/>\n     <use style=\"fill:#0000ff;stroke:#0000ff;\" x=\"662.21415\" xlink:href=\"#m99b3cd3e12\" y=\"73.330891\"/>\n     <use style=\"fill:#0000ff;stroke:#0000ff;\" x=\"618.345673\" xlink:href=\"#m99b3cd3e12\" y=\"126.18976\"/>\n     <use style=\"fill:#0000ff;stroke:#0000ff;\" x=\"477.790054\" xlink:href=\"#m99b3cd3e12\" y=\"158.718438\"/>\n     <use style=\"fill:#0000ff;stroke:#0000ff;\" x=\"420.053332\" xlink:href=\"#m99b3cd3e12\" y=\"62.727012\"/>\n     <use style=\"fill:#0000ff;stroke:#0000ff;\" x=\"583.703827\" xlink:href=\"#m99b3cd3e12\" y=\"163.668506\"/>\n     <use style=\"fill:#0000ff;stroke:#0000ff;\" x=\"515.605358\" xlink:href=\"#m99b3cd3e12\" y=\"176.640884\"/>\n     <use style=\"fill:#0000ff;stroke:#0000ff;\" x=\"426.85148\" xlink:href=\"#m99b3cd3e12\" y=\"98.279367\"/>\n     <use style=\"fill:#0000ff;stroke:#0000ff;\" x=\"530.95717\" xlink:href=\"#m99b3cd3e12\" y=\"193.091947\"/>\n     <use style=\"fill:#0000ff;stroke:#0000ff;\" x=\"402.39721\" xlink:href=\"#m99b3cd3e12\" y=\"43.428537\"/>\n     <use style=\"fill:#0000ff;stroke:#0000ff;\" x=\"646.503205\" xlink:href=\"#m99b3cd3e12\" y=\"76.120352\"/>\n     <use style=\"fill:#0000ff;stroke:#0000ff;\" x=\"465.002427\" xlink:href=\"#m99b3cd3e12\" y=\"139.846734\"/>\n     <use style=\"fill:#0000ff;stroke:#0000ff;\" x=\"577.64653\" xlink:href=\"#m99b3cd3e12\" y=\"175.08764\"/>\n     <use style=\"fill:#0000ff;stroke:#0000ff;\" x=\"479.770203\" xlink:href=\"#m99b3cd3e12\" y=\"147.197151\"/>\n     <use style=\"fill:#0000ff;stroke:#0000ff;\" x=\"537.90179\" xlink:href=\"#m99b3cd3e12\" y=\"195.147729\"/>\n     <use style=\"fill:#0000ff;stroke:#0000ff;\" x=\"545.33498\" xlink:href=\"#m99b3cd3e12\" y=\"174.673895\"/>\n     <use style=\"fill:#0000ff;stroke:#0000ff;\" x=\"444.377206\" xlink:href=\"#m99b3cd3e12\" y=\"102.061909\"/>\n     <use style=\"fill:#0000ff;stroke:#0000ff;\" x=\"663.316924\" xlink:href=\"#m99b3cd3e12\" y=\"62.094452\"/>\n     <use style=\"fill:#0000ff;stroke:#0000ff;\" x=\"609.06487\" xlink:href=\"#m99b3cd3e12\" y=\"142.843093\"/>\n     <use style=\"fill:#0000ff;stroke:#0000ff;\" x=\"654.923017\" xlink:href=\"#m99b3cd3e12\" y=\"67.476449\"/>\n     <use style=\"fill:#0000ff;stroke:#0000ff;\" x=\"642.459643\" xlink:href=\"#m99b3cd3e12\" y=\"95.218744\"/>\n     <use style=\"fill:#0000ff;stroke:#0000ff;\" x=\"559.616907\" xlink:href=\"#m99b3cd3e12\" y=\"191.219089\"/>\n     <use style=\"fill:#0000ff;stroke:#0000ff;\" x=\"650.005724\" xlink:href=\"#m99b3cd3e12\" y=\"76.680102\"/>\n     <use style=\"fill:#0000ff;stroke:#0000ff;\" x=\"417.492221\" xlink:href=\"#m99b3cd3e12\" y=\"92.794085\"/>\n     <use style=\"fill:#0000ff;stroke:#0000ff;\" x=\"447.482031\" xlink:href=\"#m99b3cd3e12\" y=\"122.876006\"/>\n     <use style=\"fill:#0000ff;stroke:#0000ff;\" x=\"405.421226\" xlink:href=\"#m99b3cd3e12\" y=\"69.426088\"/>\n     <use style=\"fill:#0000ff;stroke:#0000ff;\" x=\"483.569975\" xlink:href=\"#m99b3cd3e12\" y=\"148.657399\"/>\n     <use style=\"fill:#0000ff;stroke:#0000ff;\" x=\"501.243776\" xlink:href=\"#m99b3cd3e12\" y=\"182.074692\"/>\n     <use style=\"fill:#0000ff;stroke:#0000ff;\" x=\"468.509192\" xlink:href=\"#m99b3cd3e12\" y=\"154.184519\"/>\n     <use style=\"fill:#0000ff;stroke:#0000ff;\" x=\"624.020578\" xlink:href=\"#m99b3cd3e12\" y=\"110.384889\"/>\n     <use style=\"fill:#0000ff;stroke:#0000ff;\" x=\"492.336991\" xlink:href=\"#m99b3cd3e12\" y=\"181.683861\"/>\n     <use style=\"fill:#0000ff;stroke:#0000ff;\" x=\"471.183541\" xlink:href=\"#m99b3cd3e12\" y=\"151.331245\"/>\n     <use style=\"fill:#0000ff;stroke:#0000ff;\" x=\"544.21502\" xlink:href=\"#m99b3cd3e12\" y=\"167.846677\"/>\n     <use style=\"fill:#0000ff;stroke:#0000ff;\" x=\"432.120671\" xlink:href=\"#m99b3cd3e12\" y=\"121.806479\"/>\n     <use style=\"fill:#0000ff;stroke:#0000ff;\" x=\"616.61577\" xlink:href=\"#m99b3cd3e12\" y=\"126.346156\"/>\n     <use style=\"fill:#0000ff;stroke:#0000ff;\" x=\"413.602442\" xlink:href=\"#m99b3cd3e12\" y=\"73.034921\"/>\n     <use style=\"fill:#0000ff;stroke:#0000ff;\" x=\"668.144268\" xlink:href=\"#m99b3cd3e12\" y=\"35.075755\"/>\n     <use style=\"fill:#0000ff;stroke:#0000ff;\" x=\"608.259103\" xlink:href=\"#m99b3cd3e12\" y=\"150.322521\"/>\n     <use style=\"fill:#0000ff;stroke:#0000ff;\" x=\"448.244488\" xlink:href=\"#m99b3cd3e12\" y=\"141.374658\"/>\n     <use style=\"fill:#0000ff;stroke:#0000ff;\" x=\"394.343483\" xlink:href=\"#m99b3cd3e12\" y=\"33.247796\"/>\n     <use style=\"fill:#0000ff;stroke:#0000ff;\" x=\"620.316551\" xlink:href=\"#m99b3cd3e12\" y=\"120.445456\"/>\n     <use style=\"fill:#0000ff;stroke:#0000ff;\" x=\"590.016011\" xlink:href=\"#m99b3cd3e12\" y=\"154.154464\"/>\n     <use style=\"fill:#0000ff;stroke:#0000ff;\" x=\"596.195812\" xlink:href=\"#m99b3cd3e12\" y=\"147.557219\"/>\n     <use style=\"fill:#0000ff;stroke:#0000ff;\" x=\"607.987239\" xlink:href=\"#m99b3cd3e12\" y=\"145.191504\"/>\n     <use style=\"fill:#0000ff;stroke:#0000ff;\" x=\"413.46127\" xlink:href=\"#m99b3cd3e12\" y=\"73.052321\"/>\n     <use style=\"fill:#0000ff;stroke:#0000ff;\" x=\"492.814751\" xlink:href=\"#m99b3cd3e12\" y=\"167.079985\"/>\n     <use style=\"fill:#0000ff;stroke:#0000ff;\" x=\"425.13028\" xlink:href=\"#m99b3cd3e12\" y=\"102.163671\"/>\n     <use style=\"fill:#0000ff;stroke:#0000ff;\" x=\"633.608668\" xlink:href=\"#m99b3cd3e12\" y=\"86.165534\"/>\n     <use style=\"fill:#0000ff;stroke:#0000ff;\" x=\"566.70299\" xlink:href=\"#m99b3cd3e12\" y=\"168.145086\"/>\n     <use style=\"fill:#0000ff;stroke:#0000ff;\" x=\"485.123361\" xlink:href=\"#m99b3cd3e12\" y=\"176.562969\"/>\n     <use style=\"fill:#0000ff;stroke:#0000ff;\" x=\"410.535592\" xlink:href=\"#m99b3cd3e12\" y=\"63.605128\"/>\n     <use style=\"fill:#0000ff;stroke:#0000ff;\" x=\"479.56688\" xlink:href=\"#m99b3cd3e12\" y=\"170.265296\"/>\n     <use style=\"fill:#0000ff;stroke:#0000ff;\" x=\"483.528959\" xlink:href=\"#m99b3cd3e12\" y=\"156.080771\"/>\n     <use style=\"fill:#0000ff;stroke:#0000ff;\" x=\"596.362936\" xlink:href=\"#m99b3cd3e12\" y=\"139.461015\"/>\n     <use style=\"fill:#0000ff;stroke:#0000ff;\" x=\"570.681347\" xlink:href=\"#m99b3cd3e12\" y=\"178.612683\"/>\n     <use style=\"fill:#0000ff;stroke:#0000ff;\" x=\"640.335168\" xlink:href=\"#m99b3cd3e12\" y=\"84.377729\"/>\n     <use style=\"fill:#0000ff;stroke:#0000ff;\" x=\"524.550777\" xlink:href=\"#m99b3cd3e12\" y=\"177.20122\"/>\n     <use style=\"fill:#0000ff;stroke:#0000ff;\" x=\"426.169607\" xlink:href=\"#m99b3cd3e12\" y=\"88.821648\"/>\n     <use style=\"fill:#0000ff;stroke:#0000ff;\" x=\"591.798108\" xlink:href=\"#m99b3cd3e12\" y=\"136.496052\"/>\n     <use style=\"fill:#0000ff;stroke:#0000ff;\" x=\"605.061841\" xlink:href=\"#m99b3cd3e12\" y=\"144.215315\"/>\n     <use style=\"fill:#0000ff;stroke:#0000ff;\" x=\"549.399151\" xlink:href=\"#m99b3cd3e12\" y=\"186.850106\"/>\n     <use style=\"fill:#0000ff;stroke:#0000ff;\" x=\"607.902656\" xlink:href=\"#m99b3cd3e12\" y=\"147.334712\"/>\n     <use style=\"fill:#0000ff;stroke:#0000ff;\" x=\"530.571784\" xlink:href=\"#m99b3cd3e12\" y=\"189.635291\"/>\n     <use style=\"fill:#0000ff;stroke:#0000ff;\" x=\"538.645272\" xlink:href=\"#m99b3cd3e12\" y=\"182.137285\"/>\n     <use style=\"fill:#0000ff;stroke:#0000ff;\" x=\"512.086757\" xlink:href=\"#m99b3cd3e12\" y=\"175.275743\"/>\n     <use style=\"fill:#0000ff;stroke:#0000ff;\" x=\"399.894749\" xlink:href=\"#m99b3cd3e12\" y=\"46.94746\"/>\n     <use style=\"fill:#0000ff;stroke:#0000ff;\" x=\"422.904521\" xlink:href=\"#m99b3cd3e12\" y=\"83.471677\"/>\n    </g>\n   </g>\n   <g id=\"line2d_28\">\n    <path clip-path=\"url(#p17b9033742)\" d=\"M 392.802812 52.536867 \nL 411.812833 52.536867 \nL 412.371951 86.365674 \nL 431.381971 86.365674 \nL 431.941089 157.540637 \nL 622.041289 157.540637 \nL 622.600408 78.398416 \nL 671.802812 78.398416 \nL 671.802812 78.398416 \n\" style=\"fill:none;stroke:#ff0000;stroke-linecap:square;stroke-width:2;\"/>\n   </g>\n   <g id=\"patch_9\">\n    <path d=\"M 392.802812 201.228088 \nL 392.802812 25.3575 \n\" style=\"fill:none;stroke:#000000;stroke-linecap:square;stroke-linejoin:miter;stroke-width:0.8;\"/>\n   </g>\n   <g id=\"patch_10\">\n    <path d=\"M 671.802812 201.228088 \nL 671.802812 25.3575 \n\" style=\"fill:none;stroke:#000000;stroke-linecap:square;stroke-linejoin:miter;stroke-width:0.8;\"/>\n   </g>\n   <g id=\"patch_11\">\n    <path d=\"M 392.802812 201.228088 \nL 671.802812 201.228088 \n\" style=\"fill:none;stroke:#000000;stroke-linecap:square;stroke-linejoin:miter;stroke-width:0.8;\"/>\n   </g>\n   <g id=\"patch_12\">\n    <path d=\"M 392.802812 25.3575 \nL 671.802812 25.3575 \n\" style=\"fill:none;stroke:#000000;stroke-linecap:square;stroke-linejoin:miter;stroke-width:0.8;\"/>\n   </g>\n   <g id=\"text_26\">\n    <!-- Ensemble predictions -->\n    <g transform=\"translate(446.227812 19.3575)scale(0.16 -0.16)\">\n     <defs>\n      <path d=\"M 628 4666 \nL 3578 4666 \nL 3578 4134 \nL 1259 4134 \nL 1259 2753 \nL 3481 2753 \nL 3481 2222 \nL 1259 2222 \nL 1259 531 \nL 3634 531 \nL 3634 0 \nL 628 0 \nL 628 4666 \nz\n\" id=\"DejaVuSans-45\" transform=\"scale(0.015625)\"/>\n      <path d=\"M 3328 2828 \nQ 3544 3216 3844 3400 \nQ 4144 3584 4550 3584 \nQ 5097 3584 5394 3201 \nQ 5691 2819 5691 2113 \nL 5691 0 \nL 5113 0 \nL 5113 2094 \nQ 5113 2597 4934 2840 \nQ 4756 3084 4391 3084 \nQ 3944 3084 3684 2787 \nQ 3425 2491 3425 1978 \nL 3425 0 \nL 2847 0 \nL 2847 2094 \nQ 2847 2600 2669 2842 \nQ 2491 3084 2119 3084 \nQ 1678 3084 1418 2786 \nQ 1159 2488 1159 1978 \nL 1159 0 \nL 581 0 \nL 581 3500 \nL 1159 3500 \nL 1159 2956 \nQ 1356 3278 1631 3431 \nQ 1906 3584 2284 3584 \nQ 2666 3584 2933 3390 \nQ 3200 3197 3328 2828 \nz\n\" id=\"DejaVuSans-6d\" transform=\"scale(0.015625)\"/>\n      <path d=\"M 3116 1747 \nQ 3116 2381 2855 2742 \nQ 2594 3103 2138 3103 \nQ 1681 3103 1420 2742 \nQ 1159 2381 1159 1747 \nQ 1159 1113 1420 752 \nQ 1681 391 2138 391 \nQ 2594 391 2855 752 \nQ 3116 1113 3116 1747 \nz\nM 1159 2969 \nQ 1341 3281 1617 3432 \nQ 1894 3584 2278 3584 \nQ 2916 3584 3314 3078 \nQ 3713 2572 3713 1747 \nQ 3713 922 3314 415 \nQ 2916 -91 2278 -91 \nQ 1894 -91 1617 61 \nQ 1341 213 1159 525 \nL 1159 0 \nL 581 0 \nL 581 4863 \nL 1159 4863 \nL 1159 2969 \nz\n\" id=\"DejaVuSans-62\" transform=\"scale(0.015625)\"/>\n     </defs>\n     <use xlink:href=\"#DejaVuSans-45\"/>\n     <use x=\"63.183594\" xlink:href=\"#DejaVuSans-6e\"/>\n     <use x=\"126.5625\" xlink:href=\"#DejaVuSans-73\"/>\n     <use x=\"178.662109\" xlink:href=\"#DejaVuSans-65\"/>\n     <use x=\"240.185547\" xlink:href=\"#DejaVuSans-6d\"/>\n     <use x=\"337.597656\" xlink:href=\"#DejaVuSans-62\"/>\n     <use x=\"401.074219\" xlink:href=\"#DejaVuSans-6c\"/>\n     <use x=\"428.857422\" xlink:href=\"#DejaVuSans-65\"/>\n     <use x=\"490.380859\" xlink:href=\"#DejaVuSans-20\"/>\n     <use x=\"522.167969\" xlink:href=\"#DejaVuSans-70\"/>\n     <use x=\"585.644531\" xlink:href=\"#DejaVuSans-72\"/>\n     <use x=\"624.507812\" xlink:href=\"#DejaVuSans-65\"/>\n     <use x=\"686.03125\" xlink:href=\"#DejaVuSans-64\"/>\n     <use x=\"749.507812\" xlink:href=\"#DejaVuSans-69\"/>\n     <use x=\"777.291016\" xlink:href=\"#DejaVuSans-63\"/>\n     <use x=\"832.271484\" xlink:href=\"#DejaVuSans-74\"/>\n     <use x=\"871.480469\" xlink:href=\"#DejaVuSans-69\"/>\n     <use x=\"899.263672\" xlink:href=\"#DejaVuSans-6f\"/>\n     <use x=\"960.445312\" xlink:href=\"#DejaVuSans-6e\"/>\n     <use x=\"1023.824219\" xlink:href=\"#DejaVuSans-73\"/>\n    </g>\n   </g>\n   <g id=\"legend_2\">\n    <g id=\"patch_13\">\n     <path d=\"M 453.422812 85.1275 \nL 611.182812 85.1275 \nQ 614.382812 85.1275 614.382812 81.9275 \nL 614.382812 36.5575 \nQ 614.382812 33.3575 611.182812 33.3575 \nL 453.422812 33.3575 \nQ 450.222812 33.3575 450.222812 36.5575 \nL 450.222812 81.9275 \nQ 450.222812 85.1275 453.422812 85.1275 \nz\n\" style=\"fill:#ffffff;opacity:0.8;stroke:#cccccc;stroke-linejoin:miter;\"/>\n    </g>\n    <g id=\"line2d_29\"/>\n    <g id=\"line2d_30\">\n     <g>\n      <use style=\"fill:#0000ff;stroke:#0000ff;\" x=\"472.622812\" xlink:href=\"#m99b3cd3e12\" y=\"46.315\"/>\n     </g>\n    </g>\n    <g id=\"text_27\">\n     <!-- Training set -->\n     <g transform=\"translate(501.422812 51.915)scale(0.16 -0.16)\">\n      <use xlink:href=\"#DejaVuSans-54\"/>\n      <use x=\"46.333984\" xlink:href=\"#DejaVuSans-72\"/>\n      <use x=\"87.447266\" xlink:href=\"#DejaVuSans-61\"/>\n      <use x=\"148.726562\" xlink:href=\"#DejaVuSans-69\"/>\n      <use x=\"176.509766\" xlink:href=\"#DejaVuSans-6e\"/>\n      <use x=\"239.888672\" xlink:href=\"#DejaVuSans-69\"/>\n      <use x=\"267.671875\" xlink:href=\"#DejaVuSans-6e\"/>\n      <use x=\"331.050781\" xlink:href=\"#DejaVuSans-67\"/>\n      <use x=\"394.527344\" xlink:href=\"#DejaVuSans-20\"/>\n      <use x=\"426.314453\" xlink:href=\"#DejaVuSans-73\"/>\n      <use x=\"478.414062\" xlink:href=\"#DejaVuSans-65\"/>\n      <use x=\"539.9375\" xlink:href=\"#DejaVuSans-74\"/>\n     </g>\n    </g>\n    <g id=\"line2d_31\">\n     <path d=\"M 456.622812 69.8 \nL 488.622812 69.8 \n\" style=\"fill:none;stroke:#ff0000;stroke-linecap:square;stroke-width:2;\"/>\n    </g>\n    <g id=\"line2d_32\"/>\n    <g id=\"text_28\">\n     <!-- $h(x_1) = h_1(x_1)$ -->\n     <g transform=\"translate(501.422812 75.4)scale(0.16 -0.16)\">\n      <defs>\n       <path d=\"M 678 2906 \nL 4684 2906 \nL 4684 2381 \nL 678 2381 \nL 678 2906 \nz\nM 678 1631 \nL 4684 1631 \nL 4684 1100 \nL 678 1100 \nL 678 1631 \nz\n\" id=\"DejaVuSans-3d\" transform=\"scale(0.015625)\"/>\n      </defs>\n      <use transform=\"translate(0 0.015625)\" xlink:href=\"#DejaVuSans-Oblique-68\"/>\n      <use transform=\"translate(63.378906 0.015625)\" xlink:href=\"#DejaVuSans-28\"/>\n      <use transform=\"translate(102.392578 0.015625)\" xlink:href=\"#DejaVuSans-Oblique-78\"/>\n      <use transform=\"translate(161.572266 -16.390625)scale(0.7)\" xlink:href=\"#DejaVuSans-31\"/>\n      <use transform=\"translate(208.842773 0.015625)\" xlink:href=\"#DejaVuSans-29\"/>\n      <use transform=\"translate(267.338867 0.015625)\" xlink:href=\"#DejaVuSans-3d\"/>\n      <use transform=\"translate(370.610352 0.015625)\" xlink:href=\"#DejaVuSans-Oblique-68\"/>\n      <use transform=\"translate(433.989258 -16.390625)scale(0.7)\" xlink:href=\"#DejaVuSans-31\"/>\n      <use transform=\"translate(481.259766 0.015625)\" xlink:href=\"#DejaVuSans-28\"/>\n      <use transform=\"translate(520.273438 0.015625)\" xlink:href=\"#DejaVuSans-Oblique-78\"/>\n      <use transform=\"translate(579.453125 -16.390625)scale(0.7)\" xlink:href=\"#DejaVuSans-31\"/>\n      <use transform=\"translate(626.723633 0.015625)\" xlink:href=\"#DejaVuSans-29\"/>\n     </g>\n    </g>\n   </g>\n  </g>\n  <g id=\"axes_3\">\n   <g id=\"patch_14\">\n    <path d=\"M 58.002813 412.272794 \nL 337.002813 412.272794 \nL 337.002813 236.402206 \nL 58.002813 236.402206 \nz\n\" style=\"fill:#ffffff;\"/>\n   </g>\n   <g id=\"matplotlib.axis_5\">\n    <g id=\"xtick_11\">\n     <g id=\"line2d_33\">\n      <g>\n       <use style=\"stroke:#000000;stroke-width:0.8;\" x=\"85.902812\" xlink:href=\"#m198dce29f0\" y=\"412.272794\"/>\n      </g>\n     </g>\n     <g id=\"text_29\">\n      <!-- −0.4 -->\n      <g transform=\"translate(73.761406 426.871232)scale(0.1 -0.1)\">\n       <use xlink:href=\"#DejaVuSans-2212\"/>\n       <use x=\"83.789062\" xlink:href=\"#DejaVuSans-30\"/>\n       <use x=\"147.412109\" xlink:href=\"#DejaVuSans-2e\"/>\n       <use x=\"179.199219\" xlink:href=\"#DejaVuSans-34\"/>\n      </g>\n     </g>\n    </g>\n    <g id=\"xtick_12\">\n     <g id=\"line2d_34\">\n      <g>\n       <use style=\"stroke:#000000;stroke-width:0.8;\" x=\"141.702812\" xlink:href=\"#m198dce29f0\" y=\"412.272794\"/>\n      </g>\n     </g>\n     <g id=\"text_30\">\n      <!-- −0.2 -->\n      <g transform=\"translate(129.561406 426.871232)scale(0.1 -0.1)\">\n       <use xlink:href=\"#DejaVuSans-2212\"/>\n       <use x=\"83.789062\" xlink:href=\"#DejaVuSans-30\"/>\n       <use x=\"147.412109\" xlink:href=\"#DejaVuSans-2e\"/>\n       <use x=\"179.199219\" xlink:href=\"#DejaVuSans-32\"/>\n      </g>\n     </g>\n    </g>\n    <g id=\"xtick_13\">\n     <g id=\"line2d_35\">\n      <g>\n       <use style=\"stroke:#000000;stroke-width:0.8;\" x=\"197.502813\" xlink:href=\"#m198dce29f0\" y=\"412.272794\"/>\n      </g>\n     </g>\n     <g id=\"text_31\">\n      <!-- 0.0 -->\n      <g transform=\"translate(189.55125 426.871232)scale(0.1 -0.1)\">\n       <use xlink:href=\"#DejaVuSans-30\"/>\n       <use x=\"63.623047\" xlink:href=\"#DejaVuSans-2e\"/>\n       <use x=\"95.410156\" xlink:href=\"#DejaVuSans-30\"/>\n      </g>\n     </g>\n    </g>\n    <g id=\"xtick_14\">\n     <g id=\"line2d_36\">\n      <g>\n       <use style=\"stroke:#000000;stroke-width:0.8;\" x=\"253.302812\" xlink:href=\"#m198dce29f0\" y=\"412.272794\"/>\n      </g>\n     </g>\n     <g id=\"text_32\">\n      <!-- 0.2 -->\n      <g transform=\"translate(245.35125 426.871232)scale(0.1 -0.1)\">\n       <use xlink:href=\"#DejaVuSans-30\"/>\n       <use x=\"63.623047\" xlink:href=\"#DejaVuSans-2e\"/>\n       <use x=\"95.410156\" xlink:href=\"#DejaVuSans-32\"/>\n      </g>\n     </g>\n    </g>\n    <g id=\"xtick_15\">\n     <g id=\"line2d_37\">\n      <g>\n       <use style=\"stroke:#000000;stroke-width:0.8;\" x=\"309.102812\" xlink:href=\"#m198dce29f0\" y=\"412.272794\"/>\n      </g>\n     </g>\n     <g id=\"text_33\">\n      <!-- 0.4 -->\n      <g transform=\"translate(301.15125 426.871232)scale(0.1 -0.1)\">\n       <use xlink:href=\"#DejaVuSans-30\"/>\n       <use x=\"63.623047\" xlink:href=\"#DejaVuSans-2e\"/>\n       <use x=\"95.410156\" xlink:href=\"#DejaVuSans-34\"/>\n      </g>\n     </g>\n    </g>\n   </g>\n   <g id=\"matplotlib.axis_6\">\n    <g id=\"ytick_11\">\n     <g id=\"line2d_38\">\n      <g>\n       <use style=\"stroke:#000000;stroke-width:0.8;\" x=\"58.002813\" xlink:href=\"#m3f6da60ab7\" y=\"394.685735\"/>\n      </g>\n     </g>\n     <g id=\"text_34\">\n      <!-- −0.4 -->\n      <g transform=\"translate(26.72 398.484954)scale(0.1 -0.1)\">\n       <use xlink:href=\"#DejaVuSans-2212\"/>\n       <use x=\"83.789062\" xlink:href=\"#DejaVuSans-30\"/>\n       <use x=\"147.412109\" xlink:href=\"#DejaVuSans-2e\"/>\n       <use x=\"179.199219\" xlink:href=\"#DejaVuSans-34\"/>\n      </g>\n     </g>\n    </g>\n    <g id=\"ytick_12\">\n     <g id=\"line2d_39\">\n      <g>\n       <use style=\"stroke:#000000;stroke-width:0.8;\" x=\"58.002813\" xlink:href=\"#m3f6da60ab7\" y=\"359.511618\"/>\n      </g>\n     </g>\n     <g id=\"text_35\">\n      <!-- −0.2 -->\n      <g transform=\"translate(26.72 363.310836)scale(0.1 -0.1)\">\n       <use xlink:href=\"#DejaVuSans-2212\"/>\n       <use x=\"83.789062\" xlink:href=\"#DejaVuSans-30\"/>\n       <use x=\"147.412109\" xlink:href=\"#DejaVuSans-2e\"/>\n       <use x=\"179.199219\" xlink:href=\"#DejaVuSans-32\"/>\n      </g>\n     </g>\n    </g>\n    <g id=\"ytick_13\">\n     <g id=\"line2d_40\">\n      <g>\n       <use style=\"stroke:#000000;stroke-width:0.8;\" x=\"58.002813\" xlink:href=\"#m3f6da60ab7\" y=\"324.3375\"/>\n      </g>\n     </g>\n     <g id=\"text_36\">\n      <!-- 0.0 -->\n      <g transform=\"translate(35.099688 328.136719)scale(0.1 -0.1)\">\n       <use xlink:href=\"#DejaVuSans-30\"/>\n       <use x=\"63.623047\" xlink:href=\"#DejaVuSans-2e\"/>\n       <use x=\"95.410156\" xlink:href=\"#DejaVuSans-30\"/>\n      </g>\n     </g>\n    </g>\n    <g id=\"ytick_14\">\n     <g id=\"line2d_41\">\n      <g>\n       <use style=\"stroke:#000000;stroke-width:0.8;\" x=\"58.002813\" xlink:href=\"#m3f6da60ab7\" y=\"289.163382\"/>\n      </g>\n     </g>\n     <g id=\"text_37\">\n      <!-- 0.2 -->\n      <g transform=\"translate(35.099688 292.962601)scale(0.1 -0.1)\">\n       <use xlink:href=\"#DejaVuSans-30\"/>\n       <use x=\"63.623047\" xlink:href=\"#DejaVuSans-2e\"/>\n       <use x=\"95.410156\" xlink:href=\"#DejaVuSans-32\"/>\n      </g>\n     </g>\n    </g>\n    <g id=\"ytick_15\">\n     <g id=\"line2d_42\">\n      <g>\n       <use style=\"stroke:#000000;stroke-width:0.8;\" x=\"58.002813\" xlink:href=\"#m3f6da60ab7\" y=\"253.989265\"/>\n      </g>\n     </g>\n     <g id=\"text_38\">\n      <!-- 0.4 -->\n      <g transform=\"translate(35.099688 257.788483)scale(0.1 -0.1)\">\n       <use xlink:href=\"#DejaVuSans-30\"/>\n       <use x=\"63.623047\" xlink:href=\"#DejaVuSans-2e\"/>\n       <use x=\"95.410156\" xlink:href=\"#DejaVuSans-34\"/>\n      </g>\n     </g>\n    </g>\n    <g id=\"text_39\">\n     <!-- $y - h_1(x_1)$ -->\n     <g transform=\"translate(19.36 362.5775)rotate(-90)scale(0.16 -0.16)\">\n      <use transform=\"translate(0 0.015625)\" xlink:href=\"#DejaVuSans-Oblique-79\"/>\n      <use transform=\"translate(78.662109 0.015625)\" xlink:href=\"#DejaVuSans-2212\"/>\n      <use transform=\"translate(181.933594 0.015625)\" xlink:href=\"#DejaVuSans-Oblique-68\"/>\n      <use transform=\"translate(245.3125 -16.390625)scale(0.7)\" xlink:href=\"#DejaVuSans-31\"/>\n      <use transform=\"translate(292.583008 0.015625)\" xlink:href=\"#DejaVuSans-28\"/>\n      <use transform=\"translate(331.59668 0.015625)\" xlink:href=\"#DejaVuSans-Oblique-78\"/>\n      <use transform=\"translate(390.776367 -16.390625)scale(0.7)\" xlink:href=\"#DejaVuSans-31\"/>\n      <use transform=\"translate(438.046875 0.015625)\" xlink:href=\"#DejaVuSans-29\"/>\n     </g>\n    </g>\n   </g>\n   <g id=\"line2d_43\">\n    <defs>\n     <path d=\"M -3 0 \nL 3 0 \nM 0 3 \nL 0 -3 \n\" id=\"m0e1580faf1\" style=\"stroke:#000000;\"/>\n    </defs>\n    <g clip-path=\"url(#pf8a9604cde)\">\n     <use style=\"stroke:#000000;\" x=\"162.499506\" xlink:href=\"#m0e1580faf1\" y=\"336.998991\"/>\n     <use style=\"stroke:#000000;\" x=\"323.252104\" xlink:href=\"#m0e1580faf1\" y=\"312.745636\"/>\n     <use style=\"stroke:#000000;\" x=\"262.229122\" xlink:href=\"#m0e1580faf1\" y=\"316.865554\"/>\n     <use style=\"stroke:#000000;\" x=\"225.02853\" xlink:href=\"#m0e1580faf1\" y=\"358.411386\"/>\n     <use style=\"stroke:#000000;\" x=\"101.532013\" xlink:href=\"#m0e1580faf1\" y=\"285.572139\"/>\n     <use style=\"stroke:#000000;\" x=\"101.525284\" xlink:href=\"#m0e1580faf1\" y=\"280.491412\"/>\n     <use style=\"stroke:#000000;\" x=\"74.20814\" xlink:href=\"#m0e1580faf1\" y=\"324.539285\"/>\n     <use style=\"stroke:#000000;\" x=\"299.665957\" xlink:href=\"#m0e1580faf1\" y=\"351.109763\"/>\n     <use style=\"stroke:#000000;\" x=\"225.713901\" xlink:href=\"#m0e1580faf1\" y=\"347.784227\"/>\n     <use style=\"stroke:#000000;\" x=\"255.555062\" xlink:href=\"#m0e1580faf1\" y=\"327.638834\"/>\n     <use style=\"stroke:#000000;\" x=\"63.745886\" xlink:href=\"#m0e1580faf1\" y=\"311.257045\"/>\n     <use style=\"stroke:#000000;\" x=\"328.607661\" xlink:href=\"#m0e1580faf1\" y=\"297.90153\"/>\n     <use style=\"stroke:#000000;\" x=\"290.254309\" xlink:href=\"#m0e1580faf1\" y=\"363.644953\"/>\n     <use style=\"stroke:#000000;\" x=\"117.245424\" xlink:href=\"#m0e1580faf1\" y=\"297.896481\"/>\n     <use style=\"stroke:#000000;\" x=\"108.731978\" xlink:href=\"#m0e1580faf1\" y=\"291.80253\"/>\n     <use style=\"stroke:#000000;\" x=\"109.172671\" xlink:href=\"#m0e1580faf1\" y=\"284.667385\"/>\n     <use style=\"stroke:#000000;\" x=\"142.886398\" xlink:href=\"#m0e1580faf1\" y=\"332.024009\"/>\n     <use style=\"stroke:#000000;\" x=\"204.409857\" xlink:href=\"#m0e1580faf1\" y=\"348.627091\"/>\n     <use style=\"stroke:#000000;\" x=\"178.515473\" xlink:href=\"#m0e1580faf1\" y=\"347.073538\"/>\n     <use style=\"stroke:#000000;\" x=\"139.255743\" xlink:href=\"#m0e1580faf1\" y=\"335.942507\"/>\n     <use style=\"stroke:#000000;\" x=\"228.70977\" xlink:href=\"#m0e1580faf1\" y=\"336.864217\"/>\n     <use style=\"stroke:#000000;\" x=\"96.9216\" xlink:href=\"#m0e1580faf1\" y=\"339.260124\"/>\n     <use style=\"stroke:#000000;\" x=\"139.511169\" xlink:href=\"#m0e1580faf1\" y=\"323.229324\"/>\n     <use style=\"stroke:#000000;\" x=\"160.217767\" xlink:href=\"#m0e1580faf1\" y=\"338.709295\"/>\n     <use style=\"stroke:#000000;\" x=\"185.246338\" xlink:href=\"#m0e1580faf1\" y=\"357.497042\"/>\n     <use style=\"stroke:#000000;\" x=\"277.066906\" xlink:href=\"#m0e1580faf1\" y=\"306.859904\"/>\n     <use style=\"stroke:#000000;\" x=\"113.711798\" xlink:href=\"#m0e1580faf1\" y=\"301.494433\"/>\n     <use style=\"stroke:#000000;\" x=\"201.474221\" xlink:href=\"#m0e1580faf1\" y=\"353.017092\"/>\n     <use style=\"stroke:#000000;\" x=\"223.286477\" xlink:href=\"#m0e1580faf1\" y=\"342.981375\"/>\n     <use style=\"stroke:#000000;\" x=\"70.962478\" xlink:href=\"#m0e1580faf1\" y=\"328.485954\"/>\n     <use style=\"stroke:#000000;\" x=\"227.507826\" xlink:href=\"#m0e1580faf1\" y=\"323.380614\"/>\n     <use style=\"stroke:#000000;\" x=\"105.579043\" xlink:href=\"#m0e1580faf1\" y=\"287.259438\"/>\n     <use style=\"stroke:#000000;\" x=\"76.152207\" xlink:href=\"#m0e1580faf1\" y=\"338.494108\"/>\n     <use style=\"stroke:#000000;\" x=\"322.741877\" xlink:href=\"#m0e1580faf1\" y=\"311.638954\"/>\n     <use style=\"stroke:#000000;\" x=\"327.41415\" xlink:href=\"#m0e1580faf1\" y=\"319.776727\"/>\n     <use style=\"stroke:#000000;\" x=\"283.545673\" xlink:href=\"#m0e1580faf1\" y=\"296.12171\"/>\n     <use style=\"stroke:#000000;\" x=\"142.990054\" xlink:href=\"#m0e1580faf1\" y=\"325.397521\"/>\n     <use style=\"stroke:#000000;\" x=\"85.253332\" xlink:href=\"#m0e1580faf1\" y=\"303.062704\"/>\n     <use style=\"stroke:#000000;\" x=\"248.903827\" xlink:href=\"#m0e1580faf1\" y=\"329.852582\"/>\n     <use style=\"stroke:#000000;\" x=\"180.805358\" xlink:href=\"#m0e1580faf1\" y=\"341.527722\"/>\n     <use style=\"stroke:#000000;\" x=\"92.05148\" xlink:href=\"#m0e1580faf1\" y=\"335.059823\"/>\n     <use style=\"stroke:#000000;\" x=\"196.15717\" xlink:href=\"#m0e1580faf1\" y=\"356.333678\"/>\n     <use style=\"stroke:#000000;\" x=\"67.59721\" xlink:href=\"#m0e1580faf1\" y=\"316.140004\"/>\n     <use style=\"stroke:#000000;\" x=\"311.703205\" xlink:href=\"#m0e1580faf1\" y=\"322.287242\"/>\n     <use style=\"stroke:#000000;\" x=\"130.202427\" xlink:href=\"#m0e1580faf1\" y=\"308.412987\"/>\n     <use style=\"stroke:#000000;\" x=\"242.84653\" xlink:href=\"#m0e1580faf1\" y=\"340.129803\"/>\n     <use style=\"stroke:#000000;\" x=\"144.970203\" xlink:href=\"#m0e1580faf1\" y=\"315.028363\"/>\n     <use style=\"stroke:#000000;\" x=\"203.10179\" xlink:href=\"#m0e1580faf1\" y=\"358.183883\"/>\n     <use style=\"stroke:#000000;\" x=\"210.53498\" xlink:href=\"#m0e1580faf1\" y=\"339.757432\"/>\n     <use style=\"stroke:#000000;\" x=\"109.577206\" xlink:href=\"#m0e1580faf1\" y=\"274.406644\"/>\n     <use style=\"stroke:#000000;\" x=\"328.516924\" xlink:href=\"#m0e1580faf1\" y=\"309.663933\"/>\n     <use style=\"stroke:#000000;\" x=\"274.26487\" xlink:href=\"#m0e1580faf1\" y=\"311.10971\"/>\n     <use style=\"stroke:#000000;\" x=\"320.123017\" xlink:href=\"#m0e1580faf1\" y=\"314.50773\"/>\n     <use style=\"stroke:#000000;\" x=\"307.659643\" xlink:href=\"#m0e1580faf1\" y=\"339.475796\"/>\n     <use style=\"stroke:#000000;\" x=\"224.816907\" xlink:href=\"#m0e1580faf1\" y=\"354.648106\"/>\n     <use style=\"stroke:#000000;\" x=\"315.205724\" xlink:href=\"#m0e1580faf1\" y=\"322.791018\"/>\n     <use style=\"stroke:#000000;\" x=\"82.692221\" xlink:href=\"#m0e1580faf1\" y=\"330.123069\"/>\n     <use style=\"stroke:#000000;\" x=\"112.682031\" xlink:href=\"#m0e1580faf1\" y=\"293.139332\"/>\n     <use style=\"stroke:#000000;\" x=\"70.621226\" xlink:href=\"#m0e1580faf1\" y=\"339.537799\"/>\n     <use style=\"stroke:#000000;\" x=\"148.769975\" xlink:href=\"#m0e1580faf1\" y=\"316.342586\"/>\n     <use style=\"stroke:#000000;\" x=\"166.443776\" xlink:href=\"#m0e1580faf1\" y=\"346.418149\"/>\n     <use style=\"stroke:#000000;\" x=\"133.709192\" xlink:href=\"#m0e1580faf1\" y=\"321.316994\"/>\n     <use style=\"stroke:#000000;\" x=\"289.220578\" xlink:href=\"#m0e1580faf1\" y=\"353.125326\"/>\n     <use style=\"stroke:#000000;\" x=\"157.536991\" xlink:href=\"#m0e1580faf1\" y=\"346.066401\"/>\n     <use style=\"stroke:#000000;\" x=\"136.383541\" xlink:href=\"#m0e1580faf1\" y=\"318.749047\"/>\n     <use style=\"stroke:#000000;\" x=\"209.41502\" xlink:href=\"#m0e1580faf1\" y=\"333.612936\"/>\n     <use style=\"stroke:#000000;\" x=\"97.320671\" xlink:href=\"#m0e1580faf1\" y=\"292.176758\"/>\n     <use style=\"stroke:#000000;\" x=\"281.81577\" xlink:href=\"#m0e1580faf1\" y=\"296.262467\"/>\n     <use style=\"stroke:#000000;\" x=\"78.802442\" xlink:href=\"#m0e1580faf1\" y=\"312.339822\"/>\n     <use style=\"stroke:#000000;\" x=\"333.344268\" xlink:href=\"#m0e1580faf1\" y=\"285.347105\"/>\n     <use style=\"stroke:#000000;\" x=\"273.459103\" xlink:href=\"#m0e1580faf1\" y=\"317.841195\"/>\n     <use style=\"stroke:#000000;\" x=\"113.444488\" xlink:href=\"#m0e1580faf1\" y=\"309.788119\"/>\n     <use style=\"stroke:#000000;\" x=\"59.543483\" xlink:href=\"#m0e1580faf1\" y=\"306.977336\"/>\n     <use style=\"stroke:#000000;\" x=\"285.516551\" xlink:href=\"#m0e1580faf1\" y=\"290.951837\"/>\n     <use style=\"stroke:#000000;\" x=\"255.216011\" xlink:href=\"#m0e1580faf1\" y=\"321.289944\"/>\n     <use style=\"stroke:#000000;\" x=\"261.395812\" xlink:href=\"#m0e1580faf1\" y=\"315.352424\"/>\n     <use style=\"stroke:#000000;\" x=\"273.187239\" xlink:href=\"#m0e1580faf1\" y=\"313.22328\"/>\n     <use style=\"stroke:#000000;\" x=\"78.66127\" xlink:href=\"#m0e1580faf1\" y=\"312.355482\"/>\n     <use style=\"stroke:#000000;\" x=\"158.014751\" xlink:href=\"#m0e1580faf1\" y=\"332.922913\"/>\n     <use style=\"stroke:#000000;\" x=\"90.33028\" xlink:href=\"#m0e1580faf1\" y=\"338.555696\"/>\n     <use style=\"stroke:#000000;\" x=\"298.808668\" xlink:href=\"#m0e1580faf1\" y=\"331.327906\"/>\n     <use style=\"stroke:#000000;\" x=\"231.90299\" xlink:href=\"#m0e1580faf1\" y=\"333.881503\"/>\n     <use style=\"stroke:#000000;\" x=\"150.323361\" xlink:href=\"#m0e1580faf1\" y=\"341.457599\"/>\n     <use style=\"stroke:#000000;\" x=\"75.735592\" xlink:href=\"#m0e1580faf1\" y=\"334.298935\"/>\n     <use style=\"stroke:#000000;\" x=\"144.76688\" xlink:href=\"#m0e1580faf1\" y=\"335.789693\"/>\n     <use style=\"stroke:#000000;\" x=\"148.728959\" xlink:href=\"#m0e1580faf1\" y=\"323.02362\"/>\n     <use style=\"stroke:#000000;\" x=\"261.562936\" xlink:href=\"#m0e1580faf1\" y=\"308.06584\"/>\n     <use style=\"stroke:#000000;\" x=\"235.881347\" xlink:href=\"#m0e1580faf1\" y=\"343.302341\"/>\n     <use style=\"stroke:#000000;\" x=\"305.535168\" xlink:href=\"#m0e1580faf1\" y=\"329.718882\"/>\n     <use style=\"stroke:#000000;\" x=\"189.750777\" xlink:href=\"#m0e1580faf1\" y=\"342.032024\"/>\n     <use style=\"stroke:#000000;\" x=\"91.369607\" xlink:href=\"#m0e1580faf1\" y=\"326.547876\"/>\n     <use style=\"stroke:#000000;\" x=\"256.998108\" xlink:href=\"#m0e1580faf1\" y=\"305.397373\"/>\n     <use style=\"stroke:#000000;\" x=\"270.261841\" xlink:href=\"#m0e1580faf1\" y=\"312.34471\"/>\n     <use style=\"stroke:#000000;\" x=\"214.599151\" xlink:href=\"#m0e1580faf1\" y=\"350.716022\"/>\n     <use style=\"stroke:#000000;\" x=\"273.102656\" xlink:href=\"#m0e1580faf1\" y=\"315.152168\"/>\n     <use style=\"stroke:#000000;\" x=\"195.771784\" xlink:href=\"#m0e1580faf1\" y=\"353.222689\"/>\n     <use style=\"stroke:#000000;\" x=\"203.845272\" xlink:href=\"#m0e1580faf1\" y=\"346.474483\"/>\n     <use style=\"stroke:#000000;\" x=\"177.286757\" xlink:href=\"#m0e1580faf1\" y=\"340.299095\"/>\n     <use style=\"stroke:#000000;\" x=\"65.094749\" xlink:href=\"#m0e1580faf1\" y=\"319.307034\"/>\n     <use style=\"stroke:#000000;\" x=\"88.104521\" xlink:href=\"#m0e1580faf1\" y=\"321.732902\"/>\n    </g>\n   </g>\n   <g id=\"line2d_44\">\n    <path clip-path=\"url(#pf8a9604cde)\" d=\"M 58.002813 324.3375 \nL 96.581971 324.3375 \nL 97.141089 296.226693 \nL 137.397602 296.226693 \nL 137.95672 340.235838 \nL 252.016841 340.235838 \nL 252.575959 317.317982 \nL 337.002813 317.317982 \nL 337.002813 317.317982 \n\" style=\"fill:none;stroke:#008000;stroke-linecap:square;stroke-width:2;\"/>\n   </g>\n   <g id=\"patch_15\">\n    <path d=\"M 58.002813 412.272794 \nL 58.002813 236.402206 \n\" style=\"fill:none;stroke:#000000;stroke-linecap:square;stroke-linejoin:miter;stroke-width:0.8;\"/>\n   </g>\n   <g id=\"patch_16\">\n    <path d=\"M 337.002813 412.272794 \nL 337.002813 236.402206 \n\" style=\"fill:none;stroke:#000000;stroke-linecap:square;stroke-linejoin:miter;stroke-width:0.8;\"/>\n   </g>\n   <g id=\"patch_17\">\n    <path d=\"M 58.002813 412.272794 \nL 337.002813 412.272794 \n\" style=\"fill:none;stroke:#000000;stroke-linecap:square;stroke-linejoin:miter;stroke-width:0.8;\"/>\n   </g>\n   <g id=\"patch_18\">\n    <path d=\"M 58.002813 236.402206 \nL 337.002813 236.402206 \n\" style=\"fill:none;stroke:#000000;stroke-linecap:square;stroke-linejoin:miter;stroke-width:0.8;\"/>\n   </g>\n   <g id=\"legend_3\">\n    <g id=\"patch_19\">\n     <path d=\"M 133.950312 296.172206 \nL 261.055313 296.172206 \nQ 264.255313 296.172206 264.255313 292.972206 \nL 264.255313 247.602206 \nQ 264.255313 244.402206 261.055313 244.402206 \nL 133.950312 244.402206 \nQ 130.750313 244.402206 130.750313 247.602206 \nL 130.750313 292.972206 \nQ 130.750313 296.172206 133.950312 296.172206 \nz\n\" style=\"fill:#ffffff;opacity:0.8;stroke:#cccccc;stroke-linejoin:miter;\"/>\n    </g>\n    <g id=\"line2d_45\"/>\n    <g id=\"line2d_46\">\n     <g>\n      <use style=\"stroke:#000000;\" x=\"153.150313\" xlink:href=\"#m0e1580faf1\" y=\"257.359706\"/>\n     </g>\n    </g>\n    <g id=\"text_40\">\n     <!-- Residuals -->\n     <g transform=\"translate(181.950312 262.959706)scale(0.16 -0.16)\">\n      <use xlink:href=\"#DejaVuSans-52\"/>\n      <use x=\"64.982422\" xlink:href=\"#DejaVuSans-65\"/>\n      <use x=\"126.505859\" xlink:href=\"#DejaVuSans-73\"/>\n      <use x=\"178.605469\" xlink:href=\"#DejaVuSans-69\"/>\n      <use x=\"206.388672\" xlink:href=\"#DejaVuSans-64\"/>\n      <use x=\"269.865234\" xlink:href=\"#DejaVuSans-75\"/>\n      <use x=\"333.244141\" xlink:href=\"#DejaVuSans-61\"/>\n      <use x=\"394.523438\" xlink:href=\"#DejaVuSans-6c\"/>\n      <use x=\"422.306641\" xlink:href=\"#DejaVuSans-73\"/>\n     </g>\n    </g>\n    <g id=\"line2d_47\">\n     <path d=\"M 137.150313 280.844706 \nL 169.150313 280.844706 \n\" style=\"fill:none;stroke:#008000;stroke-linecap:square;stroke-width:2;\"/>\n    </g>\n    <g id=\"line2d_48\"/>\n    <g id=\"text_41\">\n     <!-- $h_2(x_1)$ -->\n     <g transform=\"translate(181.950312 286.444706)scale(0.16 -0.16)\">\n      <use transform=\"translate(0 0.015625)\" xlink:href=\"#DejaVuSans-Oblique-68\"/>\n      <use transform=\"translate(63.378906 -16.390625)scale(0.7)\" xlink:href=\"#DejaVuSans-32\"/>\n      <use transform=\"translate(110.649414 0.015625)\" xlink:href=\"#DejaVuSans-28\"/>\n      <use transform=\"translate(149.663086 0.015625)\" xlink:href=\"#DejaVuSans-Oblique-78\"/>\n      <use transform=\"translate(208.842773 -16.390625)scale(0.7)\" xlink:href=\"#DejaVuSans-31\"/>\n      <use transform=\"translate(256.113281 0.015625)\" xlink:href=\"#DejaVuSans-29\"/>\n     </g>\n    </g>\n   </g>\n  </g>\n  <g id=\"axes_4\">\n   <g id=\"patch_20\">\n    <path d=\"M 392.802812 412.272794 \nL 671.802812 412.272794 \nL 671.802812 236.402206 \nL 392.802812 236.402206 \nz\n\" style=\"fill:#ffffff;\"/>\n   </g>\n   <g id=\"matplotlib.axis_7\">\n    <g id=\"xtick_16\">\n     <g id=\"line2d_49\">\n      <g>\n       <use style=\"stroke:#000000;stroke-width:0.8;\" x=\"420.702812\" xlink:href=\"#m198dce29f0\" y=\"412.272794\"/>\n      </g>\n     </g>\n     <g id=\"text_42\">\n      <!-- −0.4 -->\n      <g transform=\"translate(408.561406 426.871232)scale(0.1 -0.1)\">\n       <use xlink:href=\"#DejaVuSans-2212\"/>\n       <use x=\"83.789062\" xlink:href=\"#DejaVuSans-30\"/>\n       <use x=\"147.412109\" xlink:href=\"#DejaVuSans-2e\"/>\n       <use x=\"179.199219\" xlink:href=\"#DejaVuSans-34\"/>\n      </g>\n     </g>\n    </g>\n    <g id=\"xtick_17\">\n     <g id=\"line2d_50\">\n      <g>\n       <use style=\"stroke:#000000;stroke-width:0.8;\" x=\"476.502812\" xlink:href=\"#m198dce29f0\" y=\"412.272794\"/>\n      </g>\n     </g>\n     <g id=\"text_43\">\n      <!-- −0.2 -->\n      <g transform=\"translate(464.361406 426.871232)scale(0.1 -0.1)\">\n       <use xlink:href=\"#DejaVuSans-2212\"/>\n       <use x=\"83.789062\" xlink:href=\"#DejaVuSans-30\"/>\n       <use x=\"147.412109\" xlink:href=\"#DejaVuSans-2e\"/>\n       <use x=\"179.199219\" xlink:href=\"#DejaVuSans-32\"/>\n      </g>\n     </g>\n    </g>\n    <g id=\"xtick_18\">\n     <g id=\"line2d_51\">\n      <g>\n       <use style=\"stroke:#000000;stroke-width:0.8;\" x=\"532.302812\" xlink:href=\"#m198dce29f0\" y=\"412.272794\"/>\n      </g>\n     </g>\n     <g id=\"text_44\">\n      <!-- 0.0 -->\n      <g transform=\"translate(524.35125 426.871232)scale(0.1 -0.1)\">\n       <use xlink:href=\"#DejaVuSans-30\"/>\n       <use x=\"63.623047\" xlink:href=\"#DejaVuSans-2e\"/>\n       <use x=\"95.410156\" xlink:href=\"#DejaVuSans-30\"/>\n      </g>\n     </g>\n    </g>\n    <g id=\"xtick_19\">\n     <g id=\"line2d_52\">\n      <g>\n       <use style=\"stroke:#000000;stroke-width:0.8;\" x=\"588.102812\" xlink:href=\"#m198dce29f0\" y=\"412.272794\"/>\n      </g>\n     </g>\n     <g id=\"text_45\">\n      <!-- 0.2 -->\n      <g transform=\"translate(580.15125 426.871232)scale(0.1 -0.1)\">\n       <use xlink:href=\"#DejaVuSans-30\"/>\n       <use x=\"63.623047\" xlink:href=\"#DejaVuSans-2e\"/>\n       <use x=\"95.410156\" xlink:href=\"#DejaVuSans-32\"/>\n      </g>\n     </g>\n    </g>\n    <g id=\"xtick_20\">\n     <g id=\"line2d_53\">\n      <g>\n       <use style=\"stroke:#000000;stroke-width:0.8;\" x=\"643.902812\" xlink:href=\"#m198dce29f0\" y=\"412.272794\"/>\n      </g>\n     </g>\n     <g id=\"text_46\">\n      <!-- 0.4 -->\n      <g transform=\"translate(635.95125 426.871232)scale(0.1 -0.1)\">\n       <use xlink:href=\"#DejaVuSans-30\"/>\n       <use x=\"63.623047\" xlink:href=\"#DejaVuSans-2e\"/>\n       <use x=\"95.410156\" xlink:href=\"#DejaVuSans-34\"/>\n      </g>\n     </g>\n    </g>\n   </g>\n   <g id=\"matplotlib.axis_8\">\n    <g id=\"ytick_16\">\n     <g id=\"line2d_54\">\n      <g>\n       <use style=\"stroke:#000000;stroke-width:0.8;\" x=\"392.802812\" xlink:href=\"#m3f6da60ab7\" y=\"392.731618\"/>\n      </g>\n     </g>\n     <g id=\"text_47\">\n      <!-- 0.0 -->\n      <g transform=\"translate(369.899687 396.530836)scale(0.1 -0.1)\">\n       <use xlink:href=\"#DejaVuSans-30\"/>\n       <use x=\"63.623047\" xlink:href=\"#DejaVuSans-2e\"/>\n       <use x=\"95.410156\" xlink:href=\"#DejaVuSans-30\"/>\n      </g>\n     </g>\n    </g>\n    <g id=\"ytick_17\">\n     <g id=\"line2d_55\">\n      <g>\n       <use style=\"stroke:#000000;stroke-width:0.8;\" x=\"392.802812\" xlink:href=\"#m3f6da60ab7\" y=\"353.649265\"/>\n      </g>\n     </g>\n     <g id=\"text_48\">\n      <!-- 0.2 -->\n      <g transform=\"translate(369.899687 357.448483)scale(0.1 -0.1)\">\n       <use xlink:href=\"#DejaVuSans-30\"/>\n       <use x=\"63.623047\" xlink:href=\"#DejaVuSans-2e\"/>\n       <use x=\"95.410156\" xlink:href=\"#DejaVuSans-32\"/>\n      </g>\n     </g>\n    </g>\n    <g id=\"ytick_18\">\n     <g id=\"line2d_56\">\n      <g>\n       <use style=\"stroke:#000000;stroke-width:0.8;\" x=\"392.802812\" xlink:href=\"#m3f6da60ab7\" y=\"314.566912\"/>\n      </g>\n     </g>\n     <g id=\"text_49\">\n      <!-- 0.4 -->\n      <g transform=\"translate(369.899687 318.366131)scale(0.1 -0.1)\">\n       <use xlink:href=\"#DejaVuSans-30\"/>\n       <use x=\"63.623047\" xlink:href=\"#DejaVuSans-2e\"/>\n       <use x=\"95.410156\" xlink:href=\"#DejaVuSans-34\"/>\n      </g>\n     </g>\n    </g>\n    <g id=\"ytick_19\">\n     <g id=\"line2d_57\">\n      <g>\n       <use style=\"stroke:#000000;stroke-width:0.8;\" x=\"392.802812\" xlink:href=\"#m3f6da60ab7\" y=\"275.484559\"/>\n      </g>\n     </g>\n     <g id=\"text_50\">\n      <!-- 0.6 -->\n      <g transform=\"translate(369.899687 279.283778)scale(0.1 -0.1)\">\n       <use xlink:href=\"#DejaVuSans-30\"/>\n       <use x=\"63.623047\" xlink:href=\"#DejaVuSans-2e\"/>\n       <use x=\"95.410156\" xlink:href=\"#DejaVuSans-36\"/>\n      </g>\n     </g>\n    </g>\n    <g id=\"ytick_20\">\n     <g id=\"line2d_58\">\n      <g>\n       <use style=\"stroke:#000000;stroke-width:0.8;\" x=\"392.802812\" xlink:href=\"#m3f6da60ab7\" y=\"236.402206\"/>\n      </g>\n     </g>\n     <g id=\"text_51\">\n      <!-- 0.8 -->\n      <g transform=\"translate(369.899687 240.201425)scale(0.1 -0.1)\">\n       <use xlink:href=\"#DejaVuSans-30\"/>\n       <use x=\"63.623047\" xlink:href=\"#DejaVuSans-2e\"/>\n       <use x=\"95.410156\" xlink:href=\"#DejaVuSans-38\"/>\n      </g>\n     </g>\n    </g>\n    <g id=\"text_52\">\n     <!-- $y$ -->\n     <g transform=\"translate(361.099687 320.9775)scale(0.16 -0.16)\">\n      <use transform=\"translate(0 0.3125)\" xlink:href=\"#DejaVuSans-Oblique-79\"/>\n     </g>\n    </g>\n   </g>\n   <g id=\"line2d_59\">\n    <g clip-path=\"url(#p65ca765d29)\">\n     <use style=\"fill:#0000ff;stroke:#0000ff;\" x=\"497.299506\" xlink:href=\"#m99b3cd3e12\" y=\"382.653666\"/>\n     <use style=\"fill:#0000ff;stroke:#0000ff;\" x=\"658.052104\" xlink:href=\"#m99b3cd3e12\" y=\"276.563273\"/>\n     <use style=\"fill:#0000ff;stroke:#0000ff;\" x=\"597.029122\" xlink:href=\"#m99b3cd3e12\" y=\"360.28318\"/>\n     <use style=\"fill:#0000ff;stroke:#0000ff;\" x=\"559.82853\" xlink:href=\"#m99b3cd3e12\" y=\"406.445216\"/>\n     <use style=\"fill:#0000ff;stroke:#0000ff;\" x=\"436.332013\" xlink:href=\"#m99b3cd3e12\" y=\"325.512719\"/>\n     <use style=\"fill:#0000ff;stroke:#0000ff;\" x=\"436.325284\" xlink:href=\"#m99b3cd3e12\" y=\"319.867468\"/>\n     <use style=\"fill:#0000ff;stroke:#0000ff;\" x=\"409.00814\" xlink:href=\"#m99b3cd3e12\" y=\"263.805778\"/>\n     <use style=\"fill:#0000ff;stroke:#0000ff;\" x=\"634.465957\" xlink:href=\"#m99b3cd3e12\" y=\"319.190081\"/>\n     <use style=\"fill:#0000ff;stroke:#0000ff;\" x=\"560.513901\" xlink:href=\"#m99b3cd3e12\" y=\"394.637262\"/>\n     <use style=\"fill:#0000ff;stroke:#0000ff;\" x=\"590.355062\" xlink:href=\"#m99b3cd3e12\" y=\"372.253492\"/>\n     <use style=\"fill:#0000ff;stroke:#0000ff;\" x=\"398.545886\" xlink:href=\"#m99b3cd3e12\" y=\"249.047734\"/>\n     <use style=\"fill:#0000ff;stroke:#0000ff;\" x=\"663.407661\" xlink:href=\"#m99b3cd3e12\" y=\"260.069822\"/>\n     <use style=\"fill:#0000ff;stroke:#0000ff;\" x=\"625.054309\" xlink:href=\"#m99b3cd3e12\" y=\"333.11807\"/>\n     <use style=\"fill:#0000ff;stroke:#0000ff;\" x=\"452.045424\" xlink:href=\"#m99b3cd3e12\" y=\"339.206433\"/>\n     <use style=\"fill:#0000ff;stroke:#0000ff;\" x=\"443.531978\" xlink:href=\"#m99b3cd3e12\" y=\"332.435377\"/>\n     <use style=\"fill:#0000ff;stroke:#0000ff;\" x=\"443.972671\" xlink:href=\"#m99b3cd3e12\" y=\"324.507437\"/>\n     <use style=\"fill:#0000ff;stroke:#0000ff;\" x=\"477.686398\" xlink:href=\"#m99b3cd3e12\" y=\"377.125908\"/>\n     <use style=\"fill:#0000ff;stroke:#0000ff;\" x=\"539.209857\" xlink:href=\"#m99b3cd3e12\" y=\"395.573777\"/>\n     <use style=\"fill:#0000ff;stroke:#0000ff;\" x=\"513.315473\" xlink:href=\"#m99b3cd3e12\" y=\"393.847608\"/>\n     <use style=\"fill:#0000ff;stroke:#0000ff;\" x=\"474.055743\" xlink:href=\"#m99b3cd3e12\" y=\"381.479795\"/>\n     <use style=\"fill:#0000ff;stroke:#0000ff;\" x=\"563.50977\" xlink:href=\"#m99b3cd3e12\" y=\"382.503918\"/>\n     <use style=\"fill:#0000ff;stroke:#0000ff;\" x=\"431.7216\" xlink:href=\"#m99b3cd3e12\" y=\"313.991074\"/>\n     <use style=\"fill:#0000ff;stroke:#0000ff;\" x=\"474.311169\" xlink:href=\"#m99b3cd3e12\" y=\"367.354036\"/>\n     <use style=\"fill:#0000ff;stroke:#0000ff;\" x=\"495.017767\" xlink:href=\"#m99b3cd3e12\" y=\"384.554004\"/>\n     <use style=\"fill:#0000ff;stroke:#0000ff;\" x=\"520.046338\" xlink:href=\"#m99b3cd3e12\" y=\"405.429278\"/>\n     <use style=\"fill:#0000ff;stroke:#0000ff;\" x=\"611.866906\" xlink:href=\"#m99b3cd3e12\" y=\"349.165792\"/>\n     <use style=\"fill:#0000ff;stroke:#0000ff;\" x=\"448.511798\" xlink:href=\"#m99b3cd3e12\" y=\"343.204157\"/>\n     <use style=\"fill:#0000ff;stroke:#0000ff;\" x=\"536.274221\" xlink:href=\"#m99b3cd3e12\" y=\"400.451556\"/>\n     <use style=\"fill:#0000ff;stroke:#0000ff;\" x=\"558.086477\" xlink:href=\"#m99b3cd3e12\" y=\"389.300759\"/>\n     <use style=\"fill:#0000ff;stroke:#0000ff;\" x=\"405.762478\" xlink:href=\"#m99b3cd3e12\" y=\"268.190966\"/>\n     <use style=\"fill:#0000ff;stroke:#0000ff;\" x=\"562.307826\" xlink:href=\"#m99b3cd3e12\" y=\"367.522136\"/>\n     <use style=\"fill:#0000ff;stroke:#0000ff;\" x=\"440.379043\" xlink:href=\"#m99b3cd3e12\" y=\"327.387497\"/>\n     <use style=\"fill:#0000ff;stroke:#0000ff;\" x=\"410.952207\" xlink:href=\"#m99b3cd3e12\" y=\"279.311137\"/>\n     <use style=\"fill:#0000ff;stroke:#0000ff;\" x=\"657.541877\" xlink:href=\"#m99b3cd3e12\" y=\"275.333627\"/>\n     <use style=\"fill:#0000ff;stroke:#0000ff;\" x=\"662.21415\" xlink:href=\"#m99b3cd3e12\" y=\"284.375597\"/>\n     <use style=\"fill:#0000ff;stroke:#0000ff;\" x=\"618.345673\" xlink:href=\"#m99b3cd3e12\" y=\"337.234466\"/>\n     <use style=\"fill:#0000ff;stroke:#0000ff;\" x=\"477.790054\" xlink:href=\"#m99b3cd3e12\" y=\"369.763144\"/>\n     <use style=\"fill:#0000ff;stroke:#0000ff;\" x=\"420.053332\" xlink:href=\"#m99b3cd3e12\" y=\"273.771718\"/>\n     <use style=\"fill:#0000ff;stroke:#0000ff;\" x=\"583.703827\" xlink:href=\"#m99b3cd3e12\" y=\"374.713212\"/>\n     <use style=\"fill:#0000ff;stroke:#0000ff;\" x=\"515.605358\" xlink:href=\"#m99b3cd3e12\" y=\"387.68559\"/>\n     <use style=\"fill:#0000ff;stroke:#0000ff;\" x=\"426.85148\" xlink:href=\"#m99b3cd3e12\" y=\"309.324073\"/>\n     <use style=\"fill:#0000ff;stroke:#0000ff;\" x=\"530.95717\" xlink:href=\"#m99b3cd3e12\" y=\"404.136652\"/>\n     <use style=\"fill:#0000ff;stroke:#0000ff;\" x=\"402.39721\" xlink:href=\"#m99b3cd3e12\" y=\"254.473243\"/>\n     <use style=\"fill:#0000ff;stroke:#0000ff;\" x=\"646.503205\" xlink:href=\"#m99b3cd3e12\" y=\"287.165057\"/>\n     <use style=\"fill:#0000ff;stroke:#0000ff;\" x=\"465.002427\" xlink:href=\"#m99b3cd3e12\" y=\"350.89144\"/>\n     <use style=\"fill:#0000ff;stroke:#0000ff;\" x=\"577.64653\" xlink:href=\"#m99b3cd3e12\" y=\"386.132346\"/>\n     <use style=\"fill:#0000ff;stroke:#0000ff;\" x=\"479.770203\" xlink:href=\"#m99b3cd3e12\" y=\"358.241857\"/>\n     <use style=\"fill:#0000ff;stroke:#0000ff;\" x=\"537.90179\" xlink:href=\"#m99b3cd3e12\" y=\"406.192435\"/>\n     <use style=\"fill:#0000ff;stroke:#0000ff;\" x=\"545.33498\" xlink:href=\"#m99b3cd3e12\" y=\"385.718601\"/>\n     <use style=\"fill:#0000ff;stroke:#0000ff;\" x=\"444.377206\" xlink:href=\"#m99b3cd3e12\" y=\"313.106615\"/>\n     <use style=\"fill:#0000ff;stroke:#0000ff;\" x=\"663.316924\" xlink:href=\"#m99b3cd3e12\" y=\"273.139158\"/>\n     <use style=\"fill:#0000ff;stroke:#0000ff;\" x=\"609.06487\" xlink:href=\"#m99b3cd3e12\" y=\"353.887799\"/>\n     <use style=\"fill:#0000ff;stroke:#0000ff;\" x=\"654.923017\" xlink:href=\"#m99b3cd3e12\" y=\"278.521155\"/>\n     <use style=\"fill:#0000ff;stroke:#0000ff;\" x=\"642.459643\" xlink:href=\"#m99b3cd3e12\" y=\"306.26345\"/>\n     <use style=\"fill:#0000ff;stroke:#0000ff;\" x=\"559.616907\" xlink:href=\"#m99b3cd3e12\" y=\"402.263795\"/>\n     <use style=\"fill:#0000ff;stroke:#0000ff;\" x=\"650.005724\" xlink:href=\"#m99b3cd3e12\" y=\"287.724808\"/>\n     <use style=\"fill:#0000ff;stroke:#0000ff;\" x=\"417.492221\" xlink:href=\"#m99b3cd3e12\" y=\"303.838791\"/>\n     <use style=\"fill:#0000ff;stroke:#0000ff;\" x=\"447.482031\" xlink:href=\"#m99b3cd3e12\" y=\"333.920712\"/>\n     <use style=\"fill:#0000ff;stroke:#0000ff;\" x=\"405.421226\" xlink:href=\"#m99b3cd3e12\" y=\"280.470794\"/>\n     <use style=\"fill:#0000ff;stroke:#0000ff;\" x=\"483.569975\" xlink:href=\"#m99b3cd3e12\" y=\"359.702105\"/>\n     <use style=\"fill:#0000ff;stroke:#0000ff;\" x=\"501.243776\" xlink:href=\"#m99b3cd3e12\" y=\"393.119398\"/>\n     <use style=\"fill:#0000ff;stroke:#0000ff;\" x=\"468.509192\" xlink:href=\"#m99b3cd3e12\" y=\"365.229225\"/>\n     <use style=\"fill:#0000ff;stroke:#0000ff;\" x=\"624.020578\" xlink:href=\"#m99b3cd3e12\" y=\"321.429595\"/>\n     <use style=\"fill:#0000ff;stroke:#0000ff;\" x=\"492.336991\" xlink:href=\"#m99b3cd3e12\" y=\"392.728567\"/>\n     <use style=\"fill:#0000ff;stroke:#0000ff;\" x=\"471.183541\" xlink:href=\"#m99b3cd3e12\" y=\"362.375951\"/>\n     <use style=\"fill:#0000ff;stroke:#0000ff;\" x=\"544.21502\" xlink:href=\"#m99b3cd3e12\" y=\"378.891383\"/>\n     <use style=\"fill:#0000ff;stroke:#0000ff;\" x=\"432.120671\" xlink:href=\"#m99b3cd3e12\" y=\"332.851185\"/>\n     <use style=\"fill:#0000ff;stroke:#0000ff;\" x=\"616.61577\" xlink:href=\"#m99b3cd3e12\" y=\"337.390862\"/>\n     <use style=\"fill:#0000ff;stroke:#0000ff;\" x=\"413.602442\" xlink:href=\"#m99b3cd3e12\" y=\"284.079627\"/>\n     <use style=\"fill:#0000ff;stroke:#0000ff;\" x=\"668.144268\" xlink:href=\"#m99b3cd3e12\" y=\"246.120461\"/>\n     <use style=\"fill:#0000ff;stroke:#0000ff;\" x=\"608.259103\" xlink:href=\"#m99b3cd3e12\" y=\"361.367227\"/>\n     <use style=\"fill:#0000ff;stroke:#0000ff;\" x=\"448.244488\" xlink:href=\"#m99b3cd3e12\" y=\"352.419364\"/>\n     <use style=\"fill:#0000ff;stroke:#0000ff;\" x=\"394.343483\" xlink:href=\"#m99b3cd3e12\" y=\"244.292501\"/>\n     <use style=\"fill:#0000ff;stroke:#0000ff;\" x=\"620.316551\" xlink:href=\"#m99b3cd3e12\" y=\"331.490162\"/>\n     <use style=\"fill:#0000ff;stroke:#0000ff;\" x=\"590.016011\" xlink:href=\"#m99b3cd3e12\" y=\"365.19917\"/>\n     <use style=\"fill:#0000ff;stroke:#0000ff;\" x=\"596.195812\" xlink:href=\"#m99b3cd3e12\" y=\"358.601925\"/>\n     <use style=\"fill:#0000ff;stroke:#0000ff;\" x=\"607.987239\" xlink:href=\"#m99b3cd3e12\" y=\"356.23621\"/>\n     <use style=\"fill:#0000ff;stroke:#0000ff;\" x=\"413.46127\" xlink:href=\"#m99b3cd3e12\" y=\"284.097027\"/>\n     <use style=\"fill:#0000ff;stroke:#0000ff;\" x=\"492.814751\" xlink:href=\"#m99b3cd3e12\" y=\"378.124691\"/>\n     <use style=\"fill:#0000ff;stroke:#0000ff;\" x=\"425.13028\" xlink:href=\"#m99b3cd3e12\" y=\"313.208376\"/>\n     <use style=\"fill:#0000ff;stroke:#0000ff;\" x=\"633.608668\" xlink:href=\"#m99b3cd3e12\" y=\"297.21024\"/>\n     <use style=\"fill:#0000ff;stroke:#0000ff;\" x=\"566.70299\" xlink:href=\"#m99b3cd3e12\" y=\"379.189791\"/>\n     <use style=\"fill:#0000ff;stroke:#0000ff;\" x=\"485.123361\" xlink:href=\"#m99b3cd3e12\" y=\"387.607675\"/>\n     <use style=\"fill:#0000ff;stroke:#0000ff;\" x=\"410.535592\" xlink:href=\"#m99b3cd3e12\" y=\"274.649834\"/>\n     <use style=\"fill:#0000ff;stroke:#0000ff;\" x=\"479.56688\" xlink:href=\"#m99b3cd3e12\" y=\"381.310002\"/>\n     <use style=\"fill:#0000ff;stroke:#0000ff;\" x=\"483.528959\" xlink:href=\"#m99b3cd3e12\" y=\"367.125477\"/>\n     <use style=\"fill:#0000ff;stroke:#0000ff;\" x=\"596.362936\" xlink:href=\"#m99b3cd3e12\" y=\"350.505721\"/>\n     <use style=\"fill:#0000ff;stroke:#0000ff;\" x=\"570.681347\" xlink:href=\"#m99b3cd3e12\" y=\"389.657388\"/>\n     <use style=\"fill:#0000ff;stroke:#0000ff;\" x=\"640.335168\" xlink:href=\"#m99b3cd3e12\" y=\"295.422435\"/>\n     <use style=\"fill:#0000ff;stroke:#0000ff;\" x=\"524.550777\" xlink:href=\"#m99b3cd3e12\" y=\"388.245925\"/>\n     <use style=\"fill:#0000ff;stroke:#0000ff;\" x=\"426.169607\" xlink:href=\"#m99b3cd3e12\" y=\"299.866354\"/>\n     <use style=\"fill:#0000ff;stroke:#0000ff;\" x=\"591.798108\" xlink:href=\"#m99b3cd3e12\" y=\"347.540758\"/>\n     <use style=\"fill:#0000ff;stroke:#0000ff;\" x=\"605.061841\" xlink:href=\"#m99b3cd3e12\" y=\"355.260021\"/>\n     <use style=\"fill:#0000ff;stroke:#0000ff;\" x=\"549.399151\" xlink:href=\"#m99b3cd3e12\" y=\"397.894811\"/>\n     <use style=\"fill:#0000ff;stroke:#0000ff;\" x=\"607.902656\" xlink:href=\"#m99b3cd3e12\" y=\"358.379418\"/>\n     <use style=\"fill:#0000ff;stroke:#0000ff;\" x=\"530.571784\" xlink:href=\"#m99b3cd3e12\" y=\"400.679997\"/>\n     <use style=\"fill:#0000ff;stroke:#0000ff;\" x=\"538.645272\" xlink:href=\"#m99b3cd3e12\" y=\"393.181991\"/>\n     <use style=\"fill:#0000ff;stroke:#0000ff;\" x=\"512.086757\" xlink:href=\"#m99b3cd3e12\" y=\"386.320449\"/>\n     <use style=\"fill:#0000ff;stroke:#0000ff;\" x=\"399.894749\" xlink:href=\"#m99b3cd3e12\" y=\"257.992166\"/>\n     <use style=\"fill:#0000ff;stroke:#0000ff;\" x=\"422.904521\" xlink:href=\"#m99b3cd3e12\" y=\"294.516383\"/>\n    </g>\n   </g>\n   <g id=\"line2d_60\">\n    <path clip-path=\"url(#p65ca765d29)\" d=\"M 392.802812 263.581573 \nL 411.812833 263.581573 \nL 412.371951 297.41038 \nL 431.381971 297.41038 \nL 431.941089 337.351113 \nL 472.197602 337.351113 \nL 472.75672 386.250163 \nL 586.816841 386.250163 \nL 587.375959 360.785878 \nL 622.041289 360.785878 \nL 622.600408 281.643657 \nL 671.802812 281.643657 \nL 671.802812 281.643657 \n\" style=\"fill:none;stroke:#ff0000;stroke-linecap:square;stroke-width:2;\"/>\n   </g>\n   <g id=\"patch_21\">\n    <path d=\"M 392.802812 412.272794 \nL 392.802812 236.402206 \n\" style=\"fill:none;stroke:#000000;stroke-linecap:square;stroke-linejoin:miter;stroke-width:0.8;\"/>\n   </g>\n   <g id=\"patch_22\">\n    <path d=\"M 671.802812 412.272794 \nL 671.802812 236.402206 \n\" style=\"fill:none;stroke:#000000;stroke-linecap:square;stroke-linejoin:miter;stroke-width:0.8;\"/>\n   </g>\n   <g id=\"patch_23\">\n    <path d=\"M 392.802812 412.272794 \nL 671.802812 412.272794 \n\" style=\"fill:none;stroke:#000000;stroke-linecap:square;stroke-linejoin:miter;stroke-width:0.8;\"/>\n   </g>\n   <g id=\"patch_24\">\n    <path d=\"M 392.802812 236.402206 \nL 671.802812 236.402206 \n\" style=\"fill:none;stroke:#000000;stroke-linecap:square;stroke-linejoin:miter;stroke-width:0.8;\"/>\n   </g>\n   <g id=\"legend_4\">\n    <g id=\"patch_25\">\n     <path d=\"M 419.982812 272.687206 \nL 644.622812 272.687206 \nQ 647.822812 272.687206 647.822812 269.487206 \nL 647.822812 247.602206 \nQ 647.822812 244.402206 644.622812 244.402206 \nL 419.982812 244.402206 \nQ 416.782812 244.402206 416.782812 247.602206 \nL 416.782812 269.487206 \nQ 416.782812 272.687206 419.982812 272.687206 \nz\n\" style=\"fill:#ffffff;opacity:0.8;stroke:#cccccc;stroke-linejoin:miter;\"/>\n    </g>\n    <g id=\"line2d_61\">\n     <path d=\"M 423.182812 257.359706 \nL 455.182812 257.359706 \n\" style=\"fill:none;stroke:#ff0000;stroke-linecap:square;stroke-width:2;\"/>\n    </g>\n    <g id=\"line2d_62\"/>\n    <g id=\"text_53\">\n     <!-- $h(x_1) = h_1(x_1) + h_2(x_1)$ -->\n     <g transform=\"translate(467.982812 262.959706)scale(0.16 -0.16)\">\n      <defs>\n       <path d=\"M 2944 4013 \nL 2944 2272 \nL 4684 2272 \nL 4684 1741 \nL 2944 1741 \nL 2944 0 \nL 2419 0 \nL 2419 1741 \nL 678 1741 \nL 678 2272 \nL 2419 2272 \nL 2419 4013 \nL 2944 4013 \nz\n\" id=\"DejaVuSans-2b\" transform=\"scale(0.015625)\"/>\n      </defs>\n      <use transform=\"translate(0 0.015625)\" xlink:href=\"#DejaVuSans-Oblique-68\"/>\n      <use transform=\"translate(63.378906 0.015625)\" xlink:href=\"#DejaVuSans-28\"/>\n      <use transform=\"translate(102.392578 0.015625)\" xlink:href=\"#DejaVuSans-Oblique-78\"/>\n      <use transform=\"translate(161.572266 -16.390625)scale(0.7)\" xlink:href=\"#DejaVuSans-31\"/>\n      <use transform=\"translate(208.842773 0.015625)\" xlink:href=\"#DejaVuSans-29\"/>\n      <use transform=\"translate(267.338867 0.015625)\" xlink:href=\"#DejaVuSans-3d\"/>\n      <use transform=\"translate(370.610352 0.015625)\" xlink:href=\"#DejaVuSans-Oblique-68\"/>\n      <use transform=\"translate(433.989258 -16.390625)scale(0.7)\" xlink:href=\"#DejaVuSans-31\"/>\n      <use transform=\"translate(481.259766 0.015625)\" xlink:href=\"#DejaVuSans-28\"/>\n      <use transform=\"translate(520.273438 0.015625)\" xlink:href=\"#DejaVuSans-Oblique-78\"/>\n      <use transform=\"translate(579.453125 -16.390625)scale(0.7)\" xlink:href=\"#DejaVuSans-31\"/>\n      <use transform=\"translate(626.723633 0.015625)\" xlink:href=\"#DejaVuSans-29\"/>\n      <use transform=\"translate(685.219727 0.015625)\" xlink:href=\"#DejaVuSans-2b\"/>\n      <use transform=\"translate(788.491211 0.015625)\" xlink:href=\"#DejaVuSans-Oblique-68\"/>\n      <use transform=\"translate(851.870117 -16.390625)scale(0.7)\" xlink:href=\"#DejaVuSans-32\"/>\n      <use transform=\"translate(899.140625 0.015625)\" xlink:href=\"#DejaVuSans-28\"/>\n      <use transform=\"translate(938.154297 0.015625)\" xlink:href=\"#DejaVuSans-Oblique-78\"/>\n      <use transform=\"translate(997.333984 -16.390625)scale(0.7)\" xlink:href=\"#DejaVuSans-31\"/>\n      <use transform=\"translate(1044.604492 0.015625)\" xlink:href=\"#DejaVuSans-29\"/>\n     </g>\n    </g>\n   </g>\n  </g>\n  <g id=\"axes_5\">\n   <g id=\"patch_26\">\n    <path d=\"M 58.002813 623.3175 \nL 337.002813 623.3175 \nL 337.002813 447.446912 \nL 58.002813 447.446912 \nz\n\" style=\"fill:#ffffff;\"/>\n   </g>\n   <g id=\"matplotlib.axis_9\">\n    <g id=\"xtick_21\">\n     <g id=\"line2d_63\">\n      <g>\n       <use style=\"stroke:#000000;stroke-width:0.8;\" x=\"85.902812\" xlink:href=\"#m198dce29f0\" y=\"623.3175\"/>\n      </g>\n     </g>\n     <g id=\"text_54\">\n      <!-- −0.4 -->\n      <g transform=\"translate(73.761406 637.915937)scale(0.1 -0.1)\">\n       <use xlink:href=\"#DejaVuSans-2212\"/>\n       <use x=\"83.789062\" xlink:href=\"#DejaVuSans-30\"/>\n       <use x=\"147.412109\" xlink:href=\"#DejaVuSans-2e\"/>\n       <use x=\"179.199219\" xlink:href=\"#DejaVuSans-34\"/>\n      </g>\n     </g>\n    </g>\n    <g id=\"xtick_22\">\n     <g id=\"line2d_64\">\n      <g>\n       <use style=\"stroke:#000000;stroke-width:0.8;\" x=\"141.702812\" xlink:href=\"#m198dce29f0\" y=\"623.3175\"/>\n      </g>\n     </g>\n     <g id=\"text_55\">\n      <!-- −0.2 -->\n      <g transform=\"translate(129.561406 637.915937)scale(0.1 -0.1)\">\n       <use xlink:href=\"#DejaVuSans-2212\"/>\n       <use x=\"83.789062\" xlink:href=\"#DejaVuSans-30\"/>\n       <use x=\"147.412109\" xlink:href=\"#DejaVuSans-2e\"/>\n       <use x=\"179.199219\" xlink:href=\"#DejaVuSans-32\"/>\n      </g>\n     </g>\n    </g>\n    <g id=\"xtick_23\">\n     <g id=\"line2d_65\">\n      <g>\n       <use style=\"stroke:#000000;stroke-width:0.8;\" x=\"197.502813\" xlink:href=\"#m198dce29f0\" y=\"623.3175\"/>\n      </g>\n     </g>\n     <g id=\"text_56\">\n      <!-- 0.0 -->\n      <g transform=\"translate(189.55125 637.915937)scale(0.1 -0.1)\">\n       <use xlink:href=\"#DejaVuSans-30\"/>\n       <use x=\"63.623047\" xlink:href=\"#DejaVuSans-2e\"/>\n       <use x=\"95.410156\" xlink:href=\"#DejaVuSans-30\"/>\n      </g>\n     </g>\n    </g>\n    <g id=\"xtick_24\">\n     <g id=\"line2d_66\">\n      <g>\n       <use style=\"stroke:#000000;stroke-width:0.8;\" x=\"253.302812\" xlink:href=\"#m198dce29f0\" y=\"623.3175\"/>\n      </g>\n     </g>\n     <g id=\"text_57\">\n      <!-- 0.2 -->\n      <g transform=\"translate(245.35125 637.915937)scale(0.1 -0.1)\">\n       <use xlink:href=\"#DejaVuSans-30\"/>\n       <use x=\"63.623047\" xlink:href=\"#DejaVuSans-2e\"/>\n       <use x=\"95.410156\" xlink:href=\"#DejaVuSans-32\"/>\n      </g>\n     </g>\n    </g>\n    <g id=\"xtick_25\">\n     <g id=\"line2d_67\">\n      <g>\n       <use style=\"stroke:#000000;stroke-width:0.8;\" x=\"309.102812\" xlink:href=\"#m198dce29f0\" y=\"623.3175\"/>\n      </g>\n     </g>\n     <g id=\"text_58\">\n      <!-- 0.4 -->\n      <g transform=\"translate(301.15125 637.915937)scale(0.1 -0.1)\">\n       <use xlink:href=\"#DejaVuSans-30\"/>\n       <use x=\"63.623047\" xlink:href=\"#DejaVuSans-2e\"/>\n       <use x=\"95.410156\" xlink:href=\"#DejaVuSans-34\"/>\n      </g>\n     </g>\n    </g>\n    <g id=\"text_59\">\n     <!-- $x_1$ -->\n     <g transform=\"translate(188.942813 656.153125)scale(0.16 -0.16)\">\n      <use transform=\"translate(0 0.3125)\" xlink:href=\"#DejaVuSans-Oblique-78\"/>\n      <use transform=\"translate(59.179688 -16.09375)scale(0.7)\" xlink:href=\"#DejaVuSans-31\"/>\n     </g>\n    </g>\n   </g>\n   <g id=\"matplotlib.axis_10\">\n    <g id=\"ytick_21\">\n     <g id=\"line2d_68\">\n      <g>\n       <use style=\"stroke:#000000;stroke-width:0.8;\" x=\"58.002813\" xlink:href=\"#m3f6da60ab7\" y=\"605.730441\"/>\n      </g>\n     </g>\n     <g id=\"text_60\">\n      <!-- −0.4 -->\n      <g transform=\"translate(26.72 609.52966)scale(0.1 -0.1)\">\n       <use xlink:href=\"#DejaVuSans-2212\"/>\n       <use x=\"83.789062\" xlink:href=\"#DejaVuSans-30\"/>\n       <use x=\"147.412109\" xlink:href=\"#DejaVuSans-2e\"/>\n       <use x=\"179.199219\" xlink:href=\"#DejaVuSans-34\"/>\n      </g>\n     </g>\n    </g>\n    <g id=\"ytick_22\">\n     <g id=\"line2d_69\">\n      <g>\n       <use style=\"stroke:#000000;stroke-width:0.8;\" x=\"58.002813\" xlink:href=\"#m3f6da60ab7\" y=\"570.556324\"/>\n      </g>\n     </g>\n     <g id=\"text_61\">\n      <!-- −0.2 -->\n      <g transform=\"translate(26.72 574.355542)scale(0.1 -0.1)\">\n       <use xlink:href=\"#DejaVuSans-2212\"/>\n       <use x=\"83.789062\" xlink:href=\"#DejaVuSans-30\"/>\n       <use x=\"147.412109\" xlink:href=\"#DejaVuSans-2e\"/>\n       <use x=\"179.199219\" xlink:href=\"#DejaVuSans-32\"/>\n      </g>\n     </g>\n    </g>\n    <g id=\"ytick_23\">\n     <g id=\"line2d_70\">\n      <g>\n       <use style=\"stroke:#000000;stroke-width:0.8;\" x=\"58.002813\" xlink:href=\"#m3f6da60ab7\" y=\"535.382206\"/>\n      </g>\n     </g>\n     <g id=\"text_62\">\n      <!-- 0.0 -->\n      <g transform=\"translate(35.099688 539.181425)scale(0.1 -0.1)\">\n       <use xlink:href=\"#DejaVuSans-30\"/>\n       <use x=\"63.623047\" xlink:href=\"#DejaVuSans-2e\"/>\n       <use x=\"95.410156\" xlink:href=\"#DejaVuSans-30\"/>\n      </g>\n     </g>\n    </g>\n    <g id=\"ytick_24\">\n     <g id=\"line2d_71\">\n      <g>\n       <use style=\"stroke:#000000;stroke-width:0.8;\" x=\"58.002813\" xlink:href=\"#m3f6da60ab7\" y=\"500.208088\"/>\n      </g>\n     </g>\n     <g id=\"text_63\">\n      <!-- 0.2 -->\n      <g transform=\"translate(35.099688 504.007307)scale(0.1 -0.1)\">\n       <use xlink:href=\"#DejaVuSans-30\"/>\n       <use x=\"63.623047\" xlink:href=\"#DejaVuSans-2e\"/>\n       <use x=\"95.410156\" xlink:href=\"#DejaVuSans-32\"/>\n      </g>\n     </g>\n    </g>\n    <g id=\"ytick_25\">\n     <g id=\"line2d_72\">\n      <g>\n       <use style=\"stroke:#000000;stroke-width:0.8;\" x=\"58.002813\" xlink:href=\"#m3f6da60ab7\" y=\"465.033971\"/>\n      </g>\n     </g>\n     <g id=\"text_64\">\n      <!-- 0.4 -->\n      <g transform=\"translate(35.099688 468.833189)scale(0.1 -0.1)\">\n       <use xlink:href=\"#DejaVuSans-30\"/>\n       <use x=\"63.623047\" xlink:href=\"#DejaVuSans-2e\"/>\n       <use x=\"95.410156\" xlink:href=\"#DejaVuSans-34\"/>\n      </g>\n     </g>\n    </g>\n    <g id=\"text_65\">\n     <!-- $y - h_1(x_1) - h_2(x_1)$ -->\n     <g transform=\"translate(19.36 606.982206)rotate(-90)scale(0.16 -0.16)\">\n      <use transform=\"translate(0 0.015625)\" xlink:href=\"#DejaVuSans-Oblique-79\"/>\n      <use transform=\"translate(78.662109 0.015625)\" xlink:href=\"#DejaVuSans-2212\"/>\n      <use transform=\"translate(181.933594 0.015625)\" xlink:href=\"#DejaVuSans-Oblique-68\"/>\n      <use transform=\"translate(245.3125 -16.390625)scale(0.7)\" xlink:href=\"#DejaVuSans-31\"/>\n      <use transform=\"translate(292.583008 0.015625)\" xlink:href=\"#DejaVuSans-28\"/>\n      <use transform=\"translate(331.59668 0.015625)\" xlink:href=\"#DejaVuSans-Oblique-78\"/>\n      <use transform=\"translate(390.776367 -16.390625)scale(0.7)\" xlink:href=\"#DejaVuSans-31\"/>\n      <use transform=\"translate(438.046875 0.015625)\" xlink:href=\"#DejaVuSans-29\"/>\n      <use transform=\"translate(496.542969 0.015625)\" xlink:href=\"#DejaVuSans-2212\"/>\n      <use transform=\"translate(599.814453 0.015625)\" xlink:href=\"#DejaVuSans-Oblique-68\"/>\n      <use transform=\"translate(663.193359 -16.390625)scale(0.7)\" xlink:href=\"#DejaVuSans-32\"/>\n      <use transform=\"translate(710.463867 0.015625)\" xlink:href=\"#DejaVuSans-28\"/>\n      <use transform=\"translate(749.477539 0.015625)\" xlink:href=\"#DejaVuSans-Oblique-78\"/>\n      <use transform=\"translate(808.657227 -16.390625)scale(0.7)\" xlink:href=\"#DejaVuSans-31\"/>\n      <use transform=\"translate(855.927734 0.015625)\" xlink:href=\"#DejaVuSans-29\"/>\n     </g>\n    </g>\n   </g>\n   <g id=\"line2d_73\">\n    <g clip-path=\"url(#p1d6e0242f1)\">\n     <use style=\"stroke:#000000;\" x=\"162.499506\" xlink:href=\"#m0e1580faf1\" y=\"532.145359\"/>\n     <use style=\"stroke:#000000;\" x=\"323.252104\" xlink:href=\"#m0e1580faf1\" y=\"530.80986\"/>\n     <use style=\"stroke:#000000;\" x=\"262.229122\" xlink:href=\"#m0e1580faf1\" y=\"534.929778\"/>\n     <use style=\"stroke:#000000;\" x=\"225.02853\" xlink:href=\"#m0e1580faf1\" y=\"553.557753\"/>\n     <use style=\"stroke:#000000;\" x=\"101.532013\" xlink:href=\"#m0e1580faf1\" y=\"524.727652\"/>\n     <use style=\"stroke:#000000;\" x=\"101.525284\" xlink:href=\"#m0e1580faf1\" y=\"519.646925\"/>\n     <use style=\"stroke:#000000;\" x=\"74.20814\" xlink:href=\"#m0e1580faf1\" y=\"535.583991\"/>\n     <use style=\"stroke:#000000;\" x=\"299.665957\" xlink:href=\"#m0e1580faf1\" y=\"569.173987\"/>\n     <use style=\"stroke:#000000;\" x=\"225.713901\" xlink:href=\"#m0e1580faf1\" y=\"542.930595\"/>\n     <use style=\"stroke:#000000;\" x=\"255.555062\" xlink:href=\"#m0e1580faf1\" y=\"545.703059\"/>\n     <use style=\"stroke:#000000;\" x=\"63.745886\" xlink:href=\"#m0e1580faf1\" y=\"522.301751\"/>\n     <use style=\"stroke:#000000;\" x=\"328.607661\" xlink:href=\"#m0e1580faf1\" y=\"515.965754\"/>\n     <use style=\"stroke:#000000;\" x=\"290.254309\" xlink:href=\"#m0e1580faf1\" y=\"581.709178\"/>\n     <use style=\"stroke:#000000;\" x=\"117.245424\" xlink:href=\"#m0e1580faf1\" y=\"537.051994\"/>\n     <use style=\"stroke:#000000;\" x=\"108.731978\" xlink:href=\"#m0e1580faf1\" y=\"530.958043\"/>\n     <use style=\"stroke:#000000;\" x=\"109.172671\" xlink:href=\"#m0e1580faf1\" y=\"523.822898\"/>\n     <use style=\"stroke:#000000;\" x=\"142.886398\" xlink:href=\"#m0e1580faf1\" y=\"527.170376\"/>\n     <use style=\"stroke:#000000;\" x=\"204.409857\" xlink:href=\"#m0e1580faf1\" y=\"543.773458\"/>\n     <use style=\"stroke:#000000;\" x=\"178.515473\" xlink:href=\"#m0e1580faf1\" y=\"542.219906\"/>\n     <use style=\"stroke:#000000;\" x=\"139.255743\" xlink:href=\"#m0e1580faf1\" y=\"531.088874\"/>\n     <use style=\"stroke:#000000;\" x=\"228.70977\" xlink:href=\"#m0e1580faf1\" y=\"532.010585\"/>\n     <use style=\"stroke:#000000;\" x=\"96.9216\" xlink:href=\"#m0e1580faf1\" y=\"550.30483\"/>\n     <use style=\"stroke:#000000;\" x=\"139.511169\" xlink:href=\"#m0e1580faf1\" y=\"518.375691\"/>\n     <use style=\"stroke:#000000;\" x=\"160.217767\" xlink:href=\"#m0e1580faf1\" y=\"533.855662\"/>\n     <use style=\"stroke:#000000;\" x=\"185.246338\" xlink:href=\"#m0e1580faf1\" y=\"552.643409\"/>\n     <use style=\"stroke:#000000;\" x=\"277.066906\" xlink:href=\"#m0e1580faf1\" y=\"524.924128\"/>\n     <use style=\"stroke:#000000;\" x=\"113.711798\" xlink:href=\"#m0e1580faf1\" y=\"540.649946\"/>\n     <use style=\"stroke:#000000;\" x=\"201.474221\" xlink:href=\"#m0e1580faf1\" y=\"548.163459\"/>\n     <use style=\"stroke:#000000;\" x=\"223.286477\" xlink:href=\"#m0e1580faf1\" y=\"538.127742\"/>\n     <use style=\"stroke:#000000;\" x=\"70.962478\" xlink:href=\"#m0e1580faf1\" y=\"539.53066\"/>\n     <use style=\"stroke:#000000;\" x=\"227.507826\" xlink:href=\"#m0e1580faf1\" y=\"518.526981\"/>\n     <use style=\"stroke:#000000;\" x=\"105.579043\" xlink:href=\"#m0e1580faf1\" y=\"526.414951\"/>\n     <use style=\"stroke:#000000;\" x=\"76.152207\" xlink:href=\"#m0e1580faf1\" y=\"549.538814\"/>\n     <use style=\"stroke:#000000;\" x=\"322.741877\" xlink:href=\"#m0e1580faf1\" y=\"529.703178\"/>\n     <use style=\"stroke:#000000;\" x=\"327.41415\" xlink:href=\"#m0e1580faf1\" y=\"537.840952\"/>\n     <use style=\"stroke:#000000;\" x=\"283.545673\" xlink:href=\"#m0e1580faf1\" y=\"514.185934\"/>\n     <use style=\"stroke:#000000;\" x=\"142.990054\" xlink:href=\"#m0e1580faf1\" y=\"520.543888\"/>\n     <use style=\"stroke:#000000;\" x=\"85.253332\" xlink:href=\"#m0e1580faf1\" y=\"514.10741\"/>\n     <use style=\"stroke:#000000;\" x=\"248.903827\" xlink:href=\"#m0e1580faf1\" y=\"524.998949\"/>\n     <use style=\"stroke:#000000;\" x=\"180.805358\" xlink:href=\"#m0e1580faf1\" y=\"536.67409\"/>\n     <use style=\"stroke:#000000;\" x=\"92.05148\" xlink:href=\"#m0e1580faf1\" y=\"546.104529\"/>\n     <use style=\"stroke:#000000;\" x=\"196.15717\" xlink:href=\"#m0e1580faf1\" y=\"551.480046\"/>\n     <use style=\"stroke:#000000;\" x=\"67.59721\" xlink:href=\"#m0e1580faf1\" y=\"527.18471\"/>\n     <use style=\"stroke:#000000;\" x=\"311.703205\" xlink:href=\"#m0e1580faf1\" y=\"540.351466\"/>\n     <use style=\"stroke:#000000;\" x=\"130.202427\" xlink:href=\"#m0e1580faf1\" y=\"547.5685\"/>\n     <use style=\"stroke:#000000;\" x=\"242.84653\" xlink:href=\"#m0e1580faf1\" y=\"535.276171\"/>\n     <use style=\"stroke:#000000;\" x=\"144.970203\" xlink:href=\"#m0e1580faf1\" y=\"510.17473\"/>\n     <use style=\"stroke:#000000;\" x=\"203.10179\" xlink:href=\"#m0e1580faf1\" y=\"553.330251\"/>\n     <use style=\"stroke:#000000;\" x=\"210.53498\" xlink:href=\"#m0e1580faf1\" y=\"534.9038\"/>\n     <use style=\"stroke:#000000;\" x=\"109.577206\" xlink:href=\"#m0e1580faf1\" y=\"513.562157\"/>\n     <use style=\"stroke:#000000;\" x=\"328.516924\" xlink:href=\"#m0e1580faf1\" y=\"527.728157\"/>\n     <use style=\"stroke:#000000;\" x=\"274.26487\" xlink:href=\"#m0e1580faf1\" y=\"529.173934\"/>\n     <use style=\"stroke:#000000;\" x=\"320.123017\" xlink:href=\"#m0e1580faf1\" y=\"532.571954\"/>\n     <use style=\"stroke:#000000;\" x=\"307.659643\" xlink:href=\"#m0e1580faf1\" y=\"557.54002\"/>\n     <use style=\"stroke:#000000;\" x=\"224.816907\" xlink:href=\"#m0e1580faf1\" y=\"549.794474\"/>\n     <use style=\"stroke:#000000;\" x=\"315.205724\" xlink:href=\"#m0e1580faf1\" y=\"540.855242\"/>\n     <use style=\"stroke:#000000;\" x=\"82.692221\" xlink:href=\"#m0e1580faf1\" y=\"541.167775\"/>\n     <use style=\"stroke:#000000;\" x=\"112.682031\" xlink:href=\"#m0e1580faf1\" y=\"532.294845\"/>\n     <use style=\"stroke:#000000;\" x=\"70.621226\" xlink:href=\"#m0e1580faf1\" y=\"550.582505\"/>\n     <use style=\"stroke:#000000;\" x=\"148.769975\" xlink:href=\"#m0e1580faf1\" y=\"511.488953\"/>\n     <use style=\"stroke:#000000;\" x=\"166.443776\" xlink:href=\"#m0e1580faf1\" y=\"541.564517\"/>\n     <use style=\"stroke:#000000;\" x=\"133.709192\" xlink:href=\"#m0e1580faf1\" y=\"560.472507\"/>\n     <use style=\"stroke:#000000;\" x=\"289.220578\" xlink:href=\"#m0e1580faf1\" y=\"571.18955\"/>\n     <use style=\"stroke:#000000;\" x=\"157.536991\" xlink:href=\"#m0e1580faf1\" y=\"541.212769\"/>\n     <use style=\"stroke:#000000;\" x=\"136.383541\" xlink:href=\"#m0e1580faf1\" y=\"557.90456\"/>\n     <use style=\"stroke:#000000;\" x=\"209.41502\" xlink:href=\"#m0e1580faf1\" y=\"528.759304\"/>\n     <use style=\"stroke:#000000;\" x=\"97.320671\" xlink:href=\"#m0e1580faf1\" y=\"531.332271\"/>\n     <use style=\"stroke:#000000;\" x=\"281.81577\" xlink:href=\"#m0e1580faf1\" y=\"514.326691\"/>\n     <use style=\"stroke:#000000;\" x=\"78.802442\" xlink:href=\"#m0e1580faf1\" y=\"523.384528\"/>\n     <use style=\"stroke:#000000;\" x=\"333.344268\" xlink:href=\"#m0e1580faf1\" y=\"503.411329\"/>\n     <use style=\"stroke:#000000;\" x=\"273.459103\" xlink:href=\"#m0e1580faf1\" y=\"535.905419\"/>\n     <use style=\"stroke:#000000;\" x=\"113.444488\" xlink:href=\"#m0e1580faf1\" y=\"548.943632\"/>\n     <use style=\"stroke:#000000;\" x=\"59.543483\" xlink:href=\"#m0e1580faf1\" y=\"518.022042\"/>\n     <use style=\"stroke:#000000;\" x=\"285.516551\" xlink:href=\"#m0e1580faf1\" y=\"509.016061\"/>\n     <use style=\"stroke:#000000;\" x=\"255.216011\" xlink:href=\"#m0e1580faf1\" y=\"539.354168\"/>\n     <use style=\"stroke:#000000;\" x=\"261.395812\" xlink:href=\"#m0e1580faf1\" y=\"533.416648\"/>\n     <use style=\"stroke:#000000;\" x=\"273.187239\" xlink:href=\"#m0e1580faf1\" y=\"531.287505\"/>\n     <use style=\"stroke:#000000;\" x=\"78.66127\" xlink:href=\"#m0e1580faf1\" y=\"523.400188\"/>\n     <use style=\"stroke:#000000;\" x=\"158.014751\" xlink:href=\"#m0e1580faf1\" y=\"528.069281\"/>\n     <use style=\"stroke:#000000;\" x=\"90.33028\" xlink:href=\"#m0e1580faf1\" y=\"549.600402\"/>\n     <use style=\"stroke:#000000;\" x=\"298.808668\" xlink:href=\"#m0e1580faf1\" y=\"549.39213\"/>\n     <use style=\"stroke:#000000;\" x=\"231.90299\" xlink:href=\"#m0e1580faf1\" y=\"529.027871\"/>\n     <use style=\"stroke:#000000;\" x=\"150.323361\" xlink:href=\"#m0e1580faf1\" y=\"536.603967\"/>\n     <use style=\"stroke:#000000;\" x=\"75.735592\" xlink:href=\"#m0e1580faf1\" y=\"545.343641\"/>\n     <use style=\"stroke:#000000;\" x=\"144.76688\" xlink:href=\"#m0e1580faf1\" y=\"530.936061\"/>\n     <use style=\"stroke:#000000;\" x=\"148.728959\" xlink:href=\"#m0e1580faf1\" y=\"518.169988\"/>\n     <use style=\"stroke:#000000;\" x=\"261.562936\" xlink:href=\"#m0e1580faf1\" y=\"526.130064\"/>\n     <use style=\"stroke:#000000;\" x=\"235.881347\" xlink:href=\"#m0e1580faf1\" y=\"538.448709\"/>\n     <use style=\"stroke:#000000;\" x=\"305.535168\" xlink:href=\"#m0e1580faf1\" y=\"547.783106\"/>\n     <use style=\"stroke:#000000;\" x=\"189.750777\" xlink:href=\"#m0e1580faf1\" y=\"537.178392\"/>\n     <use style=\"stroke:#000000;\" x=\"91.369607\" xlink:href=\"#m0e1580faf1\" y=\"537.592582\"/>\n     <use style=\"stroke:#000000;\" x=\"256.998108\" xlink:href=\"#m0e1580faf1\" y=\"523.461598\"/>\n     <use style=\"stroke:#000000;\" x=\"270.261841\" xlink:href=\"#m0e1580faf1\" y=\"530.408934\"/>\n     <use style=\"stroke:#000000;\" x=\"214.599151\" xlink:href=\"#m0e1580faf1\" y=\"545.862389\"/>\n     <use style=\"stroke:#000000;\" x=\"273.102656\" xlink:href=\"#m0e1580faf1\" y=\"533.216392\"/>\n     <use style=\"stroke:#000000;\" x=\"195.771784\" xlink:href=\"#m0e1580faf1\" y=\"548.369056\"/>\n     <use style=\"stroke:#000000;\" x=\"203.845272\" xlink:href=\"#m0e1580faf1\" y=\"541.620851\"/>\n     <use style=\"stroke:#000000;\" x=\"177.286757\" xlink:href=\"#m0e1580faf1\" y=\"535.445463\"/>\n     <use style=\"stroke:#000000;\" x=\"65.094749\" xlink:href=\"#m0e1580faf1\" y=\"530.35174\"/>\n     <use style=\"stroke:#000000;\" x=\"88.104521\" xlink:href=\"#m0e1580faf1\" y=\"532.777608\"/>\n    </g>\n   </g>\n   <g id=\"line2d_74\">\n    <path clip-path=\"url(#p1d6e0242f1)\" d=\"M 58.002813 534.143467 \nL 287.241289 534.143467 \nL 287.800408 547.434522 \nL 328.056921 547.434522 \nL 328.616039 515.965754 \nL 330.852512 515.965754 \nL 331.41163 503.411329 \nL 337.002813 503.411329 \nL 337.002813 503.411329 \n\" style=\"fill:none;stroke:#008000;stroke-linecap:square;stroke-width:2;\"/>\n   </g>\n   <g id=\"patch_27\">\n    <path d=\"M 58.002813 623.3175 \nL 58.002813 447.446912 \n\" style=\"fill:none;stroke:#000000;stroke-linecap:square;stroke-linejoin:miter;stroke-width:0.8;\"/>\n   </g>\n   <g id=\"patch_28\">\n    <path d=\"M 337.002813 623.3175 \nL 337.002813 447.446912 \n\" style=\"fill:none;stroke:#000000;stroke-linecap:square;stroke-linejoin:miter;stroke-width:0.8;\"/>\n   </g>\n   <g id=\"patch_29\">\n    <path d=\"M 58.002813 623.3175 \nL 337.002813 623.3175 \n\" style=\"fill:none;stroke:#000000;stroke-linecap:square;stroke-linejoin:miter;stroke-width:0.8;\"/>\n   </g>\n   <g id=\"patch_30\">\n    <path d=\"M 58.002813 447.446912 \nL 337.002813 447.446912 \n\" style=\"fill:none;stroke:#000000;stroke-linecap:square;stroke-linejoin:miter;stroke-width:0.8;\"/>\n   </g>\n   <g id=\"legend_5\">\n    <g id=\"patch_31\">\n     <path d=\"M 148.222813 483.731912 \nL 246.782813 483.731912 \nQ 249.982813 483.731912 249.982813 480.531912 \nL 249.982813 458.646912 \nQ 249.982813 455.446912 246.782813 455.446912 \nL 148.222813 455.446912 \nQ 145.022813 455.446912 145.022813 458.646912 \nL 145.022813 480.531912 \nQ 145.022813 483.731912 148.222813 483.731912 \nz\n\" style=\"fill:#ffffff;opacity:0.8;stroke:#cccccc;stroke-linejoin:miter;\"/>\n    </g>\n    <g id=\"line2d_75\">\n     <path d=\"M 151.422813 468.404412 \nL 183.422813 468.404412 \n\" style=\"fill:none;stroke:#008000;stroke-linecap:square;stroke-width:2;\"/>\n    </g>\n    <g id=\"line2d_76\"/>\n    <g id=\"text_66\">\n     <!-- $h_3(x_1)$ -->\n     <g transform=\"translate(196.222813 474.004412)scale(0.16 -0.16)\">\n      <defs>\n       <path d=\"M 2597 2516 \nQ 3050 2419 3304 2112 \nQ 3559 1806 3559 1356 \nQ 3559 666 3084 287 \nQ 2609 -91 1734 -91 \nQ 1441 -91 1130 -33 \nQ 819 25 488 141 \nL 488 750 \nQ 750 597 1062 519 \nQ 1375 441 1716 441 \nQ 2309 441 2620 675 \nQ 2931 909 2931 1356 \nQ 2931 1769 2642 2001 \nQ 2353 2234 1838 2234 \nL 1294 2234 \nL 1294 2753 \nL 1863 2753 \nQ 2328 2753 2575 2939 \nQ 2822 3125 2822 3475 \nQ 2822 3834 2567 4026 \nQ 2313 4219 1838 4219 \nQ 1578 4219 1281 4162 \nQ 984 4106 628 3988 \nL 628 4550 \nQ 988 4650 1302 4700 \nQ 1616 4750 1894 4750 \nQ 2613 4750 3031 4423 \nQ 3450 4097 3450 3541 \nQ 3450 3153 3228 2886 \nQ 3006 2619 2597 2516 \nz\n\" id=\"DejaVuSans-33\" transform=\"scale(0.015625)\"/>\n      </defs>\n      <use transform=\"translate(0 0.015625)\" xlink:href=\"#DejaVuSans-Oblique-68\"/>\n      <use transform=\"translate(63.378906 -16.390625)scale(0.7)\" xlink:href=\"#DejaVuSans-33\"/>\n      <use transform=\"translate(110.649414 0.015625)\" xlink:href=\"#DejaVuSans-28\"/>\n      <use transform=\"translate(149.663086 0.015625)\" xlink:href=\"#DejaVuSans-Oblique-78\"/>\n      <use transform=\"translate(208.842773 -16.390625)scale(0.7)\" xlink:href=\"#DejaVuSans-31\"/>\n      <use transform=\"translate(256.113281 0.015625)\" xlink:href=\"#DejaVuSans-29\"/>\n     </g>\n    </g>\n   </g>\n  </g>\n  <g id=\"axes_6\">\n   <g id=\"patch_32\">\n    <path d=\"M 392.802812 623.3175 \nL 671.802812 623.3175 \nL 671.802812 447.446912 \nL 392.802812 447.446912 \nz\n\" style=\"fill:#ffffff;\"/>\n   </g>\n   <g id=\"matplotlib.axis_11\">\n    <g id=\"xtick_26\">\n     <g id=\"line2d_77\">\n      <g>\n       <use style=\"stroke:#000000;stroke-width:0.8;\" x=\"420.702812\" xlink:href=\"#m198dce29f0\" y=\"623.3175\"/>\n      </g>\n     </g>\n     <g id=\"text_67\">\n      <!-- −0.4 -->\n      <g transform=\"translate(408.561406 637.915937)scale(0.1 -0.1)\">\n       <use xlink:href=\"#DejaVuSans-2212\"/>\n       <use x=\"83.789062\" xlink:href=\"#DejaVuSans-30\"/>\n       <use x=\"147.412109\" xlink:href=\"#DejaVuSans-2e\"/>\n       <use x=\"179.199219\" xlink:href=\"#DejaVuSans-34\"/>\n      </g>\n     </g>\n    </g>\n    <g id=\"xtick_27\">\n     <g id=\"line2d_78\">\n      <g>\n       <use style=\"stroke:#000000;stroke-width:0.8;\" x=\"476.502812\" xlink:href=\"#m198dce29f0\" y=\"623.3175\"/>\n      </g>\n     </g>\n     <g id=\"text_68\">\n      <!-- −0.2 -->\n      <g transform=\"translate(464.361406 637.915937)scale(0.1 -0.1)\">\n       <use xlink:href=\"#DejaVuSans-2212\"/>\n       <use x=\"83.789062\" xlink:href=\"#DejaVuSans-30\"/>\n       <use x=\"147.412109\" xlink:href=\"#DejaVuSans-2e\"/>\n       <use x=\"179.199219\" xlink:href=\"#DejaVuSans-32\"/>\n      </g>\n     </g>\n    </g>\n    <g id=\"xtick_28\">\n     <g id=\"line2d_79\">\n      <g>\n       <use style=\"stroke:#000000;stroke-width:0.8;\" x=\"532.302812\" xlink:href=\"#m198dce29f0\" y=\"623.3175\"/>\n      </g>\n     </g>\n     <g id=\"text_69\">\n      <!-- 0.0 -->\n      <g transform=\"translate(524.35125 637.915937)scale(0.1 -0.1)\">\n       <use xlink:href=\"#DejaVuSans-30\"/>\n       <use x=\"63.623047\" xlink:href=\"#DejaVuSans-2e\"/>\n       <use x=\"95.410156\" xlink:href=\"#DejaVuSans-30\"/>\n      </g>\n     </g>\n    </g>\n    <g id=\"xtick_29\">\n     <g id=\"line2d_80\">\n      <g>\n       <use style=\"stroke:#000000;stroke-width:0.8;\" x=\"588.102812\" xlink:href=\"#m198dce29f0\" y=\"623.3175\"/>\n      </g>\n     </g>\n     <g id=\"text_70\">\n      <!-- 0.2 -->\n      <g transform=\"translate(580.15125 637.915937)scale(0.1 -0.1)\">\n       <use xlink:href=\"#DejaVuSans-30\"/>\n       <use x=\"63.623047\" xlink:href=\"#DejaVuSans-2e\"/>\n       <use x=\"95.410156\" xlink:href=\"#DejaVuSans-32\"/>\n      </g>\n     </g>\n    </g>\n    <g id=\"xtick_30\">\n     <g id=\"line2d_81\">\n      <g>\n       <use style=\"stroke:#000000;stroke-width:0.8;\" x=\"643.902812\" xlink:href=\"#m198dce29f0\" y=\"623.3175\"/>\n      </g>\n     </g>\n     <g id=\"text_71\">\n      <!-- 0.4 -->\n      <g transform=\"translate(635.95125 637.915937)scale(0.1 -0.1)\">\n       <use xlink:href=\"#DejaVuSans-30\"/>\n       <use x=\"63.623047\" xlink:href=\"#DejaVuSans-2e\"/>\n       <use x=\"95.410156\" xlink:href=\"#DejaVuSans-34\"/>\n      </g>\n     </g>\n    </g>\n    <g id=\"text_72\">\n     <!-- $x_1$ -->\n     <g transform=\"translate(523.742813 656.153125)scale(0.16 -0.16)\">\n      <use transform=\"translate(0 0.3125)\" xlink:href=\"#DejaVuSans-Oblique-78\"/>\n      <use transform=\"translate(59.179688 -16.09375)scale(0.7)\" xlink:href=\"#DejaVuSans-31\"/>\n     </g>\n    </g>\n   </g>\n   <g id=\"matplotlib.axis_12\">\n    <g id=\"ytick_26\">\n     <g id=\"line2d_82\">\n      <g>\n       <use style=\"stroke:#000000;stroke-width:0.8;\" x=\"392.802812\" xlink:href=\"#m3f6da60ab7\" y=\"603.776324\"/>\n      </g>\n     </g>\n     <g id=\"text_73\">\n      <!-- 0.0 -->\n      <g transform=\"translate(369.899687 607.575542)scale(0.1 -0.1)\">\n       <use xlink:href=\"#DejaVuSans-30\"/>\n       <use x=\"63.623047\" xlink:href=\"#DejaVuSans-2e\"/>\n       <use x=\"95.410156\" xlink:href=\"#DejaVuSans-30\"/>\n      </g>\n     </g>\n    </g>\n    <g id=\"ytick_27\">\n     <g id=\"line2d_83\">\n      <g>\n       <use style=\"stroke:#000000;stroke-width:0.8;\" x=\"392.802812\" xlink:href=\"#m3f6da60ab7\" y=\"564.693971\"/>\n      </g>\n     </g>\n     <g id=\"text_74\">\n      <!-- 0.2 -->\n      <g transform=\"translate(369.899687 568.493189)scale(0.1 -0.1)\">\n       <use xlink:href=\"#DejaVuSans-30\"/>\n       <use x=\"63.623047\" xlink:href=\"#DejaVuSans-2e\"/>\n       <use x=\"95.410156\" xlink:href=\"#DejaVuSans-32\"/>\n      </g>\n     </g>\n    </g>\n    <g id=\"ytick_28\">\n     <g id=\"line2d_84\">\n      <g>\n       <use style=\"stroke:#000000;stroke-width:0.8;\" x=\"392.802812\" xlink:href=\"#m3f6da60ab7\" y=\"525.611618\"/>\n      </g>\n     </g>\n     <g id=\"text_75\">\n      <!-- 0.4 -->\n      <g transform=\"translate(369.899687 529.410836)scale(0.1 -0.1)\">\n       <use xlink:href=\"#DejaVuSans-30\"/>\n       <use x=\"63.623047\" xlink:href=\"#DejaVuSans-2e\"/>\n       <use x=\"95.410156\" xlink:href=\"#DejaVuSans-34\"/>\n      </g>\n     </g>\n    </g>\n    <g id=\"ytick_29\">\n     <g id=\"line2d_85\">\n      <g>\n       <use style=\"stroke:#000000;stroke-width:0.8;\" x=\"392.802812\" xlink:href=\"#m3f6da60ab7\" y=\"486.529265\"/>\n      </g>\n     </g>\n     <g id=\"text_76\">\n      <!-- 0.6 -->\n      <g transform=\"translate(369.899687 490.328483)scale(0.1 -0.1)\">\n       <use xlink:href=\"#DejaVuSans-30\"/>\n       <use x=\"63.623047\" xlink:href=\"#DejaVuSans-2e\"/>\n       <use x=\"95.410156\" xlink:href=\"#DejaVuSans-36\"/>\n      </g>\n     </g>\n    </g>\n    <g id=\"ytick_30\">\n     <g id=\"line2d_86\">\n      <g>\n       <use style=\"stroke:#000000;stroke-width:0.8;\" x=\"392.802812\" xlink:href=\"#m3f6da60ab7\" y=\"447.446912\"/>\n      </g>\n     </g>\n     <g id=\"text_77\">\n      <!-- 0.8 -->\n      <g transform=\"translate(369.899687 451.246131)scale(0.1 -0.1)\">\n       <use xlink:href=\"#DejaVuSans-30\"/>\n       <use x=\"63.623047\" xlink:href=\"#DejaVuSans-2e\"/>\n       <use x=\"95.410156\" xlink:href=\"#DejaVuSans-38\"/>\n      </g>\n     </g>\n    </g>\n    <g id=\"text_78\">\n     <!-- $y$ -->\n     <g transform=\"translate(361.099687 532.022206)scale(0.16 -0.16)\">\n      <use transform=\"translate(0 0.3125)\" xlink:href=\"#DejaVuSans-Oblique-79\"/>\n     </g>\n    </g>\n   </g>\n   <g id=\"line2d_87\">\n    <g clip-path=\"url(#p54de09012e)\">\n     <use style=\"fill:#0000ff;stroke:#0000ff;\" x=\"497.299506\" xlink:href=\"#m99b3cd3e12\" y=\"593.698372\"/>\n     <use style=\"fill:#0000ff;stroke:#0000ff;\" x=\"658.052104\" xlink:href=\"#m99b3cd3e12\" y=\"487.607979\"/>\n     <use style=\"fill:#0000ff;stroke:#0000ff;\" x=\"597.029122\" xlink:href=\"#m99b3cd3e12\" y=\"571.327886\"/>\n     <use style=\"fill:#0000ff;stroke:#0000ff;\" x=\"559.82853\" xlink:href=\"#m99b3cd3e12\" y=\"617.489922\"/>\n     <use style=\"fill:#0000ff;stroke:#0000ff;\" x=\"436.332013\" xlink:href=\"#m99b3cd3e12\" y=\"536.557425\"/>\n     <use style=\"fill:#0000ff;stroke:#0000ff;\" x=\"436.325284\" xlink:href=\"#m99b3cd3e12\" y=\"530.912174\"/>\n     <use style=\"fill:#0000ff;stroke:#0000ff;\" x=\"409.00814\" xlink:href=\"#m99b3cd3e12\" y=\"474.850484\"/>\n     <use style=\"fill:#0000ff;stroke:#0000ff;\" x=\"634.465957\" xlink:href=\"#m99b3cd3e12\" y=\"530.234787\"/>\n     <use style=\"fill:#0000ff;stroke:#0000ff;\" x=\"560.513901\" xlink:href=\"#m99b3cd3e12\" y=\"605.681968\"/>\n     <use style=\"fill:#0000ff;stroke:#0000ff;\" x=\"590.355062\" xlink:href=\"#m99b3cd3e12\" y=\"583.298198\"/>\n     <use style=\"fill:#0000ff;stroke:#0000ff;\" x=\"398.545886\" xlink:href=\"#m99b3cd3e12\" y=\"460.092439\"/>\n     <use style=\"fill:#0000ff;stroke:#0000ff;\" x=\"663.407661\" xlink:href=\"#m99b3cd3e12\" y=\"471.114528\"/>\n     <use style=\"fill:#0000ff;stroke:#0000ff;\" x=\"625.054309\" xlink:href=\"#m99b3cd3e12\" y=\"544.162776\"/>\n     <use style=\"fill:#0000ff;stroke:#0000ff;\" x=\"452.045424\" xlink:href=\"#m99b3cd3e12\" y=\"550.251139\"/>\n     <use style=\"fill:#0000ff;stroke:#0000ff;\" x=\"443.531978\" xlink:href=\"#m99b3cd3e12\" y=\"543.480083\"/>\n     <use style=\"fill:#0000ff;stroke:#0000ff;\" x=\"443.972671\" xlink:href=\"#m99b3cd3e12\" y=\"535.552143\"/>\n     <use style=\"fill:#0000ff;stroke:#0000ff;\" x=\"477.686398\" xlink:href=\"#m99b3cd3e12\" y=\"588.170614\"/>\n     <use style=\"fill:#0000ff;stroke:#0000ff;\" x=\"539.209857\" xlink:href=\"#m99b3cd3e12\" y=\"606.618483\"/>\n     <use style=\"fill:#0000ff;stroke:#0000ff;\" x=\"513.315473\" xlink:href=\"#m99b3cd3e12\" y=\"604.892314\"/>\n     <use style=\"fill:#0000ff;stroke:#0000ff;\" x=\"474.055743\" xlink:href=\"#m99b3cd3e12\" y=\"592.524501\"/>\n     <use style=\"fill:#0000ff;stroke:#0000ff;\" x=\"563.50977\" xlink:href=\"#m99b3cd3e12\" y=\"593.548623\"/>\n     <use style=\"fill:#0000ff;stroke:#0000ff;\" x=\"431.7216\" xlink:href=\"#m99b3cd3e12\" y=\"525.03578\"/>\n     <use style=\"fill:#0000ff;stroke:#0000ff;\" x=\"474.311169\" xlink:href=\"#m99b3cd3e12\" y=\"578.398742\"/>\n     <use style=\"fill:#0000ff;stroke:#0000ff;\" x=\"495.017767\" xlink:href=\"#m99b3cd3e12\" y=\"595.59871\"/>\n     <use style=\"fill:#0000ff;stroke:#0000ff;\" x=\"520.046338\" xlink:href=\"#m99b3cd3e12\" y=\"616.473984\"/>\n     <use style=\"fill:#0000ff;stroke:#0000ff;\" x=\"611.866906\" xlink:href=\"#m99b3cd3e12\" y=\"560.210498\"/>\n     <use style=\"fill:#0000ff;stroke:#0000ff;\" x=\"448.511798\" xlink:href=\"#m99b3cd3e12\" y=\"554.248863\"/>\n     <use style=\"fill:#0000ff;stroke:#0000ff;\" x=\"536.274221\" xlink:href=\"#m99b3cd3e12\" y=\"611.496262\"/>\n     <use style=\"fill:#0000ff;stroke:#0000ff;\" x=\"558.086477\" xlink:href=\"#m99b3cd3e12\" y=\"600.345465\"/>\n     <use style=\"fill:#0000ff;stroke:#0000ff;\" x=\"405.762478\" xlink:href=\"#m99b3cd3e12\" y=\"479.235672\"/>\n     <use style=\"fill:#0000ff;stroke:#0000ff;\" x=\"562.307826\" xlink:href=\"#m99b3cd3e12\" y=\"578.566842\"/>\n     <use style=\"fill:#0000ff;stroke:#0000ff;\" x=\"440.379043\" xlink:href=\"#m99b3cd3e12\" y=\"538.432203\"/>\n     <use style=\"fill:#0000ff;stroke:#0000ff;\" x=\"410.952207\" xlink:href=\"#m99b3cd3e12\" y=\"490.355843\"/>\n     <use style=\"fill:#0000ff;stroke:#0000ff;\" x=\"657.541877\" xlink:href=\"#m99b3cd3e12\" y=\"486.378332\"/>\n     <use style=\"fill:#0000ff;stroke:#0000ff;\" x=\"662.21415\" xlink:href=\"#m99b3cd3e12\" y=\"495.420303\"/>\n     <use style=\"fill:#0000ff;stroke:#0000ff;\" x=\"618.345673\" xlink:href=\"#m99b3cd3e12\" y=\"548.279171\"/>\n     <use style=\"fill:#0000ff;stroke:#0000ff;\" x=\"477.790054\" xlink:href=\"#m99b3cd3e12\" y=\"580.80785\"/>\n     <use style=\"fill:#0000ff;stroke:#0000ff;\" x=\"420.053332\" xlink:href=\"#m99b3cd3e12\" y=\"484.816424\"/>\n     <use style=\"fill:#0000ff;stroke:#0000ff;\" x=\"583.703827\" xlink:href=\"#m99b3cd3e12\" y=\"585.757917\"/>\n     <use style=\"fill:#0000ff;stroke:#0000ff;\" x=\"515.605358\" xlink:href=\"#m99b3cd3e12\" y=\"598.730296\"/>\n     <use style=\"fill:#0000ff;stroke:#0000ff;\" x=\"426.85148\" xlink:href=\"#m99b3cd3e12\" y=\"520.368779\"/>\n     <use style=\"fill:#0000ff;stroke:#0000ff;\" x=\"530.95717\" xlink:href=\"#m99b3cd3e12\" y=\"615.181358\"/>\n     <use style=\"fill:#0000ff;stroke:#0000ff;\" x=\"402.39721\" xlink:href=\"#m99b3cd3e12\" y=\"465.517949\"/>\n     <use style=\"fill:#0000ff;stroke:#0000ff;\" x=\"646.503205\" xlink:href=\"#m99b3cd3e12\" y=\"498.209763\"/>\n     <use style=\"fill:#0000ff;stroke:#0000ff;\" x=\"465.002427\" xlink:href=\"#m99b3cd3e12\" y=\"561.936146\"/>\n     <use style=\"fill:#0000ff;stroke:#0000ff;\" x=\"577.64653\" xlink:href=\"#m99b3cd3e12\" y=\"597.177052\"/>\n     <use style=\"fill:#0000ff;stroke:#0000ff;\" x=\"479.770203\" xlink:href=\"#m99b3cd3e12\" y=\"569.286563\"/>\n     <use style=\"fill:#0000ff;stroke:#0000ff;\" x=\"537.90179\" xlink:href=\"#m99b3cd3e12\" y=\"617.237141\"/>\n     <use style=\"fill:#0000ff;stroke:#0000ff;\" x=\"545.33498\" xlink:href=\"#m99b3cd3e12\" y=\"596.763307\"/>\n     <use style=\"fill:#0000ff;stroke:#0000ff;\" x=\"444.377206\" xlink:href=\"#m99b3cd3e12\" y=\"524.15132\"/>\n     <use style=\"fill:#0000ff;stroke:#0000ff;\" x=\"663.316924\" xlink:href=\"#m99b3cd3e12\" y=\"484.183864\"/>\n     <use style=\"fill:#0000ff;stroke:#0000ff;\" x=\"609.06487\" xlink:href=\"#m99b3cd3e12\" y=\"564.932505\"/>\n     <use style=\"fill:#0000ff;stroke:#0000ff;\" x=\"654.923017\" xlink:href=\"#m99b3cd3e12\" y=\"489.565861\"/>\n     <use style=\"fill:#0000ff;stroke:#0000ff;\" x=\"642.459643\" xlink:href=\"#m99b3cd3e12\" y=\"517.308156\"/>\n     <use style=\"fill:#0000ff;stroke:#0000ff;\" x=\"559.616907\" xlink:href=\"#m99b3cd3e12\" y=\"613.3085\"/>\n     <use style=\"fill:#0000ff;stroke:#0000ff;\" x=\"650.005724\" xlink:href=\"#m99b3cd3e12\" y=\"498.769514\"/>\n     <use style=\"fill:#0000ff;stroke:#0000ff;\" x=\"417.492221\" xlink:href=\"#m99b3cd3e12\" y=\"514.883497\"/>\n     <use style=\"fill:#0000ff;stroke:#0000ff;\" x=\"447.482031\" xlink:href=\"#m99b3cd3e12\" y=\"544.965417\"/>\n     <use style=\"fill:#0000ff;stroke:#0000ff;\" x=\"405.421226\" xlink:href=\"#m99b3cd3e12\" y=\"491.5155\"/>\n     <use style=\"fill:#0000ff;stroke:#0000ff;\" x=\"483.569975\" xlink:href=\"#m99b3cd3e12\" y=\"570.746811\"/>\n     <use style=\"fill:#0000ff;stroke:#0000ff;\" x=\"501.243776\" xlink:href=\"#m99b3cd3e12\" y=\"604.164104\"/>\n     <use style=\"fill:#0000ff;stroke:#0000ff;\" x=\"468.509192\" xlink:href=\"#m99b3cd3e12\" y=\"576.273931\"/>\n     <use style=\"fill:#0000ff;stroke:#0000ff;\" x=\"624.020578\" xlink:href=\"#m99b3cd3e12\" y=\"532.474301\"/>\n     <use style=\"fill:#0000ff;stroke:#0000ff;\" x=\"492.336991\" xlink:href=\"#m99b3cd3e12\" y=\"603.773273\"/>\n     <use style=\"fill:#0000ff;stroke:#0000ff;\" x=\"471.183541\" xlink:href=\"#m99b3cd3e12\" y=\"573.420657\"/>\n     <use style=\"fill:#0000ff;stroke:#0000ff;\" x=\"544.21502\" xlink:href=\"#m99b3cd3e12\" y=\"589.936089\"/>\n     <use style=\"fill:#0000ff;stroke:#0000ff;\" x=\"432.120671\" xlink:href=\"#m99b3cd3e12\" y=\"543.895891\"/>\n     <use style=\"fill:#0000ff;stroke:#0000ff;\" x=\"616.61577\" xlink:href=\"#m99b3cd3e12\" y=\"548.435567\"/>\n     <use style=\"fill:#0000ff;stroke:#0000ff;\" x=\"413.602442\" xlink:href=\"#m99b3cd3e12\" y=\"495.124333\"/>\n     <use style=\"fill:#0000ff;stroke:#0000ff;\" x=\"668.144268\" xlink:href=\"#m99b3cd3e12\" y=\"457.165167\"/>\n     <use style=\"fill:#0000ff;stroke:#0000ff;\" x=\"608.259103\" xlink:href=\"#m99b3cd3e12\" y=\"572.411933\"/>\n     <use style=\"fill:#0000ff;stroke:#0000ff;\" x=\"448.244488\" xlink:href=\"#m99b3cd3e12\" y=\"563.46407\"/>\n     <use style=\"fill:#0000ff;stroke:#0000ff;\" x=\"394.343483\" xlink:href=\"#m99b3cd3e12\" y=\"455.337207\"/>\n     <use style=\"fill:#0000ff;stroke:#0000ff;\" x=\"620.316551\" xlink:href=\"#m99b3cd3e12\" y=\"542.534868\"/>\n     <use style=\"fill:#0000ff;stroke:#0000ff;\" x=\"590.016011\" xlink:href=\"#m99b3cd3e12\" y=\"576.243876\"/>\n     <use style=\"fill:#0000ff;stroke:#0000ff;\" x=\"596.195812\" xlink:href=\"#m99b3cd3e12\" y=\"569.646631\"/>\n     <use style=\"fill:#0000ff;stroke:#0000ff;\" x=\"607.987239\" xlink:href=\"#m99b3cd3e12\" y=\"567.280916\"/>\n     <use style=\"fill:#0000ff;stroke:#0000ff;\" x=\"413.46127\" xlink:href=\"#m99b3cd3e12\" y=\"495.141733\"/>\n     <use style=\"fill:#0000ff;stroke:#0000ff;\" x=\"492.814751\" xlink:href=\"#m99b3cd3e12\" y=\"589.169397\"/>\n     <use style=\"fill:#0000ff;stroke:#0000ff;\" x=\"425.13028\" xlink:href=\"#m99b3cd3e12\" y=\"524.253082\"/>\n     <use style=\"fill:#0000ff;stroke:#0000ff;\" x=\"633.608668\" xlink:href=\"#m99b3cd3e12\" y=\"508.254946\"/>\n     <use style=\"fill:#0000ff;stroke:#0000ff;\" x=\"566.70299\" xlink:href=\"#m99b3cd3e12\" y=\"590.234497\"/>\n     <use style=\"fill:#0000ff;stroke:#0000ff;\" x=\"485.123361\" xlink:href=\"#m99b3cd3e12\" y=\"598.652381\"/>\n     <use style=\"fill:#0000ff;stroke:#0000ff;\" x=\"410.535592\" xlink:href=\"#m99b3cd3e12\" y=\"485.69454\"/>\n     <use style=\"fill:#0000ff;stroke:#0000ff;\" x=\"479.56688\" xlink:href=\"#m99b3cd3e12\" y=\"592.354708\"/>\n     <use style=\"fill:#0000ff;stroke:#0000ff;\" x=\"483.528959\" xlink:href=\"#m99b3cd3e12\" y=\"578.170183\"/>\n     <use style=\"fill:#0000ff;stroke:#0000ff;\" x=\"596.362936\" xlink:href=\"#m99b3cd3e12\" y=\"561.550426\"/>\n     <use style=\"fill:#0000ff;stroke:#0000ff;\" x=\"570.681347\" xlink:href=\"#m99b3cd3e12\" y=\"600.702094\"/>\n     <use style=\"fill:#0000ff;stroke:#0000ff;\" x=\"640.335168\" xlink:href=\"#m99b3cd3e12\" y=\"506.467141\"/>\n     <use style=\"fill:#0000ff;stroke:#0000ff;\" x=\"524.550777\" xlink:href=\"#m99b3cd3e12\" y=\"599.290631\"/>\n     <use style=\"fill:#0000ff;stroke:#0000ff;\" x=\"426.169607\" xlink:href=\"#m99b3cd3e12\" y=\"510.91106\"/>\n     <use style=\"fill:#0000ff;stroke:#0000ff;\" x=\"591.798108\" xlink:href=\"#m99b3cd3e12\" y=\"558.585464\"/>\n     <use style=\"fill:#0000ff;stroke:#0000ff;\" x=\"605.061841\" xlink:href=\"#m99b3cd3e12\" y=\"566.304727\"/>\n     <use style=\"fill:#0000ff;stroke:#0000ff;\" x=\"549.399151\" xlink:href=\"#m99b3cd3e12\" y=\"608.939517\"/>\n     <use style=\"fill:#0000ff;stroke:#0000ff;\" x=\"607.902656\" xlink:href=\"#m99b3cd3e12\" y=\"569.424124\"/>\n     <use style=\"fill:#0000ff;stroke:#0000ff;\" x=\"530.571784\" xlink:href=\"#m99b3cd3e12\" y=\"611.724703\"/>\n     <use style=\"fill:#0000ff;stroke:#0000ff;\" x=\"538.645272\" xlink:href=\"#m99b3cd3e12\" y=\"604.226697\"/>\n     <use style=\"fill:#0000ff;stroke:#0000ff;\" x=\"512.086757\" xlink:href=\"#m99b3cd3e12\" y=\"597.365155\"/>\n     <use style=\"fill:#0000ff;stroke:#0000ff;\" x=\"399.894749\" xlink:href=\"#m99b3cd3e12\" y=\"469.036872\"/>\n     <use style=\"fill:#0000ff;stroke:#0000ff;\" x=\"422.904521\" xlink:href=\"#m99b3cd3e12\" y=\"505.561088\"/>\n    </g>\n   </g>\n   <g id=\"line2d_88\">\n    <path clip-path=\"url(#p54de09012e)\" d=\"M 392.802812 473.249902 \nL 411.812833 473.249902 \nL 412.371951 507.07871 \nL 431.381971 507.07871 \nL 431.941089 547.019443 \nL 472.197602 547.019443 \nL 472.75672 595.918493 \nL 586.816841 595.918493 \nL 587.375959 570.454208 \nL 622.041289 570.454208 \nL 622.600408 506.079825 \nL 662.856921 506.079825 \nL 663.416039 471.114528 \nL 665.652512 471.114528 \nL 666.21163 457.165167 \nL 671.802812 457.165167 \nL 671.802812 457.165167 \n\" style=\"fill:none;stroke:#ff0000;stroke-linecap:square;stroke-width:2;\"/>\n   </g>\n   <g id=\"patch_33\">\n    <path d=\"M 392.802812 623.3175 \nL 392.802812 447.446912 \n\" style=\"fill:none;stroke:#000000;stroke-linecap:square;stroke-linejoin:miter;stroke-width:0.8;\"/>\n   </g>\n   <g id=\"patch_34\">\n    <path d=\"M 671.802812 623.3175 \nL 671.802812 447.446912 \n\" style=\"fill:none;stroke:#000000;stroke-linecap:square;stroke-linejoin:miter;stroke-width:0.8;\"/>\n   </g>\n   <g id=\"patch_35\">\n    <path d=\"M 392.802812 623.3175 \nL 671.802812 623.3175 \n\" style=\"fill:none;stroke:#000000;stroke-linecap:square;stroke-linejoin:miter;stroke-width:0.8;\"/>\n   </g>\n   <g id=\"patch_36\">\n    <path d=\"M 392.802812 447.446912 \nL 671.802812 447.446912 \n\" style=\"fill:none;stroke:#000000;stroke-linecap:square;stroke-linejoin:miter;stroke-width:0.8;\"/>\n   </g>\n   <g id=\"legend_6\">\n    <g id=\"patch_37\">\n     <path d=\"M 386.542812 483.731912 \nL 678.062812 483.731912 \nQ 681.262812 483.731912 681.262812 480.531912 \nL 681.262812 458.646912 \nQ 681.262812 455.446912 678.062812 455.446912 \nL 386.542812 455.446912 \nQ 383.342812 455.446912 383.342812 458.646912 \nL 383.342812 480.531912 \nQ 383.342812 483.731912 386.542812 483.731912 \nz\n\" style=\"fill:#ffffff;opacity:0.8;stroke:#cccccc;stroke-linejoin:miter;\"/>\n    </g>\n    <g id=\"line2d_89\">\n     <path d=\"M 389.742812 468.404412 \nL 421.742812 468.404412 \n\" style=\"fill:none;stroke:#ff0000;stroke-linecap:square;stroke-width:2;\"/>\n    </g>\n    <g id=\"line2d_90\"/>\n    <g id=\"text_79\">\n     <!-- $h(x_1) = h_1(x_1) + h_2(x_1) + h_3(x_1)$ -->\n     <g transform=\"translate(434.542812 474.004412)scale(0.16 -0.16)\">\n      <use transform=\"translate(0 0.015625)\" xlink:href=\"#DejaVuSans-Oblique-68\"/>\n      <use transform=\"translate(63.378906 0.015625)\" xlink:href=\"#DejaVuSans-28\"/>\n      <use transform=\"translate(102.392578 0.015625)\" xlink:href=\"#DejaVuSans-Oblique-78\"/>\n      <use transform=\"translate(161.572266 -16.390625)scale(0.7)\" xlink:href=\"#DejaVuSans-31\"/>\n      <use transform=\"translate(208.842773 0.015625)\" xlink:href=\"#DejaVuSans-29\"/>\n      <use transform=\"translate(267.338867 0.015625)\" xlink:href=\"#DejaVuSans-3d\"/>\n      <use transform=\"translate(370.610352 0.015625)\" xlink:href=\"#DejaVuSans-Oblique-68\"/>\n      <use transform=\"translate(433.989258 -16.390625)scale(0.7)\" xlink:href=\"#DejaVuSans-31\"/>\n      <use transform=\"translate(481.259766 0.015625)\" xlink:href=\"#DejaVuSans-28\"/>\n      <use transform=\"translate(520.273438 0.015625)\" xlink:href=\"#DejaVuSans-Oblique-78\"/>\n      <use transform=\"translate(579.453125 -16.390625)scale(0.7)\" xlink:href=\"#DejaVuSans-31\"/>\n      <use transform=\"translate(626.723633 0.015625)\" xlink:href=\"#DejaVuSans-29\"/>\n      <use transform=\"translate(685.219727 0.015625)\" xlink:href=\"#DejaVuSans-2b\"/>\n      <use transform=\"translate(788.491211 0.015625)\" xlink:href=\"#DejaVuSans-Oblique-68\"/>\n      <use transform=\"translate(851.870117 -16.390625)scale(0.7)\" xlink:href=\"#DejaVuSans-32\"/>\n      <use transform=\"translate(899.140625 0.015625)\" xlink:href=\"#DejaVuSans-28\"/>\n      <use transform=\"translate(938.154297 0.015625)\" xlink:href=\"#DejaVuSans-Oblique-78\"/>\n      <use transform=\"translate(997.333984 -16.390625)scale(0.7)\" xlink:href=\"#DejaVuSans-31\"/>\n      <use transform=\"translate(1044.604492 0.015625)\" xlink:href=\"#DejaVuSans-29\"/>\n      <use transform=\"translate(1103.100586 0.015625)\" xlink:href=\"#DejaVuSans-2b\"/>\n      <use transform=\"translate(1206.37207 0.015625)\" xlink:href=\"#DejaVuSans-Oblique-68\"/>\n      <use transform=\"translate(1269.750977 -16.390625)scale(0.7)\" xlink:href=\"#DejaVuSans-33\"/>\n      <use transform=\"translate(1317.021484 0.015625)\" xlink:href=\"#DejaVuSans-28\"/>\n      <use transform=\"translate(1356.035156 0.015625)\" xlink:href=\"#DejaVuSans-Oblique-78\"/>\n      <use transform=\"translate(1415.214844 -16.390625)scale(0.7)\" xlink:href=\"#DejaVuSans-31\"/>\n      <use transform=\"translate(1462.485352 0.015625)\" xlink:href=\"#DejaVuSans-29\"/>\n     </g>\n    </g>\n   </g>\n  </g>\n </g>\n <defs>\n  <clipPath id=\"pdc160efd28\">\n   <rect height=\"175.870588\" width=\"279\" x=\"58.002813\" y=\"25.3575\"/>\n  </clipPath>\n  <clipPath id=\"p17b9033742\">\n   <rect height=\"175.870588\" width=\"279\" x=\"392.802812\" y=\"25.3575\"/>\n  </clipPath>\n  <clipPath id=\"pf8a9604cde\">\n   <rect height=\"175.870588\" width=\"279\" x=\"58.002813\" y=\"236.402206\"/>\n  </clipPath>\n  <clipPath id=\"p65ca765d29\">\n   <rect height=\"175.870588\" width=\"279\" x=\"392.802812\" y=\"236.402206\"/>\n  </clipPath>\n  <clipPath id=\"p1d6e0242f1\">\n   <rect height=\"175.870588\" width=\"279\" x=\"58.002813\" y=\"447.446912\"/>\n  </clipPath>\n  <clipPath id=\"p54de09012e\">\n   <rect height=\"175.870588\" width=\"279\" x=\"392.802812\" y=\"447.446912\"/>\n  </clipPath>\n </defs>\n</svg>\n",
      "image/png": "[encoded data removed]"
     },
     "metadata": {
      "needs_background": "light"
     }
    }
   ],
   "metadata": {
    "colab": {},
    "colab_type": "code",
    "id": "gbuQDXNWRz8p",
    "outputId": "62b85e30-cc06-4585-bd8f-860924249c53",
    "tags": []
   }
  },
  {
   "cell_type": "markdown",
   "source": [
    "Now that you have solid understanding of Gradient Boosting in the regression scenario, let's apply the same algorithm to a classification problem. Specifically, the Titanic dataset and predicting survival."
   ],
   "metadata": {
    "colab_type": "text",
    "id": "9dsMW-TCRz8s"
   }
  },
  {
   "cell_type": "markdown",
   "source": [
    "**<font color='teal'>Use pandas read csv to load in the Titantic data set into a dataframe called df.</font>**\n",
    "\n",
    "Hint: in this case you can use [dropna()](https://pandas.pydata.org/pandas-docs/stable/reference/api/pandas.DataFrame.dropna.html) to just throw away any incomplete rows. For the purpose of this exercise we will disregard them but obviously in the real world you need to be much more careful and decide how to handle incomplete observations. "
   ],
   "metadata": {
    "colab_type": "text",
    "id": "oaIC-pukRz8s",
    "tags": []
   }
  },
  {
   "cell_type": "code",
   "execution_count": 52,
   "source": [
    "df = pd.read_csv('titanic.csv')\n",
    "dfo = df.dropna()\n",
    "dfo"
   ],
   "outputs": [
    {
     "output_type": "execute_result",
     "data": {
      "text/plain": [
       "     PassengerId  Survived  Pclass  \\\n",
       "1              2         1       1   \n",
       "3              4         1       1   \n",
       "6              7         0       1   \n",
       "10            11         1       3   \n",
       "11            12         1       1   \n",
       "..           ...       ...     ...   \n",
       "871          872         1       1   \n",
       "872          873         0       1   \n",
       "879          880         1       1   \n",
       "887          888         1       1   \n",
       "889          890         1       1   \n",
       "\n",
       "                                                  Name     Sex   Age  SibSp  \\\n",
       "1    Cumings, Mrs. John Bradley (Florence Briggs Th...  female  38.0      1   \n",
       "3         Futrelle, Mrs. Jacques Heath (Lily May Peel)  female  35.0      1   \n",
       "6                              McCarthy, Mr. Timothy J    male  54.0      0   \n",
       "10                     Sandstrom, Miss. Marguerite Rut  female   4.0      1   \n",
       "11                            Bonnell, Miss. Elizabeth  female  58.0      0   \n",
       "..                                                 ...     ...   ...    ...   \n",
       "871   Beckwith, Mrs. Richard Leonard (Sallie Monypeny)  female  47.0      1   \n",
       "872                           Carlsson, Mr. Frans Olof    male  33.0      0   \n",
       "879      Potter, Mrs. Thomas Jr (Lily Alexenia Wilson)  female  56.0      0   \n",
       "887                       Graham, Miss. Margaret Edith  female  19.0      0   \n",
       "889                              Behr, Mr. Karl Howell    male  26.0      0   \n",
       "\n",
       "     Parch    Ticket     Fare        Cabin Embarked  \n",
       "1        0  PC 17599  71.2833          C85        C  \n",
       "3        0    113803  53.1000         C123        S  \n",
       "6        0     17463  51.8625          E46        S  \n",
       "10       1   PP 9549  16.7000           G6        S  \n",
       "11       0    113783  26.5500         C103        S  \n",
       "..     ...       ...      ...          ...      ...  \n",
       "871      1     11751  52.5542          D35        S  \n",
       "872      0       695   5.0000  B51 B53 B55        S  \n",
       "879      1     11767  83.1583          C50        C  \n",
       "887      0    112053  30.0000          B42        S  \n",
       "889      0    111369  30.0000         C148        C  \n",
       "\n",
       "[183 rows x 12 columns]"
      ],
      "text/html": [
       "<div>\n",
       "<style scoped>\n",
       "    .dataframe tbody tr th:only-of-type {\n",
       "        vertical-align: middle;\n",
       "    }\n",
       "\n",
       "    .dataframe tbody tr th {\n",
       "        vertical-align: top;\n",
       "    }\n",
       "\n",
       "    .dataframe thead th {\n",
       "        text-align: right;\n",
       "    }\n",
       "</style>\n",
       "<table border=\"1\" class=\"dataframe\">\n",
       "  <thead>\n",
       "    <tr style=\"text-align: right;\">\n",
       "      <th></th>\n",
       "      <th>PassengerId</th>\n",
       "      <th>Survived</th>\n",
       "      <th>Pclass</th>\n",
       "      <th>Name</th>\n",
       "      <th>Sex</th>\n",
       "      <th>Age</th>\n",
       "      <th>SibSp</th>\n",
       "      <th>Parch</th>\n",
       "      <th>Ticket</th>\n",
       "      <th>Fare</th>\n",
       "      <th>Cabin</th>\n",
       "      <th>Embarked</th>\n",
       "    </tr>\n",
       "  </thead>\n",
       "  <tbody>\n",
       "    <tr>\n",
       "      <th>1</th>\n",
       "      <td>2</td>\n",
       "      <td>1</td>\n",
       "      <td>1</td>\n",
       "      <td>Cumings, Mrs. John Bradley (Florence Briggs Th...</td>\n",
       "      <td>female</td>\n",
       "      <td>38.0</td>\n",
       "      <td>1</td>\n",
       "      <td>0</td>\n",
       "      <td>PC 17599</td>\n",
       "      <td>71.2833</td>\n",
       "      <td>C85</td>\n",
       "      <td>C</td>\n",
       "    </tr>\n",
       "    <tr>\n",
       "      <th>3</th>\n",
       "      <td>4</td>\n",
       "      <td>1</td>\n",
       "      <td>1</td>\n",
       "      <td>Futrelle, Mrs. Jacques Heath (Lily May Peel)</td>\n",
       "      <td>female</td>\n",
       "      <td>35.0</td>\n",
       "      <td>1</td>\n",
       "      <td>0</td>\n",
       "      <td>113803</td>\n",
       "      <td>53.1000</td>\n",
       "      <td>C123</td>\n",
       "      <td>S</td>\n",
       "    </tr>\n",
       "    <tr>\n",
       "      <th>6</th>\n",
       "      <td>7</td>\n",
       "      <td>0</td>\n",
       "      <td>1</td>\n",
       "      <td>McCarthy, Mr. Timothy J</td>\n",
       "      <td>male</td>\n",
       "      <td>54.0</td>\n",
       "      <td>0</td>\n",
       "      <td>0</td>\n",
       "      <td>17463</td>\n",
       "      <td>51.8625</td>\n",
       "      <td>E46</td>\n",
       "      <td>S</td>\n",
       "    </tr>\n",
       "    <tr>\n",
       "      <th>10</th>\n",
       "      <td>11</td>\n",
       "      <td>1</td>\n",
       "      <td>3</td>\n",
       "      <td>Sandstrom, Miss. Marguerite Rut</td>\n",
       "      <td>female</td>\n",
       "      <td>4.0</td>\n",
       "      <td>1</td>\n",
       "      <td>1</td>\n",
       "      <td>PP 9549</td>\n",
       "      <td>16.7000</td>\n",
       "      <td>G6</td>\n",
       "      <td>S</td>\n",
       "    </tr>\n",
       "    <tr>\n",
       "      <th>11</th>\n",
       "      <td>12</td>\n",
       "      <td>1</td>\n",
       "      <td>1</td>\n",
       "      <td>Bonnell, Miss. Elizabeth</td>\n",
       "      <td>female</td>\n",
       "      <td>58.0</td>\n",
       "      <td>0</td>\n",
       "      <td>0</td>\n",
       "      <td>113783</td>\n",
       "      <td>26.5500</td>\n",
       "      <td>C103</td>\n",
       "      <td>S</td>\n",
       "    </tr>\n",
       "    <tr>\n",
       "      <th>...</th>\n",
       "      <td>...</td>\n",
       "      <td>...</td>\n",
       "      <td>...</td>\n",
       "      <td>...</td>\n",
       "      <td>...</td>\n",
       "      <td>...</td>\n",
       "      <td>...</td>\n",
       "      <td>...</td>\n",
       "      <td>...</td>\n",
       "      <td>...</td>\n",
       "      <td>...</td>\n",
       "      <td>...</td>\n",
       "    </tr>\n",
       "    <tr>\n",
       "      <th>871</th>\n",
       "      <td>872</td>\n",
       "      <td>1</td>\n",
       "      <td>1</td>\n",
       "      <td>Beckwith, Mrs. Richard Leonard (Sallie Monypeny)</td>\n",
       "      <td>female</td>\n",
       "      <td>47.0</td>\n",
       "      <td>1</td>\n",
       "      <td>1</td>\n",
       "      <td>11751</td>\n",
       "      <td>52.5542</td>\n",
       "      <td>D35</td>\n",
       "      <td>S</td>\n",
       "    </tr>\n",
       "    <tr>\n",
       "      <th>872</th>\n",
       "      <td>873</td>\n",
       "      <td>0</td>\n",
       "      <td>1</td>\n",
       "      <td>Carlsson, Mr. Frans Olof</td>\n",
       "      <td>male</td>\n",
       "      <td>33.0</td>\n",
       "      <td>0</td>\n",
       "      <td>0</td>\n",
       "      <td>695</td>\n",
       "      <td>5.0000</td>\n",
       "      <td>B51 B53 B55</td>\n",
       "      <td>S</td>\n",
       "    </tr>\n",
       "    <tr>\n",
       "      <th>879</th>\n",
       "      <td>880</td>\n",
       "      <td>1</td>\n",
       "      <td>1</td>\n",
       "      <td>Potter, Mrs. Thomas Jr (Lily Alexenia Wilson)</td>\n",
       "      <td>female</td>\n",
       "      <td>56.0</td>\n",
       "      <td>0</td>\n",
       "      <td>1</td>\n",
       "      <td>11767</td>\n",
       "      <td>83.1583</td>\n",
       "      <td>C50</td>\n",
       "      <td>C</td>\n",
       "    </tr>\n",
       "    <tr>\n",
       "      <th>887</th>\n",
       "      <td>888</td>\n",
       "      <td>1</td>\n",
       "      <td>1</td>\n",
       "      <td>Graham, Miss. Margaret Edith</td>\n",
       "      <td>female</td>\n",
       "      <td>19.0</td>\n",
       "      <td>0</td>\n",
       "      <td>0</td>\n",
       "      <td>112053</td>\n",
       "      <td>30.0000</td>\n",
       "      <td>B42</td>\n",
       "      <td>S</td>\n",
       "    </tr>\n",
       "    <tr>\n",
       "      <th>889</th>\n",
       "      <td>890</td>\n",
       "      <td>1</td>\n",
       "      <td>1</td>\n",
       "      <td>Behr, Mr. Karl Howell</td>\n",
       "      <td>male</td>\n",
       "      <td>26.0</td>\n",
       "      <td>0</td>\n",
       "      <td>0</td>\n",
       "      <td>111369</td>\n",
       "      <td>30.0000</td>\n",
       "      <td>C148</td>\n",
       "      <td>C</td>\n",
       "    </tr>\n",
       "  </tbody>\n",
       "</table>\n",
       "<p>183 rows × 12 columns</p>\n",
       "</div>"
      ]
     },
     "metadata": {},
     "execution_count": 52
    }
   ],
   "metadata": {
    "colab": {},
    "colab_type": "code",
    "id": "2MG_oc_cRz8s"
   }
  },
  {
   "cell_type": "code",
   "execution_count": 53,
   "source": [
    "dfo.dtypes"
   ],
   "outputs": [
    {
     "output_type": "execute_result",
     "data": {
      "text/plain": [
       "PassengerId      int64\n",
       "Survived         int64\n",
       "Pclass           int64\n",
       "Name            object\n",
       "Sex             object\n",
       "Age            float64\n",
       "SibSp            int64\n",
       "Parch            int64\n",
       "Ticket          object\n",
       "Fare           float64\n",
       "Cabin           object\n",
       "Embarked        object\n",
       "dtype: object"
      ]
     },
     "metadata": {},
     "execution_count": 53
    }
   ],
   "metadata": {}
  },
  {
   "cell_type": "markdown",
   "source": [
    "**<font color='teal'>Print the levels of the categorical data using 'select_dtypes'. </font>**"
   ],
   "metadata": {
    "colab_type": "text",
    "id": "zLvRIfuSRz8w",
    "tags": []
   }
  },
  {
   "cell_type": "code",
   "execution_count": 54,
   "source": [
    "print(dfo.select_dtypes('object').nunique()) "
   ],
   "outputs": [
    {
     "output_type": "stream",
     "name": "stdout",
     "text": [
      "Name        183\n",
      "Sex           2\n",
      "Ticket      127\n",
      "Cabin       133\n",
      "Embarked      3\n",
      "dtype: int64\n"
     ]
    }
   ],
   "metadata": {
    "colab": {},
    "colab_type": "code",
    "id": "RmwDwRljRz8x"
   }
  },
  {
   "cell_type": "markdown",
   "source": [
    "**<font color='teal'>Create dummy features for the categorical features and add those to the 'df' dataframe. Make sure to also remove the original categorical columns from the dataframe.</font>**"
   ],
   "metadata": {
    "colab_type": "text",
    "id": "D07cr6M5Rz8z",
    "tags": []
   }
  },
  {
   "cell_type": "code",
   "execution_count": 55,
   "source": [
    "df = pd.DataFrame(df.drop(dfo.columns,axis =1)).merge(pd.get_dummies(dfo.drop(['Name','Cabin','Ticket'],axis =1)),left_index=True,right_index=True).drop(['PassengerId'],axis =1)\n",
    "print(df.shape)\n",
    "df.head()"
   ],
   "outputs": [
    {
     "output_type": "stream",
     "name": "stdout",
     "text": [
      "(183, 11)\n"
     ]
    },
    {
     "output_type": "execute_result",
     "data": {
      "text/plain": [
       "    Survived  Pclass   Age  SibSp  Parch     Fare  Sex_female  Sex_male  \\\n",
       "1          1       1  38.0      1      0  71.2833           1         0   \n",
       "3          1       1  35.0      1      0  53.1000           1         0   \n",
       "6          0       1  54.0      0      0  51.8625           0         1   \n",
       "10         1       3   4.0      1      1  16.7000           1         0   \n",
       "11         1       1  58.0      0      0  26.5500           1         0   \n",
       "\n",
       "    Embarked_C  Embarked_Q  Embarked_S  \n",
       "1            1           0           0  \n",
       "3            0           0           1  \n",
       "6            0           0           1  \n",
       "10           0           0           1  \n",
       "11           0           0           1  "
      ],
      "text/html": [
       "<div>\n",
       "<style scoped>\n",
       "    .dataframe tbody tr th:only-of-type {\n",
       "        vertical-align: middle;\n",
       "    }\n",
       "\n",
       "    .dataframe tbody tr th {\n",
       "        vertical-align: top;\n",
       "    }\n",
       "\n",
       "    .dataframe thead th {\n",
       "        text-align: right;\n",
       "    }\n",
       "</style>\n",
       "<table border=\"1\" class=\"dataframe\">\n",
       "  <thead>\n",
       "    <tr style=\"text-align: right;\">\n",
       "      <th></th>\n",
       "      <th>Survived</th>\n",
       "      <th>Pclass</th>\n",
       "      <th>Age</th>\n",
       "      <th>SibSp</th>\n",
       "      <th>Parch</th>\n",
       "      <th>Fare</th>\n",
       "      <th>Sex_female</th>\n",
       "      <th>Sex_male</th>\n",
       "      <th>Embarked_C</th>\n",
       "      <th>Embarked_Q</th>\n",
       "      <th>Embarked_S</th>\n",
       "    </tr>\n",
       "  </thead>\n",
       "  <tbody>\n",
       "    <tr>\n",
       "      <th>1</th>\n",
       "      <td>1</td>\n",
       "      <td>1</td>\n",
       "      <td>38.0</td>\n",
       "      <td>1</td>\n",
       "      <td>0</td>\n",
       "      <td>71.2833</td>\n",
       "      <td>1</td>\n",
       "      <td>0</td>\n",
       "      <td>1</td>\n",
       "      <td>0</td>\n",
       "      <td>0</td>\n",
       "    </tr>\n",
       "    <tr>\n",
       "      <th>3</th>\n",
       "      <td>1</td>\n",
       "      <td>1</td>\n",
       "      <td>35.0</td>\n",
       "      <td>1</td>\n",
       "      <td>0</td>\n",
       "      <td>53.1000</td>\n",
       "      <td>1</td>\n",
       "      <td>0</td>\n",
       "      <td>0</td>\n",
       "      <td>0</td>\n",
       "      <td>1</td>\n",
       "    </tr>\n",
       "    <tr>\n",
       "      <th>6</th>\n",
       "      <td>0</td>\n",
       "      <td>1</td>\n",
       "      <td>54.0</td>\n",
       "      <td>0</td>\n",
       "      <td>0</td>\n",
       "      <td>51.8625</td>\n",
       "      <td>0</td>\n",
       "      <td>1</td>\n",
       "      <td>0</td>\n",
       "      <td>0</td>\n",
       "      <td>1</td>\n",
       "    </tr>\n",
       "    <tr>\n",
       "      <th>10</th>\n",
       "      <td>1</td>\n",
       "      <td>3</td>\n",
       "      <td>4.0</td>\n",
       "      <td>1</td>\n",
       "      <td>1</td>\n",
       "      <td>16.7000</td>\n",
       "      <td>1</td>\n",
       "      <td>0</td>\n",
       "      <td>0</td>\n",
       "      <td>0</td>\n",
       "      <td>1</td>\n",
       "    </tr>\n",
       "    <tr>\n",
       "      <th>11</th>\n",
       "      <td>1</td>\n",
       "      <td>1</td>\n",
       "      <td>58.0</td>\n",
       "      <td>0</td>\n",
       "      <td>0</td>\n",
       "      <td>26.5500</td>\n",
       "      <td>1</td>\n",
       "      <td>0</td>\n",
       "      <td>0</td>\n",
       "      <td>0</td>\n",
       "      <td>1</td>\n",
       "    </tr>\n",
       "  </tbody>\n",
       "</table>\n",
       "</div>"
      ]
     },
     "metadata": {},
     "execution_count": 55
    }
   ],
   "metadata": {
    "colab": {},
    "colab_type": "code",
    "id": "vPF6cbioRz8z"
   }
  },
  {
   "cell_type": "markdown",
   "source": [
    "**<font color='teal'>Print the null values for each column in the dataframe.</font>**"
   ],
   "metadata": {
    "colab_type": "text",
    "id": "8kU862wQRz82",
    "tags": []
   }
  },
  {
   "cell_type": "code",
   "execution_count": 59,
   "source": [
    "df.isna().sum()\n",
    "\n",
    "# There are no null values in any column"
   ],
   "outputs": [
    {
     "output_type": "execute_result",
     "data": {
      "text/plain": [
       "Survived      0\n",
       "Pclass        0\n",
       "Age           0\n",
       "SibSp         0\n",
       "Parch         0\n",
       "Fare          0\n",
       "Sex_female    0\n",
       "Sex_male      0\n",
       "Embarked_C    0\n",
       "Embarked_Q    0\n",
       "Embarked_S    0\n",
       "dtype: int64"
      ]
     },
     "metadata": {},
     "execution_count": 59
    }
   ],
   "metadata": {
    "colab": {},
    "colab_type": "code",
    "id": "ZV2mKhf_Rz82"
   }
  },
  {
   "cell_type": "markdown",
   "source": [
    "**<font color='teal'>Create the X and y matrices from the dataframe, where y = df.Survived </font>**"
   ],
   "metadata": {
    "colab_type": "text",
    "id": "zsDK9CraRz85",
    "tags": []
   }
  },
  {
   "cell_type": "code",
   "execution_count": 63,
   "source": [
    "features = [a for a in df.columns if a != 'Survived']\n",
    "\n",
    "X = df[features]\n",
    "y = df['Survived']\n",
    "\n",
    "X"
   ],
   "outputs": [
    {
     "output_type": "execute_result",
     "data": {
      "text/plain": [
       "     Pclass   Age  SibSp  Parch     Fare  Sex_female  Sex_male  Embarked_C  \\\n",
       "1         1  38.0      1      0  71.2833           1         0           1   \n",
       "3         1  35.0      1      0  53.1000           1         0           0   \n",
       "6         1  54.0      0      0  51.8625           0         1           0   \n",
       "10        3   4.0      1      1  16.7000           1         0           0   \n",
       "11        1  58.0      0      0  26.5500           1         0           0   \n",
       "..      ...   ...    ...    ...      ...         ...       ...         ...   \n",
       "871       1  47.0      1      1  52.5542           1         0           0   \n",
       "872       1  33.0      0      0   5.0000           0         1           0   \n",
       "879       1  56.0      0      1  83.1583           1         0           1   \n",
       "887       1  19.0      0      0  30.0000           1         0           0   \n",
       "889       1  26.0      0      0  30.0000           0         1           1   \n",
       "\n",
       "     Embarked_Q  Embarked_S  \n",
       "1             0           0  \n",
       "3             0           1  \n",
       "6             0           1  \n",
       "10            0           1  \n",
       "11            0           1  \n",
       "..          ...         ...  \n",
       "871           0           1  \n",
       "872           0           1  \n",
       "879           0           0  \n",
       "887           0           1  \n",
       "889           0           0  \n",
       "\n",
       "[183 rows x 10 columns]"
      ],
      "text/html": [
       "<div>\n",
       "<style scoped>\n",
       "    .dataframe tbody tr th:only-of-type {\n",
       "        vertical-align: middle;\n",
       "    }\n",
       "\n",
       "    .dataframe tbody tr th {\n",
       "        vertical-align: top;\n",
       "    }\n",
       "\n",
       "    .dataframe thead th {\n",
       "        text-align: right;\n",
       "    }\n",
       "</style>\n",
       "<table border=\"1\" class=\"dataframe\">\n",
       "  <thead>\n",
       "    <tr style=\"text-align: right;\">\n",
       "      <th></th>\n",
       "      <th>Pclass</th>\n",
       "      <th>Age</th>\n",
       "      <th>SibSp</th>\n",
       "      <th>Parch</th>\n",
       "      <th>Fare</th>\n",
       "      <th>Sex_female</th>\n",
       "      <th>Sex_male</th>\n",
       "      <th>Embarked_C</th>\n",
       "      <th>Embarked_Q</th>\n",
       "      <th>Embarked_S</th>\n",
       "    </tr>\n",
       "  </thead>\n",
       "  <tbody>\n",
       "    <tr>\n",
       "      <th>1</th>\n",
       "      <td>1</td>\n",
       "      <td>38.0</td>\n",
       "      <td>1</td>\n",
       "      <td>0</td>\n",
       "      <td>71.2833</td>\n",
       "      <td>1</td>\n",
       "      <td>0</td>\n",
       "      <td>1</td>\n",
       "      <td>0</td>\n",
       "      <td>0</td>\n",
       "    </tr>\n",
       "    <tr>\n",
       "      <th>3</th>\n",
       "      <td>1</td>\n",
       "      <td>35.0</td>\n",
       "      <td>1</td>\n",
       "      <td>0</td>\n",
       "      <td>53.1000</td>\n",
       "      <td>1</td>\n",
       "      <td>0</td>\n",
       "      <td>0</td>\n",
       "      <td>0</td>\n",
       "      <td>1</td>\n",
       "    </tr>\n",
       "    <tr>\n",
       "      <th>6</th>\n",
       "      <td>1</td>\n",
       "      <td>54.0</td>\n",
       "      <td>0</td>\n",
       "      <td>0</td>\n",
       "      <td>51.8625</td>\n",
       "      <td>0</td>\n",
       "      <td>1</td>\n",
       "      <td>0</td>\n",
       "      <td>0</td>\n",
       "      <td>1</td>\n",
       "    </tr>\n",
       "    <tr>\n",
       "      <th>10</th>\n",
       "      <td>3</td>\n",
       "      <td>4.0</td>\n",
       "      <td>1</td>\n",
       "      <td>1</td>\n",
       "      <td>16.7000</td>\n",
       "      <td>1</td>\n",
       "      <td>0</td>\n",
       "      <td>0</td>\n",
       "      <td>0</td>\n",
       "      <td>1</td>\n",
       "    </tr>\n",
       "    <tr>\n",
       "      <th>11</th>\n",
       "      <td>1</td>\n",
       "      <td>58.0</td>\n",
       "      <td>0</td>\n",
       "      <td>0</td>\n",
       "      <td>26.5500</td>\n",
       "      <td>1</td>\n",
       "      <td>0</td>\n",
       "      <td>0</td>\n",
       "      <td>0</td>\n",
       "      <td>1</td>\n",
       "    </tr>\n",
       "    <tr>\n",
       "      <th>...</th>\n",
       "      <td>...</td>\n",
       "      <td>...</td>\n",
       "      <td>...</td>\n",
       "      <td>...</td>\n",
       "      <td>...</td>\n",
       "      <td>...</td>\n",
       "      <td>...</td>\n",
       "      <td>...</td>\n",
       "      <td>...</td>\n",
       "      <td>...</td>\n",
       "    </tr>\n",
       "    <tr>\n",
       "      <th>871</th>\n",
       "      <td>1</td>\n",
       "      <td>47.0</td>\n",
       "      <td>1</td>\n",
       "      <td>1</td>\n",
       "      <td>52.5542</td>\n",
       "      <td>1</td>\n",
       "      <td>0</td>\n",
       "      <td>0</td>\n",
       "      <td>0</td>\n",
       "      <td>1</td>\n",
       "    </tr>\n",
       "    <tr>\n",
       "      <th>872</th>\n",
       "      <td>1</td>\n",
       "      <td>33.0</td>\n",
       "      <td>0</td>\n",
       "      <td>0</td>\n",
       "      <td>5.0000</td>\n",
       "      <td>0</td>\n",
       "      <td>1</td>\n",
       "      <td>0</td>\n",
       "      <td>0</td>\n",
       "      <td>1</td>\n",
       "    </tr>\n",
       "    <tr>\n",
       "      <th>879</th>\n",
       "      <td>1</td>\n",
       "      <td>56.0</td>\n",
       "      <td>0</td>\n",
       "      <td>1</td>\n",
       "      <td>83.1583</td>\n",
       "      <td>1</td>\n",
       "      <td>0</td>\n",
       "      <td>1</td>\n",
       "      <td>0</td>\n",
       "      <td>0</td>\n",
       "    </tr>\n",
       "    <tr>\n",
       "      <th>887</th>\n",
       "      <td>1</td>\n",
       "      <td>19.0</td>\n",
       "      <td>0</td>\n",
       "      <td>0</td>\n",
       "      <td>30.0000</td>\n",
       "      <td>1</td>\n",
       "      <td>0</td>\n",
       "      <td>0</td>\n",
       "      <td>0</td>\n",
       "      <td>1</td>\n",
       "    </tr>\n",
       "    <tr>\n",
       "      <th>889</th>\n",
       "      <td>1</td>\n",
       "      <td>26.0</td>\n",
       "      <td>0</td>\n",
       "      <td>0</td>\n",
       "      <td>30.0000</td>\n",
       "      <td>0</td>\n",
       "      <td>1</td>\n",
       "      <td>1</td>\n",
       "      <td>0</td>\n",
       "      <td>0</td>\n",
       "    </tr>\n",
       "  </tbody>\n",
       "</table>\n",
       "<p>183 rows × 10 columns</p>\n",
       "</div>"
      ]
     },
     "metadata": {},
     "execution_count": 63
    }
   ],
   "metadata": {
    "colab": {},
    "colab_type": "code",
    "id": "dle4w3vRRz85"
   }
  },
  {
   "cell_type": "markdown",
   "source": [
    "**<font color='teal'>Apply the standard scaler to the X matrix.</font>**"
   ],
   "metadata": {
    "colab_type": "text",
    "id": "lT_yoTjtRz88",
    "tags": []
   }
  },
  {
   "cell_type": "code",
   "execution_count": 62,
   "source": [
    "scaler = preprocessing.StandardScaler().fit(X)\n",
    "X_scaled = scaler.transform(X)"
   ],
   "outputs": [],
   "metadata": {
    "colab": {},
    "colab_type": "code",
    "id": "c8VoJndnRz88"
   }
  },
  {
   "cell_type": "markdown",
   "source": [
    "**<font color='teal'>Split the X_scaled and y into 75/25 training and testing data subsets..</font>**"
   ],
   "metadata": {
    "colab_type": "text",
    "id": "-59l61rsRz9A",
    "tags": []
   }
  },
  {
   "cell_type": "code",
   "execution_count": 64,
   "source": [
    "from sklearn.model_selection import train_test_split\n",
    "X_train, X_test, y_train, y_test = train_test_split(X_scaled, y, test_size=0.25, random_state=42)"
   ],
   "outputs": [],
   "metadata": {
    "colab": {},
    "colab_type": "code",
    "id": "rJZsUA0xRz9A"
   }
  },
  {
   "cell_type": "markdown",
   "source": [
    "**<font color='teal'>Run the cell below to test multiple learning rates in your gradient boosting classifier.</font>**"
   ],
   "metadata": {
    "colab_type": "text",
    "id": "wTZIpc_KRz9C",
    "tags": []
   }
  },
  {
   "cell_type": "code",
   "execution_count": 65,
   "source": [
    "learning_rates = [0.05, 0.1, 0.25, 0.5, 0.75, 1]\n",
    "for learning_rate in learning_rates:\n",
    "    gb = GradientBoostingClassifier(n_estimators=20, learning_rate = learning_rate, max_features=2, max_depth = 2, random_state = 0)\n",
    "    gb.fit(X_train, y_train)\n",
    "    print(\"Learning rate: \", learning_rate)\n",
    "    print(\"Accuracy score (training): {0:.3f}\".format(gb.score(X_train, y_train)))\n",
    "    print(\"Accuracy score (validation): {0:.3f}\".format(gb.score(X_test, y_test)))\n",
    "    print()"
   ],
   "outputs": [
    {
     "output_type": "stream",
     "name": "stdout",
     "text": [
      "Learning rate:  0.05\n",
      "Accuracy score (training): 0.737\n",
      "Accuracy score (validation): 0.609\n",
      "\n",
      "Learning rate:  0.1\n",
      "Accuracy score (training): 0.810\n",
      "Accuracy score (validation): 0.696\n",
      "\n",
      "Learning rate:  0.25\n",
      "Accuracy score (training): 0.854\n",
      "Accuracy score (validation): 0.739\n",
      "\n",
      "Learning rate:  0.5\n",
      "Accuracy score (training): 0.869\n",
      "Accuracy score (validation): 0.739\n",
      "\n",
      "Learning rate:  0.75\n",
      "Accuracy score (training): 0.891\n",
      "Accuracy score (validation): 0.739\n",
      "\n",
      "Learning rate:  1\n",
      "Accuracy score (training): 0.927\n",
      "Accuracy score (validation): 0.717\n",
      "\n"
     ]
    }
   ],
   "metadata": {
    "colab": {},
    "colab_type": "code",
    "id": "4ipqTcZPRz9D"
   }
  },
  {
   "cell_type": "markdown",
   "source": [
    "**<font color='teal'>Apply the best learning rate to the model fit and predict on the testing set. Print out the confusion matrix and the classification report to review the model performance.</font>**"
   ],
   "metadata": {}
  },
  {
   "cell_type": "code",
   "execution_count": 72,
   "source": [
    "optimal_learning_rate = .75\n",
    "\n",
    "gb = GradientBoostingClassifier(n_estimators=20, learning_rate = optimal_learning_rate, max_features=2, max_depth = 2, random_state = 0)\n",
    "gb.fit(X_train, y_train)\n",
    "y_pred = gb.predict(X_test)\n",
    "\n",
    "print('Confusion Matrix')\n",
    "print(confusion_matrix(y_test,y_pred))\n",
    "\n",
    "print('Classification Report')\n",
    "print(classification_report(y_test,y_pred))\n"
   ],
   "outputs": [
    {
     "output_type": "stream",
     "name": "stdout",
     "text": [
      "Confusion Matrix\n",
      "[[13  5]\n",
      " [ 7 21]]\n",
      "Classification Report\n",
      "              precision    recall  f1-score   support\n",
      "\n",
      "           0       0.65      0.72      0.68        18\n",
      "           1       0.81      0.75      0.78        28\n",
      "\n",
      "    accuracy                           0.74        46\n",
      "   macro avg       0.73      0.74      0.73        46\n",
      "weighted avg       0.75      0.74      0.74        46\n",
      "\n"
     ]
    }
   ],
   "metadata": {}
  },
  {
   "cell_type": "markdown",
   "source": [
    "**<font color='teal'>Calculate the ROC for the model as well.</font>**"
   ],
   "metadata": {
    "colab_type": "text",
    "id": "ezq61Ov2Rz9G",
    "tags": []
   }
  },
  {
   "cell_type": "code",
   "execution_count": 73,
   "source": [
    "roc_curve(y_test,y_pred)"
   ],
   "outputs": [
    {
     "output_type": "execute_result",
     "data": {
      "text/plain": [
       "(array([0.        , 0.27777778, 1.        ]),\n",
       " array([0.  , 0.75, 1.  ]),\n",
       " array([2, 1, 0]))"
      ]
     },
     "metadata": {},
     "execution_count": 73
    }
   ],
   "metadata": {
    "colab": {},
    "colab_type": "code",
    "id": "u1TGKEqCRz9L"
   }
  }
 ],
 "metadata": {
  "colab": {
   "name": "Gradient_Boosting_student.ipynb",
   "provenance": []
  },
  "deepnote_execution_queue": [],
  "hide_input": false,
  "kernelspec": {
   "name": "python3",
   "display_name": "Python 3.8.10 64-bit"
  },
  "language_info": {
   "codemirror_mode": {
    "name": "ipython",
    "version": 3
   },
   "file_extension": ".py",
   "mimetype": "text/x-python",
   "name": "python",
   "nbconvert_exporter": "python",
   "pygments_lexer": "ipython3",
   "version": "3.8.10"
  },
  "toc": {
   "colors": {
    "hover_highlight": "#DAA520",
    "running_highlight": "#FF0000",
    "selected_highlight": "#FFD700"
   },
   "moveMenuLeft": true,
   "nav_menu": {
    "height": "78px",
    "width": "252px"
   },
   "navigate_menu": true,
   "number_sections": true,
   "sideBar": true,
   "threshold": 4,
   "toc_cell": false,
   "toc_section_display": "block",
   "toc_window_display": false
  },
  "interpreter": {
   "hash": "916dbcbb3f70747c44a77c7bcd40155683ae19c65e1c03b4aa3499c5328201f1"
  }
 },
 "nbformat": 4,
 "nbformat_minor": 4
}