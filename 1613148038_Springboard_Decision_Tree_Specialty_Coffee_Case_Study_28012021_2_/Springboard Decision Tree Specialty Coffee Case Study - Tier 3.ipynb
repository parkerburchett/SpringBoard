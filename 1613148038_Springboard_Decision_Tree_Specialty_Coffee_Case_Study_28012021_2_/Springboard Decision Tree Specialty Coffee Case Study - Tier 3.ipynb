{
 "cells": [
  {
   "cell_type": "markdown",
   "source": [
    "# You need to use the getDummies() in python instead of the 1hot encoder."
   ],
   "metadata": {}
  },
  {
   "cell_type": "markdown",
   "source": [
    "# **Springboard Decision Tree Specialty Coffee Case Study - Tier 3**\n",
    "\n",
    "\n"
   ],
   "metadata": {
    "colab_type": "text",
    "id": "Jm0w3zN4DuVK"
   }
  },
  {
   "cell_type": "markdown",
   "source": [
    "# The Scenario\n",
    "\n",
    "Imagine you've just finished the Springboard Data Science Career Track course, and have been hired by a rising popular specialty coffee company - RR Diner Coffee - as a data scientist. Congratulations!\n",
    "\n",
    "RR Diner Coffee sells two types of thing:\n",
    "- specialty coffee beans, in bulk (by the kilogram only) \n",
    "- coffee equipment and merchandise (grinders, brewing equipment, mugs, books, t-shirts).\n",
    "\n",
    "RR Diner Coffee has three stores, two in Europe and one in the USA. The flagshap store is in the USA, and everything is quality assessed there, before being shipped out. Customers further away from the USA flagship store have higher shipping charges. \n",
    "\n",
    "You've been taken on at RR Diner Coffee because the company are turning towards using data science and machine learning to systematically make decisions about which coffee farmers they should strike deals with. \n",
    "\n",
    "RR Diner Coffee typically buys coffee from farmers, processes it on site, brings it back to the USA, roasts it, packages it, markets it, and ships it (only in bulk, and after quality assurance) to customers internationally. These customers all own coffee shops in major cities like New York, Paris, London, Hong Kong, Tokyo, and Berlin. \n",
    "\n",
    "Now, RR Diner Coffee has a decision about whether to strike a deal with a legendary coffee farm (known as the **Hidden Farm**) in rural China: there are rumours their coffee tastes of lychee and dark chocolate, while also being as sweet as apple juice. \n",
    "\n",
    "It's a risky decision, as the deal will be expensive, and the coffee might not be bought by customers. The stakes are high: times are tough, stocks are low, farmers are reverting to old deals with the larger enterprises and the publicity of selling *Hidden Farm* coffee could save the RR Diner Coffee business. \n",
    "\n",
    "Your first job, then, is ***to build a decision tree to predict how many units of the Hidden Farm Chinese coffee will be purchased by RR Diner Coffee's most loyal customers.*** \n",
    "\n",
    "To this end, you and your team have conducted a survey of 710 of the most loyal RR Diner Coffee customers, collecting data on the customers':\n",
    "- age\n",
    "- gender \n",
    "- salary \n",
    "- whether they have bought at least one RR Diner Coffee product online\n",
    "- their distance from the flagship store in the USA (standardized to a number between 0 and 11) \n",
    "- how much they spent on RR Diner Coffee products on the week of the survey \n",
    "- how much they spent on RR Diner Coffee products in the month preeding the survey\n",
    "- the number of RR Diner coffee bean shipments each customer has ordered over the preceding year. \n",
    "\n",
    "You also asked each customer participating in the survey whether they would buy the Hidden Farm coffee, and some (but not all) of the customers gave responses to that question. \n",
    "\n",
    "You sit back and think: if more than 70% of the interviewed customers are likely to buy the Hidden Farm coffee, you will strike the deal with the local Hidden Farm farmers and sell the coffee. Otherwise, you won't strike the deal and the Hidden Farm coffee will remain in legends only. There's some doubt in your mind about whether 70% is a reasonable threshold, but it'll do for the moment. \n",
    "\n",
    "To solve the problem, then, you will build a decision tree to implement a classification solution. \n",
    "\n",
    "\n",
    "-------------------------------\n",
    "As ever, this notebook is **tiered**, meaning you can elect that tier that is right for your confidence and skill level. There are 3 tiers, with tier 1 being the easiest and tier 3 being the hardest. This is ***tier 3***, so it will be challenging. \n",
    "\n",
    "**1. Sourcing and loading** \n",
    "- Import packages\n",
    "- Load data\n",
    "- Explore the data\n",
    "\n",
    " \n",
    "**2. Cleaning, transforming and visualizing**\n",
    "- Cleaning the data\n",
    "- Train/test split\n",
    "  \n",
    "  \n",
    "**3. Modelling** \n",
    "- Model 1: Entropy model - no max_depth\n",
    "- Model 2: Gini impurity model - no max_depth\n",
    "- Model 3: Entropy model - max depth 3\n",
    "- Model 4: Gini impurity model - max depth 3\n",
    "\n",
    "\n",
    "**4. Evaluating and concluding** \n",
    "- How many customers will buy Hidden Farm coffee?\n",
    "- Decision\n",
    "\n",
    "**5. Random Forest** \n",
    "- Import necessary modules\n",
    "- Model\n",
    "- Revise conclusion\n",
    "    "
   ],
   "metadata": {
    "colab_type": "text",
    "id": "BhqpAY7GDuVN"
   }
  },
  {
   "cell_type": "markdown",
   "source": [
    "# 0. Overview\n",
    "\n",
    "This notebook uses decision trees to determine whether the factors of salary, gender, age, how much money the customer spent last week and during the preceding month on RR Diner Coffee products, how many kilogram coffee bags the customer bought over the last year, whether they have bought at least one RR Diner Coffee product online, and their distance from the flagship store in the USA, could predict whether customers would purchase the Hidden Farm coffee if a deal with its farmers were struck. "
   ],
   "metadata": {
    "colab_type": "text",
    "id": "nciXGXtCDuVO"
   }
  },
  {
   "cell_type": "markdown",
   "source": [
    "# 1. Sourcing and loading\n",
    "## 1a. Import Packages"
   ],
   "metadata": {
    "colab_type": "text",
    "id": "5fSgD2h9DuVP"
   }
  },
  {
   "cell_type": "code",
   "execution_count": 1,
   "source": [
    "import pandas as pd\n",
    "import numpy as np\n",
    "from sklearn import tree, metrics\n",
    "from sklearn.model_selection import train_test_split\n",
    "import seaborn as sns\n",
    "import matplotlib.pyplot as plt\n",
    "from io import StringIO  \n",
    "from IPython.display import Image  \n",
    "import pydotplus"
   ],
   "outputs": [],
   "metadata": {
    "colab": {},
    "colab_type": "code",
    "id": "CfGkTcLvDuVQ"
   }
  },
  {
   "cell_type": "markdown",
   "source": [
    "## 1b. Load data "
   ],
   "metadata": {
    "colab_type": "text",
    "id": "ZLgxyhNrDuVT"
   }
  },
  {
   "cell_type": "code",
   "execution_count": 2,
   "source": [
    "# Read in the data to a variable called coffeeData\n",
    "df = pd.read_csv('data/RRDinerCoffeeData.csv')"
   ],
   "outputs": [],
   "metadata": {
    "colab": {},
    "colab_type": "code",
    "id": "chW2ozlnDuVU"
   }
  },
  {
   "cell_type": "markdown",
   "source": [
    "## 1c. Explore the data"
   ],
   "metadata": {
    "colab_type": "text",
    "id": "qnMVYf2NDuVW"
   }
  },
  {
   "cell_type": "markdown",
   "source": [
    "As we've seen, exploration entails doing things like checking out the **initial appearance** of the data with head(), the **dimensions** of our data with .shape, the **data types** of the variables with .info(), the **number of non-null values**, how much **memory** is being used to store the data, and finally the major summary statistcs capturing **central tendancy, dispersion and the null-excluding shape of the dataset's distribution**. \n",
    "\n",
    "How much of this can you do yourself by this point in the course? Have a real go. "
   ],
   "metadata": {
    "colab_type": "text",
    "id": "U5Qm4obyDuVX"
   }
  },
  {
   "cell_type": "code",
   "execution_count": 3,
   "source": [
    "# Call head() on your data \n",
    "df.head()"
   ],
   "outputs": [
    {
     "output_type": "execute_result",
     "data": {
      "text/plain": [
       "   Age  Gender  num_coffeeBags_per_year  spent_week  spent_month  SlrAY  \\\n",
       "0   36  Female                        0          24           73  42789   \n",
       "1   24    Male                        0          44          164  74035   \n",
       "2   24    Male                        0          39          119  30563   \n",
       "3   20    Male                        0          30          107  13166   \n",
       "4   24  Female                        0          20           36  14244   \n",
       "\n",
       "   Distance  Online  Decision  \n",
       "0  0.003168       0       1.0  \n",
       "1  0.520906       0       NaN  \n",
       "2  0.916005       1       1.0  \n",
       "3  0.932098       1       NaN  \n",
       "4  0.965881       0       1.0  "
      ],
      "text/html": [
       "<div>\n",
       "<style scoped>\n",
       "    .dataframe tbody tr th:only-of-type {\n",
       "        vertical-align: middle;\n",
       "    }\n",
       "\n",
       "    .dataframe tbody tr th {\n",
       "        vertical-align: top;\n",
       "    }\n",
       "\n",
       "    .dataframe thead th {\n",
       "        text-align: right;\n",
       "    }\n",
       "</style>\n",
       "<table border=\"1\" class=\"dataframe\">\n",
       "  <thead>\n",
       "    <tr style=\"text-align: right;\">\n",
       "      <th></th>\n",
       "      <th>Age</th>\n",
       "      <th>Gender</th>\n",
       "      <th>num_coffeeBags_per_year</th>\n",
       "      <th>spent_week</th>\n",
       "      <th>spent_month</th>\n",
       "      <th>SlrAY</th>\n",
       "      <th>Distance</th>\n",
       "      <th>Online</th>\n",
       "      <th>Decision</th>\n",
       "    </tr>\n",
       "  </thead>\n",
       "  <tbody>\n",
       "    <tr>\n",
       "      <th>0</th>\n",
       "      <td>36</td>\n",
       "      <td>Female</td>\n",
       "      <td>0</td>\n",
       "      <td>24</td>\n",
       "      <td>73</td>\n",
       "      <td>42789</td>\n",
       "      <td>0.003168</td>\n",
       "      <td>0</td>\n",
       "      <td>1.0</td>\n",
       "    </tr>\n",
       "    <tr>\n",
       "      <th>1</th>\n",
       "      <td>24</td>\n",
       "      <td>Male</td>\n",
       "      <td>0</td>\n",
       "      <td>44</td>\n",
       "      <td>164</td>\n",
       "      <td>74035</td>\n",
       "      <td>0.520906</td>\n",
       "      <td>0</td>\n",
       "      <td>NaN</td>\n",
       "    </tr>\n",
       "    <tr>\n",
       "      <th>2</th>\n",
       "      <td>24</td>\n",
       "      <td>Male</td>\n",
       "      <td>0</td>\n",
       "      <td>39</td>\n",
       "      <td>119</td>\n",
       "      <td>30563</td>\n",
       "      <td>0.916005</td>\n",
       "      <td>1</td>\n",
       "      <td>1.0</td>\n",
       "    </tr>\n",
       "    <tr>\n",
       "      <th>3</th>\n",
       "      <td>20</td>\n",
       "      <td>Male</td>\n",
       "      <td>0</td>\n",
       "      <td>30</td>\n",
       "      <td>107</td>\n",
       "      <td>13166</td>\n",
       "      <td>0.932098</td>\n",
       "      <td>1</td>\n",
       "      <td>NaN</td>\n",
       "    </tr>\n",
       "    <tr>\n",
       "      <th>4</th>\n",
       "      <td>24</td>\n",
       "      <td>Female</td>\n",
       "      <td>0</td>\n",
       "      <td>20</td>\n",
       "      <td>36</td>\n",
       "      <td>14244</td>\n",
       "      <td>0.965881</td>\n",
       "      <td>0</td>\n",
       "      <td>1.0</td>\n",
       "    </tr>\n",
       "  </tbody>\n",
       "</table>\n",
       "</div>"
      ]
     },
     "metadata": {},
     "execution_count": 3
    }
   ],
   "metadata": {
    "colab": {},
    "colab_type": "code",
    "id": "cHEKFT4SDuVY"
   }
  },
  {
   "cell_type": "code",
   "execution_count": 4,
   "source": [
    "# Call .shape on your data\n",
    "df.shape"
   ],
   "outputs": [
    {
     "output_type": "execute_result",
     "data": {
      "text/plain": [
       "(702, 9)"
      ]
     },
     "metadata": {},
     "execution_count": 4
    }
   ],
   "metadata": {
    "colab": {},
    "colab_type": "code",
    "id": "rDshwA7tDuVa"
   }
  },
  {
   "cell_type": "code",
   "execution_count": 5,
   "source": [
    "# Call info() on your data\n",
    "df.info()"
   ],
   "outputs": [
    {
     "output_type": "stream",
     "name": "stdout",
     "text": [
      "<class 'pandas.core.frame.DataFrame'>\n",
      "RangeIndex: 702 entries, 0 to 701\n",
      "Data columns (total 9 columns):\n",
      " #   Column                   Non-Null Count  Dtype  \n",
      "---  ------                   --------------  -----  \n",
      " 0   Age                      702 non-null    int64  \n",
      " 1   Gender                   702 non-null    object \n",
      " 2   num_coffeeBags_per_year  702 non-null    int64  \n",
      " 3   spent_week               702 non-null    int64  \n",
      " 4   spent_month              702 non-null    int64  \n",
      " 5   SlrAY                    702 non-null    int64  \n",
      " 6   Distance                 702 non-null    float64\n",
      " 7   Online                   702 non-null    int64  \n",
      " 8   Decision                 474 non-null    float64\n",
      "dtypes: float64(2), int64(6), object(1)\n",
      "memory usage: 49.5+ KB\n"
     ]
    }
   ],
   "metadata": {
    "colab": {},
    "colab_type": "code",
    "id": "iCxo0tomDuVc"
   }
  },
  {
   "cell_type": "code",
   "execution_count": 6,
   "source": [
    "# Call describe() on your data to get the relevant summary statistics for your data \n",
    "df.describe()"
   ],
   "outputs": [
    {
     "output_type": "execute_result",
     "data": {
      "text/plain": [
       "              Age  num_coffeeBags_per_year  spent_week  spent_month  \\\n",
       "count  702.000000               702.000000  702.000000   702.000000   \n",
       "mean    34.243590                 2.710826   32.853276   107.923077   \n",
       "std     13.927945                 1.593629   15.731878    55.348485   \n",
       "min     16.000000                 0.000000    0.000000     0.000000   \n",
       "25%     23.000000                 1.000000   24.250000    62.000000   \n",
       "50%     28.000000                 3.000000   36.000000   113.500000   \n",
       "75%     46.000000                 4.000000   43.000000   150.750000   \n",
       "max     90.000000                 5.000000   62.000000   210.000000   \n",
       "\n",
       "               SlrAY    Distance      Online    Decision  \n",
       "count     702.000000  702.000000  702.000000  474.000000  \n",
       "mean    43819.843305    4.559186    0.531339    0.639241  \n",
       "std     26192.626943    3.116275    0.499373    0.480728  \n",
       "min      1617.000000    0.003168    0.000000    0.000000  \n",
       "25%     22812.250000    1.877812    0.000000    0.000000  \n",
       "50%     41975.000000    4.196167    1.000000    1.000000  \n",
       "75%     60223.000000    6.712022    1.000000    1.000000  \n",
       "max    182058.000000   10.986203    1.000000    1.000000  "
      ],
      "text/html": [
       "<div>\n",
       "<style scoped>\n",
       "    .dataframe tbody tr th:only-of-type {\n",
       "        vertical-align: middle;\n",
       "    }\n",
       "\n",
       "    .dataframe tbody tr th {\n",
       "        vertical-align: top;\n",
       "    }\n",
       "\n",
       "    .dataframe thead th {\n",
       "        text-align: right;\n",
       "    }\n",
       "</style>\n",
       "<table border=\"1\" class=\"dataframe\">\n",
       "  <thead>\n",
       "    <tr style=\"text-align: right;\">\n",
       "      <th></th>\n",
       "      <th>Age</th>\n",
       "      <th>num_coffeeBags_per_year</th>\n",
       "      <th>spent_week</th>\n",
       "      <th>spent_month</th>\n",
       "      <th>SlrAY</th>\n",
       "      <th>Distance</th>\n",
       "      <th>Online</th>\n",
       "      <th>Decision</th>\n",
       "    </tr>\n",
       "  </thead>\n",
       "  <tbody>\n",
       "    <tr>\n",
       "      <th>count</th>\n",
       "      <td>702.000000</td>\n",
       "      <td>702.000000</td>\n",
       "      <td>702.000000</td>\n",
       "      <td>702.000000</td>\n",
       "      <td>702.000000</td>\n",
       "      <td>702.000000</td>\n",
       "      <td>702.000000</td>\n",
       "      <td>474.000000</td>\n",
       "    </tr>\n",
       "    <tr>\n",
       "      <th>mean</th>\n",
       "      <td>34.243590</td>\n",
       "      <td>2.710826</td>\n",
       "      <td>32.853276</td>\n",
       "      <td>107.923077</td>\n",
       "      <td>43819.843305</td>\n",
       "      <td>4.559186</td>\n",
       "      <td>0.531339</td>\n",
       "      <td>0.639241</td>\n",
       "    </tr>\n",
       "    <tr>\n",
       "      <th>std</th>\n",
       "      <td>13.927945</td>\n",
       "      <td>1.593629</td>\n",
       "      <td>15.731878</td>\n",
       "      <td>55.348485</td>\n",
       "      <td>26192.626943</td>\n",
       "      <td>3.116275</td>\n",
       "      <td>0.499373</td>\n",
       "      <td>0.480728</td>\n",
       "    </tr>\n",
       "    <tr>\n",
       "      <th>min</th>\n",
       "      <td>16.000000</td>\n",
       "      <td>0.000000</td>\n",
       "      <td>0.000000</td>\n",
       "      <td>0.000000</td>\n",
       "      <td>1617.000000</td>\n",
       "      <td>0.003168</td>\n",
       "      <td>0.000000</td>\n",
       "      <td>0.000000</td>\n",
       "    </tr>\n",
       "    <tr>\n",
       "      <th>25%</th>\n",
       "      <td>23.000000</td>\n",
       "      <td>1.000000</td>\n",
       "      <td>24.250000</td>\n",
       "      <td>62.000000</td>\n",
       "      <td>22812.250000</td>\n",
       "      <td>1.877812</td>\n",
       "      <td>0.000000</td>\n",
       "      <td>0.000000</td>\n",
       "    </tr>\n",
       "    <tr>\n",
       "      <th>50%</th>\n",
       "      <td>28.000000</td>\n",
       "      <td>3.000000</td>\n",
       "      <td>36.000000</td>\n",
       "      <td>113.500000</td>\n",
       "      <td>41975.000000</td>\n",
       "      <td>4.196167</td>\n",
       "      <td>1.000000</td>\n",
       "      <td>1.000000</td>\n",
       "    </tr>\n",
       "    <tr>\n",
       "      <th>75%</th>\n",
       "      <td>46.000000</td>\n",
       "      <td>4.000000</td>\n",
       "      <td>43.000000</td>\n",
       "      <td>150.750000</td>\n",
       "      <td>60223.000000</td>\n",
       "      <td>6.712022</td>\n",
       "      <td>1.000000</td>\n",
       "      <td>1.000000</td>\n",
       "    </tr>\n",
       "    <tr>\n",
       "      <th>max</th>\n",
       "      <td>90.000000</td>\n",
       "      <td>5.000000</td>\n",
       "      <td>62.000000</td>\n",
       "      <td>210.000000</td>\n",
       "      <td>182058.000000</td>\n",
       "      <td>10.986203</td>\n",
       "      <td>1.000000</td>\n",
       "      <td>1.000000</td>\n",
       "    </tr>\n",
       "  </tbody>\n",
       "</table>\n",
       "</div>"
      ]
     },
     "metadata": {},
     "execution_count": 6
    }
   ],
   "metadata": {
    "colab": {},
    "colab_type": "code",
    "id": "t0ZdmaUeDuVe"
   }
  },
  {
   "cell_type": "markdown",
   "source": [
    "# 2. Cleaning, transforming and visualizing\n",
    "## 2a. Cleaning the data"
   ],
   "metadata": {
    "colab_type": "text",
    "id": "INkujJ6QDuVg"
   }
  },
  {
   "cell_type": "markdown",
   "source": [
    "Some datasets don't require any cleaning, but almost all do. This one does. We need to replace '1.0' and '0.0' in the 'Decision' column by 'YES' and 'NO' respectively, clean up the values of the 'gender' column, and change the column names to words which maximize meaning and clarity. "
   ],
   "metadata": {
    "colab_type": "text",
    "id": "wIMW_rbdDuVh"
   }
  },
  {
   "cell_type": "markdown",
   "source": [
    "First, let's change the name of `spent_week`, `spent_month`, and `SlrAY` to `spent_last_week` and `spent_last_month` and `salary` respectively."
   ],
   "metadata": {
    "colab_type": "text",
    "id": "EEXdBALeDuVi"
   }
  },
  {
   "cell_type": "code",
   "execution_count": 7,
   "source": [
    "# Check out the names of our data's columns \n",
    "df.columns\n",
    "\n"
   ],
   "outputs": [
    {
     "output_type": "execute_result",
     "data": {
      "text/plain": [
       "Index(['Age', 'Gender', 'num_coffeeBags_per_year', 'spent_week', 'spent_month',\n",
       "       'SlrAY', 'Distance', 'Online', 'Decision'],\n",
       "      dtype='object')"
      ]
     },
     "metadata": {},
     "execution_count": 7
    }
   ],
   "metadata": {
    "colab": {},
    "colab_type": "code",
    "id": "rhxy23pbDuVi"
   }
  },
  {
   "cell_type": "code",
   "execution_count": 8,
   "source": [
    "# Make the relevant name changes to spent_week and spent_per_week.\n",
    "new_column_names = {'spent_week': 'spent_last_week',\n",
    "                    'spent_month': 'spent_last_month',\n",
    "                    'SlrAY': 'salary'}\n",
    "\n",
    "df.rename(mapper=new_column_names, axis='columns', inplace=True)\n"
   ],
   "outputs": [],
   "metadata": {
    "colab": {},
    "colab_type": "code",
    "id": "C_D1m6ryDuVk"
   }
  },
  {
   "cell_type": "code",
   "execution_count": 9,
   "source": [
    "# Check out the column names\n",
    "df.columns"
   ],
   "outputs": [
    {
     "output_type": "execute_result",
     "data": {
      "text/plain": [
       "Index(['Age', 'Gender', 'num_coffeeBags_per_year', 'spent_last_week',\n",
       "       'spent_last_month', 'salary', 'Distance', 'Online', 'Decision'],\n",
       "      dtype='object')"
      ]
     },
     "metadata": {},
     "execution_count": 9
    }
   ],
   "metadata": {
    "colab": {},
    "colab_type": "code",
    "id": "3cmdaeg8DuVm"
   }
  },
  {
   "cell_type": "code",
   "execution_count": 10,
   "source": [
    "# Let's have a closer look at the gender column. Its values need cleaning.\n",
    "df['Gender']"
   ],
   "outputs": [
    {
     "output_type": "execute_result",
     "data": {
      "text/plain": [
       "0      Female\n",
       "1        Male\n",
       "2        Male\n",
       "3        Male\n",
       "4      Female\n",
       "        ...  \n",
       "697    Female\n",
       "698      Male\n",
       "699      Male\n",
       "700    Female\n",
       "701      Male\n",
       "Name: Gender, Length: 702, dtype: object"
      ]
     },
     "metadata": {},
     "execution_count": 10
    }
   ],
   "metadata": {
    "colab": {},
    "colab_type": "code",
    "id": "XJK-wbfODuVp"
   }
  },
  {
   "cell_type": "code",
   "execution_count": 11,
   "source": [
    "# See the gender column's unique values \n",
    "df['Gender'].unique()\n"
   ],
   "outputs": [
    {
     "output_type": "execute_result",
     "data": {
      "text/plain": [
       "array(['Female', 'Male', 'female', 'F', 'f ', 'FEMALE', 'MALE', 'male',\n",
       "       'M'], dtype=object)"
      ]
     },
     "metadata": {},
     "execution_count": 11
    }
   ],
   "metadata": {
    "colab": {},
    "colab_type": "code",
    "id": "88bITtgzDuVr"
   }
  },
  {
   "cell_type": "markdown",
   "source": [
    "We can see a bunch of inconsistency here.\n",
    "\n",
    "Use replace() to make the values of the `gender` column just `Female` and `Male`."
   ],
   "metadata": {
    "colab_type": "text",
    "id": "-eGzgGR1DuVt"
   }
  },
  {
   "cell_type": "code",
   "execution_count": 12,
   "source": [
    "# Replace all alternate values for the Female entry with 'Female'\n",
    "\n",
    "gender_is_female = np.logical_or(df['Gender'].str.contains('f', regex=True), df['Gender'].str.contains('F', regex=True))\n",
    "gender_is_male = ~gender_is_female\n",
    "\n",
    "print(df.loc[gender_is_female,'Gender'].unique())\n",
    "print(df.loc[gender_is_male,'Gender'].unique())\n",
    "\n",
    "# replace with Female and Male\n",
    "df.loc[gender_is_female,'Gender'] = 'Female'\n",
    "df.loc[gender_is_male,'Gender'] = 'Male'"
   ],
   "outputs": [
    {
     "output_type": "stream",
     "name": "stdout",
     "text": [
      "['Female' 'female' 'F' 'f ' 'FEMALE']\n",
      "['Male' 'MALE' 'male' 'M']\n"
     ]
    }
   ],
   "metadata": {
    "colab": {},
    "colab_type": "code",
    "id": "h0FOX3I3DuVu"
   }
  },
  {
   "cell_type": "code",
   "execution_count": 13,
   "source": [
    "df['Gender'].unique()"
   ],
   "outputs": [
    {
     "output_type": "execute_result",
     "data": {
      "text/plain": [
       "array(['Female', 'Male'], dtype=object)"
      ]
     },
     "metadata": {},
     "execution_count": 13
    }
   ],
   "metadata": {}
  },
  {
   "cell_type": "code",
   "execution_count": 14,
   "source": [
    "# Check out the unique values of the column 'Decision'\n",
    "df['Decision'].unique()\n"
   ],
   "outputs": [
    {
     "output_type": "execute_result",
     "data": {
      "text/plain": [
       "array([ 1., nan,  0.])"
      ]
     },
     "metadata": {},
     "execution_count": 14
    }
   ],
   "metadata": {
    "colab": {},
    "colab_type": "code",
    "id": "AdhhO4WHDuV2"
   }
  },
  {
   "cell_type": "markdown",
   "source": [
    "We now want to replace `1.0` and `0.0` in the `Decision` column by `YES` and `NO` respectively."
   ],
   "metadata": {
    "colab_type": "text",
    "id": "m1JuiY-iDuV5"
   }
  },
  {
   "cell_type": "code",
   "execution_count": 15,
   "source": [
    "# Replace 1.0 and 0.0 by 'Yes' and 'No'\n",
    "df['Decision'].replace(1.0, 'YES', inplace=True)\n",
    "df['Decision'].replace(0, 'NO', inplace=True)\n"
   ],
   "outputs": [],
   "metadata": {
    "colab": {},
    "colab_type": "code",
    "id": "QsK6gYPgDuV5"
   }
  },
  {
   "cell_type": "code",
   "execution_count": 16,
   "source": [
    "# Check that our replacing those values with 'YES' and 'NO' worked, with unique()\n",
    "df['Decision'].unique()"
   ],
   "outputs": [
    {
     "output_type": "execute_result",
     "data": {
      "text/plain": [
       "array(['YES', nan, 'NO'], dtype=object)"
      ]
     },
     "metadata": {},
     "execution_count": 16
    }
   ],
   "metadata": {
    "colab": {},
    "colab_type": "code",
    "id": "YtHnTZuWDuV9"
   }
  },
  {
   "cell_type": "markdown",
   "source": [
    "## 2b. Train/test split\n",
    "To execute the train/test split properly, we need to do five things: \n",
    "1. Drop all rows with a null value in the `Decision` column, and save the result as NOPrediction: a dataset that will contain all known values for the decision \n",
    "2. Visualize the data using scatter and boxplots of several variables in the y-axis and the decision on the x-axis\n",
    "3. Get the subset of coffeeData with null values in the `Decision` column, and save that subset as Prediction\n",
    "4. Divide the NOPrediction subset into X and y, and then further divide those subsets into train and test subsets for X and y respectively\n",
    "5. Create dummy variables to deal with categorical inputs"
   ],
   "metadata": {
    "colab_type": "text",
    "id": "CKCt-fBlDuWB"
   }
  },
  {
   "cell_type": "markdown",
   "source": [
    "### 1. Drop all null values within the `Decision` column, and save the result as NoPrediction"
   ],
   "metadata": {
    "colab_type": "text",
    "id": "ysHdkIaQDuWB"
   }
  },
  {
   "cell_type": "code",
   "execution_count": 17,
   "source": [
    "# NoPrediction will contain all known values for the decision\n",
    "# Call dropna() on coffeeData, and store the result in a variable NOPrediction \n",
    "# Call describe() on the Decision column of NoPrediction after calling dropna() on coffeeData\n",
    "NoPrediction = df.dropna()\n",
    "print(NoPrediction.columns)\n",
    "NoPrediction.describe()"
   ],
   "outputs": [
    {
     "output_type": "stream",
     "name": "stdout",
     "text": [
      "Index(['Age', 'Gender', 'num_coffeeBags_per_year', 'spent_last_week',\n",
      "       'spent_last_month', 'salary', 'Distance', 'Online', 'Decision'],\n",
      "      dtype='object')\n"
     ]
    },
    {
     "output_type": "execute_result",
     "data": {
      "text/plain": [
       "              Age  num_coffeeBags_per_year  spent_last_week  spent_last_month  \\\n",
       "count  474.000000               474.000000       474.000000        474.000000   \n",
       "mean    35.417722                 2.590717        32.592827        106.727848   \n",
       "std     13.604135                 1.585211        15.758109         56.101085   \n",
       "min     16.000000                 0.000000         0.000000          0.000000   \n",
       "25%     25.000000                 1.000000        24.000000         60.000000   \n",
       "50%     29.000000                 3.000000        35.000000        113.500000   \n",
       "75%     49.000000                 4.000000        43.000000        150.000000   \n",
       "max     90.000000                 5.000000        62.000000        210.000000   \n",
       "\n",
       "              salary    Distance      Online  \n",
       "count     474.000000  474.000000  474.000000  \n",
       "mean    44731.892405    5.102898    0.512658  \n",
       "std     25567.674430    3.354891    0.500368  \n",
       "min      3150.000000    0.003168    0.000000  \n",
       "25%     27284.250000    2.077965    0.000000  \n",
       "50%     42791.500000    4.832168    1.000000  \n",
       "75%     61621.750000    7.869086    1.000000  \n",
       "max    172658.000000   10.986203    1.000000  "
      ],
      "text/html": [
       "<div>\n",
       "<style scoped>\n",
       "    .dataframe tbody tr th:only-of-type {\n",
       "        vertical-align: middle;\n",
       "    }\n",
       "\n",
       "    .dataframe tbody tr th {\n",
       "        vertical-align: top;\n",
       "    }\n",
       "\n",
       "    .dataframe thead th {\n",
       "        text-align: right;\n",
       "    }\n",
       "</style>\n",
       "<table border=\"1\" class=\"dataframe\">\n",
       "  <thead>\n",
       "    <tr style=\"text-align: right;\">\n",
       "      <th></th>\n",
       "      <th>Age</th>\n",
       "      <th>num_coffeeBags_per_year</th>\n",
       "      <th>spent_last_week</th>\n",
       "      <th>spent_last_month</th>\n",
       "      <th>salary</th>\n",
       "      <th>Distance</th>\n",
       "      <th>Online</th>\n",
       "    </tr>\n",
       "  </thead>\n",
       "  <tbody>\n",
       "    <tr>\n",
       "      <th>count</th>\n",
       "      <td>474.000000</td>\n",
       "      <td>474.000000</td>\n",
       "      <td>474.000000</td>\n",
       "      <td>474.000000</td>\n",
       "      <td>474.000000</td>\n",
       "      <td>474.000000</td>\n",
       "      <td>474.000000</td>\n",
       "    </tr>\n",
       "    <tr>\n",
       "      <th>mean</th>\n",
       "      <td>35.417722</td>\n",
       "      <td>2.590717</td>\n",
       "      <td>32.592827</td>\n",
       "      <td>106.727848</td>\n",
       "      <td>44731.892405</td>\n",
       "      <td>5.102898</td>\n",
       "      <td>0.512658</td>\n",
       "    </tr>\n",
       "    <tr>\n",
       "      <th>std</th>\n",
       "      <td>13.604135</td>\n",
       "      <td>1.585211</td>\n",
       "      <td>15.758109</td>\n",
       "      <td>56.101085</td>\n",
       "      <td>25567.674430</td>\n",
       "      <td>3.354891</td>\n",
       "      <td>0.500368</td>\n",
       "    </tr>\n",
       "    <tr>\n",
       "      <th>min</th>\n",
       "      <td>16.000000</td>\n",
       "      <td>0.000000</td>\n",
       "      <td>0.000000</td>\n",
       "      <td>0.000000</td>\n",
       "      <td>3150.000000</td>\n",
       "      <td>0.003168</td>\n",
       "      <td>0.000000</td>\n",
       "    </tr>\n",
       "    <tr>\n",
       "      <th>25%</th>\n",
       "      <td>25.000000</td>\n",
       "      <td>1.000000</td>\n",
       "      <td>24.000000</td>\n",
       "      <td>60.000000</td>\n",
       "      <td>27284.250000</td>\n",
       "      <td>2.077965</td>\n",
       "      <td>0.000000</td>\n",
       "    </tr>\n",
       "    <tr>\n",
       "      <th>50%</th>\n",
       "      <td>29.000000</td>\n",
       "      <td>3.000000</td>\n",
       "      <td>35.000000</td>\n",
       "      <td>113.500000</td>\n",
       "      <td>42791.500000</td>\n",
       "      <td>4.832168</td>\n",
       "      <td>1.000000</td>\n",
       "    </tr>\n",
       "    <tr>\n",
       "      <th>75%</th>\n",
       "      <td>49.000000</td>\n",
       "      <td>4.000000</td>\n",
       "      <td>43.000000</td>\n",
       "      <td>150.000000</td>\n",
       "      <td>61621.750000</td>\n",
       "      <td>7.869086</td>\n",
       "      <td>1.000000</td>\n",
       "    </tr>\n",
       "    <tr>\n",
       "      <th>max</th>\n",
       "      <td>90.000000</td>\n",
       "      <td>5.000000</td>\n",
       "      <td>62.000000</td>\n",
       "      <td>210.000000</td>\n",
       "      <td>172658.000000</td>\n",
       "      <td>10.986203</td>\n",
       "      <td>1.000000</td>\n",
       "    </tr>\n",
       "  </tbody>\n",
       "</table>\n",
       "</div>"
      ]
     },
     "metadata": {},
     "execution_count": 17
    }
   ],
   "metadata": {
    "colab": {},
    "colab_type": "code",
    "id": "pvgH6SM4DuWC"
   }
  },
  {
   "cell_type": "markdown",
   "source": [
    "### 2. Visualize the data using scatter and boxplots of several variables in the y-axis and the decision on the x-axis"
   ],
   "metadata": {
    "colab_type": "text",
    "id": "XfTK5Ec6DuWE"
   }
  },
  {
   "cell_type": "code",
   "execution_count": 18,
   "source": [
    "# Exploring our new NOPrediction dataset\n",
    "# Make a boxplot on NOPrediction where the x axis is Decision, and the y axis is spent_last_week\n",
    "\n",
    "\n"
   ],
   "outputs": [],
   "metadata": {
    "colab": {},
    "colab_type": "code",
    "id": "5O-M-t3tDuWE"
   }
  },
  {
   "cell_type": "markdown",
   "source": [
    "Can you admissibly conclude anything from this boxplot? Write your answer here:\n",
    "\n"
   ],
   "metadata": {
    "colab_type": "text",
    "id": "mVqg_HI7DuWG"
   }
  },
  {
   "cell_type": "code",
   "execution_count": 19,
   "source": [
    "# Make a scatterplot on NOPrediction, where x is distance, y is spent_last_month and hue is Decision \n",
    "plt.title('Distance from Head store vs amount spent last month')\n",
    "\n",
    "sns.scatterplot(x='Distance', y='spent_last_month', hue='Decision', data=NoPrediction)\n",
    "plt.show()"
   ],
   "outputs": [
    {
     "output_type": "display_data",
     "data": {
      "text/plain": [
       "<Figure size 432x288 with 1 Axes>"
      ],
      "image/svg+xml": "<?xml version=\"1.0\" encoding=\"utf-8\" standalone=\"no\"?>\n<!DOCTYPE svg PUBLIC \"-//W3C//DTD SVG 1.1//EN\"\n  \"http://www.w3.org/Graphics/SVG/1.1/DTD/svg11.dtd\">\n<svg height=\"277.314375pt\" version=\"1.1\" viewBox=\"0 0 389.24375 277.314375\" width=\"389.24375pt\" xmlns=\"http://www.w3.org/2000/svg\" xmlns:xlink=\"http://www.w3.org/1999/xlink\">\n <metadata>\n  <rdf:RDF xmlns:cc=\"http://creativecommons.org/ns#\" xmlns:dc=\"http://purl.org/dc/elements/1.1/\" xmlns:rdf=\"http://www.w3.org/1999/02/22-rdf-syntax-ns#\">\n   <cc:Work>\n    <dc:type rdf:resource=\"http://purl.org/dc/dcmitype/StillImage\"/>\n    <dc:date>2021-08-10T08:50:59.210675</dc:date>\n    <dc:format>image/svg+xml</dc:format>\n    <dc:creator>\n     <cc:Agent>\n      <dc:title>Matplotlib v3.4.2, https://matplotlib.org/</dc:title>\n     </cc:Agent>\n    </dc:creator>\n   </cc:Work>\n  </rdf:RDF>\n </metadata>\n <defs>\n  <style type=\"text/css\">*{stroke-linecap:butt;stroke-linejoin:round;}</style>\n </defs>\n <g id=\"figure_1\">\n  <g id=\"patch_1\">\n   <path d=\"M 0 277.314375 \nL 389.24375 277.314375 \nL 389.24375 0 \nL 0 0 \nz\n\" style=\"fill:none;\"/>\n  </g>\n  <g id=\"axes_1\">\n   <g id=\"patch_2\">\n    <path d=\"M 47.24375 239.758125 \nL 382.04375 239.758125 \nL 382.04375 22.318125 \nL 47.24375 22.318125 \nz\n\" style=\"fill:#ffffff;\"/>\n   </g>\n   <g id=\"PathCollection_1\">\n    <defs>\n     <path d=\"M 0 3 \nC 0.795609 3 1.55874 2.683901 2.12132 2.12132 \nC 2.683901 1.55874 3 0.795609 3 -0 \nC 3 -0.795609 2.683901 -1.55874 2.12132 -2.12132 \nC 1.55874 -2.683901 0.795609 -3 0 -3 \nC -0.795609 -3 -1.55874 -2.683901 -2.12132 -2.12132 \nC -2.683901 -1.55874 -3 -0.795609 -3 0 \nC -3 0.795609 -2.683901 1.55874 -2.12132 2.12132 \nC -1.55874 2.683901 -0.795609 3 0 3 \nz\n\" id=\"C0_0_da500a9a78\"/>\n    </defs>\n    <g clip-path=\"url(#pa07806dccc)\">\n     <use style=\"fill:#1f77b4;stroke:#ffffff;stroke-width:0.48;\" x=\"62.461932\" xlink:href=\"#C0_0_da500a9a78\" y=\"161.159683\"/>\n    </g>\n    <g clip-path=\"url(#pa07806dccc)\">\n     <use style=\"fill:#1f77b4;stroke:#ffffff;stroke-width:0.48;\" x=\"87.758609\" xlink:href=\"#C0_0_da500a9a78\" y=\"117.859943\"/>\n    </g>\n    <g clip-path=\"url(#pa07806dccc)\">\n     <use style=\"fill:#1f77b4;stroke:#ffffff;stroke-width:0.48;\" x=\"89.140799\" xlink:href=\"#C0_0_da500a9a78\" y=\"195.987735\"/>\n    </g>\n    <g clip-path=\"url(#pa07806dccc)\">\n     <use style=\"fill:#1f77b4;stroke:#ffffff;stroke-width:0.48;\" x=\"91.093516\" xlink:href=\"#C0_0_da500a9a78\" y=\"203.518125\"/>\n    </g>\n    <g clip-path=\"url(#pa07806dccc)\">\n     <use style=\"fill:#1f77b4;stroke:#ffffff;stroke-width:0.48;\" x=\"93.823302\" xlink:href=\"#C0_0_da500a9a78\" y=\"39.732151\"/>\n    </g>\n    <g clip-path=\"url(#pa07806dccc)\">\n     <use style=\"fill:#1f77b4;stroke:#ffffff;stroke-width:0.48;\" x=\"99.153935\" xlink:href=\"#C0_0_da500a9a78\" y=\"93.386177\"/>\n    </g>\n    <g clip-path=\"url(#pa07806dccc)\">\n     <use style=\"fill:#1f77b4;stroke:#ffffff;stroke-width:0.48;\" x=\"102.434136\" xlink:href=\"#C0_0_da500a9a78\" y=\"64.205917\"/>\n    </g>\n    <g clip-path=\"url(#pa07806dccc)\">\n     <use style=\"fill:#1f77b4;stroke:#ffffff;stroke-width:0.48;\" x=\"105.51002\" xlink:href=\"#C0_0_da500a9a78\" y=\"90.562281\"/>\n    </g>\n    <g clip-path=\"url(#pa07806dccc)\">\n     <use style=\"fill:#1f77b4;stroke:#ffffff;stroke-width:0.48;\" x=\"129.284364\" xlink:href=\"#C0_0_da500a9a78\" y=\"81.149294\"/>\n    </g>\n    <g clip-path=\"url(#pa07806dccc)\">\n     <use style=\"fill:#1f77b4;stroke:#ffffff;stroke-width:0.48;\" x=\"135.369223\" xlink:href=\"#C0_0_da500a9a78\" y=\"170.57267\"/>\n    </g>\n    <g clip-path=\"url(#pa07806dccc)\">\n     <use style=\"fill:#1f77b4;stroke:#ffffff;stroke-width:0.48;\" x=\"154.892299\" xlink:href=\"#C0_0_da500a9a78\" y=\"118.801242\"/>\n    </g>\n    <g clip-path=\"url(#pa07806dccc)\">\n     <use style=\"fill:#ff7f0e;stroke:#ffffff;stroke-width:0.48;\" x=\"174.345142\" xlink:href=\"#C0_0_da500a9a78\" y=\"183.750852\"/>\n    </g>\n    <g clip-path=\"url(#pa07806dccc)\">\n     <use style=\"fill:#1f77b4;stroke:#ffffff;stroke-width:0.48;\" x=\"186.592723\" xlink:href=\"#C0_0_da500a9a78\" y=\"51.969034\"/>\n    </g>\n    <g clip-path=\"url(#pa07806dccc)\">\n     <use style=\"fill:#ff7f0e;stroke:#ffffff;stroke-width:0.48;\" x=\"188.59895\" xlink:href=\"#C0_0_da500a9a78\" y=\"145.157606\"/>\n    </g>\n    <g clip-path=\"url(#pa07806dccc)\">\n     <use style=\"fill:#ff7f0e;stroke:#ffffff;stroke-width:0.48;\" x=\"189.799167\" xlink:href=\"#C0_0_da500a9a78\" y=\"164.924878\"/>\n    </g>\n    <g clip-path=\"url(#pa07806dccc)\">\n     <use style=\"fill:#1f77b4;stroke:#ffffff;stroke-width:0.48;\" x=\"192.255036\" xlink:href=\"#C0_0_da500a9a78\" y=\"50.086437\"/>\n    </g>\n    <g clip-path=\"url(#pa07806dccc)\">\n     <use style=\"fill:#1f77b4;stroke:#ffffff;stroke-width:0.48;\" x=\"196.576931\" xlink:href=\"#C0_0_da500a9a78\" y=\"95.268774\"/>\n    </g>\n    <g clip-path=\"url(#pa07806dccc)\">\n     <use style=\"fill:#1f77b4;stroke:#ffffff;stroke-width:0.48;\" x=\"203.651711\" xlink:href=\"#C0_0_da500a9a78\" y=\"87.738385\"/>\n    </g>\n    <g clip-path=\"url(#pa07806dccc)\">\n     <use style=\"fill:#ff7f0e;stroke:#ffffff;stroke-width:0.48;\" x=\"205.856312\" xlink:href=\"#C0_0_da500a9a78\" y=\"229.874489\"/>\n    </g>\n    <g clip-path=\"url(#pa07806dccc)\">\n     <use style=\"fill:#ff7f0e;stroke:#ffffff;stroke-width:0.48;\" x=\"206.08169\" xlink:href=\"#C0_0_da500a9a78\" y=\"135.744619\"/>\n    </g>\n    <g clip-path=\"url(#pa07806dccc)\">\n     <use style=\"fill:#ff7f0e;stroke:#ffffff;stroke-width:0.48;\" x=\"227.106574\" xlink:href=\"#C0_0_da500a9a78\" y=\"196.929034\"/>\n    </g>\n    <g clip-path=\"url(#pa07806dccc)\">\n     <use style=\"fill:#1f77b4;stroke:#ffffff;stroke-width:0.48;\" x=\"228.941664\" xlink:href=\"#C0_0_da500a9a78\" y=\"103.740463\"/>\n    </g>\n    <g clip-path=\"url(#pa07806dccc)\">\n     <use style=\"fill:#1f77b4;stroke:#ffffff;stroke-width:0.48;\" x=\"232.546256\" xlink:href=\"#C0_0_da500a9a78\" y=\"78.325398\"/>\n    </g>\n    <g clip-path=\"url(#pa07806dccc)\">\n     <use style=\"fill:#ff7f0e;stroke:#ffffff;stroke-width:0.48;\" x=\"245.938369\" xlink:href=\"#C0_0_da500a9a78\" y=\"146.098904\"/>\n    </g>\n    <g clip-path=\"url(#pa07806dccc)\">\n     <use style=\"fill:#1f77b4;stroke:#ffffff;stroke-width:0.48;\" x=\"248.937353\" xlink:href=\"#C0_0_da500a9a78\" y=\"116.918644\"/>\n    </g>\n    <g clip-path=\"url(#pa07806dccc)\">\n     <use style=\"fill:#1f77b4;stroke:#ffffff;stroke-width:0.48;\" x=\"259.7328\" xlink:href=\"#C0_0_da500a9a78\" y=\"116.918644\"/>\n    </g>\n    <g clip-path=\"url(#pa07806dccc)\">\n     <use style=\"fill:#ff7f0e;stroke:#ffffff;stroke-width:0.48;\" x=\"264.313197\" xlink:href=\"#C0_0_da500a9a78\" y=\"152.687995\"/>\n    </g>\n    <g clip-path=\"url(#pa07806dccc)\">\n     <use style=\"fill:#ff7f0e;stroke:#ffffff;stroke-width:0.48;\" x=\"272.418131\" xlink:href=\"#C0_0_da500a9a78\" y=\"149.864099\"/>\n    </g>\n    <g clip-path=\"url(#pa07806dccc)\">\n     <use style=\"fill:#ff7f0e;stroke:#ffffff;stroke-width:0.48;\" x=\"276.158247\" xlink:href=\"#C0_0_da500a9a78\" y=\"164.924878\"/>\n    </g>\n    <g clip-path=\"url(#pa07806dccc)\">\n     <use style=\"fill:#1f77b4;stroke:#ffffff;stroke-width:0.48;\" x=\"302.544104\" xlink:href=\"#C0_0_da500a9a78\" y=\"95.268774\"/>\n    </g>\n    <g clip-path=\"url(#pa07806dccc)\">\n     <use style=\"fill:#ff7f0e;stroke:#ffffff;stroke-width:0.48;\" x=\"312.747971\" xlink:href=\"#C0_0_da500a9a78\" y=\"200.694229\"/>\n    </g>\n    <g clip-path=\"url(#pa07806dccc)\">\n     <use style=\"fill:#1f77b4;stroke:#ffffff;stroke-width:0.48;\" x=\"314.097088\" xlink:href=\"#C0_0_da500a9a78\" y=\"40.67345\"/>\n    </g>\n    <g clip-path=\"url(#pa07806dccc)\">\n     <use style=\"fill:#ff7f0e;stroke:#ffffff;stroke-width:0.48;\" x=\"317.069503\" xlink:href=\"#C0_0_da500a9a78\" y=\"115.036047\"/>\n    </g>\n    <g clip-path=\"url(#pa07806dccc)\">\n     <use style=\"fill:#ff7f0e;stroke:#ffffff;stroke-width:0.48;\" x=\"323.730338\" xlink:href=\"#C0_0_da500a9a78\" y=\"115.977346\"/>\n    </g>\n    <g clip-path=\"url(#pa07806dccc)\">\n     <use style=\"fill:#1f77b4;stroke:#ffffff;stroke-width:0.48;\" x=\"335.905889\" xlink:href=\"#C0_0_da500a9a78\" y=\"48.203839\"/>\n    </g>\n    <g clip-path=\"url(#pa07806dccc)\">\n     <use style=\"fill:#ff7f0e;stroke:#ffffff;stroke-width:0.48;\" x=\"340.868343\" xlink:href=\"#C0_0_da500a9a78\" y=\"163.042281\"/>\n    </g>\n    <g clip-path=\"url(#pa07806dccc)\">\n     <use style=\"fill:#ff7f0e;stroke:#ffffff;stroke-width:0.48;\" x=\"341.497486\" xlink:href=\"#C0_0_da500a9a78\" y=\"116.918644\"/>\n    </g>\n    <g clip-path=\"url(#pa07806dccc)\">\n     <use style=\"fill:#ff7f0e;stroke:#ffffff;stroke-width:0.48;\" x=\"345.092698\" xlink:href=\"#C0_0_da500a9a78\" y=\"182.809554\"/>\n    </g>\n    <g clip-path=\"url(#pa07806dccc)\">\n     <use style=\"fill:#ff7f0e;stroke:#ffffff;stroke-width:0.48;\" x=\"346.074251\" xlink:href=\"#C0_0_da500a9a78\" y=\"123.507735\"/>\n    </g>\n    <g clip-path=\"url(#pa07806dccc)\">\n     <use style=\"fill:#1f77b4;stroke:#ffffff;stroke-width:0.48;\" x=\"361.167067\" xlink:href=\"#C0_0_da500a9a78\" y=\"34.084359\"/>\n    </g>\n    <g clip-path=\"url(#pa07806dccc)\">\n     <use style=\"fill:#1f77b4;stroke:#ffffff;stroke-width:0.48;\" x=\"366.252398\" xlink:href=\"#C0_0_da500a9a78\" y=\"83.031891\"/>\n    </g>\n    <g clip-path=\"url(#pa07806dccc)\">\n     <use style=\"fill:#1f77b4;stroke:#ffffff;stroke-width:0.48;\" x=\"71.182087\" xlink:href=\"#C0_0_da500a9a78\" y=\"103.740463\"/>\n    </g>\n    <g clip-path=\"url(#pa07806dccc)\">\n     <use style=\"fill:#1f77b4;stroke:#ffffff;stroke-width:0.48;\" x=\"72.191491\" xlink:href=\"#C0_0_da500a9a78\" y=\"167.748774\"/>\n    </g>\n    <g clip-path=\"url(#pa07806dccc)\">\n     <use style=\"fill:#ff7f0e;stroke:#ffffff;stroke-width:0.48;\" x=\"72.274739\" xlink:href=\"#C0_0_da500a9a78\" y=\"229.874489\"/>\n    </g>\n    <g clip-path=\"url(#pa07806dccc)\">\n     <use style=\"fill:#ff7f0e;stroke:#ffffff;stroke-width:0.48;\" x=\"72.603125\" xlink:href=\"#C0_0_da500a9a78\" y=\"229.874489\"/>\n    </g>\n    <g clip-path=\"url(#pa07806dccc)\">\n     <use style=\"fill:#1f77b4;stroke:#ffffff;stroke-width:0.48;\" x=\"77.426666\" xlink:href=\"#C0_0_da500a9a78\" y=\"148.9228\"/>\n    </g>\n    <g clip-path=\"url(#pa07806dccc)\">\n     <use style=\"fill:#1f77b4;stroke:#ffffff;stroke-width:0.48;\" x=\"79.427698\" xlink:href=\"#C0_0_da500a9a78\" y=\"119.742541\"/>\n    </g>\n    <g clip-path=\"url(#pa07806dccc)\">\n     <use style=\"fill:#1f77b4;stroke:#ffffff;stroke-width:0.48;\" x=\"84.041272\" xlink:href=\"#C0_0_da500a9a78\" y=\"178.10306\"/>\n    </g>\n    <g clip-path=\"url(#pa07806dccc)\">\n     <use style=\"fill:#1f77b4;stroke:#ffffff;stroke-width:0.48;\" x=\"86.609938\" xlink:href=\"#C0_0_da500a9a78\" y=\"92.444878\"/>\n    </g>\n    <g clip-path=\"url(#pa07806dccc)\">\n     <use style=\"fill:#1f77b4;stroke:#ffffff;stroke-width:0.48;\" x=\"91.721856\" xlink:href=\"#C0_0_da500a9a78\" y=\"136.685917\"/>\n    </g>\n    <g clip-path=\"url(#pa07806dccc)\">\n     <use style=\"fill:#1f77b4;stroke:#ffffff;stroke-width:0.48;\" x=\"97.946039\" xlink:href=\"#C0_0_da500a9a78\" y=\"112.212151\"/>\n    </g>\n    <g clip-path=\"url(#pa07806dccc)\">\n     <use style=\"fill:#1f77b4;stroke:#ffffff;stroke-width:0.48;\" x=\"98.001545\" xlink:href=\"#C0_0_da500a9a78\" y=\"114.094748\"/>\n    </g>\n    <g clip-path=\"url(#pa07806dccc)\">\n     <use style=\"fill:#1f77b4;stroke:#ffffff;stroke-width:0.48;\" x=\"99.595823\" xlink:href=\"#C0_0_da500a9a78\" y=\"204.459424\"/>\n    </g>\n    <g clip-path=\"url(#pa07806dccc)\">\n     <use style=\"fill:#1f77b4;stroke:#ffffff;stroke-width:0.48;\" x=\"103.541399\" xlink:href=\"#C0_0_da500a9a78\" y=\"162.100982\"/>\n    </g>\n    <g clip-path=\"url(#pa07806dccc)\">\n     <use style=\"fill:#1f77b4;stroke:#ffffff;stroke-width:0.48;\" x=\"104.169578\" xlink:href=\"#C0_0_da500a9a78\" y=\"134.80332\"/>\n    </g>\n    <g clip-path=\"url(#pa07806dccc)\">\n     <use style=\"fill:#1f77b4;stroke:#ffffff;stroke-width:0.48;\" x=\"112.77107\" xlink:href=\"#C0_0_da500a9a78\" y=\"66.088515\"/>\n    </g>\n    <g clip-path=\"url(#pa07806dccc)\">\n     <use style=\"fill:#1f77b4;stroke:#ffffff;stroke-width:0.48;\" x=\"113.755843\" xlink:href=\"#C0_0_da500a9a78\" y=\"199.75293\"/>\n    </g>\n    <g clip-path=\"url(#pa07806dccc)\">\n     <use style=\"fill:#1f77b4;stroke:#ffffff;stroke-width:0.48;\" x=\"129.322368\" xlink:href=\"#C0_0_da500a9a78\" y=\"183.750852\"/>\n    </g>\n    <g clip-path=\"url(#pa07806dccc)\">\n     <use style=\"fill:#1f77b4;stroke:#ffffff;stroke-width:0.48;\" x=\"130.796529\" xlink:href=\"#C0_0_da500a9a78\" y=\"85.855787\"/>\n    </g>\n    <g clip-path=\"url(#pa07806dccc)\">\n     <use style=\"fill:#1f77b4;stroke:#ffffff;stroke-width:0.48;\" x=\"131.086341\" xlink:href=\"#C0_0_da500a9a78\" y=\"140.451112\"/>\n    </g>\n    <g clip-path=\"url(#pa07806dccc)\">\n     <use style=\"fill:#1f77b4;stroke:#ffffff;stroke-width:0.48;\" x=\"134.347713\" xlink:href=\"#C0_0_da500a9a78\" y=\"116.918644\"/>\n    </g>\n    <g clip-path=\"url(#pa07806dccc)\">\n     <use style=\"fill:#1f77b4;stroke:#ffffff;stroke-width:0.48;\" x=\"136.405454\" xlink:href=\"#C0_0_da500a9a78\" y=\"200.694229\"/>\n    </g>\n    <g clip-path=\"url(#pa07806dccc)\">\n     <use style=\"fill:#1f77b4;stroke:#ffffff;stroke-width:0.48;\" x=\"138.046321\" xlink:href=\"#C0_0_da500a9a78\" y=\"81.149294\"/>\n    </g>\n    <g clip-path=\"url(#pa07806dccc)\">\n     <use style=\"fill:#1f77b4;stroke:#ffffff;stroke-width:0.48;\" x=\"141.928035\" xlink:href=\"#C0_0_da500a9a78\" y=\"118.801242\"/>\n    </g>\n    <g clip-path=\"url(#pa07806dccc)\">\n     <use style=\"fill:#1f77b4;stroke:#ffffff;stroke-width:0.48;\" x=\"143.340638\" xlink:href=\"#C0_0_da500a9a78\" y=\"55.734229\"/>\n    </g>\n    <g clip-path=\"url(#pa07806dccc)\">\n     <use style=\"fill:#1f77b4;stroke:#ffffff;stroke-width:0.48;\" x=\"145.589176\" xlink:href=\"#C0_0_da500a9a78\" y=\"174.337865\"/>\n    </g>\n    <g clip-path=\"url(#pa07806dccc)\">\n     <use style=\"fill:#1f77b4;stroke:#ffffff;stroke-width:0.48;\" x=\"145.673717\" xlink:href=\"#C0_0_da500a9a78\" y=\"74.560203\"/>\n    </g>\n    <g clip-path=\"url(#pa07806dccc)\">\n     <use style=\"fill:#1f77b4;stroke:#ffffff;stroke-width:0.48;\" x=\"151.034982\" xlink:href=\"#C0_0_da500a9a78\" y=\"120.683839\"/>\n    </g>\n    <g clip-path=\"url(#pa07806dccc)\">\n     <use style=\"fill:#1f77b4;stroke:#ffffff;stroke-width:0.48;\" x=\"151.507716\" xlink:href=\"#C0_0_da500a9a78\" y=\"132.920722\"/>\n    </g>\n    <g clip-path=\"url(#pa07806dccc)\">\n     <use style=\"fill:#1f77b4;stroke:#ffffff;stroke-width:0.48;\" x=\"155.782092\" xlink:href=\"#C0_0_da500a9a78\" y=\"118.801242\"/>\n    </g>\n    <g clip-path=\"url(#pa07806dccc)\">\n     <use style=\"fill:#ff7f0e;stroke:#ffffff;stroke-width:0.48;\" x=\"166.279626\" xlink:href=\"#C0_0_da500a9a78\" y=\"183.750852\"/>\n    </g>\n    <g clip-path=\"url(#pa07806dccc)\">\n     <use style=\"fill:#1f77b4;stroke:#ffffff;stroke-width:0.48;\" x=\"166.305566\" xlink:href=\"#C0_0_da500a9a78\" y=\"166.807476\"/>\n    </g>\n    <g clip-path=\"url(#pa07806dccc)\">\n     <use style=\"fill:#ff7f0e;stroke:#ffffff;stroke-width:0.48;\" x=\"166.521297\" xlink:href=\"#C0_0_da500a9a78\" y=\"229.874489\"/>\n    </g>\n    <g clip-path=\"url(#pa07806dccc)\">\n     <use style=\"fill:#ff7f0e;stroke:#ffffff;stroke-width:0.48;\" x=\"169.512028\" xlink:href=\"#C0_0_da500a9a78\" y=\"175.279164\"/>\n    </g>\n    <g clip-path=\"url(#pa07806dccc)\">\n     <use style=\"fill:#1f77b4;stroke:#ffffff;stroke-width:0.48;\" x=\"170.310227\" xlink:href=\"#C0_0_da500a9a78\" y=\"70.795008\"/>\n    </g>\n    <g clip-path=\"url(#pa07806dccc)\">\n     <use style=\"fill:#ff7f0e;stroke:#ffffff;stroke-width:0.48;\" x=\"175.01159\" xlink:href=\"#C0_0_da500a9a78\" y=\"179.044359\"/>\n    </g>\n    <g clip-path=\"url(#pa07806dccc)\">\n     <use style=\"fill:#1f77b4;stroke:#ffffff;stroke-width:0.48;\" x=\"175.679152\" xlink:href=\"#C0_0_da500a9a78\" y=\"81.149294\"/>\n    </g>\n    <g clip-path=\"url(#pa07806dccc)\">\n     <use style=\"fill:#ff7f0e;stroke:#ffffff;stroke-width:0.48;\" x=\"177.158941\" xlink:href=\"#C0_0_da500a9a78\" y=\"149.864099\"/>\n    </g>\n    <g clip-path=\"url(#pa07806dccc)\">\n     <use style=\"fill:#ff7f0e;stroke:#ffffff;stroke-width:0.48;\" x=\"179.151068\" xlink:href=\"#C0_0_da500a9a78\" y=\"210.107216\"/>\n    </g>\n    <g clip-path=\"url(#pa07806dccc)\">\n     <use style=\"fill:#ff7f0e;stroke:#ffffff;stroke-width:0.48;\" x=\"184.203847\" xlink:href=\"#C0_0_da500a9a78\" y=\"172.455268\"/>\n    </g>\n    <g clip-path=\"url(#pa07806dccc)\">\n     <use style=\"fill:#1f77b4;stroke:#ffffff;stroke-width:0.48;\" x=\"184.982341\" xlink:href=\"#C0_0_da500a9a78\" y=\"107.505657\"/>\n    </g>\n    <g clip-path=\"url(#pa07806dccc)\">\n     <use style=\"fill:#ff7f0e;stroke:#ffffff;stroke-width:0.48;\" x=\"186.572111\" xlink:href=\"#C0_0_da500a9a78\" y=\"178.10306\"/>\n    </g>\n    <g clip-path=\"url(#pa07806dccc)\">\n     <use style=\"fill:#ff7f0e;stroke:#ffffff;stroke-width:0.48;\" x=\"188.104076\" xlink:href=\"#C0_0_da500a9a78\" y=\"135.744619\"/>\n    </g>\n    <g clip-path=\"url(#pa07806dccc)\">\n     <use style=\"fill:#ff7f0e;stroke:#ffffff;stroke-width:0.48;\" x=\"189.689293\" xlink:href=\"#C0_0_da500a9a78\" y=\"176.220463\"/>\n    </g>\n    <g clip-path=\"url(#pa07806dccc)\">\n     <use style=\"fill:#1f77b4;stroke:#ffffff;stroke-width:0.48;\" x=\"193.824026\" xlink:href=\"#C0_0_da500a9a78\" y=\"83.031891\"/>\n    </g>\n    <g clip-path=\"url(#pa07806dccc)\">\n     <use style=\"fill:#ff7f0e;stroke:#ffffff;stroke-width:0.48;\" x=\"193.921167\" xlink:href=\"#C0_0_da500a9a78\" y=\"163.042281\"/>\n    </g>\n    <g clip-path=\"url(#pa07806dccc)\">\n     <use style=\"fill:#ff7f0e;stroke:#ffffff;stroke-width:0.48;\" x=\"195.619763\" xlink:href=\"#C0_0_da500a9a78\" y=\"181.868255\"/>\n    </g>\n    <g clip-path=\"url(#pa07806dccc)\">\n     <use style=\"fill:#1f77b4;stroke:#ffffff;stroke-width:0.48;\" x=\"196.290603\" xlink:href=\"#C0_0_da500a9a78\" y=\"131.979424\"/>\n    </g>\n    <g clip-path=\"url(#pa07806dccc)\">\n     <use style=\"fill:#1f77b4;stroke:#ffffff;stroke-width:0.48;\" x=\"199.222357\" xlink:href=\"#C0_0_da500a9a78\" y=\"113.15345\"/>\n    </g>\n    <g clip-path=\"url(#pa07806dccc)\">\n     <use style=\"fill:#ff7f0e;stroke:#ffffff;stroke-width:0.48;\" x=\"200.666972\" xlink:href=\"#C0_0_da500a9a78\" y=\"181.868255\"/>\n    </g>\n    <g clip-path=\"url(#pa07806dccc)\">\n     <use style=\"fill:#1f77b4;stroke:#ffffff;stroke-width:0.48;\" x=\"201.180443\" xlink:href=\"#C0_0_da500a9a78\" y=\"132.920722\"/>\n    </g>\n    <g clip-path=\"url(#pa07806dccc)\">\n     <use style=\"fill:#1f77b4;stroke:#ffffff;stroke-width:0.48;\" x=\"203.46617\" xlink:href=\"#C0_0_da500a9a78\" y=\"116.918644\"/>\n    </g>\n    <g clip-path=\"url(#pa07806dccc)\">\n     <use style=\"fill:#1f77b4;stroke:#ffffff;stroke-width:0.48;\" x=\"205.772848\" xlink:href=\"#C0_0_da500a9a78\" y=\"78.325398\"/>\n    </g>\n    <g clip-path=\"url(#pa07806dccc)\">\n     <use style=\"fill:#1f77b4;stroke:#ffffff;stroke-width:0.48;\" x=\"205.855067\" xlink:href=\"#C0_0_da500a9a78\" y=\"43.497346\"/>\n    </g>\n    <g clip-path=\"url(#pa07806dccc)\">\n     <use style=\"fill:#ff7f0e;stroke:#ffffff;stroke-width:0.48;\" x=\"208.232072\" xlink:href=\"#C0_0_da500a9a78\" y=\"204.459424\"/>\n    </g>\n    <g clip-path=\"url(#pa07806dccc)\">\n     <use style=\"fill:#1f77b4;stroke:#ffffff;stroke-width:0.48;\" x=\"209.197564\" xlink:href=\"#C0_0_da500a9a78\" y=\"116.918644\"/>\n    </g>\n    <g clip-path=\"url(#pa07806dccc)\">\n     <use style=\"fill:#1f77b4;stroke:#ffffff;stroke-width:0.48;\" x=\"212.058786\" xlink:href=\"#C0_0_da500a9a78\" y=\"75.501502\"/>\n    </g>\n    <g clip-path=\"url(#pa07806dccc)\">\n     <use style=\"fill:#ff7f0e;stroke:#ffffff;stroke-width:0.48;\" x=\"213.341339\" xlink:href=\"#C0_0_da500a9a78\" y=\"229.874489\"/>\n    </g>\n    <g clip-path=\"url(#pa07806dccc)\">\n     <use style=\"fill:#1f77b4;stroke:#ffffff;stroke-width:0.48;\" x=\"215.51933\" xlink:href=\"#C0_0_da500a9a78\" y=\"110.329554\"/>\n    </g>\n    <g clip-path=\"url(#pa07806dccc)\">\n     <use style=\"fill:#1f77b4;stroke:#ffffff;stroke-width:0.48;\" x=\"221.156646\" xlink:href=\"#C0_0_da500a9a78\" y=\"103.740463\"/>\n    </g>\n    <g clip-path=\"url(#pa07806dccc)\">\n     <use style=\"fill:#ff7f0e;stroke:#ffffff;stroke-width:0.48;\" x=\"221.78196\" xlink:href=\"#C0_0_da500a9a78\" y=\"163.98358\"/>\n    </g>\n    <g clip-path=\"url(#pa07806dccc)\">\n     <use style=\"fill:#ff7f0e;stroke:#ffffff;stroke-width:0.48;\" x=\"231.241276\" xlink:href=\"#C0_0_da500a9a78\" y=\"184.692151\"/>\n    </g>\n    <g clip-path=\"url(#pa07806dccc)\">\n     <use style=\"fill:#ff7f0e;stroke:#ffffff;stroke-width:0.48;\" x=\"235.985065\" xlink:href=\"#C0_0_da500a9a78\" y=\"191.281242\"/>\n    </g>\n    <g clip-path=\"url(#pa07806dccc)\">\n     <use style=\"fill:#ff7f0e;stroke:#ffffff;stroke-width:0.48;\" x=\"239.434803\" xlink:href=\"#C0_0_da500a9a78\" y=\"192.222541\"/>\n    </g>\n    <g clip-path=\"url(#pa07806dccc)\">\n     <use style=\"fill:#1f77b4;stroke:#ffffff;stroke-width:0.48;\" x=\"240.080022\" xlink:href=\"#C0_0_da500a9a78\" y=\"42.556047\"/>\n    </g>\n    <g clip-path=\"url(#pa07806dccc)\">\n     <use style=\"fill:#ff7f0e;stroke:#ffffff;stroke-width:0.48;\" x=\"247.950664\" xlink:href=\"#C0_0_da500a9a78\" y=\"185.63345\"/>\n    </g>\n    <g clip-path=\"url(#pa07806dccc)\">\n     <use style=\"fill:#ff7f0e;stroke:#ffffff;stroke-width:0.48;\" x=\"250.425025\" xlink:href=\"#C0_0_da500a9a78\" y=\"170.57267\"/>\n    </g>\n    <g clip-path=\"url(#pa07806dccc)\">\n     <use style=\"fill:#1f77b4;stroke:#ffffff;stroke-width:0.48;\" x=\"252.671472\" xlink:href=\"#C0_0_da500a9a78\" y=\"47.262541\"/>\n    </g>\n    <g clip-path=\"url(#pa07806dccc)\">\n     <use style=\"fill:#1f77b4;stroke:#ffffff;stroke-width:0.48;\" x=\"254.617197\" xlink:href=\"#C0_0_da500a9a78\" y=\"97.151372\"/>\n    </g>\n    <g clip-path=\"url(#pa07806dccc)\">\n     <use style=\"fill:#ff7f0e;stroke:#ffffff;stroke-width:0.48;\" x=\"257.08148\" xlink:href=\"#C0_0_da500a9a78\" y=\"135.744619\"/>\n    </g>\n    <g clip-path=\"url(#pa07806dccc)\">\n     <use style=\"fill:#1f77b4;stroke:#ffffff;stroke-width:0.48;\" x=\"257.776838\" xlink:href=\"#C0_0_da500a9a78\" y=\"34.084359\"/>\n    </g>\n    <g clip-path=\"url(#pa07806dccc)\">\n     <use style=\"fill:#ff7f0e;stroke:#ffffff;stroke-width:0.48;\" x=\"258.231262\" xlink:href=\"#C0_0_da500a9a78\" y=\"147.981502\"/>\n    </g>\n    <g clip-path=\"url(#pa07806dccc)\">\n     <use style=\"fill:#1f77b4;stroke:#ffffff;stroke-width:0.48;\" x=\"260.774568\" xlink:href=\"#C0_0_da500a9a78\" y=\"129.155528\"/>\n    </g>\n    <g clip-path=\"url(#pa07806dccc)\">\n     <use style=\"fill:#1f77b4;stroke:#ffffff;stroke-width:0.48;\" x=\"262.81151\" xlink:href=\"#C0_0_da500a9a78\" y=\"114.094748\"/>\n    </g>\n    <g clip-path=\"url(#pa07806dccc)\">\n     <use style=\"fill:#ff7f0e;stroke:#ffffff;stroke-width:0.48;\" x=\"266.952378\" xlink:href=\"#C0_0_da500a9a78\" y=\"229.874489\"/>\n    </g>\n    <g clip-path=\"url(#pa07806dccc)\">\n     <use style=\"fill:#1f77b4;stroke:#ffffff;stroke-width:0.48;\" x=\"275.373398\" xlink:href=\"#C0_0_da500a9a78\" y=\"49.145138\"/>\n    </g>\n    <g clip-path=\"url(#pa07806dccc)\">\n     <use style=\"fill:#1f77b4;stroke:#ffffff;stroke-width:0.48;\" x=\"275.587035\" xlink:href=\"#C0_0_da500a9a78\" y=\"114.094748\"/>\n    </g>\n    <g clip-path=\"url(#pa07806dccc)\">\n     <use style=\"fill:#1f77b4;stroke:#ffffff;stroke-width:0.48;\" x=\"281.614214\" xlink:href=\"#C0_0_da500a9a78\" y=\"64.205917\"/>\n    </g>\n    <g clip-path=\"url(#pa07806dccc)\">\n     <use style=\"fill:#ff7f0e;stroke:#ffffff;stroke-width:0.48;\" x=\"284.935717\" xlink:href=\"#C0_0_da500a9a78\" y=\"167.748774\"/>\n    </g>\n    <g clip-path=\"url(#pa07806dccc)\">\n     <use style=\"fill:#ff7f0e;stroke:#ffffff;stroke-width:0.48;\" x=\"292.632468\" xlink:href=\"#C0_0_da500a9a78\" y=\"122.566437\"/>\n    </g>\n    <g clip-path=\"url(#pa07806dccc)\">\n     <use style=\"fill:#ff7f0e;stroke:#ffffff;stroke-width:0.48;\" x=\"295.022753\" xlink:href=\"#C0_0_da500a9a78\" y=\"137.627216\"/>\n    </g>\n    <g clip-path=\"url(#pa07806dccc)\">\n     <use style=\"fill:#1f77b4;stroke:#ffffff;stroke-width:0.48;\" x=\"299.810201\" xlink:href=\"#C0_0_da500a9a78\" y=\"78.325398\"/>\n    </g>\n    <g clip-path=\"url(#pa07806dccc)\">\n     <use style=\"fill:#ff7f0e;stroke:#ffffff;stroke-width:0.48;\" x=\"306.408037\" xlink:href=\"#C0_0_da500a9a78\" y=\"168.690073\"/>\n    </g>\n    <g clip-path=\"url(#pa07806dccc)\">\n     <use style=\"fill:#ff7f0e;stroke:#ffffff;stroke-width:0.48;\" x=\"306.827741\" xlink:href=\"#C0_0_da500a9a78\" y=\"169.631372\"/>\n    </g>\n    <g clip-path=\"url(#pa07806dccc)\">\n     <use style=\"fill:#ff7f0e;stroke:#ffffff;stroke-width:0.48;\" x=\"310.247897\" xlink:href=\"#C0_0_da500a9a78\" y=\"136.685917\"/>\n    </g>\n    <g clip-path=\"url(#pa07806dccc)\">\n     <use style=\"fill:#ff7f0e;stroke:#ffffff;stroke-width:0.48;\" x=\"317.397902\" xlink:href=\"#C0_0_da500a9a78\" y=\"117.859943\"/>\n    </g>\n    <g clip-path=\"url(#pa07806dccc)\">\n     <use style=\"fill:#ff7f0e;stroke:#ffffff;stroke-width:0.48;\" x=\"317.624853\" xlink:href=\"#C0_0_da500a9a78\" y=\"182.809554\"/>\n    </g>\n    <g clip-path=\"url(#pa07806dccc)\">\n     <use style=\"fill:#ff7f0e;stroke:#ffffff;stroke-width:0.48;\" x=\"317.787107\" xlink:href=\"#C0_0_da500a9a78\" y=\"161.159683\"/>\n    </g>\n    <g clip-path=\"url(#pa07806dccc)\">\n     <use style=\"fill:#1f77b4;stroke:#ffffff;stroke-width:0.48;\" x=\"317.919157\" xlink:href=\"#C0_0_da500a9a78\" y=\"34.084359\"/>\n    </g>\n    <g clip-path=\"url(#pa07806dccc)\">\n     <use style=\"fill:#ff7f0e;stroke:#ffffff;stroke-width:0.48;\" x=\"318.296674\" xlink:href=\"#C0_0_da500a9a78\" y=\"209.165917\"/>\n    </g>\n    <g clip-path=\"url(#pa07806dccc)\">\n     <use style=\"fill:#ff7f0e;stroke:#ffffff;stroke-width:0.48;\" x=\"319.113281\" xlink:href=\"#C0_0_da500a9a78\" y=\"110.329554\"/>\n    </g>\n    <g clip-path=\"url(#pa07806dccc)\">\n     <use style=\"fill:#1f77b4;stroke:#ffffff;stroke-width:0.48;\" x=\"321.868295\" xlink:href=\"#C0_0_da500a9a78\" y=\"48.203839\"/>\n    </g>\n    <g clip-path=\"url(#pa07806dccc)\">\n     <use style=\"fill:#1f77b4;stroke:#ffffff;stroke-width:0.48;\" x=\"324.513882\" xlink:href=\"#C0_0_da500a9a78\" y=\"93.386177\"/>\n    </g>\n    <g clip-path=\"url(#pa07806dccc)\">\n     <use style=\"fill:#ff7f0e;stroke:#ffffff;stroke-width:0.48;\" x=\"324.530721\" xlink:href=\"#C0_0_da500a9a78\" y=\"144.216307\"/>\n    </g>\n    <g clip-path=\"url(#pa07806dccc)\">\n     <use style=\"fill:#1f77b4;stroke:#ffffff;stroke-width:0.48;\" x=\"329.718396\" xlink:href=\"#C0_0_da500a9a78\" y=\"88.679683\"/>\n    </g>\n    <g clip-path=\"url(#pa07806dccc)\">\n     <use style=\"fill:#ff7f0e;stroke:#ffffff;stroke-width:0.48;\" x=\"334.755395\" xlink:href=\"#C0_0_da500a9a78\" y=\"167.748774\"/>\n    </g>\n    <g clip-path=\"url(#pa07806dccc)\">\n     <use style=\"fill:#ff7f0e;stroke:#ffffff;stroke-width:0.48;\" x=\"335.581862\" xlink:href=\"#C0_0_da500a9a78\" y=\"180.926956\"/>\n    </g>\n    <g clip-path=\"url(#pa07806dccc)\">\n     <use style=\"fill:#ff7f0e;stroke:#ffffff;stroke-width:0.48;\" x=\"343.549658\" xlink:href=\"#C0_0_da500a9a78\" y=\"166.807476\"/>\n    </g>\n    <g clip-path=\"url(#pa07806dccc)\">\n     <use style=\"fill:#1f77b4;stroke:#ffffff;stroke-width:0.48;\" x=\"345.180098\" xlink:href=\"#C0_0_da500a9a78\" y=\"51.027735\"/>\n    </g>\n    <g clip-path=\"url(#pa07806dccc)\">\n     <use style=\"fill:#1f77b4;stroke:#ffffff;stroke-width:0.48;\" x=\"345.510725\" xlink:href=\"#C0_0_da500a9a78\" y=\"35.966956\"/>\n    </g>\n    <g clip-path=\"url(#pa07806dccc)\">\n     <use style=\"fill:#1f77b4;stroke:#ffffff;stroke-width:0.48;\" x=\"345.563791\" xlink:href=\"#C0_0_da500a9a78\" y=\"65.147216\"/>\n    </g>\n    <g clip-path=\"url(#pa07806dccc)\">\n     <use style=\"fill:#1f77b4;stroke:#ffffff;stroke-width:0.48;\" x=\"345.998627\" xlink:href=\"#C0_0_da500a9a78\" y=\"77.384099\"/>\n    </g>\n    <g clip-path=\"url(#pa07806dccc)\">\n     <use style=\"fill:#1f77b4;stroke:#ffffff;stroke-width:0.48;\" x=\"353.307618\" xlink:href=\"#C0_0_da500a9a78\" y=\"83.031891\"/>\n    </g>\n    <g clip-path=\"url(#pa07806dccc)\">\n     <use style=\"fill:#ff7f0e;stroke:#ffffff;stroke-width:0.48;\" x=\"354.443845\" xlink:href=\"#C0_0_da500a9a78\" y=\"104.681761\"/>\n    </g>\n    <g clip-path=\"url(#pa07806dccc)\">\n     <use style=\"fill:#ff7f0e;stroke:#ffffff;stroke-width:0.48;\" x=\"356.762577\" xlink:href=\"#C0_0_da500a9a78\" y=\"205.400722\"/>\n    </g>\n    <g clip-path=\"url(#pa07806dccc)\">\n     <use style=\"fill:#ff7f0e;stroke:#ffffff;stroke-width:0.48;\" x=\"357.764831\" xlink:href=\"#C0_0_da500a9a78\" y=\"178.10306\"/>\n    </g>\n    <g clip-path=\"url(#pa07806dccc)\">\n     <use style=\"fill:#ff7f0e;stroke:#ffffff;stroke-width:0.48;\" x=\"358.750355\" xlink:href=\"#C0_0_da500a9a78\" y=\"191.281242\"/>\n    </g>\n    <g clip-path=\"url(#pa07806dccc)\">\n     <use style=\"fill:#ff7f0e;stroke:#ffffff;stroke-width:0.48;\" x=\"359.209777\" xlink:href=\"#C0_0_da500a9a78\" y=\"112.212151\"/>\n    </g>\n    <g clip-path=\"url(#pa07806dccc)\">\n     <use style=\"fill:#1f77b4;stroke:#ffffff;stroke-width:0.48;\" x=\"362.221383\" xlink:href=\"#C0_0_da500a9a78\" y=\"67.029813\"/>\n    </g>\n    <g clip-path=\"url(#pa07806dccc)\">\n     <use style=\"fill:#ff7f0e;stroke:#ffffff;stroke-width:0.48;\" x=\"365.608987\" xlink:href=\"#C0_0_da500a9a78\" y=\"182.809554\"/>\n    </g>\n    <g clip-path=\"url(#pa07806dccc)\">\n     <use style=\"fill:#ff7f0e;stroke:#ffffff;stroke-width:0.48;\" x=\"366.825568\" xlink:href=\"#C0_0_da500a9a78\" y=\"104.681761\"/>\n    </g>\n    <g clip-path=\"url(#pa07806dccc)\">\n     <use style=\"fill:#1f77b4;stroke:#ffffff;stroke-width:0.48;\" x=\"68.168624\" xlink:href=\"#C0_0_da500a9a78\" y=\"110.329554\"/>\n    </g>\n    <g clip-path=\"url(#pa07806dccc)\">\n     <use style=\"fill:#1f77b4;stroke:#ffffff;stroke-width:0.48;\" x=\"70.944486\" xlink:href=\"#C0_0_da500a9a78\" y=\"179.044359\"/>\n    </g>\n    <g clip-path=\"url(#pa07806dccc)\">\n     <use style=\"fill:#1f77b4;stroke:#ffffff;stroke-width:0.48;\" x=\"77.20852\" xlink:href=\"#C0_0_da500a9a78\" y=\"154.570593\"/>\n    </g>\n    <g clip-path=\"url(#pa07806dccc)\">\n     <use style=\"fill:#ff7f0e;stroke:#ffffff;stroke-width:0.48;\" x=\"80.483264\" xlink:href=\"#C0_0_da500a9a78\" y=\"229.874489\"/>\n    </g>\n    <g clip-path=\"url(#pa07806dccc)\">\n     <use style=\"fill:#1f77b4;stroke:#ffffff;stroke-width:0.48;\" x=\"82.245779\" xlink:href=\"#C0_0_da500a9a78\" y=\"187.516047\"/>\n    </g>\n    <g clip-path=\"url(#pa07806dccc)\">\n     <use style=\"fill:#1f77b4;stroke:#ffffff;stroke-width:0.48;\" x=\"82.535558\" xlink:href=\"#C0_0_da500a9a78\" y=\"171.513969\"/>\n    </g>\n    <g clip-path=\"url(#pa07806dccc)\">\n     <use style=\"fill:#1f77b4;stroke:#ffffff;stroke-width:0.48;\" x=\"86.368759\" xlink:href=\"#C0_0_da500a9a78\" y=\"95.268774\"/>\n    </g>\n    <g clip-path=\"url(#pa07806dccc)\">\n     <use style=\"fill:#ff7f0e;stroke:#ffffff;stroke-width:0.48;\" x=\"87.592416\" xlink:href=\"#C0_0_da500a9a78\" y=\"211.048515\"/>\n    </g>\n    <g clip-path=\"url(#pa07806dccc)\">\n     <use style=\"fill:#ff7f0e;stroke:#ffffff;stroke-width:0.48;\" x=\"91.374403\" xlink:href=\"#C0_0_da500a9a78\" y=\"229.874489\"/>\n    </g>\n    <g clip-path=\"url(#pa07806dccc)\">\n     <use style=\"fill:#1f77b4;stroke:#ffffff;stroke-width:0.48;\" x=\"91.668235\" xlink:href=\"#C0_0_da500a9a78\" y=\"166.807476\"/>\n    </g>\n    <g clip-path=\"url(#pa07806dccc)\">\n     <use style=\"fill:#1f77b4;stroke:#ffffff;stroke-width:0.48;\" x=\"95.631717\" xlink:href=\"#C0_0_da500a9a78\" y=\"124.449034\"/>\n    </g>\n    <g clip-path=\"url(#pa07806dccc)\">\n     <use style=\"fill:#1f77b4;stroke:#ffffff;stroke-width:0.48;\" x=\"99.389245\" xlink:href=\"#C0_0_da500a9a78\" y=\"90.562281\"/>\n    </g>\n    <g clip-path=\"url(#pa07806dccc)\">\n     <use style=\"fill:#1f77b4;stroke:#ffffff;stroke-width:0.48;\" x=\"101.229087\" xlink:href=\"#C0_0_da500a9a78\" y=\"171.513969\"/>\n    </g>\n    <g clip-path=\"url(#pa07806dccc)\">\n     <use style=\"fill:#1f77b4;stroke:#ffffff;stroke-width:0.48;\" x=\"108.266948\" xlink:href=\"#C0_0_da500a9a78\" y=\"107.505657\"/>\n    </g>\n    <g clip-path=\"url(#pa07806dccc)\">\n     <use style=\"fill:#1f77b4;stroke:#ffffff;stroke-width:0.48;\" x=\"121.084718\" xlink:href=\"#C0_0_da500a9a78\" y=\"157.394489\"/>\n    </g>\n    <g clip-path=\"url(#pa07806dccc)\">\n     <use style=\"fill:#1f77b4;stroke:#ffffff;stroke-width:0.48;\" x=\"127.034681\" xlink:href=\"#C0_0_da500a9a78\" y=\"88.679683\"/>\n    </g>\n    <g clip-path=\"url(#pa07806dccc)\">\n     <use style=\"fill:#1f77b4;stroke:#ffffff;stroke-width:0.48;\" x=\"129.898914\" xlink:href=\"#C0_0_da500a9a78\" y=\"48.203839\"/>\n    </g>\n    <g clip-path=\"url(#pa07806dccc)\">\n     <use style=\"fill:#1f77b4;stroke:#ffffff;stroke-width:0.48;\" x=\"131.900347\" xlink:href=\"#C0_0_da500a9a78\" y=\"78.325398\"/>\n    </g>\n    <g clip-path=\"url(#pa07806dccc)\">\n     <use style=\"fill:#1f77b4;stroke:#ffffff;stroke-width:0.48;\" x=\"134.73489\" xlink:href=\"#C0_0_da500a9a78\" y=\"94.327476\"/>\n    </g>\n    <g clip-path=\"url(#pa07806dccc)\">\n     <use style=\"fill:#ff7f0e;stroke:#ffffff;stroke-width:0.48;\" x=\"138.652186\" xlink:href=\"#C0_0_da500a9a78\" y=\"229.874489\"/>\n    </g>\n    <g clip-path=\"url(#pa07806dccc)\">\n     <use style=\"fill:#1f77b4;stroke:#ffffff;stroke-width:0.48;\" x=\"140.025017\" xlink:href=\"#C0_0_da500a9a78\" y=\"168.690073\"/>\n    </g>\n    <g clip-path=\"url(#pa07806dccc)\">\n     <use style=\"fill:#1f77b4;stroke:#ffffff;stroke-width:0.48;\" x=\"150.386516\" xlink:href=\"#C0_0_da500a9a78\" y=\"84.914489\"/>\n    </g>\n    <g clip-path=\"url(#pa07806dccc)\">\n     <use style=\"fill:#1f77b4;stroke:#ffffff;stroke-width:0.48;\" x=\"156.128344\" xlink:href=\"#C0_0_da500a9a78\" y=\"54.79293\"/>\n    </g>\n    <g clip-path=\"url(#pa07806dccc)\">\n     <use style=\"fill:#1f77b4;stroke:#ffffff;stroke-width:0.48;\" x=\"160.015724\" xlink:href=\"#C0_0_da500a9a78\" y=\"63.264619\"/>\n    </g>\n    <g clip-path=\"url(#pa07806dccc)\">\n     <use style=\"fill:#ff7f0e;stroke:#ffffff;stroke-width:0.48;\" x=\"161.923193\" xlink:href=\"#C0_0_da500a9a78\" y=\"180.926956\"/>\n    </g>\n    <g clip-path=\"url(#pa07806dccc)\">\n     <use style=\"fill:#1f77b4;stroke:#ffffff;stroke-width:0.48;\" x=\"162.273921\" xlink:href=\"#C0_0_da500a9a78\" y=\"72.677606\"/>\n    </g>\n    <g clip-path=\"url(#pa07806dccc)\">\n     <use style=\"fill:#ff7f0e;stroke:#ffffff;stroke-width:0.48;\" x=\"163.44017\" xlink:href=\"#C0_0_da500a9a78\" y=\"229.874489\"/>\n    </g>\n    <g clip-path=\"url(#pa07806dccc)\">\n     <use style=\"fill:#1f77b4;stroke:#ffffff;stroke-width:0.48;\" x=\"164.70294\" xlink:href=\"#C0_0_da500a9a78\" y=\"95.268774\"/>\n    </g>\n    <g clip-path=\"url(#pa07806dccc)\">\n     <use style=\"fill:#1f77b4;stroke:#ffffff;stroke-width:0.48;\" x=\"178.012737\" xlink:href=\"#C0_0_da500a9a78\" y=\"75.501502\"/>\n    </g>\n    <g clip-path=\"url(#pa07806dccc)\">\n     <use style=\"fill:#1f77b4;stroke:#ffffff;stroke-width:0.48;\" x=\"184.932443\" xlink:href=\"#C0_0_da500a9a78\" y=\"125.390333\"/>\n    </g>\n    <g clip-path=\"url(#pa07806dccc)\">\n     <use style=\"fill:#1f77b4;stroke:#ffffff;stroke-width:0.48;\" x=\"185.232832\" xlink:href=\"#C0_0_da500a9a78\" y=\"104.681761\"/>\n    </g>\n    <g clip-path=\"url(#pa07806dccc)\">\n     <use style=\"fill:#ff7f0e;stroke:#ffffff;stroke-width:0.48;\" x=\"185.507475\" xlink:href=\"#C0_0_da500a9a78\" y=\"170.57267\"/>\n    </g>\n    <g clip-path=\"url(#pa07806dccc)\">\n     <use style=\"fill:#ff7f0e;stroke:#ffffff;stroke-width:0.48;\" x=\"189.400888\" xlink:href=\"#C0_0_da500a9a78\" y=\"229.874489\"/>\n    </g>\n    <g clip-path=\"url(#pa07806dccc)\">\n     <use style=\"fill:#ff7f0e;stroke:#ffffff;stroke-width:0.48;\" x=\"190.049331\" xlink:href=\"#C0_0_da500a9a78\" y=\"194.105138\"/>\n    </g>\n    <g clip-path=\"url(#pa07806dccc)\">\n     <use style=\"fill:#ff7f0e;stroke:#ffffff;stroke-width:0.48;\" x=\"193.976611\" xlink:href=\"#C0_0_da500a9a78\" y=\"229.874489\"/>\n    </g>\n    <g clip-path=\"url(#pa07806dccc)\">\n     <use style=\"fill:#ff7f0e;stroke:#ffffff;stroke-width:0.48;\" x=\"194.90926\" xlink:href=\"#C0_0_da500a9a78\" y=\"229.874489\"/>\n    </g>\n    <g clip-path=\"url(#pa07806dccc)\">\n     <use style=\"fill:#1f77b4;stroke:#ffffff;stroke-width:0.48;\" x=\"199.598735\" xlink:href=\"#C0_0_da500a9a78\" y=\"105.62306\"/>\n    </g>\n    <g clip-path=\"url(#pa07806dccc)\">\n     <use style=\"fill:#1f77b4;stroke:#ffffff;stroke-width:0.48;\" x=\"200.713655\" xlink:href=\"#C0_0_da500a9a78\" y=\"54.79293\"/>\n    </g>\n    <g clip-path=\"url(#pa07806dccc)\">\n     <use style=\"fill:#1f77b4;stroke:#ffffff;stroke-width:0.48;\" x=\"203.31337\" xlink:href=\"#C0_0_da500a9a78\" y=\"103.740463\"/>\n    </g>\n    <g clip-path=\"url(#pa07806dccc)\">\n     <use style=\"fill:#1f77b4;stroke:#ffffff;stroke-width:0.48;\" x=\"205.498206\" xlink:href=\"#C0_0_da500a9a78\" y=\"122.566437\"/>\n    </g>\n    <g clip-path=\"url(#pa07806dccc)\">\n     <use style=\"fill:#ff7f0e;stroke:#ffffff;stroke-width:0.48;\" x=\"210.726655\" xlink:href=\"#C0_0_da500a9a78\" y=\"181.868255\"/>\n    </g>\n    <g clip-path=\"url(#pa07806dccc)\">\n     <use style=\"fill:#1f77b4;stroke:#ffffff;stroke-width:0.48;\" x=\"210.731667\" xlink:href=\"#C0_0_da500a9a78\" y=\"97.151372\"/>\n    </g>\n    <g clip-path=\"url(#pa07806dccc)\">\n     <use style=\"fill:#1f77b4;stroke:#ffffff;stroke-width:0.48;\" x=\"212.860624\" xlink:href=\"#C0_0_da500a9a78\" y=\"95.268774\"/>\n    </g>\n    <g clip-path=\"url(#pa07806dccc)\">\n     <use style=\"fill:#ff7f0e;stroke:#ffffff;stroke-width:0.48;\" x=\"213.732358\" xlink:href=\"#C0_0_da500a9a78\" y=\"179.044359\"/>\n    </g>\n    <g clip-path=\"url(#pa07806dccc)\">\n     <use style=\"fill:#ff7f0e;stroke:#ffffff;stroke-width:0.48;\" x=\"214.559063\" xlink:href=\"#C0_0_da500a9a78\" y=\"171.513969\"/>\n    </g>\n    <g clip-path=\"url(#pa07806dccc)\">\n     <use style=\"fill:#1f77b4;stroke:#ffffff;stroke-width:0.48;\" x=\"216.399584\" xlink:href=\"#C0_0_da500a9a78\" y=\"115.036047\"/>\n    </g>\n    <g clip-path=\"url(#pa07806dccc)\">\n     <use style=\"fill:#1f77b4;stroke:#ffffff;stroke-width:0.48;\" x=\"221.623432\" xlink:href=\"#C0_0_da500a9a78\" y=\"44.438644\"/>\n    </g>\n    <g clip-path=\"url(#pa07806dccc)\">\n     <use style=\"fill:#1f77b4;stroke:#ffffff;stroke-width:0.48;\" x=\"221.788117\" xlink:href=\"#C0_0_da500a9a78\" y=\"92.444878\"/>\n    </g>\n    <g clip-path=\"url(#pa07806dccc)\">\n     <use style=\"fill:#ff7f0e;stroke:#ffffff;stroke-width:0.48;\" x=\"222.218432\" xlink:href=\"#C0_0_da500a9a78\" y=\"173.396567\"/>\n    </g>\n    <g clip-path=\"url(#pa07806dccc)\">\n     <use style=\"fill:#1f77b4;stroke:#ffffff;stroke-width:0.48;\" x=\"222.967519\" xlink:href=\"#C0_0_da500a9a78\" y=\"55.734229\"/>\n    </g>\n    <g clip-path=\"url(#pa07806dccc)\">\n     <use style=\"fill:#ff7f0e;stroke:#ffffff;stroke-width:0.48;\" x=\"235.83706\" xlink:href=\"#C0_0_da500a9a78\" y=\"229.874489\"/>\n    </g>\n    <g clip-path=\"url(#pa07806dccc)\">\n     <use style=\"fill:#ff7f0e;stroke:#ffffff;stroke-width:0.48;\" x=\"236.522718\" xlink:href=\"#C0_0_da500a9a78\" y=\"199.75293\"/>\n    </g>\n    <g clip-path=\"url(#pa07806dccc)\">\n     <use style=\"fill:#1f77b4;stroke:#ffffff;stroke-width:0.48;\" x=\"237.374677\" xlink:href=\"#C0_0_da500a9a78\" y=\"79.266696\"/>\n    </g>\n    <g clip-path=\"url(#pa07806dccc)\">\n     <use style=\"fill:#1f77b4;stroke:#ffffff;stroke-width:0.48;\" x=\"242.561048\" xlink:href=\"#C0_0_da500a9a78\" y=\"87.738385\"/>\n    </g>\n    <g clip-path=\"url(#pa07806dccc)\">\n     <use style=\"fill:#1f77b4;stroke:#ffffff;stroke-width:0.48;\" x=\"249.989141\" xlink:href=\"#C0_0_da500a9a78\" y=\"67.029813\"/>\n    </g>\n    <g clip-path=\"url(#pa07806dccc)\">\n     <use style=\"fill:#1f77b4;stroke:#ffffff;stroke-width:0.48;\" x=\"251.037953\" xlink:href=\"#C0_0_da500a9a78\" y=\"128.214229\"/>\n    </g>\n    <g clip-path=\"url(#pa07806dccc)\">\n     <use style=\"fill:#1f77b4;stroke:#ffffff;stroke-width:0.48;\" x=\"255.554547\" xlink:href=\"#C0_0_da500a9a78\" y=\"92.444878\"/>\n    </g>\n    <g clip-path=\"url(#pa07806dccc)\">\n     <use style=\"fill:#ff7f0e;stroke:#ffffff;stroke-width:0.48;\" x=\"258.223649\" xlink:href=\"#C0_0_da500a9a78\" y=\"192.222541\"/>\n    </g>\n    <g clip-path=\"url(#pa07806dccc)\">\n     <use style=\"fill:#1f77b4;stroke:#ffffff;stroke-width:0.48;\" x=\"267.541467\" xlink:href=\"#C0_0_da500a9a78\" y=\"99.033969\"/>\n    </g>\n    <g clip-path=\"url(#pa07806dccc)\">\n     <use style=\"fill:#1f77b4;stroke:#ffffff;stroke-width:0.48;\" x=\"267.654442\" xlink:href=\"#C0_0_da500a9a78\" y=\"119.742541\"/>\n    </g>\n    <g clip-path=\"url(#pa07806dccc)\">\n     <use style=\"fill:#ff7f0e;stroke:#ffffff;stroke-width:0.48;\" x=\"272.142845\" xlink:href=\"#C0_0_da500a9a78\" y=\"179.985657\"/>\n    </g>\n    <g clip-path=\"url(#pa07806dccc)\">\n     <use style=\"fill:#1f77b4;stroke:#ffffff;stroke-width:0.48;\" x=\"279.884864\" xlink:href=\"#C0_0_da500a9a78\" y=\"113.15345\"/>\n    </g>\n    <g clip-path=\"url(#pa07806dccc)\">\n     <use style=\"fill:#ff7f0e;stroke:#ffffff;stroke-width:0.48;\" x=\"283.057142\" xlink:href=\"#C0_0_da500a9a78\" y=\"166.807476\"/>\n    </g>\n    <g clip-path=\"url(#pa07806dccc)\">\n     <use style=\"fill:#ff7f0e;stroke:#ffffff;stroke-width:0.48;\" x=\"294.923919\" xlink:href=\"#C0_0_da500a9a78\" y=\"206.342021\"/>\n    </g>\n    <g clip-path=\"url(#pa07806dccc)\">\n     <use style=\"fill:#ff7f0e;stroke:#ffffff;stroke-width:0.48;\" x=\"299.409233\" xlink:href=\"#C0_0_da500a9a78\" y=\"179.985657\"/>\n    </g>\n    <g clip-path=\"url(#pa07806dccc)\">\n     <use style=\"fill:#ff7f0e;stroke:#ffffff;stroke-width:0.48;\" x=\"316.952995\" xlink:href=\"#C0_0_da500a9a78\" y=\"108.446956\"/>\n    </g>\n    <g clip-path=\"url(#pa07806dccc)\">\n     <use style=\"fill:#ff7f0e;stroke:#ffffff;stroke-width:0.48;\" x=\"319.50264\" xlink:href=\"#C0_0_da500a9a78\" y=\"182.809554\"/>\n    </g>\n    <g clip-path=\"url(#pa07806dccc)\">\n     <use style=\"fill:#ff7f0e;stroke:#ffffff;stroke-width:0.48;\" x=\"320.191607\" xlink:href=\"#C0_0_da500a9a78\" y=\"188.457346\"/>\n    </g>\n    <g clip-path=\"url(#pa07806dccc)\">\n     <use style=\"fill:#ff7f0e;stroke:#ffffff;stroke-width:0.48;\" x=\"333.503223\" xlink:href=\"#C0_0_da500a9a78\" y=\"150.805398\"/>\n    </g>\n    <g clip-path=\"url(#pa07806dccc)\">\n     <use style=\"fill:#ff7f0e;stroke:#ffffff;stroke-width:0.48;\" x=\"339.093904\" xlink:href=\"#C0_0_da500a9a78\" y=\"106.564359\"/>\n    </g>\n    <g clip-path=\"url(#pa07806dccc)\">\n     <use style=\"fill:#ff7f0e;stroke:#ffffff;stroke-width:0.48;\" x=\"339.774753\" xlink:href=\"#C0_0_da500a9a78\" y=\"181.868255\"/>\n    </g>\n    <g clip-path=\"url(#pa07806dccc)\">\n     <use style=\"fill:#ff7f0e;stroke:#ffffff;stroke-width:0.48;\" x=\"342.164817\" xlink:href=\"#C0_0_da500a9a78\" y=\"131.979424\"/>\n    </g>\n    <g clip-path=\"url(#pa07806dccc)\">\n     <use style=\"fill:#ff7f0e;stroke:#ffffff;stroke-width:0.48;\" x=\"342.620981\" xlink:href=\"#C0_0_da500a9a78\" y=\"193.163839\"/>\n    </g>\n    <g clip-path=\"url(#pa07806dccc)\">\n     <use style=\"fill:#ff7f0e;stroke:#ffffff;stroke-width:0.48;\" x=\"348.324826\" xlink:href=\"#C0_0_da500a9a78\" y=\"118.801242\"/>\n    </g>\n    <g clip-path=\"url(#pa07806dccc)\">\n     <use style=\"fill:#1f77b4;stroke:#ffffff;stroke-width:0.48;\" x=\"351.677303\" xlink:href=\"#C0_0_da500a9a78\" y=\"57.616826\"/>\n    </g>\n    <g clip-path=\"url(#pa07806dccc)\">\n     <use style=\"fill:#ff7f0e;stroke:#ffffff;stroke-width:0.48;\" x=\"355.019156\" xlink:href=\"#C0_0_da500a9a78\" y=\"229.874489\"/>\n    </g>\n    <g clip-path=\"url(#pa07806dccc)\">\n     <use style=\"fill:#ff7f0e;stroke:#ffffff;stroke-width:0.48;\" x=\"356.618689\" xlink:href=\"#C0_0_da500a9a78\" y=\"180.926956\"/>\n    </g>\n    <g clip-path=\"url(#pa07806dccc)\">\n     <use style=\"fill:#1f77b4;stroke:#ffffff;stroke-width:0.48;\" x=\"360.277213\" xlink:href=\"#C0_0_da500a9a78\" y=\"94.327476\"/>\n    </g>\n    <g clip-path=\"url(#pa07806dccc)\">\n     <use style=\"fill:#ff7f0e;stroke:#ffffff;stroke-width:0.48;\" x=\"361.470303\" xlink:href=\"#C0_0_da500a9a78\" y=\"209.165917\"/>\n    </g>\n    <g clip-path=\"url(#pa07806dccc)\">\n     <use style=\"fill:#1f77b4;stroke:#ffffff;stroke-width:0.48;\" x=\"362.317365\" xlink:href=\"#C0_0_da500a9a78\" y=\"46.321242\"/>\n    </g>\n    <g clip-path=\"url(#pa07806dccc)\">\n     <use style=\"fill:#1f77b4;stroke:#ffffff;stroke-width:0.48;\" x=\"66.039395\" xlink:href=\"#C0_0_da500a9a78\" y=\"170.57267\"/>\n    </g>\n    <g clip-path=\"url(#pa07806dccc)\">\n     <use style=\"fill:#1f77b4;stroke:#ffffff;stroke-width:0.48;\" x=\"66.195445\" xlink:href=\"#C0_0_da500a9a78\" y=\"51.969034\"/>\n    </g>\n    <g clip-path=\"url(#pa07806dccc)\">\n     <use style=\"fill:#1f77b4;stroke:#ffffff;stroke-width:0.48;\" x=\"66.689209\" xlink:href=\"#C0_0_da500a9a78\" y=\"144.216307\"/>\n    </g>\n    <g clip-path=\"url(#pa07806dccc)\">\n     <use style=\"fill:#1f77b4;stroke:#ffffff;stroke-width:0.48;\" x=\"67.768134\" xlink:href=\"#C0_0_da500a9a78\" y=\"164.924878\"/>\n    </g>\n    <g clip-path=\"url(#pa07806dccc)\">\n     <use style=\"fill:#1f77b4;stroke:#ffffff;stroke-width:0.48;\" x=\"69.755471\" xlink:href=\"#C0_0_da500a9a78\" y=\"139.509813\"/>\n    </g>\n    <g clip-path=\"url(#pa07806dccc)\">\n     <use style=\"fill:#1f77b4;stroke:#ffffff;stroke-width:0.48;\" x=\"70.128581\" xlink:href=\"#C0_0_da500a9a78\" y=\"182.809554\"/>\n    </g>\n    <g clip-path=\"url(#pa07806dccc)\">\n     <use style=\"fill:#1f77b4;stroke:#ffffff;stroke-width:0.48;\" x=\"75.677395\" xlink:href=\"#C0_0_da500a9a78\" y=\"201.635528\"/>\n    </g>\n    <g clip-path=\"url(#pa07806dccc)\">\n     <use style=\"fill:#1f77b4;stroke:#ffffff;stroke-width:0.48;\" x=\"77.528909\" xlink:href=\"#C0_0_da500a9a78\" y=\"87.738385\"/>\n    </g>\n    <g clip-path=\"url(#pa07806dccc)\">\n     <use style=\"fill:#1f77b4;stroke:#ffffff;stroke-width:0.48;\" x=\"83.422252\" xlink:href=\"#C0_0_da500a9a78\" y=\"128.214229\"/>\n    </g>\n    <g clip-path=\"url(#pa07806dccc)\">\n     <use style=\"fill:#1f77b4;stroke:#ffffff;stroke-width:0.48;\" x=\"90.558138\" xlink:href=\"#C0_0_da500a9a78\" y=\"177.161761\"/>\n    </g>\n    <g clip-path=\"url(#pa07806dccc)\">\n     <use style=\"fill:#1f77b4;stroke:#ffffff;stroke-width:0.48;\" x=\"93.561561\" xlink:href=\"#C0_0_da500a9a78\" y=\"163.98358\"/>\n    </g>\n    <g clip-path=\"url(#pa07806dccc)\">\n     <use style=\"fill:#1f77b4;stroke:#ffffff;stroke-width:0.48;\" x=\"99.846721\" xlink:href=\"#C0_0_da500a9a78\" y=\"100.916567\"/>\n    </g>\n    <g clip-path=\"url(#pa07806dccc)\">\n     <use style=\"fill:#1f77b4;stroke:#ffffff;stroke-width:0.48;\" x=\"102.977926\" xlink:href=\"#C0_0_da500a9a78\" y=\"76.4428\"/>\n    </g>\n    <g clip-path=\"url(#pa07806dccc)\">\n     <use style=\"fill:#1f77b4;stroke:#ffffff;stroke-width:0.48;\" x=\"108.834751\" xlink:href=\"#C0_0_da500a9a78\" y=\"176.220463\"/>\n    </g>\n    <g clip-path=\"url(#pa07806dccc)\">\n     <use style=\"fill:#1f77b4;stroke:#ffffff;stroke-width:0.48;\" x=\"118.872205\" xlink:href=\"#C0_0_da500a9a78\" y=\"38.790852\"/>\n    </g>\n    <g clip-path=\"url(#pa07806dccc)\">\n     <use style=\"fill:#1f77b4;stroke:#ffffff;stroke-width:0.48;\" x=\"120.818885\" xlink:href=\"#C0_0_da500a9a78\" y=\"40.67345\"/>\n    </g>\n    <g clip-path=\"url(#pa07806dccc)\">\n     <use style=\"fill:#1f77b4;stroke:#ffffff;stroke-width:0.48;\" x=\"124.999242\" xlink:href=\"#C0_0_da500a9a78\" y=\"108.446956\"/>\n    </g>\n    <g clip-path=\"url(#pa07806dccc)\">\n     <use style=\"fill:#1f77b4;stroke:#ffffff;stroke-width:0.48;\" x=\"129.06535\" xlink:href=\"#C0_0_da500a9a78\" y=\"54.79293\"/>\n    </g>\n    <g clip-path=\"url(#pa07806dccc)\">\n     <use style=\"fill:#1f77b4;stroke:#ffffff;stroke-width:0.48;\" x=\"130.665351\" xlink:href=\"#C0_0_da500a9a78\" y=\"98.09267\"/>\n    </g>\n    <g clip-path=\"url(#pa07806dccc)\">\n     <use style=\"fill:#ff7f0e;stroke:#ffffff;stroke-width:0.48;\" x=\"134.551835\" xlink:href=\"#C0_0_da500a9a78\" y=\"209.165917\"/>\n    </g>\n    <g clip-path=\"url(#pa07806dccc)\">\n     <use style=\"fill:#1f77b4;stroke:#ffffff;stroke-width:0.48;\" x=\"139.035544\" xlink:href=\"#C0_0_da500a9a78\" y=\"115.977346\"/>\n    </g>\n    <g clip-path=\"url(#pa07806dccc)\">\n     <use style=\"fill:#1f77b4;stroke:#ffffff;stroke-width:0.48;\" x=\"141.773978\" xlink:href=\"#C0_0_da500a9a78\" y=\"122.566437\"/>\n    </g>\n    <g clip-path=\"url(#pa07806dccc)\">\n     <use style=\"fill:#1f77b4;stroke:#ffffff;stroke-width:0.48;\" x=\"142.352443\" xlink:href=\"#C0_0_da500a9a78\" y=\"38.790852\"/>\n    </g>\n    <g clip-path=\"url(#pa07806dccc)\">\n     <use style=\"fill:#1f77b4;stroke:#ffffff;stroke-width:0.48;\" x=\"142.491709\" xlink:href=\"#C0_0_da500a9a78\" y=\"162.100982\"/>\n    </g>\n    <g clip-path=\"url(#pa07806dccc)\">\n     <use style=\"fill:#1f77b4;stroke:#ffffff;stroke-width:0.48;\" x=\"143.714255\" xlink:href=\"#C0_0_da500a9a78\" y=\"144.216307\"/>\n    </g>\n    <g clip-path=\"url(#pa07806dccc)\">\n     <use style=\"fill:#ff7f0e;stroke:#ffffff;stroke-width:0.48;\" x=\"147.519089\" xlink:href=\"#C0_0_da500a9a78\" y=\"183.750852\"/>\n    </g>\n    <g clip-path=\"url(#pa07806dccc)\">\n     <use style=\"fill:#1f77b4;stroke:#ffffff;stroke-width:0.48;\" x=\"153.589092\" xlink:href=\"#C0_0_da500a9a78\" y=\"125.390333\"/>\n    </g>\n    <g clip-path=\"url(#pa07806dccc)\">\n     <use style=\"fill:#1f77b4;stroke:#ffffff;stroke-width:0.48;\" x=\"154.38995\" xlink:href=\"#C0_0_da500a9a78\" y=\"60.440722\"/>\n    </g>\n    <g clip-path=\"url(#pa07806dccc)\">\n     <use style=\"fill:#1f77b4;stroke:#ffffff;stroke-width:0.48;\" x=\"154.609817\" xlink:href=\"#C0_0_da500a9a78\" y=\"133.862021\"/>\n    </g>\n    <g clip-path=\"url(#pa07806dccc)\">\n     <use style=\"fill:#1f77b4;stroke:#ffffff;stroke-width:0.48;\" x=\"158.113028\" xlink:href=\"#C0_0_da500a9a78\" y=\"116.918644\"/>\n    </g>\n    <g clip-path=\"url(#pa07806dccc)\">\n     <use style=\"fill:#1f77b4;stroke:#ffffff;stroke-width:0.48;\" x=\"158.334999\" xlink:href=\"#C0_0_da500a9a78\" y=\"85.855787\"/>\n    </g>\n    <g clip-path=\"url(#pa07806dccc)\">\n     <use style=\"fill:#1f77b4;stroke:#ffffff;stroke-width:0.48;\" x=\"163.067653\" xlink:href=\"#C0_0_da500a9a78\" y=\"69.853709\"/>\n    </g>\n    <g clip-path=\"url(#pa07806dccc)\">\n     <use style=\"fill:#ff7f0e;stroke:#ffffff;stroke-width:0.48;\" x=\"163.490297\" xlink:href=\"#C0_0_da500a9a78\" y=\"156.45319\"/>\n    </g>\n    <g clip-path=\"url(#pa07806dccc)\">\n     <use style=\"fill:#1f77b4;stroke:#ffffff;stroke-width:0.48;\" x=\"163.915013\" xlink:href=\"#C0_0_da500a9a78\" y=\"147.981502\"/>\n    </g>\n    <g clip-path=\"url(#pa07806dccc)\">\n     <use style=\"fill:#1f77b4;stroke:#ffffff;stroke-width:0.48;\" x=\"168.775599\" xlink:href=\"#C0_0_da500a9a78\" y=\"45.379943\"/>\n    </g>\n    <g clip-path=\"url(#pa07806dccc)\">\n     <use style=\"fill:#1f77b4;stroke:#ffffff;stroke-width:0.48;\" x=\"171.644755\" xlink:href=\"#C0_0_da500a9a78\" y=\"126.331631\"/>\n    </g>\n    <g clip-path=\"url(#pa07806dccc)\">\n     <use style=\"fill:#1f77b4;stroke:#ffffff;stroke-width:0.48;\" x=\"172.100684\" xlink:href=\"#C0_0_da500a9a78\" y=\"189.398644\"/>\n    </g>\n    <g clip-path=\"url(#pa07806dccc)\">\n     <use style=\"fill:#1f77b4;stroke:#ffffff;stroke-width:0.48;\" x=\"179.212188\" xlink:href=\"#C0_0_da500a9a78\" y=\"133.862021\"/>\n    </g>\n    <g clip-path=\"url(#pa07806dccc)\">\n     <use style=\"fill:#1f77b4;stroke:#ffffff;stroke-width:0.48;\" x=\"179.534812\" xlink:href=\"#C0_0_da500a9a78\" y=\"117.859943\"/>\n    </g>\n    <g clip-path=\"url(#pa07806dccc)\">\n     <use style=\"fill:#1f77b4;stroke:#ffffff;stroke-width:0.48;\" x=\"188.709274\" xlink:href=\"#C0_0_da500a9a78\" y=\"55.734229\"/>\n    </g>\n    <g clip-path=\"url(#pa07806dccc)\">\n     <use style=\"fill:#ff7f0e;stroke:#ffffff;stroke-width:0.48;\" x=\"195.979123\" xlink:href=\"#C0_0_da500a9a78\" y=\"229.874489\"/>\n    </g>\n    <g clip-path=\"url(#pa07806dccc)\">\n     <use style=\"fill:#ff7f0e;stroke:#ffffff;stroke-width:0.48;\" x=\"196.277298\" xlink:href=\"#C0_0_da500a9a78\" y=\"229.874489\"/>\n    </g>\n    <g clip-path=\"url(#pa07806dccc)\">\n     <use style=\"fill:#ff7f0e;stroke:#ffffff;stroke-width:0.48;\" x=\"196.429266\" xlink:href=\"#C0_0_da500a9a78\" y=\"179.044359\"/>\n    </g>\n    <g clip-path=\"url(#pa07806dccc)\">\n     <use style=\"fill:#ff7f0e;stroke:#ffffff;stroke-width:0.48;\" x=\"197.738246\" xlink:href=\"#C0_0_da500a9a78\" y=\"194.105138\"/>\n    </g>\n    <g clip-path=\"url(#pa07806dccc)\">\n     <use style=\"fill:#1f77b4;stroke:#ffffff;stroke-width:0.48;\" x=\"223.914734\" xlink:href=\"#C0_0_da500a9a78\" y=\"42.556047\"/>\n    </g>\n    <g clip-path=\"url(#pa07806dccc)\">\n     <use style=\"fill:#1f77b4;stroke:#ffffff;stroke-width:0.48;\" x=\"228.769582\" xlink:href=\"#C0_0_da500a9a78\" y=\"32.201761\"/>\n    </g>\n    <g clip-path=\"url(#pa07806dccc)\">\n     <use style=\"fill:#1f77b4;stroke:#ffffff;stroke-width:0.48;\" x=\"229.505488\" xlink:href=\"#C0_0_da500a9a78\" y=\"46.321242\"/>\n    </g>\n    <g clip-path=\"url(#pa07806dccc)\">\n     <use style=\"fill:#ff7f0e;stroke:#ffffff;stroke-width:0.48;\" x=\"230.618668\" xlink:href=\"#C0_0_da500a9a78\" y=\"176.220463\"/>\n    </g>\n    <g clip-path=\"url(#pa07806dccc)\">\n     <use style=\"fill:#1f77b4;stroke:#ffffff;stroke-width:0.48;\" x=\"231.662804\" xlink:href=\"#C0_0_da500a9a78\" y=\"132.920722\"/>\n    </g>\n    <g clip-path=\"url(#pa07806dccc)\">\n     <use style=\"fill:#ff7f0e;stroke:#ffffff;stroke-width:0.48;\" x=\"231.834737\" xlink:href=\"#C0_0_da500a9a78\" y=\"155.511891\"/>\n    </g>\n    <g clip-path=\"url(#pa07806dccc)\">\n     <use style=\"fill:#ff7f0e;stroke:#ffffff;stroke-width:0.48;\" x=\"232.938287\" xlink:href=\"#C0_0_da500a9a78\" y=\"205.400722\"/>\n    </g>\n    <g clip-path=\"url(#pa07806dccc)\">\n     <use style=\"fill:#1f77b4;stroke:#ffffff;stroke-width:0.48;\" x=\"240.10507\" xlink:href=\"#C0_0_da500a9a78\" y=\"95.268774\"/>\n    </g>\n    <g clip-path=\"url(#pa07806dccc)\">\n     <use style=\"fill:#ff7f0e;stroke:#ffffff;stroke-width:0.48;\" x=\"242.136655\" xlink:href=\"#C0_0_da500a9a78\" y=\"209.165917\"/>\n    </g>\n    <g clip-path=\"url(#pa07806dccc)\">\n     <use style=\"fill:#1f77b4;stroke:#ffffff;stroke-width:0.48;\" x=\"245.070878\" xlink:href=\"#C0_0_da500a9a78\" y=\"130.096826\"/>\n    </g>\n    <g clip-path=\"url(#pa07806dccc)\">\n     <use style=\"fill:#ff7f0e;stroke:#ffffff;stroke-width:0.48;\" x=\"246.941121\" xlink:href=\"#C0_0_da500a9a78\" y=\"192.222541\"/>\n    </g>\n    <g clip-path=\"url(#pa07806dccc)\">\n     <use style=\"fill:#ff7f0e;stroke:#ffffff;stroke-width:0.48;\" x=\"248.607184\" xlink:href=\"#C0_0_da500a9a78\" y=\"229.874489\"/>\n    </g>\n    <g clip-path=\"url(#pa07806dccc)\">\n     <use style=\"fill:#ff7f0e;stroke:#ffffff;stroke-width:0.48;\" x=\"253.649294\" xlink:href=\"#C0_0_da500a9a78\" y=\"136.685917\"/>\n    </g>\n    <g clip-path=\"url(#pa07806dccc)\">\n     <use style=\"fill:#ff7f0e;stroke:#ffffff;stroke-width:0.48;\" x=\"254.999698\" xlink:href=\"#C0_0_da500a9a78\" y=\"206.342021\"/>\n    </g>\n    <g clip-path=\"url(#pa07806dccc)\">\n     <use style=\"fill:#ff7f0e;stroke:#ffffff;stroke-width:0.48;\" x=\"255.839024\" xlink:href=\"#C0_0_da500a9a78\" y=\"157.394489\"/>\n    </g>\n    <g clip-path=\"url(#pa07806dccc)\">\n     <use style=\"fill:#1f77b4;stroke:#ffffff;stroke-width:0.48;\" x=\"257.600543\" xlink:href=\"#C0_0_da500a9a78\" y=\"113.15345\"/>\n    </g>\n    <g clip-path=\"url(#pa07806dccc)\">\n     <use style=\"fill:#1f77b4;stroke:#ffffff;stroke-width:0.48;\" x=\"259.302515\" xlink:href=\"#C0_0_da500a9a78\" y=\"127.27293\"/>\n    </g>\n    <g clip-path=\"url(#pa07806dccc)\">\n     <use style=\"fill:#1f77b4;stroke:#ffffff;stroke-width:0.48;\" x=\"262.150296\" xlink:href=\"#C0_0_da500a9a78\" y=\"131.038125\"/>\n    </g>\n    <g clip-path=\"url(#pa07806dccc)\">\n     <use style=\"fill:#1f77b4;stroke:#ffffff;stroke-width:0.48;\" x=\"263.608614\" xlink:href=\"#C0_0_da500a9a78\" y=\"129.155528\"/>\n    </g>\n    <g clip-path=\"url(#pa07806dccc)\">\n     <use style=\"fill:#ff7f0e;stroke:#ffffff;stroke-width:0.48;\" x=\"270.032671\" xlink:href=\"#C0_0_da500a9a78\" y=\"178.10306\"/>\n    </g>\n    <g clip-path=\"url(#pa07806dccc)\">\n     <use style=\"fill:#1f77b4;stroke:#ffffff;stroke-width:0.48;\" x=\"272.178827\" xlink:href=\"#C0_0_da500a9a78\" y=\"131.038125\"/>\n    </g>\n    <g clip-path=\"url(#pa07806dccc)\">\n     <use style=\"fill:#ff7f0e;stroke:#ffffff;stroke-width:0.48;\" x=\"278.987139\" xlink:href=\"#C0_0_da500a9a78\" y=\"181.868255\"/>\n    </g>\n    <g clip-path=\"url(#pa07806dccc)\">\n     <use style=\"fill:#1f77b4;stroke:#ffffff;stroke-width:0.48;\" x=\"284.458594\" xlink:href=\"#C0_0_da500a9a78\" y=\"77.384099\"/>\n    </g>\n    <g clip-path=\"url(#pa07806dccc)\">\n     <use style=\"fill:#ff7f0e;stroke:#ffffff;stroke-width:0.48;\" x=\"286.290016\" xlink:href=\"#C0_0_da500a9a78\" y=\"131.979424\"/>\n    </g>\n    <g clip-path=\"url(#pa07806dccc)\">\n     <use style=\"fill:#1f77b4;stroke:#ffffff;stroke-width:0.48;\" x=\"286.780994\" xlink:href=\"#C0_0_da500a9a78\" y=\"74.560203\"/>\n    </g>\n    <g clip-path=\"url(#pa07806dccc)\">\n     <use style=\"fill:#ff7f0e;stroke:#ffffff;stroke-width:0.48;\" x=\"293.781503\" xlink:href=\"#C0_0_da500a9a78\" y=\"123.507735\"/>\n    </g>\n    <g clip-path=\"url(#pa07806dccc)\">\n     <use style=\"fill:#1f77b4;stroke:#ffffff;stroke-width:0.48;\" x=\"301.070324\" xlink:href=\"#C0_0_da500a9a78\" y=\"33.14306\"/>\n    </g>\n    <g clip-path=\"url(#pa07806dccc)\">\n     <use style=\"fill:#ff7f0e;stroke:#ffffff;stroke-width:0.48;\" x=\"304.498272\" xlink:href=\"#C0_0_da500a9a78\" y=\"194.105138\"/>\n    </g>\n    <g clip-path=\"url(#pa07806dccc)\">\n     <use style=\"fill:#ff7f0e;stroke:#ffffff;stroke-width:0.48;\" x=\"305.049821\" xlink:href=\"#C0_0_da500a9a78\" y=\"229.874489\"/>\n    </g>\n    <g clip-path=\"url(#pa07806dccc)\">\n     <use style=\"fill:#ff7f0e;stroke:#ffffff;stroke-width:0.48;\" x=\"305.980991\" xlink:href=\"#C0_0_da500a9a78\" y=\"163.042281\"/>\n    </g>\n    <g clip-path=\"url(#pa07806dccc)\">\n     <use style=\"fill:#ff7f0e;stroke:#ffffff;stroke-width:0.48;\" x=\"306.729776\" xlink:href=\"#C0_0_da500a9a78\" y=\"188.457346\"/>\n    </g>\n    <g clip-path=\"url(#pa07806dccc)\">\n     <use style=\"fill:#ff7f0e;stroke:#ffffff;stroke-width:0.48;\" x=\"323.207678\" xlink:href=\"#C0_0_da500a9a78\" y=\"105.62306\"/>\n    </g>\n    <g clip-path=\"url(#pa07806dccc)\">\n     <use style=\"fill:#ff7f0e;stroke:#ffffff;stroke-width:0.48;\" x=\"328.540481\" xlink:href=\"#C0_0_da500a9a78\" y=\"115.977346\"/>\n    </g>\n    <g clip-path=\"url(#pa07806dccc)\">\n     <use style=\"fill:#ff7f0e;stroke:#ffffff;stroke-width:0.48;\" x=\"333.873901\" xlink:href=\"#C0_0_da500a9a78\" y=\"192.222541\"/>\n    </g>\n    <g clip-path=\"url(#pa07806dccc)\">\n     <use style=\"fill:#ff7f0e;stroke:#ffffff;stroke-width:0.48;\" x=\"339.956549\" xlink:href=\"#C0_0_da500a9a78\" y=\"131.038125\"/>\n    </g>\n    <g clip-path=\"url(#pa07806dccc)\">\n     <use style=\"fill:#ff7f0e;stroke:#ffffff;stroke-width:0.48;\" x=\"350.569976\" xlink:href=\"#C0_0_da500a9a78\" y=\"118.801242\"/>\n    </g>\n    <g clip-path=\"url(#pa07806dccc)\">\n     <use style=\"fill:#ff7f0e;stroke:#ffffff;stroke-width:0.48;\" x=\"352.607945\" xlink:href=\"#C0_0_da500a9a78\" y=\"115.977346\"/>\n    </g>\n    <g clip-path=\"url(#pa07806dccc)\">\n     <use style=\"fill:#1f77b4;stroke:#ffffff;stroke-width:0.48;\" x=\"357.522518\" xlink:href=\"#C0_0_da500a9a78\" y=\"92.444878\"/>\n    </g>\n    <g clip-path=\"url(#pa07806dccc)\">\n     <use style=\"fill:#ff7f0e;stroke:#ffffff;stroke-width:0.48;\" x=\"359.866034\" xlink:href=\"#C0_0_da500a9a78\" y=\"166.807476\"/>\n    </g>\n    <g clip-path=\"url(#pa07806dccc)\">\n     <use style=\"fill:#ff7f0e;stroke:#ffffff;stroke-width:0.48;\" x=\"360.255007\" xlink:href=\"#C0_0_da500a9a78\" y=\"210.107216\"/>\n    </g>\n    <g clip-path=\"url(#pa07806dccc)\">\n     <use style=\"fill:#1f77b4;stroke:#ffffff;stroke-width:0.48;\" x=\"360.694865\" xlink:href=\"#C0_0_da500a9a78\" y=\"91.50358\"/>\n    </g>\n    <g clip-path=\"url(#pa07806dccc)\">\n     <use style=\"fill:#ff7f0e;stroke:#ffffff;stroke-width:0.48;\" x=\"360.865655\" xlink:href=\"#C0_0_da500a9a78\" y=\"129.155528\"/>\n    </g>\n    <g clip-path=\"url(#pa07806dccc)\">\n     <use style=\"fill:#1f77b4;stroke:#ffffff;stroke-width:0.48;\" x=\"363.550599\" xlink:href=\"#C0_0_da500a9a78\" y=\"98.09267\"/>\n    </g>\n    <g clip-path=\"url(#pa07806dccc)\">\n     <use style=\"fill:#1f77b4;stroke:#ffffff;stroke-width:0.48;\" x=\"363.709634\" xlink:href=\"#C0_0_da500a9a78\" y=\"69.853709\"/>\n    </g>\n    <g clip-path=\"url(#pa07806dccc)\">\n     <use style=\"fill:#ff7f0e;stroke:#ffffff;stroke-width:0.48;\" x=\"364.737093\" xlink:href=\"#C0_0_da500a9a78\" y=\"169.631372\"/>\n    </g>\n    <g clip-path=\"url(#pa07806dccc)\">\n     <use style=\"fill:#1f77b4;stroke:#ffffff;stroke-width:0.48;\" x=\"62.607945\" xlink:href=\"#C0_0_da500a9a78\" y=\"70.795008\"/>\n    </g>\n    <g clip-path=\"url(#pa07806dccc)\">\n     <use style=\"fill:#1f77b4;stroke:#ffffff;stroke-width:0.48;\" x=\"68.531008\" xlink:href=\"#C0_0_da500a9a78\" y=\"67.029813\"/>\n    </g>\n    <g clip-path=\"url(#pa07806dccc)\">\n     <use style=\"fill:#1f77b4;stroke:#ffffff;stroke-width:0.48;\" x=\"68.669514\" xlink:href=\"#C0_0_da500a9a78\" y=\"97.151372\"/>\n    </g>\n    <g clip-path=\"url(#pa07806dccc)\">\n     <use style=\"fill:#1f77b4;stroke:#ffffff;stroke-width:0.48;\" x=\"69.172191\" xlink:href=\"#C0_0_da500a9a78\" y=\"194.105138\"/>\n    </g>\n    <g clip-path=\"url(#pa07806dccc)\">\n     <use style=\"fill:#1f77b4;stroke:#ffffff;stroke-width:0.48;\" x=\"70.117166\" xlink:href=\"#C0_0_da500a9a78\" y=\"111.270852\"/>\n    </g>\n    <g clip-path=\"url(#pa07806dccc)\">\n     <use style=\"fill:#ff7f0e;stroke:#ffffff;stroke-width:0.48;\" x=\"75.626472\" xlink:href=\"#C0_0_da500a9a78\" y=\"229.874489\"/>\n    </g>\n    <g clip-path=\"url(#pa07806dccc)\">\n     <use style=\"fill:#1f77b4;stroke:#ffffff;stroke-width:0.48;\" x=\"77.663136\" xlink:href=\"#C0_0_da500a9a78\" y=\"43.497346\"/>\n    </g>\n    <g clip-path=\"url(#pa07806dccc)\">\n     <use style=\"fill:#1f77b4;stroke:#ffffff;stroke-width:0.48;\" x=\"77.74521\" xlink:href=\"#C0_0_da500a9a78\" y=\"84.914489\"/>\n    </g>\n    <g clip-path=\"url(#pa07806dccc)\">\n     <use style=\"fill:#1f77b4;stroke:#ffffff;stroke-width:0.48;\" x=\"78.741\" xlink:href=\"#C0_0_da500a9a78\" y=\"118.801242\"/>\n    </g>\n    <g clip-path=\"url(#pa07806dccc)\">\n     <use style=\"fill:#1f77b4;stroke:#ffffff;stroke-width:0.48;\" x=\"79.361979\" xlink:href=\"#C0_0_da500a9a78\" y=\"152.687995\"/>\n    </g>\n    <g clip-path=\"url(#pa07806dccc)\">\n     <use style=\"fill:#1f77b4;stroke:#ffffff;stroke-width:0.48;\" x=\"81.672488\" xlink:href=\"#C0_0_da500a9a78\" y=\"136.685917\"/>\n    </g>\n    <g clip-path=\"url(#pa07806dccc)\">\n     <use style=\"fill:#1f77b4;stroke:#ffffff;stroke-width:0.48;\" x=\"83.804408\" xlink:href=\"#C0_0_da500a9a78\" y=\"60.440722\"/>\n    </g>\n    <g clip-path=\"url(#pa07806dccc)\">\n     <use style=\"fill:#1f77b4;stroke:#ffffff;stroke-width:0.48;\" x=\"85.503509\" xlink:href=\"#C0_0_da500a9a78\" y=\"179.985657\"/>\n    </g>\n    <g clip-path=\"url(#pa07806dccc)\">\n     <use style=\"fill:#1f77b4;stroke:#ffffff;stroke-width:0.48;\" x=\"85.638498\" xlink:href=\"#C0_0_da500a9a78\" y=\"35.025657\"/>\n    </g>\n    <g clip-path=\"url(#pa07806dccc)\">\n     <use style=\"fill:#1f77b4;stroke:#ffffff;stroke-width:0.48;\" x=\"88.431317\" xlink:href=\"#C0_0_da500a9a78\" y=\"143.275008\"/>\n    </g>\n    <g clip-path=\"url(#pa07806dccc)\">\n     <use style=\"fill:#1f77b4;stroke:#ffffff;stroke-width:0.48;\" x=\"91.102028\" xlink:href=\"#C0_0_da500a9a78\" y=\"194.105138\"/>\n    </g>\n    <g clip-path=\"url(#pa07806dccc)\">\n     <use style=\"fill:#1f77b4;stroke:#ffffff;stroke-width:0.48;\" x=\"93.698925\" xlink:href=\"#C0_0_da500a9a78\" y=\"82.090593\"/>\n    </g>\n    <g clip-path=\"url(#pa07806dccc)\">\n     <use style=\"fill:#1f77b4;stroke:#ffffff;stroke-width:0.48;\" x=\"94.534771\" xlink:href=\"#C0_0_da500a9a78\" y=\"89.620982\"/>\n    </g>\n    <g clip-path=\"url(#pa07806dccc)\">\n     <use style=\"fill:#1f77b4;stroke:#ffffff;stroke-width:0.48;\" x=\"96.797117\" xlink:href=\"#C0_0_da500a9a78\" y=\"120.683839\"/>\n    </g>\n    <g clip-path=\"url(#pa07806dccc)\">\n     <use style=\"fill:#1f77b4;stroke:#ffffff;stroke-width:0.48;\" x=\"101.814582\" xlink:href=\"#C0_0_da500a9a78\" y=\"169.631372\"/>\n    </g>\n    <g clip-path=\"url(#pa07806dccc)\">\n     <use style=\"fill:#1f77b4;stroke:#ffffff;stroke-width:0.48;\" x=\"102.74907\" xlink:href=\"#C0_0_da500a9a78\" y=\"82.090593\"/>\n    </g>\n    <g clip-path=\"url(#pa07806dccc)\">\n     <use style=\"fill:#1f77b4;stroke:#ffffff;stroke-width:0.48;\" x=\"107.29654\" xlink:href=\"#C0_0_da500a9a78\" y=\"182.809554\"/>\n    </g>\n    <g clip-path=\"url(#pa07806dccc)\">\n     <use style=\"fill:#1f77b4;stroke:#ffffff;stroke-width:0.48;\" x=\"110.135161\" xlink:href=\"#C0_0_da500a9a78\" y=\"112.212151\"/>\n    </g>\n    <g clip-path=\"url(#pa07806dccc)\">\n     <use style=\"fill:#1f77b4;stroke:#ffffff;stroke-width:0.48;\" x=\"110.478487\" xlink:href=\"#C0_0_da500a9a78\" y=\"89.620982\"/>\n    </g>\n    <g clip-path=\"url(#pa07806dccc)\">\n     <use style=\"fill:#1f77b4;stroke:#ffffff;stroke-width:0.48;\" x=\"111.401311\" xlink:href=\"#C0_0_da500a9a78\" y=\"165.866177\"/>\n    </g>\n    <g clip-path=\"url(#pa07806dccc)\">\n     <use style=\"fill:#1f77b4;stroke:#ffffff;stroke-width:0.48;\" x=\"112.753024\" xlink:href=\"#C0_0_da500a9a78\" y=\"179.985657\"/>\n    </g>\n    <g clip-path=\"url(#pa07806dccc)\">\n     <use style=\"fill:#1f77b4;stroke:#ffffff;stroke-width:0.48;\" x=\"114.214345\" xlink:href=\"#C0_0_da500a9a78\" y=\"77.384099\"/>\n    </g>\n    <g clip-path=\"url(#pa07806dccc)\">\n     <use style=\"fill:#1f77b4;stroke:#ffffff;stroke-width:0.48;\" x=\"117.895171\" xlink:href=\"#C0_0_da500a9a78\" y=\"88.679683\"/>\n    </g>\n    <g clip-path=\"url(#pa07806dccc)\">\n     <use style=\"fill:#1f77b4;stroke:#ffffff;stroke-width:0.48;\" x=\"119.715271\" xlink:href=\"#C0_0_da500a9a78\" y=\"116.918644\"/>\n    </g>\n    <g clip-path=\"url(#pa07806dccc)\">\n     <use style=\"fill:#1f77b4;stroke:#ffffff;stroke-width:0.48;\" x=\"120.690289\" xlink:href=\"#C0_0_da500a9a78\" y=\"194.105138\"/>\n    </g>\n    <g clip-path=\"url(#pa07806dccc)\">\n     <use style=\"fill:#1f77b4;stroke:#ffffff;stroke-width:0.48;\" x=\"121.018591\" xlink:href=\"#C0_0_da500a9a78\" y=\"132.920722\"/>\n    </g>\n    <g clip-path=\"url(#pa07806dccc)\">\n     <use style=\"fill:#ff7f0e;stroke:#ffffff;stroke-width:0.48;\" x=\"121.964714\" xlink:href=\"#C0_0_da500a9a78\" y=\"229.874489\"/>\n    </g>\n    <g clip-path=\"url(#pa07806dccc)\">\n     <use style=\"fill:#1f77b4;stroke:#ffffff;stroke-width:0.48;\" x=\"121.988446\" xlink:href=\"#C0_0_da500a9a78\" y=\"58.558125\"/>\n    </g>\n    <g clip-path=\"url(#pa07806dccc)\">\n     <use style=\"fill:#1f77b4;stroke:#ffffff;stroke-width:0.48;\" x=\"127.51534\" xlink:href=\"#C0_0_da500a9a78\" y=\"176.220463\"/>\n    </g>\n    <g clip-path=\"url(#pa07806dccc)\">\n     <use style=\"fill:#1f77b4;stroke:#ffffff;stroke-width:0.48;\" x=\"131.242118\" xlink:href=\"#C0_0_da500a9a78\" y=\"32.201761\"/>\n    </g>\n    <g clip-path=\"url(#pa07806dccc)\">\n     <use style=\"fill:#1f77b4;stroke:#ffffff;stroke-width:0.48;\" x=\"131.859667\" xlink:href=\"#C0_0_da500a9a78\" y=\"163.042281\"/>\n    </g>\n    <g clip-path=\"url(#pa07806dccc)\">\n     <use style=\"fill:#1f77b4;stroke:#ffffff;stroke-width:0.48;\" x=\"135.105157\" xlink:href=\"#C0_0_da500a9a78\" y=\"79.266696\"/>\n    </g>\n    <g clip-path=\"url(#pa07806dccc)\">\n     <use style=\"fill:#ff7f0e;stroke:#ffffff;stroke-width:0.48;\" x=\"135.163619\" xlink:href=\"#C0_0_da500a9a78\" y=\"192.222541\"/>\n    </g>\n    <g clip-path=\"url(#pa07806dccc)\">\n     <use style=\"fill:#1f77b4;stroke:#ffffff;stroke-width:0.48;\" x=\"139.835211\" xlink:href=\"#C0_0_da500a9a78\" y=\"163.98358\"/>\n    </g>\n    <g clip-path=\"url(#pa07806dccc)\">\n     <use style=\"fill:#1f77b4;stroke:#ffffff;stroke-width:0.48;\" x=\"140.21952\" xlink:href=\"#C0_0_da500a9a78\" y=\"96.210073\"/>\n    </g>\n    <g clip-path=\"url(#pa07806dccc)\">\n     <use style=\"fill:#1f77b4;stroke:#ffffff;stroke-width:0.48;\" x=\"144.221014\" xlink:href=\"#C0_0_da500a9a78\" y=\"159.277086\"/>\n    </g>\n    <g clip-path=\"url(#pa07806dccc)\">\n     <use style=\"fill:#1f77b4;stroke:#ffffff;stroke-width:0.48;\" x=\"172.39658\" xlink:href=\"#C0_0_da500a9a78\" y=\"95.268774\"/>\n    </g>\n    <g clip-path=\"url(#pa07806dccc)\">\n     <use style=\"fill:#ff7f0e;stroke:#ffffff;stroke-width:0.48;\" x=\"180.96643\" xlink:href=\"#C0_0_da500a9a78\" y=\"185.63345\"/>\n    </g>\n    <g clip-path=\"url(#pa07806dccc)\">\n     <use style=\"fill:#1f77b4;stroke:#ffffff;stroke-width:0.48;\" x=\"185.826394\" xlink:href=\"#C0_0_da500a9a78\" y=\"79.266696\"/>\n    </g>\n    <g clip-path=\"url(#pa07806dccc)\">\n     <use style=\"fill:#1f77b4;stroke:#ffffff;stroke-width:0.48;\" x=\"186.517538\" xlink:href=\"#C0_0_da500a9a78\" y=\"33.14306\"/>\n    </g>\n    <g clip-path=\"url(#pa07806dccc)\">\n     <use style=\"fill:#1f77b4;stroke:#ffffff;stroke-width:0.48;\" x=\"191.704896\" xlink:href=\"#C0_0_da500a9a78\" y=\"89.620982\"/>\n    </g>\n    <g clip-path=\"url(#pa07806dccc)\">\n     <use style=\"fill:#1f77b4;stroke:#ffffff;stroke-width:0.48;\" x=\"195.833363\" xlink:href=\"#C0_0_da500a9a78\" y=\"90.562281\"/>\n    </g>\n    <g clip-path=\"url(#pa07806dccc)\">\n     <use style=\"fill:#1f77b4;stroke:#ffffff;stroke-width:0.48;\" x=\"202.382273\" xlink:href=\"#C0_0_da500a9a78\" y=\"110.329554\"/>\n    </g>\n    <g clip-path=\"url(#pa07806dccc)\">\n     <use style=\"fill:#ff7f0e;stroke:#ffffff;stroke-width:0.48;\" x=\"202.580206\" xlink:href=\"#C0_0_da500a9a78\" y=\"191.281242\"/>\n    </g>\n    <g clip-path=\"url(#pa07806dccc)\">\n     <use style=\"fill:#ff7f0e;stroke:#ffffff;stroke-width:0.48;\" x=\"219.883296\" xlink:href=\"#C0_0_da500a9a78\" y=\"229.874489\"/>\n    </g>\n    <g clip-path=\"url(#pa07806dccc)\">\n     <use style=\"fill:#ff7f0e;stroke:#ffffff;stroke-width:0.48;\" x=\"226.512831\" xlink:href=\"#C0_0_da500a9a78\" y=\"203.518125\"/>\n    </g>\n    <g clip-path=\"url(#pa07806dccc)\">\n     <use style=\"fill:#1f77b4;stroke:#ffffff;stroke-width:0.48;\" x=\"234.155573\" xlink:href=\"#C0_0_da500a9a78\" y=\"74.560203\"/>\n    </g>\n    <g clip-path=\"url(#pa07806dccc)\">\n     <use style=\"fill:#1f77b4;stroke:#ffffff;stroke-width:0.48;\" x=\"235.911177\" xlink:href=\"#C0_0_da500a9a78\" y=\"73.618904\"/>\n    </g>\n    <g clip-path=\"url(#pa07806dccc)\">\n     <use style=\"fill:#1f77b4;stroke:#ffffff;stroke-width:0.48;\" x=\"236.014968\" xlink:href=\"#C0_0_da500a9a78\" y=\"62.32332\"/>\n    </g>\n    <g clip-path=\"url(#pa07806dccc)\">\n     <use style=\"fill:#1f77b4;stroke:#ffffff;stroke-width:0.48;\" x=\"239.106951\" xlink:href=\"#C0_0_da500a9a78\" y=\"91.50358\"/>\n    </g>\n    <g clip-path=\"url(#pa07806dccc)\">\n     <use style=\"fill:#1f77b4;stroke:#ffffff;stroke-width:0.48;\" x=\"244.629688\" xlink:href=\"#C0_0_da500a9a78\" y=\"127.27293\"/>\n    </g>\n    <g clip-path=\"url(#pa07806dccc)\">\n     <use style=\"fill:#1f77b4;stroke:#ffffff;stroke-width:0.48;\" x=\"247.306311\" xlink:href=\"#C0_0_da500a9a78\" y=\"132.920722\"/>\n    </g>\n    <g clip-path=\"url(#pa07806dccc)\">\n     <use style=\"fill:#ff7f0e;stroke:#ffffff;stroke-width:0.48;\" x=\"261.219741\" xlink:href=\"#C0_0_da500a9a78\" y=\"156.45319\"/>\n    </g>\n    <g clip-path=\"url(#pa07806dccc)\">\n     <use style=\"fill:#1f77b4;stroke:#ffffff;stroke-width:0.48;\" x=\"262.254116\" xlink:href=\"#C0_0_da500a9a78\" y=\"121.625138\"/>\n    </g>\n    <g clip-path=\"url(#pa07806dccc)\">\n     <use style=\"fill:#1f77b4;stroke:#ffffff;stroke-width:0.48;\" x=\"271.254642\" xlink:href=\"#C0_0_da500a9a78\" y=\"70.795008\"/>\n    </g>\n    <g clip-path=\"url(#pa07806dccc)\">\n     <use style=\"fill:#1f77b4;stroke:#ffffff;stroke-width:0.48;\" x=\"272.936782\" xlink:href=\"#C0_0_da500a9a78\" y=\"64.205917\"/>\n    </g>\n    <g clip-path=\"url(#pa07806dccc)\">\n     <use style=\"fill:#1f77b4;stroke:#ffffff;stroke-width:0.48;\" x=\"275.269808\" xlink:href=\"#C0_0_da500a9a78\" y=\"42.556047\"/>\n    </g>\n    <g clip-path=\"url(#pa07806dccc)\">\n     <use style=\"fill:#ff7f0e;stroke:#ffffff;stroke-width:0.48;\" x=\"288.547613\" xlink:href=\"#C0_0_da500a9a78\" y=\"167.748774\"/>\n    </g>\n    <g clip-path=\"url(#pa07806dccc)\">\n     <use style=\"fill:#1f77b4;stroke:#ffffff;stroke-width:0.48;\" x=\"292.792359\" xlink:href=\"#C0_0_da500a9a78\" y=\"54.79293\"/>\n    </g>\n    <g clip-path=\"url(#pa07806dccc)\">\n     <use style=\"fill:#1f77b4;stroke:#ffffff;stroke-width:0.48;\" x=\"302.885102\" xlink:href=\"#C0_0_da500a9a78\" y=\"73.618904\"/>\n    </g>\n    <g clip-path=\"url(#pa07806dccc)\">\n     <use style=\"fill:#1f77b4;stroke:#ffffff;stroke-width:0.48;\" x=\"304.34932\" xlink:href=\"#C0_0_da500a9a78\" y=\"50.086437\"/>\n    </g>\n    <g clip-path=\"url(#pa07806dccc)\">\n     <use style=\"fill:#ff7f0e;stroke:#ffffff;stroke-width:0.48;\" x=\"307.936031\" xlink:href=\"#C0_0_da500a9a78\" y=\"116.918644\"/>\n    </g>\n    <g clip-path=\"url(#pa07806dccc)\">\n     <use style=\"fill:#1f77b4;stroke:#ffffff;stroke-width:0.48;\" x=\"315.654976\" xlink:href=\"#C0_0_da500a9a78\" y=\"92.444878\"/>\n    </g>\n    <g clip-path=\"url(#pa07806dccc)\">\n     <use style=\"fill:#ff7f0e;stroke:#ffffff;stroke-width:0.48;\" x=\"323.122034\" xlink:href=\"#C0_0_da500a9a78\" y=\"124.449034\"/>\n    </g>\n    <g clip-path=\"url(#pa07806dccc)\">\n     <use style=\"fill:#ff7f0e;stroke:#ffffff;stroke-width:0.48;\" x=\"324.331732\" xlink:href=\"#C0_0_da500a9a78\" y=\"166.807476\"/>\n    </g>\n    <g clip-path=\"url(#pa07806dccc)\">\n     <use style=\"fill:#ff7f0e;stroke:#ffffff;stroke-width:0.48;\" x=\"327.260415\" xlink:href=\"#C0_0_da500a9a78\" y=\"167.748774\"/>\n    </g>\n    <g clip-path=\"url(#pa07806dccc)\">\n     <use style=\"fill:#ff7f0e;stroke:#ffffff;stroke-width:0.48;\" x=\"331.960103\" xlink:href=\"#C0_0_da500a9a78\" y=\"140.451112\"/>\n    </g>\n    <g clip-path=\"url(#pa07806dccc)\">\n     <use style=\"fill:#ff7f0e;stroke:#ffffff;stroke-width:0.48;\" x=\"332.242696\" xlink:href=\"#C0_0_da500a9a78\" y=\"209.165917\"/>\n    </g>\n    <g clip-path=\"url(#pa07806dccc)\">\n     <use style=\"fill:#ff7f0e;stroke:#ffffff;stroke-width:0.48;\" x=\"334.185032\" xlink:href=\"#C0_0_da500a9a78\" y=\"175.279164\"/>\n    </g>\n    <g clip-path=\"url(#pa07806dccc)\">\n     <use style=\"fill:#1f77b4;stroke:#ffffff;stroke-width:0.48;\" x=\"334.585154\" xlink:href=\"#C0_0_da500a9a78\" y=\"90.562281\"/>\n    </g>\n    <g clip-path=\"url(#pa07806dccc)\">\n     <use style=\"fill:#ff7f0e;stroke:#ffffff;stroke-width:0.48;\" x=\"338.816462\" xlink:href=\"#C0_0_da500a9a78\" y=\"179.044359\"/>\n    </g>\n    <g clip-path=\"url(#pa07806dccc)\">\n     <use style=\"fill:#ff7f0e;stroke:#ffffff;stroke-width:0.48;\" x=\"345.719448\" xlink:href=\"#C0_0_da500a9a78\" y=\"115.977346\"/>\n    </g>\n    <g clip-path=\"url(#pa07806dccc)\">\n     <use style=\"fill:#ff7f0e;stroke:#ffffff;stroke-width:0.48;\" x=\"348.39909\" xlink:href=\"#C0_0_da500a9a78\" y=\"100.916567\"/>\n    </g>\n    <g clip-path=\"url(#pa07806dccc)\">\n     <use style=\"fill:#ff7f0e;stroke:#ffffff;stroke-width:0.48;\" x=\"359.519054\" xlink:href=\"#C0_0_da500a9a78\" y=\"103.740463\"/>\n    </g>\n    <g clip-path=\"url(#pa07806dccc)\">\n     <use style=\"fill:#1f77b4;stroke:#ffffff;stroke-width:0.48;\" x=\"63.980276\" xlink:href=\"#C0_0_da500a9a78\" y=\"67.029813\"/>\n    </g>\n    <g clip-path=\"url(#pa07806dccc)\">\n     <use style=\"fill:#1f77b4;stroke:#ffffff;stroke-width:0.48;\" x=\"65.291228\" xlink:href=\"#C0_0_da500a9a78\" y=\"166.807476\"/>\n    </g>\n    <g clip-path=\"url(#pa07806dccc)\">\n     <use style=\"fill:#1f77b4;stroke:#ffffff;stroke-width:0.48;\" x=\"65.69896\" xlink:href=\"#C0_0_da500a9a78\" y=\"102.799164\"/>\n    </g>\n    <g clip-path=\"url(#pa07806dccc)\">\n     <use style=\"fill:#1f77b4;stroke:#ffffff;stroke-width:0.48;\" x=\"67.690081\" xlink:href=\"#C0_0_da500a9a78\" y=\"90.562281\"/>\n    </g>\n    <g clip-path=\"url(#pa07806dccc)\">\n     <use style=\"fill:#1f77b4;stroke:#ffffff;stroke-width:0.48;\" x=\"68.210246\" xlink:href=\"#C0_0_da500a9a78\" y=\"72.677606\"/>\n    </g>\n    <g clip-path=\"url(#pa07806dccc)\">\n     <use style=\"fill:#1f77b4;stroke:#ffffff;stroke-width:0.48;\" x=\"69.010042\" xlink:href=\"#C0_0_da500a9a78\" y=\"82.090593\"/>\n    </g>\n    <g clip-path=\"url(#pa07806dccc)\">\n     <use style=\"fill:#1f77b4;stroke:#ffffff;stroke-width:0.48;\" x=\"70.348008\" xlink:href=\"#C0_0_da500a9a78\" y=\"54.79293\"/>\n    </g>\n    <g clip-path=\"url(#pa07806dccc)\">\n     <use style=\"fill:#1f77b4;stroke:#ffffff;stroke-width:0.48;\" x=\"70.796425\" xlink:href=\"#C0_0_da500a9a78\" y=\"167.748774\"/>\n    </g>\n    <g clip-path=\"url(#pa07806dccc)\">\n     <use style=\"fill:#1f77b4;stroke:#ffffff;stroke-width:0.48;\" x=\"72.36207\" xlink:href=\"#C0_0_da500a9a78\" y=\"121.625138\"/>\n    </g>\n    <g clip-path=\"url(#pa07806dccc)\">\n     <use style=\"fill:#1f77b4;stroke:#ffffff;stroke-width:0.48;\" x=\"72.386077\" xlink:href=\"#C0_0_da500a9a78\" y=\"65.147216\"/>\n    </g>\n    <g clip-path=\"url(#pa07806dccc)\">\n     <use style=\"fill:#1f77b4;stroke:#ffffff;stroke-width:0.48;\" x=\"72.402565\" xlink:href=\"#C0_0_da500a9a78\" y=\"95.268774\"/>\n    </g>\n    <g clip-path=\"url(#pa07806dccc)\">\n     <use style=\"fill:#1f77b4;stroke:#ffffff;stroke-width:0.48;\" x=\"73.01573\" xlink:href=\"#C0_0_da500a9a78\" y=\"132.920722\"/>\n    </g>\n    <g clip-path=\"url(#pa07806dccc)\">\n     <use style=\"fill:#1f77b4;stroke:#ffffff;stroke-width:0.48;\" x=\"73.213843\" xlink:href=\"#C0_0_da500a9a78\" y=\"76.4428\"/>\n    </g>\n    <g clip-path=\"url(#pa07806dccc)\">\n     <use style=\"fill:#1f77b4;stroke:#ffffff;stroke-width:0.48;\" x=\"75.060433\" xlink:href=\"#C0_0_da500a9a78\" y=\"173.396567\"/>\n    </g>\n    <g clip-path=\"url(#pa07806dccc)\">\n     <use style=\"fill:#1f77b4;stroke:#ffffff;stroke-width:0.48;\" x=\"76.215255\" xlink:href=\"#C0_0_da500a9a78\" y=\"93.386177\"/>\n    </g>\n    <g clip-path=\"url(#pa07806dccc)\">\n     <use style=\"fill:#1f77b4;stroke:#ffffff;stroke-width:0.48;\" x=\"78.769987\" xlink:href=\"#C0_0_da500a9a78\" y=\"39.732151\"/>\n    </g>\n    <g clip-path=\"url(#pa07806dccc)\">\n     <use style=\"fill:#1f77b4;stroke:#ffffff;stroke-width:0.48;\" x=\"83.621432\" xlink:href=\"#C0_0_da500a9a78\" y=\"97.151372\"/>\n    </g>\n    <g clip-path=\"url(#pa07806dccc)\">\n     <use style=\"fill:#1f77b4;stroke:#ffffff;stroke-width:0.48;\" x=\"88.669395\" xlink:href=\"#C0_0_da500a9a78\" y=\"35.966956\"/>\n    </g>\n    <g clip-path=\"url(#pa07806dccc)\">\n     <use style=\"fill:#1f77b4;stroke:#ffffff;stroke-width:0.48;\" x=\"88.68409\" xlink:href=\"#C0_0_da500a9a78\" y=\"186.574748\"/>\n    </g>\n    <g clip-path=\"url(#pa07806dccc)\">\n     <use style=\"fill:#1f77b4;stroke:#ffffff;stroke-width:0.48;\" x=\"90.747786\" xlink:href=\"#C0_0_da500a9a78\" y=\"133.862021\"/>\n    </g>\n    <g clip-path=\"url(#pa07806dccc)\">\n     <use style=\"fill:#1f77b4;stroke:#ffffff;stroke-width:0.48;\" x=\"91.811081\" xlink:href=\"#C0_0_da500a9a78\" y=\"115.036047\"/>\n    </g>\n    <g clip-path=\"url(#pa07806dccc)\">\n     <use style=\"fill:#1f77b4;stroke:#ffffff;stroke-width:0.48;\" x=\"95.731317\" xlink:href=\"#C0_0_da500a9a78\" y=\"162.100982\"/>\n    </g>\n    <g clip-path=\"url(#pa07806dccc)\">\n     <use style=\"fill:#1f77b4;stroke:#ffffff;stroke-width:0.48;\" x=\"98.016398\" xlink:href=\"#C0_0_da500a9a78\" y=\"158.335787\"/>\n    </g>\n    <g clip-path=\"url(#pa07806dccc)\">\n     <use style=\"fill:#1f77b4;stroke:#ffffff;stroke-width:0.48;\" x=\"98.20188\" xlink:href=\"#C0_0_da500a9a78\" y=\"42.556047\"/>\n    </g>\n    <g clip-path=\"url(#pa07806dccc)\">\n     <use style=\"fill:#1f77b4;stroke:#ffffff;stroke-width:0.48;\" x=\"98.329603\" xlink:href=\"#C0_0_da500a9a78\" y=\"206.342021\"/>\n    </g>\n    <g clip-path=\"url(#pa07806dccc)\">\n     <use style=\"fill:#1f77b4;stroke:#ffffff;stroke-width:0.48;\" x=\"101.43623\" xlink:href=\"#C0_0_da500a9a78\" y=\"163.042281\"/>\n    </g>\n    <g clip-path=\"url(#pa07806dccc)\">\n     <use style=\"fill:#1f77b4;stroke:#ffffff;stroke-width:0.48;\" x=\"101.973984\" xlink:href=\"#C0_0_da500a9a78\" y=\"74.560203\"/>\n    </g>\n    <g clip-path=\"url(#pa07806dccc)\">\n     <use style=\"fill:#1f77b4;stroke:#ffffff;stroke-width:0.48;\" x=\"103.595724\" xlink:href=\"#C0_0_da500a9a78\" y=\"93.386177\"/>\n    </g>\n    <g clip-path=\"url(#pa07806dccc)\">\n     <use style=\"fill:#1f77b4;stroke:#ffffff;stroke-width:0.48;\" x=\"105.706206\" xlink:href=\"#C0_0_da500a9a78\" y=\"96.210073\"/>\n    </g>\n    <g clip-path=\"url(#pa07806dccc)\">\n     <use style=\"fill:#1f77b4;stroke:#ffffff;stroke-width:0.48;\" x=\"107.028634\" xlink:href=\"#C0_0_da500a9a78\" y=\"85.855787\"/>\n    </g>\n    <g clip-path=\"url(#pa07806dccc)\">\n     <use style=\"fill:#1f77b4;stroke:#ffffff;stroke-width:0.48;\" x=\"108.452984\" xlink:href=\"#C0_0_da500a9a78\" y=\"83.031891\"/>\n    </g>\n    <g clip-path=\"url(#pa07806dccc)\">\n     <use style=\"fill:#1f77b4;stroke:#ffffff;stroke-width:0.48;\" x=\"108.513235\" xlink:href=\"#C0_0_da500a9a78\" y=\"163.98358\"/>\n    </g>\n    <g clip-path=\"url(#pa07806dccc)\">\n     <use style=\"fill:#ff7f0e;stroke:#ffffff;stroke-width:0.48;\" x=\"113.25569\" xlink:href=\"#C0_0_da500a9a78\" y=\"229.874489\"/>\n    </g>\n    <g clip-path=\"url(#pa07806dccc)\">\n     <use style=\"fill:#1f77b4;stroke:#ffffff;stroke-width:0.48;\" x=\"113.982472\" xlink:href=\"#C0_0_da500a9a78\" y=\"159.277086\"/>\n    </g>\n    <g clip-path=\"url(#pa07806dccc)\">\n     <use style=\"fill:#1f77b4;stroke:#ffffff;stroke-width:0.48;\" x=\"114.836198\" xlink:href=\"#C0_0_da500a9a78\" y=\"185.63345\"/>\n    </g>\n    <g clip-path=\"url(#pa07806dccc)\">\n     <use style=\"fill:#1f77b4;stroke:#ffffff;stroke-width:0.48;\" x=\"116.418864\" xlink:href=\"#C0_0_da500a9a78\" y=\"81.149294\"/>\n    </g>\n    <g clip-path=\"url(#pa07806dccc)\">\n     <use style=\"fill:#1f77b4;stroke:#ffffff;stroke-width:0.48;\" x=\"117.111302\" xlink:href=\"#C0_0_da500a9a78\" y=\"115.036047\"/>\n    </g>\n    <g clip-path=\"url(#pa07806dccc)\">\n     <use style=\"fill:#1f77b4;stroke:#ffffff;stroke-width:0.48;\" x=\"121.873329\" xlink:href=\"#C0_0_da500a9a78\" y=\"125.390333\"/>\n    </g>\n    <g clip-path=\"url(#pa07806dccc)\">\n     <use style=\"fill:#1f77b4;stroke:#ffffff;stroke-width:0.48;\" x=\"132.097098\" xlink:href=\"#C0_0_da500a9a78\" y=\"73.618904\"/>\n    </g>\n    <g clip-path=\"url(#pa07806dccc)\">\n     <use style=\"fill:#1f77b4;stroke:#ffffff;stroke-width:0.48;\" x=\"133.874846\" xlink:href=\"#C0_0_da500a9a78\" y=\"196.929034\"/>\n    </g>\n    <g clip-path=\"url(#pa07806dccc)\">\n     <use style=\"fill:#1f77b4;stroke:#ffffff;stroke-width:0.48;\" x=\"137.03565\" xlink:href=\"#C0_0_da500a9a78\" y=\"110.329554\"/>\n    </g>\n    <g clip-path=\"url(#pa07806dccc)\">\n     <use style=\"fill:#1f77b4;stroke:#ffffff;stroke-width:0.48;\" x=\"140.243801\" xlink:href=\"#C0_0_da500a9a78\" y=\"123.507735\"/>\n    </g>\n    <g clip-path=\"url(#pa07806dccc)\">\n     <use style=\"fill:#1f77b4;stroke:#ffffff;stroke-width:0.48;\" x=\"142.682537\" xlink:href=\"#C0_0_da500a9a78\" y=\"42.556047\"/>\n    </g>\n    <g clip-path=\"url(#pa07806dccc)\">\n     <use style=\"fill:#1f77b4;stroke:#ffffff;stroke-width:0.48;\" x=\"144.825065\" xlink:href=\"#C0_0_da500a9a78\" y=\"65.147216\"/>\n    </g>\n    <g clip-path=\"url(#pa07806dccc)\">\n     <use style=\"fill:#1f77b4;stroke:#ffffff;stroke-width:0.48;\" x=\"151.724801\" xlink:href=\"#C0_0_da500a9a78\" y=\"111.270852\"/>\n    </g>\n    <g clip-path=\"url(#pa07806dccc)\">\n     <use style=\"fill:#1f77b4;stroke:#ffffff;stroke-width:0.48;\" x=\"155.604735\" xlink:href=\"#C0_0_da500a9a78\" y=\"81.149294\"/>\n    </g>\n    <g clip-path=\"url(#pa07806dccc)\">\n     <use style=\"fill:#1f77b4;stroke:#ffffff;stroke-width:0.48;\" x=\"172.788512\" xlink:href=\"#C0_0_da500a9a78\" y=\"83.97319\"/>\n    </g>\n    <g clip-path=\"url(#pa07806dccc)\">\n     <use style=\"fill:#ff7f0e;stroke:#ffffff;stroke-width:0.48;\" x=\"183.47813\" xlink:href=\"#C0_0_da500a9a78\" y=\"140.451112\"/>\n    </g>\n    <g clip-path=\"url(#pa07806dccc)\">\n     <use style=\"fill:#1f77b4;stroke:#ffffff;stroke-width:0.48;\" x=\"187.149373\" xlink:href=\"#C0_0_da500a9a78\" y=\"76.4428\"/>\n    </g>\n    <g clip-path=\"url(#pa07806dccc)\">\n     <use style=\"fill:#ff7f0e;stroke:#ffffff;stroke-width:0.48;\" x=\"192.680503\" xlink:href=\"#C0_0_da500a9a78\" y=\"193.163839\"/>\n    </g>\n    <g clip-path=\"url(#pa07806dccc)\">\n     <use style=\"fill:#1f77b4;stroke:#ffffff;stroke-width:0.48;\" x=\"222.882433\" xlink:href=\"#C0_0_da500a9a78\" y=\"107.505657\"/>\n    </g>\n    <g clip-path=\"url(#pa07806dccc)\">\n     <use style=\"fill:#1f77b4;stroke:#ffffff;stroke-width:0.48;\" x=\"229.392273\" xlink:href=\"#C0_0_da500a9a78\" y=\"115.036047\"/>\n    </g>\n    <g clip-path=\"url(#pa07806dccc)\">\n     <use style=\"fill:#ff7f0e;stroke:#ffffff;stroke-width:0.48;\" x=\"235.063898\" xlink:href=\"#C0_0_da500a9a78\" y=\"155.511891\"/>\n    </g>\n    <g clip-path=\"url(#pa07806dccc)\">\n     <use style=\"fill:#ff7f0e;stroke:#ffffff;stroke-width:0.48;\" x=\"235.3369\" xlink:href=\"#C0_0_da500a9a78\" y=\"207.28332\"/>\n    </g>\n    <g clip-path=\"url(#pa07806dccc)\">\n     <use style=\"fill:#1f77b4;stroke:#ffffff;stroke-width:0.48;\" x=\"243.075824\" xlink:href=\"#C0_0_da500a9a78\" y=\"55.734229\"/>\n    </g>\n    <g clip-path=\"url(#pa07806dccc)\">\n     <use style=\"fill:#ff7f0e;stroke:#ffffff;stroke-width:0.48;\" x=\"243.186443\" xlink:href=\"#C0_0_da500a9a78\" y=\"229.874489\"/>\n    </g>\n    <g clip-path=\"url(#pa07806dccc)\">\n     <use style=\"fill:#ff7f0e;stroke:#ffffff;stroke-width:0.48;\" x=\"248.521498\" xlink:href=\"#C0_0_da500a9a78\" y=\"184.692151\"/>\n    </g>\n    <g clip-path=\"url(#pa07806dccc)\">\n     <use style=\"fill:#1f77b4;stroke:#ffffff;stroke-width:0.48;\" x=\"266.207998\" xlink:href=\"#C0_0_da500a9a78\" y=\"132.920722\"/>\n    </g>\n    <g clip-path=\"url(#pa07806dccc)\">\n     <use style=\"fill:#1f77b4;stroke:#ffffff;stroke-width:0.48;\" x=\"272.134176\" xlink:href=\"#C0_0_da500a9a78\" y=\"116.918644\"/>\n    </g>\n    <g clip-path=\"url(#pa07806dccc)\">\n     <use style=\"fill:#ff7f0e;stroke:#ffffff;stroke-width:0.48;\" x=\"278.864558\" xlink:href=\"#C0_0_da500a9a78\" y=\"146.098904\"/>\n    </g>\n    <g clip-path=\"url(#pa07806dccc)\">\n     <use style=\"fill:#ff7f0e;stroke:#ffffff;stroke-width:0.48;\" x=\"280.629751\" xlink:href=\"#C0_0_da500a9a78\" y=\"229.874489\"/>\n    </g>\n    <g clip-path=\"url(#pa07806dccc)\">\n     <use style=\"fill:#1f77b4;stroke:#ffffff;stroke-width:0.48;\" x=\"288.898269\" xlink:href=\"#C0_0_da500a9a78\" y=\"88.679683\"/>\n    </g>\n    <g clip-path=\"url(#pa07806dccc)\">\n     <use style=\"fill:#ff7f0e;stroke:#ffffff;stroke-width:0.48;\" x=\"296.211114\" xlink:href=\"#C0_0_da500a9a78\" y=\"175.279164\"/>\n    </g>\n    <g clip-path=\"url(#pa07806dccc)\">\n     <use style=\"fill:#1f77b4;stroke:#ffffff;stroke-width:0.48;\" x=\"298.645067\" xlink:href=\"#C0_0_da500a9a78\" y=\"64.205917\"/>\n    </g>\n    <g clip-path=\"url(#pa07806dccc)\">\n     <use style=\"fill:#ff7f0e;stroke:#ffffff;stroke-width:0.48;\" x=\"313.834818\" xlink:href=\"#C0_0_da500a9a78\" y=\"169.631372\"/>\n    </g>\n    <g clip-path=\"url(#pa07806dccc)\">\n     <use style=\"fill:#ff7f0e;stroke:#ffffff;stroke-width:0.48;\" x=\"319.547442\" xlink:href=\"#C0_0_da500a9a78\" y=\"195.046437\"/>\n    </g>\n    <g clip-path=\"url(#pa07806dccc)\">\n     <use style=\"fill:#ff7f0e;stroke:#ffffff;stroke-width:0.48;\" x=\"326.124018\" xlink:href=\"#C0_0_da500a9a78\" y=\"102.799164\"/>\n    </g>\n    <g clip-path=\"url(#pa07806dccc)\">\n     <use style=\"fill:#1f77b4;stroke:#ffffff;stroke-width:0.48;\" x=\"329.429705\" xlink:href=\"#C0_0_da500a9a78\" y=\"66.088515\"/>\n    </g>\n    <g clip-path=\"url(#pa07806dccc)\">\n     <use style=\"fill:#ff7f0e;stroke:#ffffff;stroke-width:0.48;\" x=\"345.077873\" xlink:href=\"#C0_0_da500a9a78\" y=\"104.681761\"/>\n    </g>\n    <g clip-path=\"url(#pa07806dccc)\">\n     <use style=\"fill:#ff7f0e;stroke:#ffffff;stroke-width:0.48;\" x=\"349.351761\" xlink:href=\"#C0_0_da500a9a78\" y=\"122.566437\"/>\n    </g>\n    <g clip-path=\"url(#pa07806dccc)\">\n     <use style=\"fill:#ff7f0e;stroke:#ffffff;stroke-width:0.48;\" x=\"352.106672\" xlink:href=\"#C0_0_da500a9a78\" y=\"160.218385\"/>\n    </g>\n    <g clip-path=\"url(#pa07806dccc)\">\n     <use style=\"fill:#1f77b4;stroke:#ffffff;stroke-width:0.48;\" x=\"352.696192\" xlink:href=\"#C0_0_da500a9a78\" y=\"40.67345\"/>\n    </g>\n    <g clip-path=\"url(#pa07806dccc)\">\n     <use style=\"fill:#ff7f0e;stroke:#ffffff;stroke-width:0.48;\" x=\"358.724931\" xlink:href=\"#C0_0_da500a9a78\" y=\"120.683839\"/>\n    </g>\n    <g clip-path=\"url(#pa07806dccc)\">\n     <use style=\"fill:#ff7f0e;stroke:#ffffff;stroke-width:0.48;\" x=\"360.423828\" xlink:href=\"#C0_0_da500a9a78\" y=\"119.742541\"/>\n    </g>\n    <g clip-path=\"url(#pa07806dccc)\">\n     <use style=\"fill:#1f77b4;stroke:#ffffff;stroke-width:0.48;\" x=\"364.202998\" xlink:href=\"#C0_0_da500a9a78\" y=\"69.853709\"/>\n    </g>\n   </g>\n   <g id=\"PathCollection_2\"/>\n   <g id=\"PathCollection_3\"/>\n   <g id=\"matplotlib.axis_1\">\n    <g id=\"xtick_1\">\n     <g id=\"line2d_1\">\n      <defs>\n       <path d=\"M 0 0 \nL 0 3.5 \n\" id=\"md52cfab479\" style=\"stroke:#000000;stroke-width:0.8;\"/>\n      </defs>\n      <g>\n       <use style=\"stroke:#000000;stroke-width:0.8;\" x=\"62.374133\" xlink:href=\"#md52cfab479\" y=\"239.758125\"/>\n      </g>\n     </g>\n     <g id=\"text_1\">\n      <!-- 0 -->\n      <g transform=\"translate(59.192883 254.356562)scale(0.1 -0.1)\">\n       <defs>\n        <path d=\"M 2034 4250 \nQ 1547 4250 1301 3770 \nQ 1056 3291 1056 2328 \nQ 1056 1369 1301 889 \nQ 1547 409 2034 409 \nQ 2525 409 2770 889 \nQ 3016 1369 3016 2328 \nQ 3016 3291 2770 3770 \nQ 2525 4250 2034 4250 \nz\nM 2034 4750 \nQ 2819 4750 3233 4129 \nQ 3647 3509 3647 2328 \nQ 3647 1150 3233 529 \nQ 2819 -91 2034 -91 \nQ 1250 -91 836 529 \nQ 422 1150 422 2328 \nQ 422 3509 836 4129 \nQ 1250 4750 2034 4750 \nz\n\" id=\"DejaVuSans-30\" transform=\"scale(0.015625)\"/>\n       </defs>\n       <use xlink:href=\"#DejaVuSans-30\"/>\n      </g>\n     </g>\n    </g>\n    <g id=\"xtick_2\">\n     <g id=\"line2d_2\">\n      <g>\n       <use style=\"stroke:#000000;stroke-width:0.8;\" x=\"117.798459\" xlink:href=\"#md52cfab479\" y=\"239.758125\"/>\n      </g>\n     </g>\n     <g id=\"text_2\">\n      <!-- 2 -->\n      <g transform=\"translate(114.617209 254.356562)scale(0.1 -0.1)\">\n       <defs>\n        <path d=\"M 1228 531 \nL 3431 531 \nL 3431 0 \nL 469 0 \nL 469 531 \nQ 828 903 1448 1529 \nQ 2069 2156 2228 2338 \nQ 2531 2678 2651 2914 \nQ 2772 3150 2772 3378 \nQ 2772 3750 2511 3984 \nQ 2250 4219 1831 4219 \nQ 1534 4219 1204 4116 \nQ 875 4013 500 3803 \nL 500 4441 \nQ 881 4594 1212 4672 \nQ 1544 4750 1819 4750 \nQ 2544 4750 2975 4387 \nQ 3406 4025 3406 3419 \nQ 3406 3131 3298 2873 \nQ 3191 2616 2906 2266 \nQ 2828 2175 2409 1742 \nQ 1991 1309 1228 531 \nz\n\" id=\"DejaVuSans-32\" transform=\"scale(0.015625)\"/>\n       </defs>\n       <use xlink:href=\"#DejaVuSans-32\"/>\n      </g>\n     </g>\n    </g>\n    <g id=\"xtick_3\">\n     <g id=\"line2d_3\">\n      <g>\n       <use style=\"stroke:#000000;stroke-width:0.8;\" x=\"173.222785\" xlink:href=\"#md52cfab479\" y=\"239.758125\"/>\n      </g>\n     </g>\n     <g id=\"text_3\">\n      <!-- 4 -->\n      <g transform=\"translate(170.041535 254.356562)scale(0.1 -0.1)\">\n       <defs>\n        <path d=\"M 2419 4116 \nL 825 1625 \nL 2419 1625 \nL 2419 4116 \nz\nM 2253 4666 \nL 3047 4666 \nL 3047 1625 \nL 3713 1625 \nL 3713 1100 \nL 3047 1100 \nL 3047 0 \nL 2419 0 \nL 2419 1100 \nL 313 1100 \nL 313 1709 \nL 2253 4666 \nz\n\" id=\"DejaVuSans-34\" transform=\"scale(0.015625)\"/>\n       </defs>\n       <use xlink:href=\"#DejaVuSans-34\"/>\n      </g>\n     </g>\n    </g>\n    <g id=\"xtick_4\">\n     <g id=\"line2d_4\">\n      <g>\n       <use style=\"stroke:#000000;stroke-width:0.8;\" x=\"228.647111\" xlink:href=\"#md52cfab479\" y=\"239.758125\"/>\n      </g>\n     </g>\n     <g id=\"text_4\">\n      <!-- 6 -->\n      <g transform=\"translate(225.465861 254.356562)scale(0.1 -0.1)\">\n       <defs>\n        <path d=\"M 2113 2584 \nQ 1688 2584 1439 2293 \nQ 1191 2003 1191 1497 \nQ 1191 994 1439 701 \nQ 1688 409 2113 409 \nQ 2538 409 2786 701 \nQ 3034 994 3034 1497 \nQ 3034 2003 2786 2293 \nQ 2538 2584 2113 2584 \nz\nM 3366 4563 \nL 3366 3988 \nQ 3128 4100 2886 4159 \nQ 2644 4219 2406 4219 \nQ 1781 4219 1451 3797 \nQ 1122 3375 1075 2522 \nQ 1259 2794 1537 2939 \nQ 1816 3084 2150 3084 \nQ 2853 3084 3261 2657 \nQ 3669 2231 3669 1497 \nQ 3669 778 3244 343 \nQ 2819 -91 2113 -91 \nQ 1303 -91 875 529 \nQ 447 1150 447 2328 \nQ 447 3434 972 4092 \nQ 1497 4750 2381 4750 \nQ 2619 4750 2861 4703 \nQ 3103 4656 3366 4563 \nz\n\" id=\"DejaVuSans-36\" transform=\"scale(0.015625)\"/>\n       </defs>\n       <use xlink:href=\"#DejaVuSans-36\"/>\n      </g>\n     </g>\n    </g>\n    <g id=\"xtick_5\">\n     <g id=\"line2d_5\">\n      <g>\n       <use style=\"stroke:#000000;stroke-width:0.8;\" x=\"284.071437\" xlink:href=\"#md52cfab479\" y=\"239.758125\"/>\n      </g>\n     </g>\n     <g id=\"text_5\">\n      <!-- 8 -->\n      <g transform=\"translate(280.890187 254.356562)scale(0.1 -0.1)\">\n       <defs>\n        <path d=\"M 2034 2216 \nQ 1584 2216 1326 1975 \nQ 1069 1734 1069 1313 \nQ 1069 891 1326 650 \nQ 1584 409 2034 409 \nQ 2484 409 2743 651 \nQ 3003 894 3003 1313 \nQ 3003 1734 2745 1975 \nQ 2488 2216 2034 2216 \nz\nM 1403 2484 \nQ 997 2584 770 2862 \nQ 544 3141 544 3541 \nQ 544 4100 942 4425 \nQ 1341 4750 2034 4750 \nQ 2731 4750 3128 4425 \nQ 3525 4100 3525 3541 \nQ 3525 3141 3298 2862 \nQ 3072 2584 2669 2484 \nQ 3125 2378 3379 2068 \nQ 3634 1759 3634 1313 \nQ 3634 634 3220 271 \nQ 2806 -91 2034 -91 \nQ 1263 -91 848 271 \nQ 434 634 434 1313 \nQ 434 1759 690 2068 \nQ 947 2378 1403 2484 \nz\nM 1172 3481 \nQ 1172 3119 1398 2916 \nQ 1625 2713 2034 2713 \nQ 2441 2713 2670 2916 \nQ 2900 3119 2900 3481 \nQ 2900 3844 2670 4047 \nQ 2441 4250 2034 4250 \nQ 1625 4250 1398 4047 \nQ 1172 3844 1172 3481 \nz\n\" id=\"DejaVuSans-38\" transform=\"scale(0.015625)\"/>\n       </defs>\n       <use xlink:href=\"#DejaVuSans-38\"/>\n      </g>\n     </g>\n    </g>\n    <g id=\"xtick_6\">\n     <g id=\"line2d_6\">\n      <g>\n       <use style=\"stroke:#000000;stroke-width:0.8;\" x=\"339.495763\" xlink:href=\"#md52cfab479\" y=\"239.758125\"/>\n      </g>\n     </g>\n     <g id=\"text_6\">\n      <!-- 10 -->\n      <g transform=\"translate(333.133263 254.356562)scale(0.1 -0.1)\">\n       <defs>\n        <path d=\"M 794 531 \nL 1825 531 \nL 1825 4091 \nL 703 3866 \nL 703 4441 \nL 1819 4666 \nL 2450 4666 \nL 2450 531 \nL 3481 531 \nL 3481 0 \nL 794 0 \nL 794 531 \nz\n\" id=\"DejaVuSans-31\" transform=\"scale(0.015625)\"/>\n       </defs>\n       <use xlink:href=\"#DejaVuSans-31\"/>\n       <use x=\"63.623047\" xlink:href=\"#DejaVuSans-30\"/>\n      </g>\n     </g>\n    </g>\n    <g id=\"text_7\">\n     <!-- Distance -->\n     <g transform=\"translate(192.78125 268.034687)scale(0.1 -0.1)\">\n      <defs>\n       <path d=\"M 1259 4147 \nL 1259 519 \nL 2022 519 \nQ 2988 519 3436 956 \nQ 3884 1394 3884 2338 \nQ 3884 3275 3436 3711 \nQ 2988 4147 2022 4147 \nL 1259 4147 \nz\nM 628 4666 \nL 1925 4666 \nQ 3281 4666 3915 4102 \nQ 4550 3538 4550 2338 \nQ 4550 1131 3912 565 \nQ 3275 0 1925 0 \nL 628 0 \nL 628 4666 \nz\n\" id=\"DejaVuSans-44\" transform=\"scale(0.015625)\"/>\n       <path d=\"M 603 3500 \nL 1178 3500 \nL 1178 0 \nL 603 0 \nL 603 3500 \nz\nM 603 4863 \nL 1178 4863 \nL 1178 4134 \nL 603 4134 \nL 603 4863 \nz\n\" id=\"DejaVuSans-69\" transform=\"scale(0.015625)\"/>\n       <path d=\"M 2834 3397 \nL 2834 2853 \nQ 2591 2978 2328 3040 \nQ 2066 3103 1784 3103 \nQ 1356 3103 1142 2972 \nQ 928 2841 928 2578 \nQ 928 2378 1081 2264 \nQ 1234 2150 1697 2047 \nL 1894 2003 \nQ 2506 1872 2764 1633 \nQ 3022 1394 3022 966 \nQ 3022 478 2636 193 \nQ 2250 -91 1575 -91 \nQ 1294 -91 989 -36 \nQ 684 19 347 128 \nL 347 722 \nQ 666 556 975 473 \nQ 1284 391 1588 391 \nQ 1994 391 2212 530 \nQ 2431 669 2431 922 \nQ 2431 1156 2273 1281 \nQ 2116 1406 1581 1522 \nL 1381 1569 \nQ 847 1681 609 1914 \nQ 372 2147 372 2553 \nQ 372 3047 722 3315 \nQ 1072 3584 1716 3584 \nQ 2034 3584 2315 3537 \nQ 2597 3491 2834 3397 \nz\n\" id=\"DejaVuSans-73\" transform=\"scale(0.015625)\"/>\n       <path d=\"M 1172 4494 \nL 1172 3500 \nL 2356 3500 \nL 2356 3053 \nL 1172 3053 \nL 1172 1153 \nQ 1172 725 1289 603 \nQ 1406 481 1766 481 \nL 2356 481 \nL 2356 0 \nL 1766 0 \nQ 1100 0 847 248 \nQ 594 497 594 1153 \nL 594 3053 \nL 172 3053 \nL 172 3500 \nL 594 3500 \nL 594 4494 \nL 1172 4494 \nz\n\" id=\"DejaVuSans-74\" transform=\"scale(0.015625)\"/>\n       <path d=\"M 2194 1759 \nQ 1497 1759 1228 1600 \nQ 959 1441 959 1056 \nQ 959 750 1161 570 \nQ 1363 391 1709 391 \nQ 2188 391 2477 730 \nQ 2766 1069 2766 1631 \nL 2766 1759 \nL 2194 1759 \nz\nM 3341 1997 \nL 3341 0 \nL 2766 0 \nL 2766 531 \nQ 2569 213 2275 61 \nQ 1981 -91 1556 -91 \nQ 1019 -91 701 211 \nQ 384 513 384 1019 \nQ 384 1609 779 1909 \nQ 1175 2209 1959 2209 \nL 2766 2209 \nL 2766 2266 \nQ 2766 2663 2505 2880 \nQ 2244 3097 1772 3097 \nQ 1472 3097 1187 3025 \nQ 903 2953 641 2809 \nL 641 3341 \nQ 956 3463 1253 3523 \nQ 1550 3584 1831 3584 \nQ 2591 3584 2966 3190 \nQ 3341 2797 3341 1997 \nz\n\" id=\"DejaVuSans-61\" transform=\"scale(0.015625)\"/>\n       <path d=\"M 3513 2113 \nL 3513 0 \nL 2938 0 \nL 2938 2094 \nQ 2938 2591 2744 2837 \nQ 2550 3084 2163 3084 \nQ 1697 3084 1428 2787 \nQ 1159 2491 1159 1978 \nL 1159 0 \nL 581 0 \nL 581 3500 \nL 1159 3500 \nL 1159 2956 \nQ 1366 3272 1645 3428 \nQ 1925 3584 2291 3584 \nQ 2894 3584 3203 3211 \nQ 3513 2838 3513 2113 \nz\n\" id=\"DejaVuSans-6e\" transform=\"scale(0.015625)\"/>\n       <path d=\"M 3122 3366 \nL 3122 2828 \nQ 2878 2963 2633 3030 \nQ 2388 3097 2138 3097 \nQ 1578 3097 1268 2742 \nQ 959 2388 959 1747 \nQ 959 1106 1268 751 \nQ 1578 397 2138 397 \nQ 2388 397 2633 464 \nQ 2878 531 3122 666 \nL 3122 134 \nQ 2881 22 2623 -34 \nQ 2366 -91 2075 -91 \nQ 1284 -91 818 406 \nQ 353 903 353 1747 \nQ 353 2603 823 3093 \nQ 1294 3584 2113 3584 \nQ 2378 3584 2631 3529 \nQ 2884 3475 3122 3366 \nz\n\" id=\"DejaVuSans-63\" transform=\"scale(0.015625)\"/>\n       <path d=\"M 3597 1894 \nL 3597 1613 \nL 953 1613 \nQ 991 1019 1311 708 \nQ 1631 397 2203 397 \nQ 2534 397 2845 478 \nQ 3156 559 3463 722 \nL 3463 178 \nQ 3153 47 2828 -22 \nQ 2503 -91 2169 -91 \nQ 1331 -91 842 396 \nQ 353 884 353 1716 \nQ 353 2575 817 3079 \nQ 1281 3584 2069 3584 \nQ 2775 3584 3186 3129 \nQ 3597 2675 3597 1894 \nz\nM 3022 2063 \nQ 3016 2534 2758 2815 \nQ 2500 3097 2075 3097 \nQ 1594 3097 1305 2825 \nQ 1016 2553 972 2059 \nL 3022 2063 \nz\n\" id=\"DejaVuSans-65\" transform=\"scale(0.015625)\"/>\n      </defs>\n      <use xlink:href=\"#DejaVuSans-44\"/>\n      <use x=\"77.001953\" xlink:href=\"#DejaVuSans-69\"/>\n      <use x=\"104.785156\" xlink:href=\"#DejaVuSans-73\"/>\n      <use x=\"156.884766\" xlink:href=\"#DejaVuSans-74\"/>\n      <use x=\"196.09375\" xlink:href=\"#DejaVuSans-61\"/>\n      <use x=\"257.373047\" xlink:href=\"#DejaVuSans-6e\"/>\n      <use x=\"320.751953\" xlink:href=\"#DejaVuSans-63\"/>\n      <use x=\"375.732422\" xlink:href=\"#DejaVuSans-65\"/>\n     </g>\n    </g>\n   </g>\n   <g id=\"matplotlib.axis_2\">\n    <g id=\"ytick_1\">\n     <g id=\"line2d_7\">\n      <defs>\n       <path d=\"M 0 0 \nL -3.5 0 \n\" id=\"m2368d4fc50\" style=\"stroke:#000000;stroke-width:0.8;\"/>\n      </defs>\n      <g>\n       <use style=\"stroke:#000000;stroke-width:0.8;\" x=\"47.24375\" xlink:href=\"#m2368d4fc50\" y=\"229.874489\"/>\n      </g>\n     </g>\n     <g id=\"text_8\">\n      <!-- 0 -->\n      <g transform=\"translate(33.88125 233.673707)scale(0.1 -0.1)\">\n       <use xlink:href=\"#DejaVuSans-30\"/>\n      </g>\n     </g>\n    </g>\n    <g id=\"ytick_2\">\n     <g id=\"line2d_8\">\n      <g>\n       <use style=\"stroke:#000000;stroke-width:0.8;\" x=\"47.24375\" xlink:href=\"#m2368d4fc50\" y=\"182.809554\"/>\n      </g>\n     </g>\n     <g id=\"text_9\">\n      <!-- 50 -->\n      <g transform=\"translate(27.51875 186.608772)scale(0.1 -0.1)\">\n       <defs>\n        <path d=\"M 691 4666 \nL 3169 4666 \nL 3169 4134 \nL 1269 4134 \nL 1269 2991 \nQ 1406 3038 1543 3061 \nQ 1681 3084 1819 3084 \nQ 2600 3084 3056 2656 \nQ 3513 2228 3513 1497 \nQ 3513 744 3044 326 \nQ 2575 -91 1722 -91 \nQ 1428 -91 1123 -41 \nQ 819 9 494 109 \nL 494 744 \nQ 775 591 1075 516 \nQ 1375 441 1709 441 \nQ 2250 441 2565 725 \nQ 2881 1009 2881 1497 \nQ 2881 1984 2565 2268 \nQ 2250 2553 1709 2553 \nQ 1456 2553 1204 2497 \nQ 953 2441 691 2322 \nL 691 4666 \nz\n\" id=\"DejaVuSans-35\" transform=\"scale(0.015625)\"/>\n       </defs>\n       <use xlink:href=\"#DejaVuSans-35\"/>\n       <use x=\"63.623047\" xlink:href=\"#DejaVuSans-30\"/>\n      </g>\n     </g>\n    </g>\n    <g id=\"ytick_3\">\n     <g id=\"line2d_9\">\n      <g>\n       <use style=\"stroke:#000000;stroke-width:0.8;\" x=\"47.24375\" xlink:href=\"#m2368d4fc50\" y=\"135.744619\"/>\n      </g>\n     </g>\n     <g id=\"text_10\">\n      <!-- 100 -->\n      <g transform=\"translate(21.15625 139.543837)scale(0.1 -0.1)\">\n       <use xlink:href=\"#DejaVuSans-31\"/>\n       <use x=\"63.623047\" xlink:href=\"#DejaVuSans-30\"/>\n       <use x=\"127.246094\" xlink:href=\"#DejaVuSans-30\"/>\n      </g>\n     </g>\n    </g>\n    <g id=\"ytick_4\">\n     <g id=\"line2d_10\">\n      <g>\n       <use style=\"stroke:#000000;stroke-width:0.8;\" x=\"47.24375\" xlink:href=\"#m2368d4fc50\" y=\"88.679683\"/>\n      </g>\n     </g>\n     <g id=\"text_11\">\n      <!-- 150 -->\n      <g transform=\"translate(21.15625 92.478902)scale(0.1 -0.1)\">\n       <use xlink:href=\"#DejaVuSans-31\"/>\n       <use x=\"63.623047\" xlink:href=\"#DejaVuSans-35\"/>\n       <use x=\"127.246094\" xlink:href=\"#DejaVuSans-30\"/>\n      </g>\n     </g>\n    </g>\n    <g id=\"ytick_5\">\n     <g id=\"line2d_11\">\n      <g>\n       <use style=\"stroke:#000000;stroke-width:0.8;\" x=\"47.24375\" xlink:href=\"#m2368d4fc50\" y=\"41.614748\"/>\n      </g>\n     </g>\n     <g id=\"text_12\">\n      <!-- 200 -->\n      <g transform=\"translate(21.15625 45.413967)scale(0.1 -0.1)\">\n       <use xlink:href=\"#DejaVuSans-32\"/>\n       <use x=\"63.623047\" xlink:href=\"#DejaVuSans-30\"/>\n       <use x=\"127.246094\" xlink:href=\"#DejaVuSans-30\"/>\n      </g>\n     </g>\n    </g>\n    <g id=\"text_13\">\n     <!-- spent_last_month -->\n     <g transform=\"translate(14.798438 175.267812)rotate(-90)scale(0.1 -0.1)\">\n      <defs>\n       <path d=\"M 1159 525 \nL 1159 -1331 \nL 581 -1331 \nL 581 3500 \nL 1159 3500 \nL 1159 2969 \nQ 1341 3281 1617 3432 \nQ 1894 3584 2278 3584 \nQ 2916 3584 3314 3078 \nQ 3713 2572 3713 1747 \nQ 3713 922 3314 415 \nQ 2916 -91 2278 -91 \nQ 1894 -91 1617 61 \nQ 1341 213 1159 525 \nz\nM 3116 1747 \nQ 3116 2381 2855 2742 \nQ 2594 3103 2138 3103 \nQ 1681 3103 1420 2742 \nQ 1159 2381 1159 1747 \nQ 1159 1113 1420 752 \nQ 1681 391 2138 391 \nQ 2594 391 2855 752 \nQ 3116 1113 3116 1747 \nz\n\" id=\"DejaVuSans-70\" transform=\"scale(0.015625)\"/>\n       <path d=\"M 3263 -1063 \nL 3263 -1509 \nL -63 -1509 \nL -63 -1063 \nL 3263 -1063 \nz\n\" id=\"DejaVuSans-5f\" transform=\"scale(0.015625)\"/>\n       <path d=\"M 603 4863 \nL 1178 4863 \nL 1178 0 \nL 603 0 \nL 603 4863 \nz\n\" id=\"DejaVuSans-6c\" transform=\"scale(0.015625)\"/>\n       <path d=\"M 3328 2828 \nQ 3544 3216 3844 3400 \nQ 4144 3584 4550 3584 \nQ 5097 3584 5394 3201 \nQ 5691 2819 5691 2113 \nL 5691 0 \nL 5113 0 \nL 5113 2094 \nQ 5113 2597 4934 2840 \nQ 4756 3084 4391 3084 \nQ 3944 3084 3684 2787 \nQ 3425 2491 3425 1978 \nL 3425 0 \nL 2847 0 \nL 2847 2094 \nQ 2847 2600 2669 2842 \nQ 2491 3084 2119 3084 \nQ 1678 3084 1418 2786 \nQ 1159 2488 1159 1978 \nL 1159 0 \nL 581 0 \nL 581 3500 \nL 1159 3500 \nL 1159 2956 \nQ 1356 3278 1631 3431 \nQ 1906 3584 2284 3584 \nQ 2666 3584 2933 3390 \nQ 3200 3197 3328 2828 \nz\n\" id=\"DejaVuSans-6d\" transform=\"scale(0.015625)\"/>\n       <path d=\"M 1959 3097 \nQ 1497 3097 1228 2736 \nQ 959 2375 959 1747 \nQ 959 1119 1226 758 \nQ 1494 397 1959 397 \nQ 2419 397 2687 759 \nQ 2956 1122 2956 1747 \nQ 2956 2369 2687 2733 \nQ 2419 3097 1959 3097 \nz\nM 1959 3584 \nQ 2709 3584 3137 3096 \nQ 3566 2609 3566 1747 \nQ 3566 888 3137 398 \nQ 2709 -91 1959 -91 \nQ 1206 -91 779 398 \nQ 353 888 353 1747 \nQ 353 2609 779 3096 \nQ 1206 3584 1959 3584 \nz\n\" id=\"DejaVuSans-6f\" transform=\"scale(0.015625)\"/>\n       <path d=\"M 3513 2113 \nL 3513 0 \nL 2938 0 \nL 2938 2094 \nQ 2938 2591 2744 2837 \nQ 2550 3084 2163 3084 \nQ 1697 3084 1428 2787 \nQ 1159 2491 1159 1978 \nL 1159 0 \nL 581 0 \nL 581 4863 \nL 1159 4863 \nL 1159 2956 \nQ 1366 3272 1645 3428 \nQ 1925 3584 2291 3584 \nQ 2894 3584 3203 3211 \nQ 3513 2838 3513 2113 \nz\n\" id=\"DejaVuSans-68\" transform=\"scale(0.015625)\"/>\n      </defs>\n      <use xlink:href=\"#DejaVuSans-73\"/>\n      <use x=\"52.099609\" xlink:href=\"#DejaVuSans-70\"/>\n      <use x=\"115.576172\" xlink:href=\"#DejaVuSans-65\"/>\n      <use x=\"177.099609\" xlink:href=\"#DejaVuSans-6e\"/>\n      <use x=\"240.478516\" xlink:href=\"#DejaVuSans-74\"/>\n      <use x=\"279.6875\" xlink:href=\"#DejaVuSans-5f\"/>\n      <use x=\"329.6875\" xlink:href=\"#DejaVuSans-6c\"/>\n      <use x=\"357.470703\" xlink:href=\"#DejaVuSans-61\"/>\n      <use x=\"418.75\" xlink:href=\"#DejaVuSans-73\"/>\n      <use x=\"470.849609\" xlink:href=\"#DejaVuSans-74\"/>\n      <use x=\"510.058594\" xlink:href=\"#DejaVuSans-5f\"/>\n      <use x=\"560.058594\" xlink:href=\"#DejaVuSans-6d\"/>\n      <use x=\"657.470703\" xlink:href=\"#DejaVuSans-6f\"/>\n      <use x=\"718.652344\" xlink:href=\"#DejaVuSans-6e\"/>\n      <use x=\"782.03125\" xlink:href=\"#DejaVuSans-74\"/>\n      <use x=\"821.240234\" xlink:href=\"#DejaVuSans-68\"/>\n     </g>\n    </g>\n   </g>\n   <g id=\"patch_3\">\n    <path d=\"M 47.24375 239.758125 \nL 47.24375 22.318125 \n\" style=\"fill:none;stroke:#000000;stroke-linecap:square;stroke-linejoin:miter;stroke-width:0.8;\"/>\n   </g>\n   <g id=\"patch_4\">\n    <path d=\"M 382.04375 239.758125 \nL 382.04375 22.318125 \n\" style=\"fill:none;stroke:#000000;stroke-linecap:square;stroke-linejoin:miter;stroke-width:0.8;\"/>\n   </g>\n   <g id=\"patch_5\">\n    <path d=\"M 47.24375 239.758125 \nL 382.04375 239.758125 \n\" style=\"fill:none;stroke:#000000;stroke-linecap:square;stroke-linejoin:miter;stroke-width:0.8;\"/>\n   </g>\n   <g id=\"patch_6\">\n    <path d=\"M 47.24375 22.318125 \nL 382.04375 22.318125 \n\" style=\"fill:none;stroke:#000000;stroke-linecap:square;stroke-linejoin:miter;stroke-width:0.8;\"/>\n   </g>\n   <g id=\"text_14\">\n    <!-- Distance from Head store vs amount spent last month -->\n    <g transform=\"translate(51.429688 16.318125)scale(0.12 -0.12)\">\n     <defs>\n      <path id=\"DejaVuSans-20\" transform=\"scale(0.015625)\"/>\n      <path d=\"M 2375 4863 \nL 2375 4384 \nL 1825 4384 \nQ 1516 4384 1395 4259 \nQ 1275 4134 1275 3809 \nL 1275 3500 \nL 2222 3500 \nL 2222 3053 \nL 1275 3053 \nL 1275 0 \nL 697 0 \nL 697 3053 \nL 147 3053 \nL 147 3500 \nL 697 3500 \nL 697 3744 \nQ 697 4328 969 4595 \nQ 1241 4863 1831 4863 \nL 2375 4863 \nz\n\" id=\"DejaVuSans-66\" transform=\"scale(0.015625)\"/>\n      <path d=\"M 2631 2963 \nQ 2534 3019 2420 3045 \nQ 2306 3072 2169 3072 \nQ 1681 3072 1420 2755 \nQ 1159 2438 1159 1844 \nL 1159 0 \nL 581 0 \nL 581 3500 \nL 1159 3500 \nL 1159 2956 \nQ 1341 3275 1631 3429 \nQ 1922 3584 2338 3584 \nQ 2397 3584 2469 3576 \nQ 2541 3569 2628 3553 \nL 2631 2963 \nz\n\" id=\"DejaVuSans-72\" transform=\"scale(0.015625)\"/>\n      <path d=\"M 628 4666 \nL 1259 4666 \nL 1259 2753 \nL 3553 2753 \nL 3553 4666 \nL 4184 4666 \nL 4184 0 \nL 3553 0 \nL 3553 2222 \nL 1259 2222 \nL 1259 0 \nL 628 0 \nL 628 4666 \nz\n\" id=\"DejaVuSans-48\" transform=\"scale(0.015625)\"/>\n      <path d=\"M 2906 2969 \nL 2906 4863 \nL 3481 4863 \nL 3481 0 \nL 2906 0 \nL 2906 525 \nQ 2725 213 2448 61 \nQ 2172 -91 1784 -91 \nQ 1150 -91 751 415 \nQ 353 922 353 1747 \nQ 353 2572 751 3078 \nQ 1150 3584 1784 3584 \nQ 2172 3584 2448 3432 \nQ 2725 3281 2906 2969 \nz\nM 947 1747 \nQ 947 1113 1208 752 \nQ 1469 391 1925 391 \nQ 2381 391 2643 752 \nQ 2906 1113 2906 1747 \nQ 2906 2381 2643 2742 \nQ 2381 3103 1925 3103 \nQ 1469 3103 1208 2742 \nQ 947 2381 947 1747 \nz\n\" id=\"DejaVuSans-64\" transform=\"scale(0.015625)\"/>\n      <path d=\"M 191 3500 \nL 800 3500 \nL 1894 563 \nL 2988 3500 \nL 3597 3500 \nL 2284 0 \nL 1503 0 \nL 191 3500 \nz\n\" id=\"DejaVuSans-76\" transform=\"scale(0.015625)\"/>\n      <path d=\"M 544 1381 \nL 544 3500 \nL 1119 3500 \nL 1119 1403 \nQ 1119 906 1312 657 \nQ 1506 409 1894 409 \nQ 2359 409 2629 706 \nQ 2900 1003 2900 1516 \nL 2900 3500 \nL 3475 3500 \nL 3475 0 \nL 2900 0 \nL 2900 538 \nQ 2691 219 2414 64 \nQ 2138 -91 1772 -91 \nQ 1169 -91 856 284 \nQ 544 659 544 1381 \nz\nM 1991 3584 \nL 1991 3584 \nz\n\" id=\"DejaVuSans-75\" transform=\"scale(0.015625)\"/>\n     </defs>\n     <use xlink:href=\"#DejaVuSans-44\"/>\n     <use x=\"77.001953\" xlink:href=\"#DejaVuSans-69\"/>\n     <use x=\"104.785156\" xlink:href=\"#DejaVuSans-73\"/>\n     <use x=\"156.884766\" xlink:href=\"#DejaVuSans-74\"/>\n     <use x=\"196.09375\" xlink:href=\"#DejaVuSans-61\"/>\n     <use x=\"257.373047\" xlink:href=\"#DejaVuSans-6e\"/>\n     <use x=\"320.751953\" xlink:href=\"#DejaVuSans-63\"/>\n     <use x=\"375.732422\" xlink:href=\"#DejaVuSans-65\"/>\n     <use x=\"437.255859\" xlink:href=\"#DejaVuSans-20\"/>\n     <use x=\"469.042969\" xlink:href=\"#DejaVuSans-66\"/>\n     <use x=\"504.248047\" xlink:href=\"#DejaVuSans-72\"/>\n     <use x=\"543.111328\" xlink:href=\"#DejaVuSans-6f\"/>\n     <use x=\"604.292969\" xlink:href=\"#DejaVuSans-6d\"/>\n     <use x=\"701.705078\" xlink:href=\"#DejaVuSans-20\"/>\n     <use x=\"733.492188\" xlink:href=\"#DejaVuSans-48\"/>\n     <use x=\"808.6875\" xlink:href=\"#DejaVuSans-65\"/>\n     <use x=\"870.210938\" xlink:href=\"#DejaVuSans-61\"/>\n     <use x=\"931.490234\" xlink:href=\"#DejaVuSans-64\"/>\n     <use x=\"994.966797\" xlink:href=\"#DejaVuSans-20\"/>\n     <use x=\"1026.753906\" xlink:href=\"#DejaVuSans-73\"/>\n     <use x=\"1078.853516\" xlink:href=\"#DejaVuSans-74\"/>\n     <use x=\"1118.0625\" xlink:href=\"#DejaVuSans-6f\"/>\n     <use x=\"1179.244141\" xlink:href=\"#DejaVuSans-72\"/>\n     <use x=\"1218.107422\" xlink:href=\"#DejaVuSans-65\"/>\n     <use x=\"1279.630859\" xlink:href=\"#DejaVuSans-20\"/>\n     <use x=\"1311.417969\" xlink:href=\"#DejaVuSans-76\"/>\n     <use x=\"1370.597656\" xlink:href=\"#DejaVuSans-73\"/>\n     <use x=\"1422.697266\" xlink:href=\"#DejaVuSans-20\"/>\n     <use x=\"1454.484375\" xlink:href=\"#DejaVuSans-61\"/>\n     <use x=\"1515.763672\" xlink:href=\"#DejaVuSans-6d\"/>\n     <use x=\"1613.175781\" xlink:href=\"#DejaVuSans-6f\"/>\n     <use x=\"1674.357422\" xlink:href=\"#DejaVuSans-75\"/>\n     <use x=\"1737.736328\" xlink:href=\"#DejaVuSans-6e\"/>\n     <use x=\"1801.115234\" xlink:href=\"#DejaVuSans-74\"/>\n     <use x=\"1840.324219\" xlink:href=\"#DejaVuSans-20\"/>\n     <use x=\"1872.111328\" xlink:href=\"#DejaVuSans-73\"/>\n     <use x=\"1924.210938\" xlink:href=\"#DejaVuSans-70\"/>\n     <use x=\"1987.6875\" xlink:href=\"#DejaVuSans-65\"/>\n     <use x=\"2049.210938\" xlink:href=\"#DejaVuSans-6e\"/>\n     <use x=\"2112.589844\" xlink:href=\"#DejaVuSans-74\"/>\n     <use x=\"2151.798828\" xlink:href=\"#DejaVuSans-20\"/>\n     <use x=\"2183.585938\" xlink:href=\"#DejaVuSans-6c\"/>\n     <use x=\"2211.369141\" xlink:href=\"#DejaVuSans-61\"/>\n     <use x=\"2272.648438\" xlink:href=\"#DejaVuSans-73\"/>\n     <use x=\"2324.748047\" xlink:href=\"#DejaVuSans-74\"/>\n     <use x=\"2363.957031\" xlink:href=\"#DejaVuSans-20\"/>\n     <use x=\"2395.744141\" xlink:href=\"#DejaVuSans-6d\"/>\n     <use x=\"2493.15625\" xlink:href=\"#DejaVuSans-6f\"/>\n     <use x=\"2554.337891\" xlink:href=\"#DejaVuSans-6e\"/>\n     <use x=\"2617.716797\" xlink:href=\"#DejaVuSans-74\"/>\n     <use x=\"2656.925781\" xlink:href=\"#DejaVuSans-68\"/>\n    </g>\n   </g>\n   <g id=\"legend_1\">\n    <g id=\"patch_7\">\n     <path d=\"M 324.26875 234.758125 \nL 375.04375 234.758125 \nQ 377.04375 234.758125 377.04375 232.758125 \nL 377.04375 189.72375 \nQ 377.04375 187.72375 375.04375 187.72375 \nL 324.26875 187.72375 \nQ 322.26875 187.72375 322.26875 189.72375 \nL 322.26875 232.758125 \nQ 322.26875 234.758125 324.26875 234.758125 \nz\n\" style=\"fill:#ffffff;opacity:0.8;stroke:#cccccc;stroke-linejoin:miter;\"/>\n    </g>\n    <g id=\"text_15\">\n     <!-- Decision -->\n     <g transform=\"translate(328.369531 199.322187)scale(0.1 -0.1)\">\n      <use xlink:href=\"#DejaVuSans-44\"/>\n      <use x=\"77.001953\" xlink:href=\"#DejaVuSans-65\"/>\n      <use x=\"138.525391\" xlink:href=\"#DejaVuSans-63\"/>\n      <use x=\"193.505859\" xlink:href=\"#DejaVuSans-69\"/>\n      <use x=\"221.289062\" xlink:href=\"#DejaVuSans-73\"/>\n      <use x=\"273.388672\" xlink:href=\"#DejaVuSans-69\"/>\n      <use x=\"301.171875\" xlink:href=\"#DejaVuSans-6f\"/>\n      <use x=\"362.353516\" xlink:href=\"#DejaVuSans-6e\"/>\n     </g>\n    </g>\n    <g id=\"PathCollection_4\">\n     <defs>\n      <path d=\"M 0 3 \nC 0.795609 3 1.55874 2.683901 2.12132 2.12132 \nC 2.683901 1.55874 3 0.795609 3 0 \nC 3 -0.795609 2.683901 -1.55874 2.12132 -2.12132 \nC 1.55874 -2.683901 0.795609 -3 0 -3 \nC -0.795609 -3 -1.55874 -2.683901 -2.12132 -2.12132 \nC -2.683901 -1.55874 -3 -0.795609 -3 0 \nC -3 0.795609 -2.683901 1.55874 -2.12132 2.12132 \nC -1.55874 2.683901 -0.795609 3 0 3 \nz\n\" id=\"m1a04448fa2\" style=\"stroke:#1f77b4;\"/>\n     </defs>\n     <g>\n      <use style=\"fill:#1f77b4;stroke:#1f77b4;\" x=\"336.26875\" xlink:href=\"#m1a04448fa2\" y=\"211.375312\"/>\n     </g>\n    </g>\n    <g id=\"text_16\">\n     <!-- YES -->\n     <g transform=\"translate(354.26875 214.000312)scale(0.1 -0.1)\">\n      <defs>\n       <path d=\"M -13 4666 \nL 666 4666 \nL 1959 2747 \nL 3244 4666 \nL 3922 4666 \nL 2272 2222 \nL 2272 0 \nL 1638 0 \nL 1638 2222 \nL -13 4666 \nz\n\" id=\"DejaVuSans-59\" transform=\"scale(0.015625)\"/>\n       <path d=\"M 628 4666 \nL 3578 4666 \nL 3578 4134 \nL 1259 4134 \nL 1259 2753 \nL 3481 2753 \nL 3481 2222 \nL 1259 2222 \nL 1259 531 \nL 3634 531 \nL 3634 0 \nL 628 0 \nL 628 4666 \nz\n\" id=\"DejaVuSans-45\" transform=\"scale(0.015625)\"/>\n       <path d=\"M 3425 4513 \nL 3425 3897 \nQ 3066 4069 2747 4153 \nQ 2428 4238 2131 4238 \nQ 1616 4238 1336 4038 \nQ 1056 3838 1056 3469 \nQ 1056 3159 1242 3001 \nQ 1428 2844 1947 2747 \nL 2328 2669 \nQ 3034 2534 3370 2195 \nQ 3706 1856 3706 1288 \nQ 3706 609 3251 259 \nQ 2797 -91 1919 -91 \nQ 1588 -91 1214 -16 \nQ 841 59 441 206 \nL 441 856 \nQ 825 641 1194 531 \nQ 1563 422 1919 422 \nQ 2459 422 2753 634 \nQ 3047 847 3047 1241 \nQ 3047 1584 2836 1778 \nQ 2625 1972 2144 2069 \nL 1759 2144 \nQ 1053 2284 737 2584 \nQ 422 2884 422 3419 \nQ 422 4038 858 4394 \nQ 1294 4750 2059 4750 \nQ 2388 4750 2728 4690 \nQ 3069 4631 3425 4513 \nz\n\" id=\"DejaVuSans-53\" transform=\"scale(0.015625)\"/>\n      </defs>\n      <use xlink:href=\"#DejaVuSans-59\"/>\n      <use x=\"61.083984\" xlink:href=\"#DejaVuSans-45\"/>\n      <use x=\"124.267578\" xlink:href=\"#DejaVuSans-53\"/>\n     </g>\n    </g>\n    <g id=\"PathCollection_5\">\n     <defs>\n      <path d=\"M 0 3 \nC 0.795609 3 1.55874 2.683901 2.12132 2.12132 \nC 2.683901 1.55874 3 0.795609 3 0 \nC 3 -0.795609 2.683901 -1.55874 2.12132 -2.12132 \nC 1.55874 -2.683901 0.795609 -3 0 -3 \nC -0.795609 -3 -1.55874 -2.683901 -2.12132 -2.12132 \nC -2.683901 -1.55874 -3 -0.795609 -3 0 \nC -3 0.795609 -2.683901 1.55874 -2.12132 2.12132 \nC -1.55874 2.683901 -0.795609 3 0 3 \nz\n\" id=\"m0c61643194\" style=\"stroke:#ff7f0e;\"/>\n     </defs>\n     <g>\n      <use style=\"fill:#ff7f0e;stroke:#ff7f0e;\" x=\"336.26875\" xlink:href=\"#m0c61643194\" y=\"226.053437\"/>\n     </g>\n    </g>\n    <g id=\"text_17\">\n     <!-- NO -->\n     <g transform=\"translate(354.26875 228.678437)scale(0.1 -0.1)\">\n      <defs>\n       <path d=\"M 628 4666 \nL 1478 4666 \nL 3547 763 \nL 3547 4666 \nL 4159 4666 \nL 4159 0 \nL 3309 0 \nL 1241 3903 \nL 1241 0 \nL 628 0 \nL 628 4666 \nz\n\" id=\"DejaVuSans-4e\" transform=\"scale(0.015625)\"/>\n       <path d=\"M 2522 4238 \nQ 1834 4238 1429 3725 \nQ 1025 3213 1025 2328 \nQ 1025 1447 1429 934 \nQ 1834 422 2522 422 \nQ 3209 422 3611 934 \nQ 4013 1447 4013 2328 \nQ 4013 3213 3611 3725 \nQ 3209 4238 2522 4238 \nz\nM 2522 4750 \nQ 3503 4750 4090 4092 \nQ 4678 3434 4678 2328 \nQ 4678 1225 4090 567 \nQ 3503 -91 2522 -91 \nQ 1538 -91 948 565 \nQ 359 1222 359 2328 \nQ 359 3434 948 4092 \nQ 1538 4750 2522 4750 \nz\n\" id=\"DejaVuSans-4f\" transform=\"scale(0.015625)\"/>\n      </defs>\n      <use xlink:href=\"#DejaVuSans-4e\"/>\n      <use x=\"74.804688\" xlink:href=\"#DejaVuSans-4f\"/>\n     </g>\n    </g>\n   </g>\n  </g>\n </g>\n <defs>\n  <clipPath id=\"pa07806dccc\">\n   <rect height=\"217.44\" width=\"334.8\" x=\"47.24375\" y=\"22.318125\"/>\n  </clipPath>\n </defs>\n</svg>\n",
      "image/png": "[encoded data removed]"
     },
     "metadata": {
      "needs_background": "light"
     }
    }
   ],
   "metadata": {
    "colab": {},
    "colab_type": "code",
    "id": "q-AyXWSxDuWH"
   }
  },
  {
   "cell_type": "markdown",
   "source": [
    "Can you admissibly conclude anything from this scatterplot? Remember: we are trying to build a tree to classify unseen examples. Write your answer here:\n",
    " \n",
    "Yes. There appear to be clear clusters of Yes and No. The only concern is that it appears that the dividing line is diagonal and so there would need to be a lot branches to properly model the difference. \n",
    " "
   ],
   "metadata": {
    "colab_type": "text",
    "id": "I_nr36yZDuWJ"
   }
  },
  {
   "cell_type": "markdown",
   "source": [
    "### 3. Get the subset of coffeeData with null values in the Decision column, and save that subset as Prediction"
   ],
   "metadata": {
    "colab_type": "text",
    "id": "oQBPyvehDuWK"
   }
  },
  {
   "cell_type": "code",
   "execution_count": 20,
   "source": [
    "# Get just those rows whose value for the Decision column is null  \n",
    "Prediction = df[df['Decision'].isna()]\n",
    "\n",
    "Prediction"
   ],
   "outputs": [
    {
     "output_type": "execute_result",
     "data": {
      "text/plain": [
       "     Age  Gender  num_coffeeBags_per_year  spent_last_week  spent_last_month  \\\n",
       "1     24    Male                        0               44               164   \n",
       "3     20    Male                        0               30               107   \n",
       "7     24  Female                        0               20                34   \n",
       "11    24  Female                        0               40               153   \n",
       "12    21  Female                        0               38               122   \n",
       "..   ...     ...                      ...              ...               ...   \n",
       "673   66  Female                        5                0                52   \n",
       "677   67    Male                        5               41               151   \n",
       "680   24  Female                        5               62               205   \n",
       "682   33  Female                        5               34                96   \n",
       "700   20  Female                        5               41               159   \n",
       "\n",
       "     salary   Distance  Online Decision  \n",
       "1     74035   0.520906       0      NaN  \n",
       "3     13166   0.932098       1      NaN  \n",
       "7     17425   1.193188       0      NaN  \n",
       "11    84803   1.655096       1      NaN  \n",
       "12    42338   1.714179       1      NaN  \n",
       "..      ...        ...     ...      ...  \n",
       "673   55227   5.984716       0      NaN  \n",
       "677  182058   6.288700       1      NaN  \n",
       "680   55772   6.583449       1      NaN  \n",
       "682   78058   6.723241       0      NaN  \n",
       "700   12522  10.871566       0      NaN  \n",
       "\n",
       "[228 rows x 9 columns]"
      ],
      "text/html": [
       "<div>\n",
       "<style scoped>\n",
       "    .dataframe tbody tr th:only-of-type {\n",
       "        vertical-align: middle;\n",
       "    }\n",
       "\n",
       "    .dataframe tbody tr th {\n",
       "        vertical-align: top;\n",
       "    }\n",
       "\n",
       "    .dataframe thead th {\n",
       "        text-align: right;\n",
       "    }\n",
       "</style>\n",
       "<table border=\"1\" class=\"dataframe\">\n",
       "  <thead>\n",
       "    <tr style=\"text-align: right;\">\n",
       "      <th></th>\n",
       "      <th>Age</th>\n",
       "      <th>Gender</th>\n",
       "      <th>num_coffeeBags_per_year</th>\n",
       "      <th>spent_last_week</th>\n",
       "      <th>spent_last_month</th>\n",
       "      <th>salary</th>\n",
       "      <th>Distance</th>\n",
       "      <th>Online</th>\n",
       "      <th>Decision</th>\n",
       "    </tr>\n",
       "  </thead>\n",
       "  <tbody>\n",
       "    <tr>\n",
       "      <th>1</th>\n",
       "      <td>24</td>\n",
       "      <td>Male</td>\n",
       "      <td>0</td>\n",
       "      <td>44</td>\n",
       "      <td>164</td>\n",
       "      <td>74035</td>\n",
       "      <td>0.520906</td>\n",
       "      <td>0</td>\n",
       "      <td>NaN</td>\n",
       "    </tr>\n",
       "    <tr>\n",
       "      <th>3</th>\n",
       "      <td>20</td>\n",
       "      <td>Male</td>\n",
       "      <td>0</td>\n",
       "      <td>30</td>\n",
       "      <td>107</td>\n",
       "      <td>13166</td>\n",
       "      <td>0.932098</td>\n",
       "      <td>1</td>\n",
       "      <td>NaN</td>\n",
       "    </tr>\n",
       "    <tr>\n",
       "      <th>7</th>\n",
       "      <td>24</td>\n",
       "      <td>Female</td>\n",
       "      <td>0</td>\n",
       "      <td>20</td>\n",
       "      <td>34</td>\n",
       "      <td>17425</td>\n",
       "      <td>1.193188</td>\n",
       "      <td>0</td>\n",
       "      <td>NaN</td>\n",
       "    </tr>\n",
       "    <tr>\n",
       "      <th>11</th>\n",
       "      <td>24</td>\n",
       "      <td>Female</td>\n",
       "      <td>0</td>\n",
       "      <td>40</td>\n",
       "      <td>153</td>\n",
       "      <td>84803</td>\n",
       "      <td>1.655096</td>\n",
       "      <td>1</td>\n",
       "      <td>NaN</td>\n",
       "    </tr>\n",
       "    <tr>\n",
       "      <th>12</th>\n",
       "      <td>21</td>\n",
       "      <td>Female</td>\n",
       "      <td>0</td>\n",
       "      <td>38</td>\n",
       "      <td>122</td>\n",
       "      <td>42338</td>\n",
       "      <td>1.714179</td>\n",
       "      <td>1</td>\n",
       "      <td>NaN</td>\n",
       "    </tr>\n",
       "    <tr>\n",
       "      <th>...</th>\n",
       "      <td>...</td>\n",
       "      <td>...</td>\n",
       "      <td>...</td>\n",
       "      <td>...</td>\n",
       "      <td>...</td>\n",
       "      <td>...</td>\n",
       "      <td>...</td>\n",
       "      <td>...</td>\n",
       "      <td>...</td>\n",
       "    </tr>\n",
       "    <tr>\n",
       "      <th>673</th>\n",
       "      <td>66</td>\n",
       "      <td>Female</td>\n",
       "      <td>5</td>\n",
       "      <td>0</td>\n",
       "      <td>52</td>\n",
       "      <td>55227</td>\n",
       "      <td>5.984716</td>\n",
       "      <td>0</td>\n",
       "      <td>NaN</td>\n",
       "    </tr>\n",
       "    <tr>\n",
       "      <th>677</th>\n",
       "      <td>67</td>\n",
       "      <td>Male</td>\n",
       "      <td>5</td>\n",
       "      <td>41</td>\n",
       "      <td>151</td>\n",
       "      <td>182058</td>\n",
       "      <td>6.288700</td>\n",
       "      <td>1</td>\n",
       "      <td>NaN</td>\n",
       "    </tr>\n",
       "    <tr>\n",
       "      <th>680</th>\n",
       "      <td>24</td>\n",
       "      <td>Female</td>\n",
       "      <td>5</td>\n",
       "      <td>62</td>\n",
       "      <td>205</td>\n",
       "      <td>55772</td>\n",
       "      <td>6.583449</td>\n",
       "      <td>1</td>\n",
       "      <td>NaN</td>\n",
       "    </tr>\n",
       "    <tr>\n",
       "      <th>682</th>\n",
       "      <td>33</td>\n",
       "      <td>Female</td>\n",
       "      <td>5</td>\n",
       "      <td>34</td>\n",
       "      <td>96</td>\n",
       "      <td>78058</td>\n",
       "      <td>6.723241</td>\n",
       "      <td>0</td>\n",
       "      <td>NaN</td>\n",
       "    </tr>\n",
       "    <tr>\n",
       "      <th>700</th>\n",
       "      <td>20</td>\n",
       "      <td>Female</td>\n",
       "      <td>5</td>\n",
       "      <td>41</td>\n",
       "      <td>159</td>\n",
       "      <td>12522</td>\n",
       "      <td>10.871566</td>\n",
       "      <td>0</td>\n",
       "      <td>NaN</td>\n",
       "    </tr>\n",
       "  </tbody>\n",
       "</table>\n",
       "<p>228 rows × 9 columns</p>\n",
       "</div>"
      ]
     },
     "metadata": {},
     "execution_count": 20
    }
   ],
   "metadata": {
    "colab": {},
    "colab_type": "code",
    "id": "vcCednqUDuWL"
   }
  },
  {
   "cell_type": "code",
   "execution_count": 21,
   "source": [
    "# Call describe() on Prediction\n",
    "Prediction.describe()"
   ],
   "outputs": [
    {
     "output_type": "execute_result",
     "data": {
      "text/plain": [
       "              Age  num_coffeeBags_per_year  spent_last_week  spent_last_month  \\\n",
       "count  228.000000               228.000000       228.000000        228.000000   \n",
       "mean    31.802632                 2.960526        33.394737        110.407895   \n",
       "std     14.302293                 1.585514        15.697930         53.786536   \n",
       "min     16.000000                 0.000000         0.000000          0.000000   \n",
       "25%     22.000000                 2.000000        25.750000         65.000000   \n",
       "50%     25.000000                 3.000000        37.000000        113.500000   \n",
       "75%     39.000000                 4.000000        44.000000        151.250000   \n",
       "max     67.000000                 5.000000        62.000000        210.000000   \n",
       "\n",
       "              salary    Distance      Online  \n",
       "count     228.000000  228.000000  228.000000  \n",
       "mean    41923.741228    3.428836    0.570175  \n",
       "std     27406.768360    2.153102    0.496140  \n",
       "min      1617.000000    0.010048    0.000000  \n",
       "25%     15911.500000    1.699408    0.000000  \n",
       "50%     40987.500000    3.208673    1.000000  \n",
       "75%     58537.000000    5.261184    1.000000  \n",
       "max    182058.000000   10.871566    1.000000  "
      ],
      "text/html": [
       "<div>\n",
       "<style scoped>\n",
       "    .dataframe tbody tr th:only-of-type {\n",
       "        vertical-align: middle;\n",
       "    }\n",
       "\n",
       "    .dataframe tbody tr th {\n",
       "        vertical-align: top;\n",
       "    }\n",
       "\n",
       "    .dataframe thead th {\n",
       "        text-align: right;\n",
       "    }\n",
       "</style>\n",
       "<table border=\"1\" class=\"dataframe\">\n",
       "  <thead>\n",
       "    <tr style=\"text-align: right;\">\n",
       "      <th></th>\n",
       "      <th>Age</th>\n",
       "      <th>num_coffeeBags_per_year</th>\n",
       "      <th>spent_last_week</th>\n",
       "      <th>spent_last_month</th>\n",
       "      <th>salary</th>\n",
       "      <th>Distance</th>\n",
       "      <th>Online</th>\n",
       "    </tr>\n",
       "  </thead>\n",
       "  <tbody>\n",
       "    <tr>\n",
       "      <th>count</th>\n",
       "      <td>228.000000</td>\n",
       "      <td>228.000000</td>\n",
       "      <td>228.000000</td>\n",
       "      <td>228.000000</td>\n",
       "      <td>228.000000</td>\n",
       "      <td>228.000000</td>\n",
       "      <td>228.000000</td>\n",
       "    </tr>\n",
       "    <tr>\n",
       "      <th>mean</th>\n",
       "      <td>31.802632</td>\n",
       "      <td>2.960526</td>\n",
       "      <td>33.394737</td>\n",
       "      <td>110.407895</td>\n",
       "      <td>41923.741228</td>\n",
       "      <td>3.428836</td>\n",
       "      <td>0.570175</td>\n",
       "    </tr>\n",
       "    <tr>\n",
       "      <th>std</th>\n",
       "      <td>14.302293</td>\n",
       "      <td>1.585514</td>\n",
       "      <td>15.697930</td>\n",
       "      <td>53.786536</td>\n",
       "      <td>27406.768360</td>\n",
       "      <td>2.153102</td>\n",
       "      <td>0.496140</td>\n",
       "    </tr>\n",
       "    <tr>\n",
       "      <th>min</th>\n",
       "      <td>16.000000</td>\n",
       "      <td>0.000000</td>\n",
       "      <td>0.000000</td>\n",
       "      <td>0.000000</td>\n",
       "      <td>1617.000000</td>\n",
       "      <td>0.010048</td>\n",
       "      <td>0.000000</td>\n",
       "    </tr>\n",
       "    <tr>\n",
       "      <th>25%</th>\n",
       "      <td>22.000000</td>\n",
       "      <td>2.000000</td>\n",
       "      <td>25.750000</td>\n",
       "      <td>65.000000</td>\n",
       "      <td>15911.500000</td>\n",
       "      <td>1.699408</td>\n",
       "      <td>0.000000</td>\n",
       "    </tr>\n",
       "    <tr>\n",
       "      <th>50%</th>\n",
       "      <td>25.000000</td>\n",
       "      <td>3.000000</td>\n",
       "      <td>37.000000</td>\n",
       "      <td>113.500000</td>\n",
       "      <td>40987.500000</td>\n",
       "      <td>3.208673</td>\n",
       "      <td>1.000000</td>\n",
       "    </tr>\n",
       "    <tr>\n",
       "      <th>75%</th>\n",
       "      <td>39.000000</td>\n",
       "      <td>4.000000</td>\n",
       "      <td>44.000000</td>\n",
       "      <td>151.250000</td>\n",
       "      <td>58537.000000</td>\n",
       "      <td>5.261184</td>\n",
       "      <td>1.000000</td>\n",
       "    </tr>\n",
       "    <tr>\n",
       "      <th>max</th>\n",
       "      <td>67.000000</td>\n",
       "      <td>5.000000</td>\n",
       "      <td>62.000000</td>\n",
       "      <td>210.000000</td>\n",
       "      <td>182058.000000</td>\n",
       "      <td>10.871566</td>\n",
       "      <td>1.000000</td>\n",
       "    </tr>\n",
       "  </tbody>\n",
       "</table>\n",
       "</div>"
      ]
     },
     "metadata": {},
     "execution_count": 21
    }
   ],
   "metadata": {
    "colab": {},
    "colab_type": "code",
    "id": "aenlmp9NDuWM"
   }
  },
  {
   "cell_type": "markdown",
   "source": [
    "### 4. Divide the NOPrediction subset into X and y"
   ],
   "metadata": {
    "colab_type": "text",
    "id": "zmN_BPwFDuWO"
   }
  },
  {
   "cell_type": "code",
   "execution_count": 22,
   "source": [
    "# Check the names of the columns of NOPrediction\n",
    "cols = Prediction.columns\n",
    "\n",
    "cols"
   ],
   "outputs": [
    {
     "output_type": "execute_result",
     "data": {
      "text/plain": [
       "Index(['Age', 'Gender', 'num_coffeeBags_per_year', 'spent_last_week',\n",
       "       'spent_last_month', 'salary', 'Distance', 'Online', 'Decision'],\n",
       "      dtype='object')"
      ]
     },
     "metadata": {},
     "execution_count": 22
    }
   ],
   "metadata": {
    "colab": {},
    "colab_type": "code",
    "id": "00WtPVYSDuWP"
   }
  },
  {
   "cell_type": "code",
   "execution_count": 23,
   "source": [
    "# Let's do our feature selection.\n",
    "# Make a variable called 'features', and a list containing the strings of every column except \"Decision\"\n",
    "features = [a for a in cols if a != 'Decision']\n",
    "\n",
    "\n",
    "# Make an explanatory variable called X, and assign it: NoPrediction[features]\n",
    "X = NoPrediction[features]\n",
    "\n",
    "# # Make a dependent variable called y, X assign it: NoPrediction.Decision\n",
    "y = NoPrediction['Decision']"
   ],
   "outputs": [],
   "metadata": {
    "colab": {},
    "colab_type": "code",
    "id": "oPi2gMLfDuWQ"
   }
  },
  {
   "cell_type": "markdown",
   "source": [
    "### 5. Create dummy variables to deal with categorical inputs\n",
    "One-hot encoding replaces each unique value of a given column with a new column, and puts a 1 in the new column for a given row just if its initial value for the original column matches the new column. Check out [this resource](https://hackernoon.com/what-is-one-hot-encoding-why-and-when-do-you-have-to-use-it-e3c6186d008f) if you haven't seen one-hot-encoding before. \n",
    "\n",
    "**Note**: We will do this before we do our train/test split as to do it after could mean that some categories only end up in the train or test split of our data by chance and this would then lead to different shapes of data for our `X_train` and `X_test` which could/would cause downstream issues when fitting or predicting using a trained model."
   ],
   "metadata": {
    "colab_type": "text",
    "id": "R-d3XOv8DuWW"
   }
  },
  {
   "cell_type": "code",
   "execution_count": 45,
   "source": [
    "\n",
    "X = pd.get_dummies(X)\n",
    "X"
   ],
   "outputs": [
    {
     "output_type": "execute_result",
     "data": {
      "text/plain": [
       "     Age  num_coffeeBags_per_year  spent_last_week  spent_last_month  salary  \\\n",
       "0     36                        0               24                73   42789   \n",
       "2     24                        0               39               119   30563   \n",
       "4     24                        0               20                36   14244   \n",
       "5     20                        0               23                28   14293   \n",
       "6     34                        0               55               202   91035   \n",
       "..   ...                      ...              ...               ...     ...   \n",
       "696   29                        5               20                74   29799   \n",
       "697   45                        5               61               201   80260   \n",
       "698   54                        5               44               116   44077   \n",
       "699   63                        5               33               117   43081   \n",
       "701   90                        5               39               170   15098   \n",
       "\n",
       "      Distance  Online  Gender_Female  Gender_Male  \n",
       "0     0.003168       0              1            0  \n",
       "2     0.916005       1              0            1  \n",
       "4     0.965881       0              1            0  \n",
       "5     1.036346       1              1            0  \n",
       "6     1.134851       0              1            0  \n",
       "..         ...     ...            ...          ...  \n",
       "696  10.455068       0              1            0  \n",
       "697  10.476341       0              1            0  \n",
       "698  10.693889       1              0            1  \n",
       "699  10.755194       1              0            1  \n",
       "701  10.891566       0              0            1  \n",
       "\n",
       "[474 rows x 9 columns]"
      ],
      "text/html": [
       "<div>\n",
       "<style scoped>\n",
       "    .dataframe tbody tr th:only-of-type {\n",
       "        vertical-align: middle;\n",
       "    }\n",
       "\n",
       "    .dataframe tbody tr th {\n",
       "        vertical-align: top;\n",
       "    }\n",
       "\n",
       "    .dataframe thead th {\n",
       "        text-align: right;\n",
       "    }\n",
       "</style>\n",
       "<table border=\"1\" class=\"dataframe\">\n",
       "  <thead>\n",
       "    <tr style=\"text-align: right;\">\n",
       "      <th></th>\n",
       "      <th>Age</th>\n",
       "      <th>num_coffeeBags_per_year</th>\n",
       "      <th>spent_last_week</th>\n",
       "      <th>spent_last_month</th>\n",
       "      <th>salary</th>\n",
       "      <th>Distance</th>\n",
       "      <th>Online</th>\n",
       "      <th>Gender_Female</th>\n",
       "      <th>Gender_Male</th>\n",
       "    </tr>\n",
       "  </thead>\n",
       "  <tbody>\n",
       "    <tr>\n",
       "      <th>0</th>\n",
       "      <td>36</td>\n",
       "      <td>0</td>\n",
       "      <td>24</td>\n",
       "      <td>73</td>\n",
       "      <td>42789</td>\n",
       "      <td>0.003168</td>\n",
       "      <td>0</td>\n",
       "      <td>1</td>\n",
       "      <td>0</td>\n",
       "    </tr>\n",
       "    <tr>\n",
       "      <th>2</th>\n",
       "      <td>24</td>\n",
       "      <td>0</td>\n",
       "      <td>39</td>\n",
       "      <td>119</td>\n",
       "      <td>30563</td>\n",
       "      <td>0.916005</td>\n",
       "      <td>1</td>\n",
       "      <td>0</td>\n",
       "      <td>1</td>\n",
       "    </tr>\n",
       "    <tr>\n",
       "      <th>4</th>\n",
       "      <td>24</td>\n",
       "      <td>0</td>\n",
       "      <td>20</td>\n",
       "      <td>36</td>\n",
       "      <td>14244</td>\n",
       "      <td>0.965881</td>\n",
       "      <td>0</td>\n",
       "      <td>1</td>\n",
       "      <td>0</td>\n",
       "    </tr>\n",
       "    <tr>\n",
       "      <th>5</th>\n",
       "      <td>20</td>\n",
       "      <td>0</td>\n",
       "      <td>23</td>\n",
       "      <td>28</td>\n",
       "      <td>14293</td>\n",
       "      <td>1.036346</td>\n",
       "      <td>1</td>\n",
       "      <td>1</td>\n",
       "      <td>0</td>\n",
       "    </tr>\n",
       "    <tr>\n",
       "      <th>6</th>\n",
       "      <td>34</td>\n",
       "      <td>0</td>\n",
       "      <td>55</td>\n",
       "      <td>202</td>\n",
       "      <td>91035</td>\n",
       "      <td>1.134851</td>\n",
       "      <td>0</td>\n",
       "      <td>1</td>\n",
       "      <td>0</td>\n",
       "    </tr>\n",
       "    <tr>\n",
       "      <th>...</th>\n",
       "      <td>...</td>\n",
       "      <td>...</td>\n",
       "      <td>...</td>\n",
       "      <td>...</td>\n",
       "      <td>...</td>\n",
       "      <td>...</td>\n",
       "      <td>...</td>\n",
       "      <td>...</td>\n",
       "      <td>...</td>\n",
       "    </tr>\n",
       "    <tr>\n",
       "      <th>696</th>\n",
       "      <td>29</td>\n",
       "      <td>5</td>\n",
       "      <td>20</td>\n",
       "      <td>74</td>\n",
       "      <td>29799</td>\n",
       "      <td>10.455068</td>\n",
       "      <td>0</td>\n",
       "      <td>1</td>\n",
       "      <td>0</td>\n",
       "    </tr>\n",
       "    <tr>\n",
       "      <th>697</th>\n",
       "      <td>45</td>\n",
       "      <td>5</td>\n",
       "      <td>61</td>\n",
       "      <td>201</td>\n",
       "      <td>80260</td>\n",
       "      <td>10.476341</td>\n",
       "      <td>0</td>\n",
       "      <td>1</td>\n",
       "      <td>0</td>\n",
       "    </tr>\n",
       "    <tr>\n",
       "      <th>698</th>\n",
       "      <td>54</td>\n",
       "      <td>5</td>\n",
       "      <td>44</td>\n",
       "      <td>116</td>\n",
       "      <td>44077</td>\n",
       "      <td>10.693889</td>\n",
       "      <td>1</td>\n",
       "      <td>0</td>\n",
       "      <td>1</td>\n",
       "    </tr>\n",
       "    <tr>\n",
       "      <th>699</th>\n",
       "      <td>63</td>\n",
       "      <td>5</td>\n",
       "      <td>33</td>\n",
       "      <td>117</td>\n",
       "      <td>43081</td>\n",
       "      <td>10.755194</td>\n",
       "      <td>1</td>\n",
       "      <td>0</td>\n",
       "      <td>1</td>\n",
       "    </tr>\n",
       "    <tr>\n",
       "      <th>701</th>\n",
       "      <td>90</td>\n",
       "      <td>5</td>\n",
       "      <td>39</td>\n",
       "      <td>170</td>\n",
       "      <td>15098</td>\n",
       "      <td>10.891566</td>\n",
       "      <td>0</td>\n",
       "      <td>0</td>\n",
       "      <td>1</td>\n",
       "    </tr>\n",
       "  </tbody>\n",
       "</table>\n",
       "<p>474 rows × 9 columns</p>\n",
       "</div>"
      ]
     },
     "metadata": {},
     "execution_count": 45
    }
   ],
   "metadata": {
    "colab": {},
    "colab_type": "code",
    "id": "xXHGDZkZDuWW"
   }
  },
  {
   "cell_type": "markdown",
   "source": [
    "### 6. Further divide those subsets into train and test subsets for X and y respectively: X_train, X_test, y_train, y_test"
   ],
   "metadata": {
    "colab_type": "text",
    "id": "Jdn_dHlkDuWS"
   }
  },
  {
   "cell_type": "code",
   "execution_count": 46,
   "source": [
    "# Call train_test_split on X, y. Make the test_size = 0.25, and random_state = 246\n",
    "\n",
    "\n",
    "X_train, X_test, y_train, y_test = train_test_split(X, y, test_size = 0.25, random_state=246) \n"
   ],
   "outputs": [],
   "metadata": {
    "colab": {},
    "colab_type": "code",
    "id": "RqbHQza-DuWT"
   }
  },
  {
   "cell_type": "markdown",
   "source": [
    "# 3. Modelling\n",
    "It's useful to look at the scikit-learn documentation on decision trees https://scikit-learn.org/stable/modules/tree.html before launching into applying them. If you haven't seen them before, take a look at that link, in particular the section `1.10.5.` "
   ],
   "metadata": {
    "colab_type": "text",
    "id": "nqvyCX-6DuWb"
   }
  },
  {
   "cell_type": "markdown",
   "source": [
    "## Model 1: Entropy model - no max_depth\n",
    "\n",
    "We'll give you a little more guidance here, as the Python is hard to deduce, and scikitlearn takes some getting used to.\n",
    "\n",
    "Theoretically, let's remind ourselves of what's going on with a decision tree implementing an entropy model.\n",
    "\n",
    "Ross Quinlan's **ID3 Algorithm** was one of the first, and one of the most basic, to use entropy as a metric.\n",
    "\n",
    "**Entropy** is a measure of how uncertain we are about which category the data-points fall into at a given point in the tree. The **Information gain** of a specific feature with a threshold (such as 'spent_last_month <= 138.0') is the difference in entropy that exists before and after splitting on that feature; i.e., the information we gain about the categories of the data-points by splitting on that feature and that threshold. \n",
    "\n",
    "Naturally, we want to minimize entropy and maximize information gain. Quinlan's ID3 algorithm is designed to output a tree such that the features at each node, starting from the root, and going all the way down to the leaves, have maximial information gain. We want a tree whose leaves have elements that are *homogeneous*, that is, all of the same category. \n",
    "\n",
    "The first model will be the hardest. Persevere and you'll reap the rewards: you can use almost exactly the same code for the other models. "
   ],
   "metadata": {
    "colab_type": "text",
    "id": "RIm9IN5HDuWc"
   }
  },
  {
   "cell_type": "code",
   "execution_count": 53,
   "source": [
    "# Declare a variable called entr_model and use tree.DecisionTreeClassifier. \n",
    "entr_model = tree.DecisionTreeClassifier(criterion='entropy')\n",
    "\n",
    "# Call fit() on entr_modelentr_modeleeature_names\n",
    "entr_model.fit(X_train, y_train)\n",
    "# Call predict() on entr_model with X_test passed to it, and assign the result to a variable y_pred \n",
    "y_pred = entr_model.predict(X_test)\n",
    "\n",
    "# Call Series on our y_pred variable with the following: pd.Series(y_pred)\n",
    "y_pred = pd.Series(y_pred)"
   ],
   "outputs": [],
   "metadata": {
    "colab": {},
    "colab_type": "code",
    "id": "8-gelLDgDuWc"
   }
  },
  {
   "cell_type": "code",
   "execution_count": 54,
   "source": [
    "# Now we want to visualize the tree\n",
    "# source: https://mljar.com/blog/visualize-decision-tree/\n",
    "import graphviz\n",
    "as_text = tree.export_text(entr_model,max_depth=4, feature_names=list(X.columns))\n",
    "print(as_text)\n",
    "# We can do so with export_graphviz\n",
    "\n",
    "dot_data = tree.export_graphviz(entr_model, (criterion='entropy')feature_names=list(X.columns), out_file=None, filled=True, max_depth=5)\n",
    "\n",
    "graph = graphviz.Source(dot_data, format='png')\n",
    "graph\n",
    "# # Alternatively for class_names use entr_model.classes_\n"
   ],
   "outputs": [
    {
     "output_type": "stream",
     "name": "stdout",
     "text": [
      "|--- spent_last_month <= 138.00\n",
      "|   |--- Distance <= 3.52\n",
      "|   |   |--- spent_last_month <= 24.50\n",
      "|   |   |   |--- class: NO\n",
      "|   |   |--- spent_last_month >  24.50\n",
      "|   |   |   |--- Age <= 59.00\n",
      "|   |   |   |   |--- class: YES\n",
      "|   |   |   |--- Age >  59.00\n",
      "|   |   |   |   |--- class: NO\n",
      "|   |--- Distance >  3.52\n",
      "|   |   |--- spent_last_month <= 101.00\n",
      "|   |   |   |--- Distance <= 4.00\n",
      "|   |   |   |   |--- Age <= 26.50\n",
      "|   |   |   |   |   |--- class: YES\n",
      "|   |   |   |   |--- Age >  26.50\n",
      "|   |   |   |   |   |--- class: NO\n",
      "|   |   |   |--- Distance >  4.00\n",
      "|   |   |   |   |--- class: NO\n",
      "|   |   |--- spent_last_month >  101.00\n",
      "|   |   |   |--- Distance <= 7.89\n",
      "|   |   |   |   |--- class: YES\n",
      "|   |   |   |--- Distance >  7.89\n",
      "|   |   |   |   |--- class: NO\n",
      "|--- spent_last_month >  138.00\n",
      "|   |--- class: YES\n",
      "\n"
     ]
    },
    {
     "output_type": "execute_result",
     "data": {
      "text/plain": [
       "<graphviz.files.Source at 0x7fd9df8d4520>"
      ],
      "image/svg+xml": "<?xml version=\"1.0\" encoding=\"UTF-8\" standalone=\"no\"?>\n<!DOCTYPE svg PUBLIC \"-//W3C//DTD SVG 1.1//EN\"\n \"http://www.w3.org/Graphics/SVG/1.1/DTD/svg11.dtd\">\n<!-- Generated by graphviz version 2.43.0 (0)\n -->\n<!-- Title: Tree Pages: 1 -->\n<svg width=\"839pt\" height=\"581pt\"\n viewBox=\"0.00 0.00 839.00 581.00\" xmlns=\"http://www.w3.org/2000/svg\" xmlns:xlink=\"http://www.w3.org/1999/xlink\">\n<g id=\"graph0\" class=\"graph\" transform=\"scale(1 1) rotate(0) translate(4 577)\">\n<title>Tree</title>\n<polygon fill=\"white\" stroke=\"transparent\" points=\"-4,4 -4,-577 835,-577 835,4 -4,4\"/>\n<!-- 0 -->\n<g id=\"node1\" class=\"node\">\n<title>0</title>\n<polygon fill=\"#abd6f4\" stroke=\"black\" points=\"502.5,-573 287.5,-573 287.5,-505 502.5,-505 502.5,-573\"/>\n<text text-anchor=\"middle\" x=\"395\" y=\"-557.8\" font-family=\"Times,serif\" font-size=\"14.00\">spent_last_month &lt;= 138.0</text>\n<text text-anchor=\"middle\" x=\"395\" y=\"-542.8\" font-family=\"Times,serif\" font-size=\"14.00\">entropy = 0.948</text>\n<text text-anchor=\"middle\" x=\"395\" y=\"-527.8\" font-family=\"Times,serif\" font-size=\"14.00\">samples = 355</text>\n<text text-anchor=\"middle\" x=\"395\" y=\"-512.8\" font-family=\"Times,serif\" font-size=\"14.00\">value = [130, 225]</text>\n</g>\n<!-- 1 -->\n<g id=\"node2\" class=\"node\">\n<title>1</title>\n<polygon fill=\"#fae6d7\" stroke=\"black\" points=\"391,-469 239,-469 239,-401 391,-401 391,-469\"/>\n<text text-anchor=\"middle\" x=\"315\" y=\"-453.8\" font-family=\"Times,serif\" font-size=\"14.00\">Distance &lt;= 3.524</text>\n<text text-anchor=\"middle\" x=\"315\" y=\"-438.8\" font-family=\"Times,serif\" font-size=\"14.00\">entropy = 0.991</text>\n<text text-anchor=\"middle\" x=\"315\" y=\"-423.8\" font-family=\"Times,serif\" font-size=\"14.00\">samples = 234</text>\n<text text-anchor=\"middle\" x=\"315\" y=\"-408.8\" font-family=\"Times,serif\" font-size=\"14.00\">value = [130, 104]</text>\n</g>\n<!-- 0&#45;&gt;1 -->\n<g id=\"edge1\" class=\"edge\">\n<title>0&#45;&gt;1</title>\n<path fill=\"none\" stroke=\"black\" d=\"M369.03,-504.88C362.11,-496.07 354.55,-486.43 347.34,-477.24\"/>\n<polygon fill=\"black\" stroke=\"black\" points=\"350.04,-475.01 341.12,-469.3 344.53,-479.33 350.04,-475.01\"/>\n<text text-anchor=\"middle\" x=\"338.12\" y=\"-490.42\" font-family=\"Times,serif\" font-size=\"14.00\">True</text>\n</g>\n<!-- 16 -->\n<g id=\"node17\" class=\"node\">\n<title>16</title>\n<polygon fill=\"#399de5\" stroke=\"black\" points=\"540.5,-461.5 409.5,-461.5 409.5,-408.5 540.5,-408.5 540.5,-461.5\"/>\n<text text-anchor=\"middle\" x=\"475\" y=\"-446.3\" font-family=\"Times,serif\" font-size=\"14.00\">entropy = 0.0</text>\n<text text-anchor=\"middle\" x=\"475\" y=\"-431.3\" font-family=\"Times,serif\" font-size=\"14.00\">samples = 121</text>\n<text text-anchor=\"middle\" x=\"475\" y=\"-416.3\" font-family=\"Times,serif\" font-size=\"14.00\">value = [0, 121]</text>\n</g>\n<!-- 0&#45;&gt;16 -->\n<g id=\"edge16\" class=\"edge\">\n<title>0&#45;&gt;16</title>\n<path fill=\"none\" stroke=\"black\" d=\"M420.97,-504.88C429.86,-493.56 439.8,-480.88 448.71,-469.52\"/>\n<polygon fill=\"black\" stroke=\"black\" points=\"451.57,-471.55 454.98,-461.52 446.06,-467.23 451.57,-471.55\"/>\n<text text-anchor=\"middle\" x=\"457.98\" y=\"-482.64\" font-family=\"Times,serif\" font-size=\"14.00\">False</text>\n</g>\n<!-- 2 -->\n<g id=\"node3\" class=\"node\">\n<title>2</title>\n<polygon fill=\"#52aae8\" stroke=\"black\" points=\"304,-365 98,-365 98,-297 304,-297 304,-365\"/>\n<text text-anchor=\"middle\" x=\"201\" y=\"-349.8\" font-family=\"Times,serif\" font-size=\"14.00\">spent_last_month &lt;= 24.5</text>\n<text text-anchor=\"middle\" x=\"201\" y=\"-334.8\" font-family=\"Times,serif\" font-size=\"14.00\">entropy = 0.512</text>\n<text text-anchor=\"middle\" x=\"201\" y=\"-319.8\" font-family=\"Times,serif\" font-size=\"14.00\">samples = 79</text>\n<text text-anchor=\"middle\" x=\"201\" y=\"-304.8\" font-family=\"Times,serif\" font-size=\"14.00\">value = [9, 70]</text>\n</g>\n<!-- 1&#45;&gt;2 -->\n<g id=\"edge2\" class=\"edge\">\n<title>1&#45;&gt;2</title>\n<path fill=\"none\" stroke=\"black\" d=\"M277.99,-400.88C267.73,-391.71 256.49,-381.65 245.84,-372.12\"/>\n<polygon fill=\"black\" stroke=\"black\" points=\"248,-369.36 238.22,-365.3 243.34,-374.58 248,-369.36\"/>\n</g>\n<!-- 7 -->\n<g id=\"node8\" class=\"node\">\n<title>7</title>\n<polygon fill=\"#eca471\" stroke=\"black\" points=\"556.5,-365 341.5,-365 341.5,-297 556.5,-297 556.5,-365\"/>\n<text text-anchor=\"middle\" x=\"449\" y=\"-349.8\" font-family=\"Times,serif\" font-size=\"14.00\">spent_last_month &lt;= 101.0</text>\n<text text-anchor=\"middle\" x=\"449\" y=\"-334.8\" font-family=\"Times,serif\" font-size=\"14.00\">entropy = 0.759</text>\n<text text-anchor=\"middle\" x=\"449\" y=\"-319.8\" font-family=\"Times,serif\" font-size=\"14.00\">samples = 155</text>\n<text text-anchor=\"middle\" x=\"449\" y=\"-304.8\" font-family=\"Times,serif\" font-size=\"14.00\">value = [121, 34]</text>\n</g>\n<!-- 1&#45;&gt;7 -->\n<g id=\"edge7\" class=\"edge\">\n<title>1&#45;&gt;7</title>\n<path fill=\"none\" stroke=\"black\" d=\"M358.51,-400.88C370.79,-391.53 384.29,-381.26 397.02,-371.57\"/>\n<polygon fill=\"black\" stroke=\"black\" points=\"399.42,-374.14 405.25,-365.3 395.18,-368.57 399.42,-374.14\"/>\n</g>\n<!-- 3 -->\n<g id=\"node4\" class=\"node\">\n<title>3</title>\n<polygon fill=\"#e58139\" stroke=\"black\" points=\"116,-253.5 0,-253.5 0,-200.5 116,-200.5 116,-253.5\"/>\n<text text-anchor=\"middle\" x=\"58\" y=\"-238.3\" font-family=\"Times,serif\" font-size=\"14.00\">entropy = 0.0</text>\n<text text-anchor=\"middle\" x=\"58\" y=\"-223.3\" font-family=\"Times,serif\" font-size=\"14.00\">samples = 8</text>\n<text text-anchor=\"middle\" x=\"58\" y=\"-208.3\" font-family=\"Times,serif\" font-size=\"14.00\">value = [8, 0]</text>\n</g>\n<!-- 2&#45;&gt;3 -->\n<g id=\"edge3\" class=\"edge\">\n<title>2&#45;&gt;3</title>\n<path fill=\"none\" stroke=\"black\" d=\"M154.57,-296.88C137.77,-284.9 118.84,-271.4 102.23,-259.55\"/>\n<polygon fill=\"black\" stroke=\"black\" points=\"103.95,-256.48 93.78,-253.52 99.89,-262.18 103.95,-256.48\"/>\n</g>\n<!-- 4 -->\n<g id=\"node5\" class=\"node\">\n<title>4</title>\n<polygon fill=\"#3c9ee5\" stroke=\"black\" points=\"268,-261 134,-261 134,-193 268,-193 268,-261\"/>\n<text text-anchor=\"middle\" x=\"201\" y=\"-245.8\" font-family=\"Times,serif\" font-size=\"14.00\">Age &lt;= 59.0</text>\n<text text-anchor=\"middle\" x=\"201\" y=\"-230.8\" font-family=\"Times,serif\" font-size=\"14.00\">entropy = 0.107</text>\n<text text-anchor=\"middle\" x=\"201\" y=\"-215.8\" font-family=\"Times,serif\" font-size=\"14.00\">samples = 71</text>\n<text text-anchor=\"middle\" x=\"201\" y=\"-200.8\" font-family=\"Times,serif\" font-size=\"14.00\">value = [1, 70]</text>\n</g>\n<!-- 2&#45;&gt;4 -->\n<g id=\"edge4\" class=\"edge\">\n<title>2&#45;&gt;4</title>\n<path fill=\"none\" stroke=\"black\" d=\"M201,-296.88C201,-288.78 201,-279.98 201,-271.47\"/>\n<polygon fill=\"black\" stroke=\"black\" points=\"204.5,-271.3 201,-261.3 197.5,-271.3 204.5,-271.3\"/>\n</g>\n<!-- 5 -->\n<g id=\"node6\" class=\"node\">\n<title>5</title>\n<polygon fill=\"#399de5\" stroke=\"black\" points=\"125,-149.5 3,-149.5 3,-96.5 125,-96.5 125,-149.5\"/>\n<text text-anchor=\"middle\" x=\"64\" y=\"-134.3\" font-family=\"Times,serif\" font-size=\"14.00\">entropy = 0.0</text>\n<text text-anchor=\"middle\" x=\"64\" y=\"-119.3\" font-family=\"Times,serif\" font-size=\"14.00\">samples = 70</text>\n<text text-anchor=\"middle\" x=\"64\" y=\"-104.3\" font-family=\"Times,serif\" font-size=\"14.00\">value = [0, 70]</text>\n</g>\n<!-- 4&#45;&gt;5 -->\n<g id=\"edge5\" class=\"edge\">\n<title>4&#45;&gt;5</title>\n<path fill=\"none\" stroke=\"black\" d=\"M156.52,-192.88C140.42,-180.9 122.29,-167.4 106.38,-155.55\"/>\n<polygon fill=\"black\" stroke=\"black\" points=\"108.39,-152.68 98.28,-149.52 104.21,-158.3 108.39,-152.68\"/>\n</g>\n<!-- 6 -->\n<g id=\"node7\" class=\"node\">\n<title>6</title>\n<polygon fill=\"#e58139\" stroke=\"black\" points=\"259,-149.5 143,-149.5 143,-96.5 259,-96.5 259,-149.5\"/>\n<text text-anchor=\"middle\" x=\"201\" y=\"-134.3\" font-family=\"Times,serif\" font-size=\"14.00\">entropy = 0.0</text>\n<text text-anchor=\"middle\" x=\"201\" y=\"-119.3\" font-family=\"Times,serif\" font-size=\"14.00\">samples = 1</text>\n<text text-anchor=\"middle\" x=\"201\" y=\"-104.3\" font-family=\"Times,serif\" font-size=\"14.00\">value = [1, 0]</text>\n</g>\n<!-- 4&#45;&gt;6 -->\n<g id=\"edge6\" class=\"edge\">\n<title>4&#45;&gt;6</title>\n<path fill=\"none\" stroke=\"black\" d=\"M201,-192.88C201,-182.33 201,-170.6 201,-159.85\"/>\n<polygon fill=\"black\" stroke=\"black\" points=\"204.5,-159.52 201,-149.52 197.5,-159.52 204.5,-159.52\"/>\n</g>\n<!-- 8 -->\n<g id=\"node9\" class=\"node\">\n<title>8</title>\n<polygon fill=\"#e6853f\" stroke=\"black\" points=\"516,-261 382,-261 382,-193 516,-193 516,-261\"/>\n<text text-anchor=\"middle\" x=\"449\" y=\"-245.8\" font-family=\"Times,serif\" font-size=\"14.00\">Distance &lt;= 4.0</text>\n<text text-anchor=\"middle\" x=\"449\" y=\"-230.8\" font-family=\"Times,serif\" font-size=\"14.00\">entropy = 0.191</text>\n<text text-anchor=\"middle\" x=\"449\" y=\"-215.8\" font-family=\"Times,serif\" font-size=\"14.00\">samples = 102</text>\n<text text-anchor=\"middle\" x=\"449\" y=\"-200.8\" font-family=\"Times,serif\" font-size=\"14.00\">value = [99, 3]</text>\n</g>\n<!-- 7&#45;&gt;8 -->\n<g id=\"edge8\" class=\"edge\">\n<title>7&#45;&gt;8</title>\n<path fill=\"none\" stroke=\"black\" d=\"M449,-296.88C449,-288.78 449,-279.98 449,-271.47\"/>\n<polygon fill=\"black\" stroke=\"black\" points=\"452.5,-271.3 449,-261.3 445.5,-271.3 452.5,-271.3\"/>\n</g>\n<!-- 13 -->\n<g id=\"node14\" class=\"node\">\n<title>13</title>\n<polygon fill=\"#c6e3f7\" stroke=\"black\" points=\"706,-261 554,-261 554,-193 706,-193 706,-261\"/>\n<text text-anchor=\"middle\" x=\"630\" y=\"-245.8\" font-family=\"Times,serif\" font-size=\"14.00\">Distance &lt;= 7.887</text>\n<text text-anchor=\"middle\" x=\"630\" y=\"-230.8\" font-family=\"Times,serif\" font-size=\"14.00\">entropy = 0.979</text>\n<text text-anchor=\"middle\" x=\"630\" y=\"-215.8\" font-family=\"Times,serif\" font-size=\"14.00\">samples = 53</text>\n<text text-anchor=\"middle\" x=\"630\" y=\"-200.8\" font-family=\"Times,serif\" font-size=\"14.00\">value = [22, 31]</text>\n</g>\n<!-- 7&#45;&gt;13 -->\n<g id=\"edge13\" class=\"edge\">\n<title>7&#45;&gt;13</title>\n<path fill=\"none\" stroke=\"black\" d=\"M507.77,-296.88C525.08,-287.12 544.17,-276.37 562.02,-266.31\"/>\n<polygon fill=\"black\" stroke=\"black\" points=\"564.23,-269.08 571.22,-261.12 560.79,-262.99 564.23,-269.08\"/>\n</g>\n<!-- 9 -->\n<g id=\"node10\" class=\"node\">\n<title>9</title>\n<polygon fill=\"#f8e0ce\" stroke=\"black\" points=\"411,-157 277,-157 277,-89 411,-89 411,-157\"/>\n<text text-anchor=\"middle\" x=\"344\" y=\"-141.8\" font-family=\"Times,serif\" font-size=\"14.00\">Age &lt;= 26.5</text>\n<text text-anchor=\"middle\" x=\"344\" y=\"-126.8\" font-family=\"Times,serif\" font-size=\"14.00\">entropy = 0.985</text>\n<text text-anchor=\"middle\" x=\"344\" y=\"-111.8\" font-family=\"Times,serif\" font-size=\"14.00\">samples = 7</text>\n<text text-anchor=\"middle\" x=\"344\" y=\"-96.8\" font-family=\"Times,serif\" font-size=\"14.00\">value = [4, 3]</text>\n</g>\n<!-- 8&#45;&gt;9 -->\n<g id=\"edge9\" class=\"edge\">\n<title>8&#45;&gt;9</title>\n<path fill=\"none\" stroke=\"black\" d=\"M414.91,-192.88C405.56,-183.8 395.31,-173.85 385.59,-164.4\"/>\n<polygon fill=\"black\" stroke=\"black\" points=\"387.89,-161.76 378.28,-157.3 383.01,-166.78 387.89,-161.76\"/>\n</g>\n<!-- 12 -->\n<g id=\"node13\" class=\"node\">\n<title>12</title>\n<polygon fill=\"#e58139\" stroke=\"black\" points=\"551,-149.5 429,-149.5 429,-96.5 551,-96.5 551,-149.5\"/>\n<text text-anchor=\"middle\" x=\"490\" y=\"-134.3\" font-family=\"Times,serif\" font-size=\"14.00\">entropy = 0.0</text>\n<text text-anchor=\"middle\" x=\"490\" y=\"-119.3\" font-family=\"Times,serif\" font-size=\"14.00\">samples = 95</text>\n<text text-anchor=\"middle\" x=\"490\" y=\"-104.3\" font-family=\"Times,serif\" font-size=\"14.00\">value = [95, 0]</text>\n</g>\n<!-- 8&#45;&gt;12 -->\n<g id=\"edge12\" class=\"edge\">\n<title>8&#45;&gt;12</title>\n<path fill=\"none\" stroke=\"black\" d=\"M462.31,-192.88C466.69,-182 471.57,-169.86 475.99,-158.85\"/>\n<polygon fill=\"black\" stroke=\"black\" points=\"479.26,-160.1 479.74,-149.52 472.76,-157.49 479.26,-160.1\"/>\n</g>\n<!-- 10 -->\n<g id=\"node11\" class=\"node\">\n<title>10</title>\n<polygon fill=\"#399de5\" stroke=\"black\" points=\"335,-53 219,-53 219,0 335,0 335,-53\"/>\n<text text-anchor=\"middle\" x=\"277\" y=\"-37.8\" font-family=\"Times,serif\" font-size=\"14.00\">entropy = 0.0</text>\n<text text-anchor=\"middle\" x=\"277\" y=\"-22.8\" font-family=\"Times,serif\" font-size=\"14.00\">samples = 3</text>\n<text text-anchor=\"middle\" x=\"277\" y=\"-7.8\" font-family=\"Times,serif\" font-size=\"14.00\">value = [0, 3]</text>\n</g>\n<!-- 9&#45;&gt;10 -->\n<g id=\"edge10\" class=\"edge\">\n<title>9&#45;&gt;10</title>\n<path fill=\"none\" stroke=\"black\" d=\"M320.57,-88.95C314.28,-80.07 307.46,-70.46 301.13,-61.54\"/>\n<polygon fill=\"black\" stroke=\"black\" points=\"303.89,-59.37 295.25,-53.24 298.18,-63.42 303.89,-59.37\"/>\n</g>\n<!-- 11 -->\n<g id=\"node12\" class=\"node\">\n<title>11</title>\n<polygon fill=\"#e58139\" stroke=\"black\" points=\"469,-53 353,-53 353,0 469,0 469,-53\"/>\n<text text-anchor=\"middle\" x=\"411\" y=\"-37.8\" font-family=\"Times,serif\" font-size=\"14.00\">entropy = 0.0</text>\n<text text-anchor=\"middle\" x=\"411\" y=\"-22.8\" font-family=\"Times,serif\" font-size=\"14.00\">samples = 4</text>\n<text text-anchor=\"middle\" x=\"411\" y=\"-7.8\" font-family=\"Times,serif\" font-size=\"14.00\">value = [4, 0]</text>\n</g>\n<!-- 9&#45;&gt;11 -->\n<g id=\"edge11\" class=\"edge\">\n<title>9&#45;&gt;11</title>\n<path fill=\"none\" stroke=\"black\" d=\"M367.43,-88.95C373.72,-80.07 380.54,-70.46 386.87,-61.54\"/>\n<polygon fill=\"black\" stroke=\"black\" points=\"389.82,-63.42 392.75,-53.24 384.11,-59.37 389.82,-63.42\"/>\n</g>\n<!-- 14 -->\n<g id=\"node15\" class=\"node\">\n<title>14</title>\n<polygon fill=\"#399de5\" stroke=\"black\" points=\"691,-149.5 569,-149.5 569,-96.5 691,-96.5 691,-149.5\"/>\n<text text-anchor=\"middle\" x=\"630\" y=\"-134.3\" font-family=\"Times,serif\" font-size=\"14.00\">entropy = 0.0</text>\n<text text-anchor=\"middle\" x=\"630\" y=\"-119.3\" font-family=\"Times,serif\" font-size=\"14.00\">samples = 31</text>\n<text text-anchor=\"middle\" x=\"630\" y=\"-104.3\" font-family=\"Times,serif\" font-size=\"14.00\">value = [0, 31]</text>\n</g>\n<!-- 13&#45;&gt;14 -->\n<g id=\"edge14\" class=\"edge\">\n<title>13&#45;&gt;14</title>\n<path fill=\"none\" stroke=\"black\" d=\"M630,-192.88C630,-182.33 630,-170.6 630,-159.85\"/>\n<polygon fill=\"black\" stroke=\"black\" points=\"633.5,-159.52 630,-149.52 626.5,-159.52 633.5,-159.52\"/>\n</g>\n<!-- 15 -->\n<g id=\"node16\" class=\"node\">\n<title>15</title>\n<polygon fill=\"#e58139\" stroke=\"black\" points=\"831,-149.5 709,-149.5 709,-96.5 831,-96.5 831,-149.5\"/>\n<text text-anchor=\"middle\" x=\"770\" y=\"-134.3\" font-family=\"Times,serif\" font-size=\"14.00\">entropy = 0.0</text>\n<text text-anchor=\"middle\" x=\"770\" y=\"-119.3\" font-family=\"Times,serif\" font-size=\"14.00\">samples = 22</text>\n<text text-anchor=\"middle\" x=\"770\" y=\"-104.3\" font-family=\"Times,serif\" font-size=\"14.00\">value = [22, 0]</text>\n</g>\n<!-- 13&#45;&gt;15 -->\n<g id=\"edge15\" class=\"edge\">\n<title>13&#45;&gt;15</title>\n<path fill=\"none\" stroke=\"black\" d=\"M675.45,-192.88C691.91,-180.9 710.43,-167.4 726.7,-155.55\"/>\n<polygon fill=\"black\" stroke=\"black\" points=\"728.95,-158.24 734.97,-149.52 724.83,-152.58 728.95,-158.24\"/>\n</g>\n</g>\n</svg>\n"
     },
     "metadata": {},
     "execution_count": 54
    }
   ],
   "metadata": {
    "colab": {},
    "colab_type": "code",
    "id": "S4FbHfWnDuWe"
   }
  },
  {
   "cell_type": "markdown",
   "source": [
    "## Model 1: Entropy model - no max_depth: Interpretation and evaluation"
   ],
   "metadata": {
    "colab_type": "text",
    "id": "dFbii4IADuWg"
   }
  },
  {
   "cell_type": "code",
   "execution_count": 55,
   "source": [
    "# Run this block for model evaluation metrics \n",
    "print(\"Model Entropy - no max depth\")\n",
    "print(\"Accuracy:\", metrics.accuracy_score(y_test,y_pred))\n",
    "print(\"Balanced accuracy:\", metrics.balanced_accuracy_score(y_test,y_pred))\n",
    "print('Precision score for \"Yes\"' , metrics.precision_score(y_test,y_pred, pos_label = \"YES\"))\n",
    "print('Precision score for \"No\"' , metrics.precision_score(y_test,y_pred, pos_label = \"NO\"))\n",
    "print('Recall score for \"Yes\"' , metrics.recall_score(y_test,y_pred, pos_label = \"YES\"))\n",
    "print('Recall score for \"No\"' , metrics.recall_score(y_test,y_pred, pos_label = \"NO\"))"
   ],
   "outputs": [
    {
     "output_type": "stream",
     "name": "stdout",
     "text": [
      "Model Entropy - no max depth\n",
      "Accuracy: 0.9915966386554622\n",
      "Balanced accuracy: 0.9878048780487805\n",
      "Precision score for \"Yes\" 0.9873417721518988\n",
      "Precision score for \"No\" 1.0\n",
      "Recall score for \"Yes\" 1.0\n",
      "Recall score for \"No\" 0.975609756097561\n"
     ]
    }
   ],
   "metadata": {
    "colab": {},
    "colab_type": "code",
    "id": "XRL0klK4DuWh"
   }
  },
  {
   "cell_type": "markdown",
   "source": [
    "What can you infer from these results? Write your conclusions here:\n",
    " \n",
    "Accuracy here is at 98% and there are not substantial differences between the Precision and Recall for the different classes."
   ],
   "metadata": {
    "colab_type": "text",
    "id": "icGOPFQ_DuWj"
   }
  },
  {
   "cell_type": "markdown",
   "source": [
    "## Model 2: Gini impurity model - no max_depth\n",
    "\n",
    "Gini impurity, like entropy, is a measure of how well a given feature (and threshold) splits the data into categories.\n",
    "\n",
    "Their equations are similar, but Gini impurity doesn't require logorathmic functions, which can be computationally expensive. "
   ],
   "metadata": {
    "colab_type": "text",
    "id": "MHipdpfxDuWk"
   }
  },
  {
   "cell_type": "code",
   "execution_count": 56,
   "source": [
    "# Make a variable called gini_model, and assign it exactly what you assigned entr_model with above, but with the\n",
    "# criterion changed to 'gini'\n",
    "gini_model = tree.DecisionTreeClassifier(criterion='gini')\n",
    "\n",
    "# Call fit() on the gini_model as you did with the entr_model\n",
    "gini_model.fit(X_train,y_train)\n",
    "#  Call predict() on the gini_model as you did with the entr_model \n",
    "y_pred = gini_model.predict(X_test)\n",
    "# Turn y_pred into a series, as before\n",
    "y_pred = pd.Series(y_pred)\n",
    "# Check out gini_model\n",
    "gini_model"
   ],
   "outputs": [
    {
     "output_type": "execute_result",
     "data": {
      "text/plain": [
       "DecisionTreeClassifier()"
      ]
     },
     "metadata": {},
     "execution_count": 56
    }
   ],
   "metadata": {
    "colab": {},
    "colab_type": "code",
    "id": "FyBljeIpDuWl"
   }
  },
  {
   "cell_type": "code",
   "execution_count": 50,
   "source": [
    "# As before, but make the model name gini_model\n",
    "dot_data = tree.export_graphviz(gini_model, out_file=None, filled=True, max_depth=5,feature_names=X.columns, class_names=gini_model.classes_)\n",
    "graph = graphviz.Source(dot_data, format='png')\n",
    "\n",
    "# Alternatively for class_names use gini_model.classes_\n",
    "graph"
   ],
   "outputs": [
    {
     "output_type": "execute_result",
     "data": {
      "text/plain": [
       "<graphviz.files.Source at 0x7fd9df999a00>"
      ],
      "image/svg+xml": "<?xml version=\"1.0\" encoding=\"UTF-8\" standalone=\"no\"?>\n<!DOCTYPE svg PUBLIC \"-//W3C//DTD SVG 1.1//EN\"\n \"http://www.w3.org/Graphics/SVG/1.1/DTD/svg11.dtd\">\n<!-- Generated by graphviz version 2.43.0 (0)\n -->\n<!-- Title: Tree Pages: 1 -->\n<svg width=\"1002pt\" height=\"758pt\"\n viewBox=\"0.00 0.00 1002.00 758.00\" xmlns=\"http://www.w3.org/2000/svg\" xmlns:xlink=\"http://www.w3.org/1999/xlink\">\n<g id=\"graph0\" class=\"graph\" transform=\"scale(1 1) rotate(0) translate(4 754)\">\n<title>Tree</title>\n<polygon fill=\"white\" stroke=\"transparent\" points=\"-4,4 -4,-754 998,-754 998,4 -4,4\"/>\n<!-- 0 -->\n<g id=\"node1\" class=\"node\">\n<title>0</title>\n<polygon fill=\"#abd6f4\" stroke=\"black\" points=\"660.5,-750 445.5,-750 445.5,-667 660.5,-667 660.5,-750\"/>\n<text text-anchor=\"middle\" x=\"553\" y=\"-734.8\" font-family=\"Times,serif\" font-size=\"14.00\">spent_last_month &lt;= 100.5</text>\n<text text-anchor=\"middle\" x=\"553\" y=\"-719.8\" font-family=\"Times,serif\" font-size=\"14.00\">gini = 0.464</text>\n<text text-anchor=\"middle\" x=\"553\" y=\"-704.8\" font-family=\"Times,serif\" font-size=\"14.00\">samples = 355</text>\n<text text-anchor=\"middle\" x=\"553\" y=\"-689.8\" font-family=\"Times,serif\" font-size=\"14.00\">value = [130, 225]</text>\n<text text-anchor=\"middle\" x=\"553\" y=\"-674.8\" font-family=\"Times,serif\" font-size=\"14.00\">class = YES</text>\n</g>\n<!-- 1 -->\n<g id=\"node2\" class=\"node\">\n<title>1</title>\n<polygon fill=\"#f0b48a\" stroke=\"black\" points=\"544,-631 392,-631 392,-548 544,-548 544,-631\"/>\n<text text-anchor=\"middle\" x=\"468\" y=\"-615.8\" font-family=\"Times,serif\" font-size=\"14.00\">Distance &lt;= 3.754</text>\n<text text-anchor=\"middle\" x=\"468\" y=\"-600.8\" font-family=\"Times,serif\" font-size=\"14.00\">gini = 0.411</text>\n<text text-anchor=\"middle\" x=\"468\" y=\"-585.8\" font-family=\"Times,serif\" font-size=\"14.00\">samples = 152</text>\n<text text-anchor=\"middle\" x=\"468\" y=\"-570.8\" font-family=\"Times,serif\" font-size=\"14.00\">value = [108, 44]</text>\n<text text-anchor=\"middle\" x=\"468\" y=\"-555.8\" font-family=\"Times,serif\" font-size=\"14.00\">class = NO</text>\n</g>\n<!-- 0&#45;&gt;1 -->\n<g id=\"edge1\" class=\"edge\">\n<title>0&#45;&gt;1</title>\n<path fill=\"none\" stroke=\"black\" d=\"M523.51,-666.91C517.05,-658.01 510.14,-648.51 503.48,-639.33\"/>\n<polygon fill=\"black\" stroke=\"black\" points=\"506.15,-637.05 497.44,-631.02 500.48,-641.17 506.15,-637.05\"/>\n<text text-anchor=\"middle\" x=\"493.53\" y=\"-652.01\" font-family=\"Times,serif\" font-size=\"14.00\">True</text>\n</g>\n<!-- 16 -->\n<g id=\"node17\" class=\"node\">\n<title>16</title>\n<polygon fill=\"#51a9e8\" stroke=\"black\" points=\"714,-631 562,-631 562,-548 714,-548 714,-631\"/>\n<text text-anchor=\"middle\" x=\"638\" y=\"-615.8\" font-family=\"Times,serif\" font-size=\"14.00\">Distance &lt;= 8.047</text>\n<text text-anchor=\"middle\" x=\"638\" y=\"-600.8\" font-family=\"Times,serif\" font-size=\"14.00\">gini = 0.193</text>\n<text text-anchor=\"middle\" x=\"638\" y=\"-585.8\" font-family=\"Times,serif\" font-size=\"14.00\">samples = 203</text>\n<text text-anchor=\"middle\" x=\"638\" y=\"-570.8\" font-family=\"Times,serif\" font-size=\"14.00\">value = [22, 181]</text>\n<text text-anchor=\"middle\" x=\"638\" y=\"-555.8\" font-family=\"Times,serif\" font-size=\"14.00\">class = YES</text>\n</g>\n<!-- 0&#45;&gt;16 -->\n<g id=\"edge16\" class=\"edge\">\n<title>0&#45;&gt;16</title>\n<path fill=\"none\" stroke=\"black\" d=\"M582.49,-666.91C588.95,-658.01 595.86,-648.51 602.52,-639.33\"/>\n<polygon fill=\"black\" stroke=\"black\" points=\"605.52,-641.17 608.56,-631.02 599.85,-637.05 605.52,-641.17\"/>\n<text text-anchor=\"middle\" x=\"612.47\" y=\"-652.01\" font-family=\"Times,serif\" font-size=\"14.00\">False</text>\n</g>\n<!-- 2 -->\n<g id=\"node3\" class=\"node\">\n<title>2</title>\n<polygon fill=\"#6cb6ec\" stroke=\"black\" points=\"388,-512 182,-512 182,-429 388,-429 388,-512\"/>\n<text text-anchor=\"middle\" x=\"285\" y=\"-496.8\" font-family=\"Times,serif\" font-size=\"14.00\">spent_last_month &lt;= 24.5</text>\n<text text-anchor=\"middle\" x=\"285\" y=\"-481.8\" font-family=\"Times,serif\" font-size=\"14.00\">gini = 0.324</text>\n<text text-anchor=\"middle\" x=\"285\" y=\"-466.8\" font-family=\"Times,serif\" font-size=\"14.00\">samples = 54</text>\n<text text-anchor=\"middle\" x=\"285\" y=\"-451.8\" font-family=\"Times,serif\" font-size=\"14.00\">value = [11, 43]</text>\n<text text-anchor=\"middle\" x=\"285\" y=\"-436.8\" font-family=\"Times,serif\" font-size=\"14.00\">class = YES</text>\n</g>\n<!-- 1&#45;&gt;2 -->\n<g id=\"edge2\" class=\"edge\">\n<title>1&#45;&gt;2</title>\n<path fill=\"none\" stroke=\"black\" d=\"M404.51,-547.91C389.18,-538.11 372.69,-527.56 357,-517.53\"/>\n<polygon fill=\"black\" stroke=\"black\" points=\"358.69,-514.46 348.38,-512.02 354.92,-520.36 358.69,-514.46\"/>\n</g>\n<!-- 11 -->\n<g id=\"node12\" class=\"node\">\n<title>11</title>\n<polygon fill=\"#e5823b\" stroke=\"black\" points=\"540,-512 406,-512 406,-429 540,-429 540,-512\"/>\n<text text-anchor=\"middle\" x=\"473\" y=\"-496.8\" font-family=\"Times,serif\" font-size=\"14.00\">Distance &lt;= 4.0</text>\n<text text-anchor=\"middle\" x=\"473\" y=\"-481.8\" font-family=\"Times,serif\" font-size=\"14.00\">gini = 0.02</text>\n<text text-anchor=\"middle\" x=\"473\" y=\"-466.8\" font-family=\"Times,serif\" font-size=\"14.00\">samples = 98</text>\n<text text-anchor=\"middle\" x=\"473\" y=\"-451.8\" font-family=\"Times,serif\" font-size=\"14.00\">value = [97, 1]</text>\n<text text-anchor=\"middle\" x=\"473\" y=\"-436.8\" font-family=\"Times,serif\" font-size=\"14.00\">class = NO</text>\n</g>\n<!-- 1&#45;&gt;11 -->\n<g id=\"edge11\" class=\"edge\">\n<title>1&#45;&gt;11</title>\n<path fill=\"none\" stroke=\"black\" d=\"M469.73,-547.91C470.09,-539.56 470.47,-530.67 470.84,-522.02\"/>\n<polygon fill=\"black\" stroke=\"black\" points=\"474.34,-522.16 471.27,-512.02 467.34,-521.86 474.34,-522.16\"/>\n</g>\n<!-- 3 -->\n<g id=\"node4\" class=\"node\">\n<title>3</title>\n<polygon fill=\"#e58139\" stroke=\"black\" points=\"219.5,-385.5 106.5,-385.5 106.5,-317.5 219.5,-317.5 219.5,-385.5\"/>\n<text text-anchor=\"middle\" x=\"163\" y=\"-370.3\" font-family=\"Times,serif\" font-size=\"14.00\">gini = 0.0</text>\n<text text-anchor=\"middle\" x=\"163\" y=\"-355.3\" font-family=\"Times,serif\" font-size=\"14.00\">samples = 8</text>\n<text text-anchor=\"middle\" x=\"163\" y=\"-340.3\" font-family=\"Times,serif\" font-size=\"14.00\">value = [8, 0]</text>\n<text text-anchor=\"middle\" x=\"163\" y=\"-325.3\" font-family=\"Times,serif\" font-size=\"14.00\">class = NO</text>\n</g>\n<!-- 2&#45;&gt;3 -->\n<g id=\"edge3\" class=\"edge\">\n<title>2&#45;&gt;3</title>\n<path fill=\"none\" stroke=\"black\" d=\"M242.67,-428.91C230.48,-417.21 217.18,-404.46 205,-392.78\"/>\n<polygon fill=\"black\" stroke=\"black\" points=\"207.22,-390.06 197.58,-385.67 202.38,-395.11 207.22,-390.06\"/>\n</g>\n<!-- 4 -->\n<g id=\"node5\" class=\"node\">\n<title>4</title>\n<polygon fill=\"#47a4e7\" stroke=\"black\" points=\"360,-393 238,-393 238,-310 360,-310 360,-393\"/>\n<text text-anchor=\"middle\" x=\"299\" y=\"-377.8\" font-family=\"Times,serif\" font-size=\"14.00\">Age &lt;= 57.5</text>\n<text text-anchor=\"middle\" x=\"299\" y=\"-362.8\" font-family=\"Times,serif\" font-size=\"14.00\">gini = 0.122</text>\n<text text-anchor=\"middle\" x=\"299\" y=\"-347.8\" font-family=\"Times,serif\" font-size=\"14.00\">samples = 46</text>\n<text text-anchor=\"middle\" x=\"299\" y=\"-332.8\" font-family=\"Times,serif\" font-size=\"14.00\">value = [3, 43]</text>\n<text text-anchor=\"middle\" x=\"299\" y=\"-317.8\" font-family=\"Times,serif\" font-size=\"14.00\">class = YES</text>\n</g>\n<!-- 2&#45;&gt;4 -->\n<g id=\"edge4\" class=\"edge\">\n<title>2&#45;&gt;4</title>\n<path fill=\"none\" stroke=\"black\" d=\"M289.86,-428.91C290.86,-420.56 291.92,-411.67 292.95,-403.02\"/>\n<polygon fill=\"black\" stroke=\"black\" points=\"296.44,-403.37 294.15,-393.02 289.49,-402.53 296.44,-403.37\"/>\n</g>\n<!-- 5 -->\n<g id=\"node6\" class=\"node\">\n<title>5</title>\n<polygon fill=\"#3e9fe6\" stroke=\"black\" points=\"228,-274 76,-274 76,-191 228,-191 228,-274\"/>\n<text text-anchor=\"middle\" x=\"152\" y=\"-258.8\" font-family=\"Times,serif\" font-size=\"14.00\">Distance &lt;= 3.298</text>\n<text text-anchor=\"middle\" x=\"152\" y=\"-243.8\" font-family=\"Times,serif\" font-size=\"14.00\">gini = 0.044</text>\n<text text-anchor=\"middle\" x=\"152\" y=\"-228.8\" font-family=\"Times,serif\" font-size=\"14.00\">samples = 44</text>\n<text text-anchor=\"middle\" x=\"152\" y=\"-213.8\" font-family=\"Times,serif\" font-size=\"14.00\">value = [1, 43]</text>\n<text text-anchor=\"middle\" x=\"152\" y=\"-198.8\" font-family=\"Times,serif\" font-size=\"14.00\">class = YES</text>\n</g>\n<!-- 4&#45;&gt;5 -->\n<g id=\"edge5\" class=\"edge\">\n<title>4&#45;&gt;5</title>\n<path fill=\"none\" stroke=\"black\" d=\"M248,-309.91C236.03,-300.38 223.17,-290.15 210.89,-280.37\"/>\n<polygon fill=\"black\" stroke=\"black\" points=\"212.91,-277.51 202.91,-274.02 208.56,-282.99 212.91,-277.51\"/>\n</g>\n<!-- 10 -->\n<g id=\"node11\" class=\"node\">\n<title>10</title>\n<polygon fill=\"#e58139\" stroke=\"black\" points=\"359.5,-266.5 246.5,-266.5 246.5,-198.5 359.5,-198.5 359.5,-266.5\"/>\n<text text-anchor=\"middle\" x=\"303\" y=\"-251.3\" font-family=\"Times,serif\" font-size=\"14.00\">gini = 0.0</text>\n<text text-anchor=\"middle\" x=\"303\" y=\"-236.3\" font-family=\"Times,serif\" font-size=\"14.00\">samples = 2</text>\n<text text-anchor=\"middle\" x=\"303\" y=\"-221.3\" font-family=\"Times,serif\" font-size=\"14.00\">value = [2, 0]</text>\n<text text-anchor=\"middle\" x=\"303\" y=\"-206.3\" font-family=\"Times,serif\" font-size=\"14.00\">class = NO</text>\n</g>\n<!-- 4&#45;&gt;10 -->\n<g id=\"edge10\" class=\"edge\">\n<title>4&#45;&gt;10</title>\n<path fill=\"none\" stroke=\"black\" d=\"M300.39,-309.91C300.75,-299.2 301.15,-287.62 301.52,-276.78\"/>\n<polygon fill=\"black\" stroke=\"black\" points=\"305.02,-276.78 301.87,-266.67 298.03,-276.54 305.02,-276.78\"/>\n</g>\n<!-- 6 -->\n<g id=\"node7\" class=\"node\">\n<title>6</title>\n<polygon fill=\"#399de5\" stroke=\"black\" points=\"122,-147.5 0,-147.5 0,-79.5 122,-79.5 122,-147.5\"/>\n<text text-anchor=\"middle\" x=\"61\" y=\"-132.3\" font-family=\"Times,serif\" font-size=\"14.00\">gini = 0.0</text>\n<text text-anchor=\"middle\" x=\"61\" y=\"-117.3\" font-family=\"Times,serif\" font-size=\"14.00\">samples = 41</text>\n<text text-anchor=\"middle\" x=\"61\" y=\"-102.3\" font-family=\"Times,serif\" font-size=\"14.00\">value = [0, 41]</text>\n<text text-anchor=\"middle\" x=\"61\" y=\"-87.3\" font-family=\"Times,serif\" font-size=\"14.00\">class = YES</text>\n</g>\n<!-- 5&#45;&gt;6 -->\n<g id=\"edge6\" class=\"edge\">\n<title>5&#45;&gt;6</title>\n<path fill=\"none\" stroke=\"black\" d=\"M120.43,-190.91C111.59,-179.54 101.97,-167.18 93.1,-155.77\"/>\n<polygon fill=\"black\" stroke=\"black\" points=\"95.7,-153.41 86.8,-147.67 90.17,-157.71 95.7,-153.41\"/>\n</g>\n<!-- 7 -->\n<g id=\"node8\" class=\"node\">\n<title>7</title>\n<polygon fill=\"#9ccef2\" stroke=\"black\" points=\"346,-155 140,-155 140,-72 346,-72 346,-155\"/>\n<text text-anchor=\"middle\" x=\"243\" y=\"-139.8\" font-family=\"Times,serif\" font-size=\"14.00\">spent_last_month &lt;= 59.5</text>\n<text text-anchor=\"middle\" x=\"243\" y=\"-124.8\" font-family=\"Times,serif\" font-size=\"14.00\">gini = 0.444</text>\n<text text-anchor=\"middle\" x=\"243\" y=\"-109.8\" font-family=\"Times,serif\" font-size=\"14.00\">samples = 3</text>\n<text text-anchor=\"middle\" x=\"243\" y=\"-94.8\" font-family=\"Times,serif\" font-size=\"14.00\">value = [1, 2]</text>\n<text text-anchor=\"middle\" x=\"243\" y=\"-79.8\" font-family=\"Times,serif\" font-size=\"14.00\">class = YES</text>\n</g>\n<!-- 5&#45;&gt;7 -->\n<g id=\"edge7\" class=\"edge\">\n<title>5&#45;&gt;7</title>\n<path fill=\"none\" stroke=\"black\" d=\"M183.57,-190.91C190.56,-181.92 198.03,-172.32 205.24,-163.05\"/>\n<polygon fill=\"black\" stroke=\"black\" points=\"208.11,-165.06 211.48,-155.02 202.58,-160.77 208.11,-165.06\"/>\n</g>\n<!-- 8 -->\n<g id=\"node9\" class=\"node\">\n<title>8</title>\n<polygon fill=\"#c0c0c0\" stroke=\"black\" points=\"234,-36 180,-36 180,0 234,0 234,-36\"/>\n<text text-anchor=\"middle\" x=\"207\" y=\"-14.3\" font-family=\"Times,serif\" font-size=\"14.00\">(...)</text>\n</g>\n<!-- 7&#45;&gt;8 -->\n<g id=\"edge8\" class=\"edge\">\n<title>7&#45;&gt;8</title>\n<path fill=\"none\" stroke=\"black\" d=\"M227.31,-71.76C223.96,-63.04 220.49,-54.04 217.39,-45.99\"/>\n<polygon fill=\"black\" stroke=\"black\" points=\"220.56,-44.48 213.7,-36.41 214.03,-46.99 220.56,-44.48\"/>\n</g>\n<!-- 9 -->\n<g id=\"node10\" class=\"node\">\n<title>9</title>\n<polygon fill=\"#c0c0c0\" stroke=\"black\" points=\"306,-36 252,-36 252,0 306,0 306,-36\"/>\n<text text-anchor=\"middle\" x=\"279\" y=\"-14.3\" font-family=\"Times,serif\" font-size=\"14.00\">(...)</text>\n</g>\n<!-- 7&#45;&gt;9 -->\n<g id=\"edge9\" class=\"edge\">\n<title>7&#45;&gt;9</title>\n<path fill=\"none\" stroke=\"black\" d=\"M258.69,-71.76C262.04,-63.04 265.51,-54.04 268.61,-45.99\"/>\n<polygon fill=\"black\" stroke=\"black\" points=\"271.97,-46.99 272.3,-36.41 265.44,-44.48 271.97,-46.99\"/>\n</g>\n<!-- 12 -->\n<g id=\"node13\" class=\"node\">\n<title>12</title>\n<polygon fill=\"#f2c09c\" stroke=\"black\" points=\"542,-393 390,-393 390,-310 542,-310 542,-393\"/>\n<text text-anchor=\"middle\" x=\"466\" y=\"-377.8\" font-family=\"Times,serif\" font-size=\"14.00\">Distance &lt;= 3.913</text>\n<text text-anchor=\"middle\" x=\"466\" y=\"-362.8\" font-family=\"Times,serif\" font-size=\"14.00\">gini = 0.444</text>\n<text text-anchor=\"middle\" x=\"466\" y=\"-347.8\" font-family=\"Times,serif\" font-size=\"14.00\">samples = 3</text>\n<text text-anchor=\"middle\" x=\"466\" y=\"-332.8\" font-family=\"Times,serif\" font-size=\"14.00\">value = [2, 1]</text>\n<text text-anchor=\"middle\" x=\"466\" y=\"-317.8\" font-family=\"Times,serif\" font-size=\"14.00\">class = NO</text>\n</g>\n<!-- 11&#45;&gt;12 -->\n<g id=\"edge12\" class=\"edge\">\n<title>11&#45;&gt;12</title>\n<path fill=\"none\" stroke=\"black\" d=\"M470.57,-428.91C470.07,-420.56 469.54,-411.67 469.02,-403.02\"/>\n<polygon fill=\"black\" stroke=\"black\" points=\"472.52,-402.79 468.42,-393.02 465.53,-403.21 472.52,-402.79\"/>\n</g>\n<!-- 15 -->\n<g id=\"node16\" class=\"node\">\n<title>15</title>\n<polygon fill=\"#e58139\" stroke=\"black\" points=\"682,-385.5 560,-385.5 560,-317.5 682,-317.5 682,-385.5\"/>\n<text text-anchor=\"middle\" x=\"621\" y=\"-370.3\" font-family=\"Times,serif\" font-size=\"14.00\">gini = 0.0</text>\n<text text-anchor=\"middle\" x=\"621\" y=\"-355.3\" font-family=\"Times,serif\" font-size=\"14.00\">samples = 95</text>\n<text text-anchor=\"middle\" x=\"621\" y=\"-340.3\" font-family=\"Times,serif\" font-size=\"14.00\">value = [95, 0]</text>\n<text text-anchor=\"middle\" x=\"621\" y=\"-325.3\" font-family=\"Times,serif\" font-size=\"14.00\">class = NO</text>\n</g>\n<!-- 11&#45;&gt;15 -->\n<g id=\"edge15\" class=\"edge\">\n<title>11&#45;&gt;15</title>\n<path fill=\"none\" stroke=\"black\" d=\"M524.35,-428.91C539.42,-416.99 555.89,-403.98 570.88,-392.12\"/>\n<polygon fill=\"black\" stroke=\"black\" points=\"573.37,-394.61 579.05,-385.67 569.03,-389.12 573.37,-394.61\"/>\n</g>\n<!-- 13 -->\n<g id=\"node14\" class=\"node\">\n<title>13</title>\n<polygon fill=\"#e58139\" stroke=\"black\" points=\"518.5,-266.5 405.5,-266.5 405.5,-198.5 518.5,-198.5 518.5,-266.5\"/>\n<text text-anchor=\"middle\" x=\"462\" y=\"-251.3\" font-family=\"Times,serif\" font-size=\"14.00\">gini = 0.0</text>\n<text text-anchor=\"middle\" x=\"462\" y=\"-236.3\" font-family=\"Times,serif\" font-size=\"14.00\">samples = 2</text>\n<text text-anchor=\"middle\" x=\"462\" y=\"-221.3\" font-family=\"Times,serif\" font-size=\"14.00\">value = [2, 0]</text>\n<text text-anchor=\"middle\" x=\"462\" y=\"-206.3\" font-family=\"Times,serif\" font-size=\"14.00\">class = NO</text>\n</g>\n<!-- 12&#45;&gt;13 -->\n<g id=\"edge13\" class=\"edge\">\n<title>12&#45;&gt;13</title>\n<path fill=\"none\" stroke=\"black\" d=\"M464.61,-309.91C464.25,-299.2 463.85,-287.62 463.48,-276.78\"/>\n<polygon fill=\"black\" stroke=\"black\" points=\"466.97,-276.54 463.13,-266.67 459.98,-276.78 466.97,-276.54\"/>\n</g>\n<!-- 14 -->\n<g id=\"node15\" class=\"node\">\n<title>14</title>\n<polygon fill=\"#399de5\" stroke=\"black\" points=\"649.5,-266.5 536.5,-266.5 536.5,-198.5 649.5,-198.5 649.5,-266.5\"/>\n<text text-anchor=\"middle\" x=\"593\" y=\"-251.3\" font-family=\"Times,serif\" font-size=\"14.00\">gini = 0.0</text>\n<text text-anchor=\"middle\" x=\"593\" y=\"-236.3\" font-family=\"Times,serif\" font-size=\"14.00\">samples = 1</text>\n<text text-anchor=\"middle\" x=\"593\" y=\"-221.3\" font-family=\"Times,serif\" font-size=\"14.00\">value = [0, 1]</text>\n<text text-anchor=\"middle\" x=\"593\" y=\"-206.3\" font-family=\"Times,serif\" font-size=\"14.00\">class = YES</text>\n</g>\n<!-- 12&#45;&gt;14 -->\n<g id=\"edge14\" class=\"edge\">\n<title>12&#45;&gt;14</title>\n<path fill=\"none\" stroke=\"black\" d=\"M510.06,-309.91C522.88,-298.1 536.86,-285.22 549.64,-273.45\"/>\n<polygon fill=\"black\" stroke=\"black\" points=\"552.02,-276.02 557,-266.67 547.27,-270.87 552.02,-276.02\"/>\n</g>\n<!-- 17 -->\n<g id=\"node18\" class=\"node\">\n<title>17</title>\n<polygon fill=\"#399de5\" stroke=\"black\" points=\"698.5,-504.5 567.5,-504.5 567.5,-436.5 698.5,-436.5 698.5,-504.5\"/>\n<text text-anchor=\"middle\" x=\"633\" y=\"-489.3\" font-family=\"Times,serif\" font-size=\"14.00\">gini = 0.0</text>\n<text text-anchor=\"middle\" x=\"633\" y=\"-474.3\" font-family=\"Times,serif\" font-size=\"14.00\">samples = 158</text>\n<text text-anchor=\"middle\" x=\"633\" y=\"-459.3\" font-family=\"Times,serif\" font-size=\"14.00\">value = [0, 158]</text>\n<text text-anchor=\"middle\" x=\"633\" y=\"-444.3\" font-family=\"Times,serif\" font-size=\"14.00\">class = YES</text>\n</g>\n<!-- 16&#45;&gt;17 -->\n<g id=\"edge17\" class=\"edge\">\n<title>16&#45;&gt;17</title>\n<path fill=\"none\" stroke=\"black\" d=\"M636.27,-547.91C635.81,-537.2 635.31,-525.62 634.85,-514.78\"/>\n<polygon fill=\"black\" stroke=\"black\" points=\"638.34,-514.51 634.42,-504.67 631.35,-514.81 638.34,-514.51\"/>\n</g>\n<!-- 18 -->\n<g id=\"node19\" class=\"node\">\n<title>18</title>\n<polygon fill=\"#f6fbfe\" stroke=\"black\" points=\"931.5,-512 716.5,-512 716.5,-429 931.5,-429 931.5,-512\"/>\n<text text-anchor=\"middle\" x=\"824\" y=\"-496.8\" font-family=\"Times,serif\" font-size=\"14.00\">spent_last_month &lt;= 140.5</text>\n<text text-anchor=\"middle\" x=\"824\" y=\"-481.8\" font-family=\"Times,serif\" font-size=\"14.00\">gini = 0.5</text>\n<text text-anchor=\"middle\" x=\"824\" y=\"-466.8\" font-family=\"Times,serif\" font-size=\"14.00\">samples = 45</text>\n<text text-anchor=\"middle\" x=\"824\" y=\"-451.8\" font-family=\"Times,serif\" font-size=\"14.00\">value = [22, 23]</text>\n<text text-anchor=\"middle\" x=\"824\" y=\"-436.8\" font-family=\"Times,serif\" font-size=\"14.00\">class = YES</text>\n</g>\n<!-- 16&#45;&gt;18 -->\n<g id=\"edge18\" class=\"edge\">\n<title>16&#45;&gt;18</title>\n<path fill=\"none\" stroke=\"black\" d=\"M702.53,-547.91C718.11,-538.11 734.87,-527.56 750.82,-517.53\"/>\n<polygon fill=\"black\" stroke=\"black\" points=\"752.98,-520.31 759.58,-512.02 749.25,-514.38 752.98,-520.31\"/>\n</g>\n<!-- 19 -->\n<g id=\"node20\" class=\"node\">\n<title>19</title>\n<polygon fill=\"#e58139\" stroke=\"black\" points=\"854,-385.5 732,-385.5 732,-317.5 854,-317.5 854,-385.5\"/>\n<text text-anchor=\"middle\" x=\"793\" y=\"-370.3\" font-family=\"Times,serif\" font-size=\"14.00\">gini = 0.0</text>\n<text text-anchor=\"middle\" x=\"793\" y=\"-355.3\" font-family=\"Times,serif\" font-size=\"14.00\">samples = 22</text>\n<text text-anchor=\"middle\" x=\"793\" y=\"-340.3\" font-family=\"Times,serif\" font-size=\"14.00\">value = [22, 0]</text>\n<text text-anchor=\"middle\" x=\"793\" y=\"-325.3\" font-family=\"Times,serif\" font-size=\"14.00\">class = NO</text>\n</g>\n<!-- 18&#45;&gt;19 -->\n<g id=\"edge19\" class=\"edge\">\n<title>18&#45;&gt;19</title>\n<path fill=\"none\" stroke=\"black\" d=\"M813.24,-428.91C810.38,-418.09 807.27,-406.38 804.38,-395.44\"/>\n<polygon fill=\"black\" stroke=\"black\" points=\"807.73,-394.44 801.79,-385.67 800.97,-396.23 807.73,-394.44\"/>\n</g>\n<!-- 20 -->\n<g id=\"node21\" class=\"node\">\n<title>20</title>\n<polygon fill=\"#399de5\" stroke=\"black\" points=\"994,-385.5 872,-385.5 872,-317.5 994,-317.5 994,-385.5\"/>\n<text text-anchor=\"middle\" x=\"933\" y=\"-370.3\" font-family=\"Times,serif\" font-size=\"14.00\">gini = 0.0</text>\n<text text-anchor=\"middle\" x=\"933\" y=\"-355.3\" font-family=\"Times,serif\" font-size=\"14.00\">samples = 23</text>\n<text text-anchor=\"middle\" x=\"933\" y=\"-340.3\" font-family=\"Times,serif\" font-size=\"14.00\">value = [0, 23]</text>\n<text text-anchor=\"middle\" x=\"933\" y=\"-325.3\" font-family=\"Times,serif\" font-size=\"14.00\">class = YES</text>\n</g>\n<!-- 18&#45;&gt;20 -->\n<g id=\"edge20\" class=\"edge\">\n<title>18&#45;&gt;20</title>\n<path fill=\"none\" stroke=\"black\" d=\"M861.82,-428.91C872.61,-417.32 884.37,-404.7 895.17,-393.11\"/>\n<polygon fill=\"black\" stroke=\"black\" points=\"897.85,-395.37 902.1,-385.67 892.72,-390.6 897.85,-395.37\"/>\n</g>\n</g>\n</svg>\n"
     },
     "metadata": {},
     "execution_count": 50
    }
   ],
   "metadata": {
    "colab": {},
    "colab_type": "code",
    "id": "d20SMUmgDuWo"
   }
  },
  {
   "cell_type": "code",
   "execution_count": 51,
   "source": [
    "# Run this block for model evaluation\n",
    "\n",
    "# I added the same tests here as with the Entropy model to compare apples to apples\n",
    "print(\"Model Gini impurity model\")\n",
    "print(\"Accuracy:\", metrics.accuracy_score(y_test,y_pred))\n",
    "print(\"Balanced accuracy:\", metrics.balanced_accuracy_score(y_test,y_pred))\n",
    "print('Precision score for \"Yes\"' , metrics.precision_score(y_test,y_pred, pos_label = \"YES\"))\n",
    "print('Precision score for \"No\"' , metrics.precision_score(y_test,y_pred, pos_label = \"NO\"))\n",
    "print('Recall score for \"Yes\"' , metrics.recall_score(y_test,y_pred, pos_label = \"YES\"))\n",
    "print('Recall score for \"No\"' , metrics.recall_score(y_test,y_pred, pos_label = \"NO\"))"
   ],
   "outputs": [
    {
     "output_type": "stream",
     "name": "stdout",
     "text": [
      "Model Gini impurity model\n",
      "Accuracy: 0.9831932773109243\n",
      "Balanced accuracy: 0.9813946216385241\n",
      "Precision score for \"Yes\" 0.9871794871794872\n",
      "Precision score for \"No\" 0.975609756097561\n",
      "Recall score for \"Yes\" 0.9871794871794872\n",
      "Recall score for \"No\" 0.975609756097561\n"
     ]
    }
   ],
   "metadata": {
    "colab": {},
    "colab_type": "code",
    "id": "T0RadBy0DuWp"
   }
  },
  {
   "cell_type": "markdown",
   "source": [
    "How do the results here compare to the previous model? Write your judgements here:\n",
    " \n",
    "The Entropy model is slightly better than the Gini Model. Overall both models are close to 100% accuracy on the unseen test data.\n",
    "\n"
   ],
   "metadata": {}
  },
  {
   "cell_type": "markdown",
   "source": [
    "# Precision score for \"No\" 0.7419"
   ],
   "metadata": {
    "colab_type": "text",
    "id": "LR5LkC_yDuWs"
   }
  },
  {
   "cell_type": "markdown",
   "source": [
    "## Model 3: Entropy model - max depth 3\n",
    "We're going to try to limit the depth of our decision tree, using entropy first.  \n",
    "\n",
    "As you know, we need to strike a balance with tree depth. \n",
    "\n",
    "Insufficiently deep, and we're not giving the tree the opportunity to spot the right patterns in the training data.\n",
    "\n",
    "Excessively deep, and we're probably going to make a tree that overfits to the training data, at the cost of very high error on the (hitherto unseen) test data. \n",
    "\n",
    "Sophisticated data scientists use methods like random search with cross-validation to systematically find a good depth for their tree. We'll start with picking 3, and see how that goes. "
   ],
   "metadata": {
    "colab_type": "text",
    "id": "3PctBjTADuWs"
   }
  },
  {
   "cell_type": "code",
   "execution_count": 58,
   "source": [
    "# Made a model as before, but call it entr_model2, and make the max_depth parameter equal to 3. \n",
    "# Execute the fitting, predicting, and Series operations as before\n",
    "entr_model2 = tree.DecisionTreeClassifier(criterion='entropy',max_depth=3)\n",
    "entr_model2.fit(X_train,y_train)\n",
    "y_pred = pd.Series(entr_model2.predict(X_test))\n",
    "\n"
   ],
   "outputs": [],
   "metadata": {
    "colab": {},
    "colab_type": "code",
    "id": "cMiPjWClDuWt"
   }
  },
  {
   "cell_type": "code",
   "execution_count": 60,
   "source": [
    "# As before, we need to visualize the tree to grasp its nature\n",
    "dot_data = tree.export_graphviz(entr_model2, out_file=None, filled=True, max_depth=3, class_names=entr_model2.classes_)\n",
    "graph = graphviz.Source(dot_data, format='png') \n",
    "graph\n"
   ],
   "outputs": [
    {
     "output_type": "execute_result",
     "data": {
      "text/plain": [
       "<graphviz.files.Source at 0x7fd9df8d49a0>"
      ],
      "image/svg+xml": "<?xml version=\"1.0\" encoding=\"UTF-8\" standalone=\"no\"?>\n<!DOCTYPE svg PUBLIC \"-//W3C//DTD SVG 1.1//EN\"\n \"http://www.w3.org/Graphics/SVG/1.1/DTD/svg11.dtd\">\n<!-- Generated by graphviz version 2.43.0 (0)\n -->\n<!-- Title: Tree Pages: 1 -->\n<svg width=\"581pt\" height=\"433pt\"\n viewBox=\"0.00 0.00 581.00 433.00\" xmlns=\"http://www.w3.org/2000/svg\" xmlns:xlink=\"http://www.w3.org/1999/xlink\">\n<g id=\"graph0\" class=\"graph\" transform=\"scale(1 1) rotate(0) translate(4 429)\">\n<title>Tree</title>\n<polygon fill=\"white\" stroke=\"transparent\" points=\"-4,4 -4,-429 577,-429 577,4 -4,4\"/>\n<!-- 0 -->\n<g id=\"node1\" class=\"node\">\n<title>0</title>\n<polygon fill=\"#abd6f4\" stroke=\"black\" points=\"430.5,-425 281.5,-425 281.5,-342 430.5,-342 430.5,-425\"/>\n<text text-anchor=\"middle\" x=\"356\" y=\"-409.8\" font-family=\"Times,serif\" font-size=\"14.00\">X[3] &lt;= 138.0</text>\n<text text-anchor=\"middle\" x=\"356\" y=\"-394.8\" font-family=\"Times,serif\" font-size=\"14.00\">entropy = 0.948</text>\n<text text-anchor=\"middle\" x=\"356\" y=\"-379.8\" font-family=\"Times,serif\" font-size=\"14.00\">samples = 355</text>\n<text text-anchor=\"middle\" x=\"356\" y=\"-364.8\" font-family=\"Times,serif\" font-size=\"14.00\">value = [130, 225]</text>\n<text text-anchor=\"middle\" x=\"356\" y=\"-349.8\" font-family=\"Times,serif\" font-size=\"14.00\">class = YES</text>\n</g>\n<!-- 1 -->\n<g id=\"node2\" class=\"node\">\n<title>1</title>\n<polygon fill=\"#fae6d7\" stroke=\"black\" points=\"351.5,-306 202.5,-306 202.5,-223 351.5,-223 351.5,-306\"/>\n<text text-anchor=\"middle\" x=\"277\" y=\"-290.8\" font-family=\"Times,serif\" font-size=\"14.00\">X[5] &lt;= 3.524</text>\n<text text-anchor=\"middle\" x=\"277\" y=\"-275.8\" font-family=\"Times,serif\" font-size=\"14.00\">entropy = 0.991</text>\n<text text-anchor=\"middle\" x=\"277\" y=\"-260.8\" font-family=\"Times,serif\" font-size=\"14.00\">samples = 234</text>\n<text text-anchor=\"middle\" x=\"277\" y=\"-245.8\" font-family=\"Times,serif\" font-size=\"14.00\">value = [130, 104]</text>\n<text text-anchor=\"middle\" x=\"277\" y=\"-230.8\" font-family=\"Times,serif\" font-size=\"14.00\">class = NO</text>\n</g>\n<!-- 0&#45;&gt;1 -->\n<g id=\"edge1\" class=\"edge\">\n<title>0&#45;&gt;1</title>\n<path fill=\"none\" stroke=\"black\" d=\"M328.59,-341.91C322.59,-333.01 316.17,-323.51 309.97,-314.33\"/>\n<polygon fill=\"black\" stroke=\"black\" points=\"312.86,-312.35 304.36,-306.02 307.06,-316.27 312.86,-312.35\"/>\n<text text-anchor=\"middle\" x=\"299.6\" y=\"-326.86\" font-family=\"Times,serif\" font-size=\"14.00\">True</text>\n</g>\n<!-- 8 -->\n<g id=\"node9\" class=\"node\">\n<title>8</title>\n<polygon fill=\"#399de5\" stroke=\"black\" points=\"500.5,-298.5 369.5,-298.5 369.5,-230.5 500.5,-230.5 500.5,-298.5\"/>\n<text text-anchor=\"middle\" x=\"435\" y=\"-283.3\" font-family=\"Times,serif\" font-size=\"14.00\">entropy = 0.0</text>\n<text text-anchor=\"middle\" x=\"435\" y=\"-268.3\" font-family=\"Times,serif\" font-size=\"14.00\">samples = 121</text>\n<text text-anchor=\"middle\" x=\"435\" y=\"-253.3\" font-family=\"Times,serif\" font-size=\"14.00\">value = [0, 121]</text>\n<text text-anchor=\"middle\" x=\"435\" y=\"-238.3\" font-family=\"Times,serif\" font-size=\"14.00\">class = YES</text>\n</g>\n<!-- 0&#45;&gt;8 -->\n<g id=\"edge8\" class=\"edge\">\n<title>0&#45;&gt;8</title>\n<path fill=\"none\" stroke=\"black\" d=\"M383.41,-341.91C391.01,-330.65 399.27,-318.42 406.91,-307.11\"/>\n<polygon fill=\"black\" stroke=\"black\" points=\"409.91,-308.91 412.61,-298.67 404.11,-305 409.91,-308.91\"/>\n<text text-anchor=\"middle\" x=\"417.36\" y=\"-319.51\" font-family=\"Times,serif\" font-size=\"14.00\">False</text>\n</g>\n<!-- 2 -->\n<g id=\"node3\" class=\"node\">\n<title>2</title>\n<polygon fill=\"#52aae8\" stroke=\"black\" points=\"267,-187 133,-187 133,-104 267,-104 267,-187\"/>\n<text text-anchor=\"middle\" x=\"200\" y=\"-171.8\" font-family=\"Times,serif\" font-size=\"14.00\">X[3] &lt;= 24.5</text>\n<text text-anchor=\"middle\" x=\"200\" y=\"-156.8\" font-family=\"Times,serif\" font-size=\"14.00\">entropy = 0.512</text>\n<text text-anchor=\"middle\" x=\"200\" y=\"-141.8\" font-family=\"Times,serif\" font-size=\"14.00\">samples = 79</text>\n<text text-anchor=\"middle\" x=\"200\" y=\"-126.8\" font-family=\"Times,serif\" font-size=\"14.00\">value = [9, 70]</text>\n<text text-anchor=\"middle\" x=\"200\" y=\"-111.8\" font-family=\"Times,serif\" font-size=\"14.00\">class = YES</text>\n</g>\n<!-- 1&#45;&gt;2 -->\n<g id=\"edge2\" class=\"edge\">\n<title>1&#45;&gt;2</title>\n<path fill=\"none\" stroke=\"black\" d=\"M250.29,-222.91C244.49,-214.1 238.3,-204.7 232.32,-195.61\"/>\n<polygon fill=\"black\" stroke=\"black\" points=\"235.09,-193.45 226.67,-187.02 229.24,-197.3 235.09,-193.45\"/>\n</g>\n<!-- 5 -->\n<g id=\"node6\" class=\"node\">\n<title>5</title>\n<polygon fill=\"#eca471\" stroke=\"black\" points=\"425,-187 285,-187 285,-104 425,-104 425,-187\"/>\n<text text-anchor=\"middle\" x=\"355\" y=\"-171.8\" font-family=\"Times,serif\" font-size=\"14.00\">X[3] &lt;= 101.0</text>\n<text text-anchor=\"middle\" x=\"355\" y=\"-156.8\" font-family=\"Times,serif\" font-size=\"14.00\">entropy = 0.759</text>\n<text text-anchor=\"middle\" x=\"355\" y=\"-141.8\" font-family=\"Times,serif\" font-size=\"14.00\">samples = 155</text>\n<text text-anchor=\"middle\" x=\"355\" y=\"-126.8\" font-family=\"Times,serif\" font-size=\"14.00\">value = [121, 34]</text>\n<text text-anchor=\"middle\" x=\"355\" y=\"-111.8\" font-family=\"Times,serif\" font-size=\"14.00\">class = NO</text>\n</g>\n<!-- 1&#45;&gt;5 -->\n<g id=\"edge5\" class=\"edge\">\n<title>1&#45;&gt;5</title>\n<path fill=\"none\" stroke=\"black\" d=\"M304.06,-222.91C309.93,-214.1 316.2,-204.7 322.26,-195.61\"/>\n<polygon fill=\"black\" stroke=\"black\" points=\"325.35,-197.28 327.99,-187.02 319.53,-193.4 325.35,-197.28\"/>\n</g>\n<!-- 3 -->\n<g id=\"node4\" class=\"node\">\n<title>3</title>\n<polygon fill=\"#e58139\" stroke=\"black\" points=\"116,-68 0,-68 0,0 116,0 116,-68\"/>\n<text text-anchor=\"middle\" x=\"58\" y=\"-52.8\" font-family=\"Times,serif\" font-size=\"14.00\">entropy = 0.0</text>\n<text text-anchor=\"middle\" x=\"58\" y=\"-37.8\" font-family=\"Times,serif\" font-size=\"14.00\">samples = 8</text>\n<text text-anchor=\"middle\" x=\"58\" y=\"-22.8\" font-family=\"Times,serif\" font-size=\"14.00\">value = [8, 0]</text>\n<text text-anchor=\"middle\" x=\"58\" y=\"-7.8\" font-family=\"Times,serif\" font-size=\"14.00\">class = NO</text>\n</g>\n<!-- 2&#45;&gt;3 -->\n<g id=\"edge3\" class=\"edge\">\n<title>2&#45;&gt;3</title>\n<path fill=\"none\" stroke=\"black\" d=\"M147.12,-103.73C134.71,-94.15 121.49,-83.96 109.15,-74.44\"/>\n<polygon fill=\"black\" stroke=\"black\" points=\"111.24,-71.63 101.18,-68.3 106.96,-77.18 111.24,-71.63\"/>\n</g>\n<!-- 4 -->\n<g id=\"node5\" class=\"node\">\n<title>4</title>\n<polygon fill=\"#3c9ee5\" stroke=\"black\" points=\"268,-68 134,-68 134,0 268,0 268,-68\"/>\n<text text-anchor=\"middle\" x=\"201\" y=\"-52.8\" font-family=\"Times,serif\" font-size=\"14.00\">entropy = 0.107</text>\n<text text-anchor=\"middle\" x=\"201\" y=\"-37.8\" font-family=\"Times,serif\" font-size=\"14.00\">samples = 71</text>\n<text text-anchor=\"middle\" x=\"201\" y=\"-22.8\" font-family=\"Times,serif\" font-size=\"14.00\">value = [1, 70]</text>\n<text text-anchor=\"middle\" x=\"201\" y=\"-7.8\" font-family=\"Times,serif\" font-size=\"14.00\">class = YES</text>\n</g>\n<!-- 2&#45;&gt;4 -->\n<g id=\"edge4\" class=\"edge\">\n<title>2&#45;&gt;4</title>\n<path fill=\"none\" stroke=\"black\" d=\"M200.37,-103.73C200.45,-95.52 200.53,-86.86 200.6,-78.56\"/>\n<polygon fill=\"black\" stroke=\"black\" points=\"204.1,-78.33 200.7,-68.3 197.1,-78.27 204.1,-78.33\"/>\n</g>\n<!-- 6 -->\n<g id=\"node7\" class=\"node\">\n<title>6</title>\n<polygon fill=\"#e6853f\" stroke=\"black\" points=\"421,-68 287,-68 287,0 421,0 421,-68\"/>\n<text text-anchor=\"middle\" x=\"354\" y=\"-52.8\" font-family=\"Times,serif\" font-size=\"14.00\">entropy = 0.191</text>\n<text text-anchor=\"middle\" x=\"354\" y=\"-37.8\" font-family=\"Times,serif\" font-size=\"14.00\">samples = 102</text>\n<text text-anchor=\"middle\" x=\"354\" y=\"-22.8\" font-family=\"Times,serif\" font-size=\"14.00\">value = [99, 3]</text>\n<text text-anchor=\"middle\" x=\"354\" y=\"-7.8\" font-family=\"Times,serif\" font-size=\"14.00\">class = NO</text>\n</g>\n<!-- 5&#45;&gt;6 -->\n<g id=\"edge6\" class=\"edge\">\n<title>5&#45;&gt;6</title>\n<path fill=\"none\" stroke=\"black\" d=\"M354.63,-103.73C354.55,-95.52 354.47,-86.86 354.4,-78.56\"/>\n<polygon fill=\"black\" stroke=\"black\" points=\"357.9,-78.27 354.3,-68.3 350.9,-78.33 357.9,-78.27\"/>\n</g>\n<!-- 7 -->\n<g id=\"node8\" class=\"node\">\n<title>7</title>\n<polygon fill=\"#c6e3f7\" stroke=\"black\" points=\"573,-68 439,-68 439,0 573,0 573,-68\"/>\n<text text-anchor=\"middle\" x=\"506\" y=\"-52.8\" font-family=\"Times,serif\" font-size=\"14.00\">entropy = 0.979</text>\n<text text-anchor=\"middle\" x=\"506\" y=\"-37.8\" font-family=\"Times,serif\" font-size=\"14.00\">samples = 53</text>\n<text text-anchor=\"middle\" x=\"506\" y=\"-22.8\" font-family=\"Times,serif\" font-size=\"14.00\">value = [22, 31]</text>\n<text text-anchor=\"middle\" x=\"506\" y=\"-7.8\" font-family=\"Times,serif\" font-size=\"14.00\">class = YES</text>\n</g>\n<!-- 5&#45;&gt;7 -->\n<g id=\"edge7\" class=\"edge\">\n<title>5&#45;&gt;7</title>\n<path fill=\"none\" stroke=\"black\" d=\"M411.23,-103.73C424.56,-94.06 438.75,-83.77 451.98,-74.17\"/>\n<polygon fill=\"black\" stroke=\"black\" points=\"454.04,-77 460.08,-68.3 449.93,-71.34 454.04,-77\"/>\n</g>\n</g>\n</svg>\n"
     },
     "metadata": {},
     "execution_count": 60
    }
   ],
   "metadata": {
    "colab": {},
    "colab_type": "code",
    "id": "IRuw72VMDuWv"
   }
  },
  {
   "cell_type": "code",
   "execution_count": 61,
   "source": [
    "# Run this block for model evaluation \n",
    "print(\"Model Entropy model max depth 3\")\n",
    "print(\"Accuracy:\", metrics.accuracy_score(y_test,y_pred))\n",
    "print(\"Balanced accuracy:\", metrics.balanced_accuracy_score(y_test,y_pred))\n",
    "print('Precision score for \"Yes\"' , metrics.precision_score(y_test,y_pred, pos_label = \"YES\"))\n",
    "print('Recall score for \"No\"' , metrics.recall_score(y_test,y_pred, pos_label = \"NO\"))"
   ],
   "outputs": [
    {
     "output_type": "stream",
     "name": "stdout",
     "text": [
      "Model Entropy model max depth 3\n",
      "Accuracy: 0.907563025210084\n",
      "Balanced accuracy: 0.8658536585365854\n",
      "Precision score for \"Yes\" 0.8764044943820225\n",
      "Recall score for \"No\" 0.7317073170731707\n"
     ]
    }
   ],
   "metadata": {
    "colab": {},
    "colab_type": "code",
    "id": "29f4vmmMDuWy"
   }
  },
  {
   "cell_type": "markdown",
   "source": [
    "So our accuracy decreased, but is this certainly an inferior tree to the max depth original tree we did with Model 1? Write your conclusions here:\n",
    "\n",
    "This model is strictly worse. Since there is not enough depth to the tree there are cells at the bottom that are not 100% pure. The worst of these cells is the rightmost path.\n",
    " \n",
    "\n"
   ],
   "metadata": {
    "colab_type": "text",
    "id": "AG7S2YgUDuW4"
   }
  },
  {
   "cell_type": "markdown",
   "source": [
    "## Model 4: Gini impurity  model - max depth 3\n",
    "We're now going to try the same with the Gini impurity model. "
   ],
   "metadata": {
    "colab_type": "text",
    "id": "FZTl4W3wDuW4"
   }
  },
  {
   "cell_type": "code",
   "execution_count": 62,
   "source": [
    "# As before, make a variable, but call it gini_model2, and ensure the max_depth parameter is set to 3\n",
    "gini_model2=  tree.DecisionTreeClassifier(criterion=\"gini\", max_depth=3)\n",
    "\n",
    "# Do the fit, predict, and series transformations as before. \n",
    "gini_model2.fit(X_train,y_train)\n",
    "y_pred = pd.Series(gini_model2.predict(X_test))"
   ],
   "outputs": [],
   "metadata": {
    "colab": {},
    "colab_type": "code",
    "id": "FJK1bkG3DuW5"
   }
  },
  {
   "cell_type": "code",
   "execution_count": 63,
   "source": [
    "dot_data = tree.export_graphviz(gini_model2, out_file=None, filled=True, max_depth=3, class_names=gini_model2.classes_)\n",
    "graph = graphviz.Source(dot_data, format='png') \n",
    "graph\n",
    "\n",
    "\n",
    "# Alternatively for class_names use gini_model2.classes_\n",
    "# _ _ _"
   ],
   "outputs": [
    {
     "output_type": "execute_result",
     "data": {
      "text/plain": [
       "<graphviz.files.Source at 0x7fd9df999370>"
      ],
      "image/svg+xml": "<?xml version=\"1.0\" encoding=\"UTF-8\" standalone=\"no\"?>\n<!DOCTYPE svg PUBLIC \"-//W3C//DTD SVG 1.1//EN\"\n \"http://www.w3.org/Graphics/SVG/1.1/DTD/svg11.dtd\">\n<!-- Generated by graphviz version 2.43.0 (0)\n -->\n<!-- Title: Tree Pages: 1 -->\n<svg width=\"831pt\" height=\"433pt\"\n viewBox=\"0.00 0.00 830.50 433.00\" xmlns=\"http://www.w3.org/2000/svg\" xmlns:xlink=\"http://www.w3.org/1999/xlink\">\n<g id=\"graph0\" class=\"graph\" transform=\"scale(1 1) rotate(0) translate(4 429)\">\n<title>Tree</title>\n<polygon fill=\"white\" stroke=\"transparent\" points=\"-4,4 -4,-429 826.5,-429 826.5,4 -4,4\"/>\n<!-- 0 -->\n<g id=\"node1\" class=\"node\">\n<title>0</title>\n<polygon fill=\"#abd6f4\" stroke=\"black\" points=\"484,-425 335,-425 335,-342 484,-342 484,-425\"/>\n<text text-anchor=\"middle\" x=\"409.5\" y=\"-409.8\" font-family=\"Times,serif\" font-size=\"14.00\">X[3] &lt;= 100.5</text>\n<text text-anchor=\"middle\" x=\"409.5\" y=\"-394.8\" font-family=\"Times,serif\" font-size=\"14.00\">gini = 0.464</text>\n<text text-anchor=\"middle\" x=\"409.5\" y=\"-379.8\" font-family=\"Times,serif\" font-size=\"14.00\">samples = 355</text>\n<text text-anchor=\"middle\" x=\"409.5\" y=\"-364.8\" font-family=\"Times,serif\" font-size=\"14.00\">value = [130, 225]</text>\n<text text-anchor=\"middle\" x=\"409.5\" y=\"-349.8\" font-family=\"Times,serif\" font-size=\"14.00\">class = YES</text>\n</g>\n<!-- 1 -->\n<g id=\"node2\" class=\"node\">\n<title>1</title>\n<polygon fill=\"#f0b48a\" stroke=\"black\" points=\"400.5,-306 260.5,-306 260.5,-223 400.5,-223 400.5,-306\"/>\n<text text-anchor=\"middle\" x=\"330.5\" y=\"-290.8\" font-family=\"Times,serif\" font-size=\"14.00\">X[5] &lt;= 3.754</text>\n<text text-anchor=\"middle\" x=\"330.5\" y=\"-275.8\" font-family=\"Times,serif\" font-size=\"14.00\">gini = 0.411</text>\n<text text-anchor=\"middle\" x=\"330.5\" y=\"-260.8\" font-family=\"Times,serif\" font-size=\"14.00\">samples = 152</text>\n<text text-anchor=\"middle\" x=\"330.5\" y=\"-245.8\" font-family=\"Times,serif\" font-size=\"14.00\">value = [108, 44]</text>\n<text text-anchor=\"middle\" x=\"330.5\" y=\"-230.8\" font-family=\"Times,serif\" font-size=\"14.00\">class = NO</text>\n</g>\n<!-- 0&#45;&gt;1 -->\n<g id=\"edge1\" class=\"edge\">\n<title>0&#45;&gt;1</title>\n<path fill=\"none\" stroke=\"black\" d=\"M382.09,-341.91C376.09,-333.01 369.67,-323.51 363.47,-314.33\"/>\n<polygon fill=\"black\" stroke=\"black\" points=\"366.36,-312.35 357.86,-306.02 360.56,-316.27 366.36,-312.35\"/>\n<text text-anchor=\"middle\" x=\"353.1\" y=\"-326.86\" font-family=\"Times,serif\" font-size=\"14.00\">True</text>\n</g>\n<!-- 8 -->\n<g id=\"node9\" class=\"node\">\n<title>8</title>\n<polygon fill=\"#51a9e8\" stroke=\"black\" points=\"558.5,-306 418.5,-306 418.5,-223 558.5,-223 558.5,-306\"/>\n<text text-anchor=\"middle\" x=\"488.5\" y=\"-290.8\" font-family=\"Times,serif\" font-size=\"14.00\">X[5] &lt;= 8.047</text>\n<text text-anchor=\"middle\" x=\"488.5\" y=\"-275.8\" font-family=\"Times,serif\" font-size=\"14.00\">gini = 0.193</text>\n<text text-anchor=\"middle\" x=\"488.5\" y=\"-260.8\" font-family=\"Times,serif\" font-size=\"14.00\">samples = 203</text>\n<text text-anchor=\"middle\" x=\"488.5\" y=\"-245.8\" font-family=\"Times,serif\" font-size=\"14.00\">value = [22, 181]</text>\n<text text-anchor=\"middle\" x=\"488.5\" y=\"-230.8\" font-family=\"Times,serif\" font-size=\"14.00\">class = YES</text>\n</g>\n<!-- 0&#45;&gt;8 -->\n<g id=\"edge8\" class=\"edge\">\n<title>0&#45;&gt;8</title>\n<path fill=\"none\" stroke=\"black\" d=\"M436.91,-341.91C442.91,-333.01 449.33,-323.51 455.53,-314.33\"/>\n<polygon fill=\"black\" stroke=\"black\" points=\"458.44,-316.27 461.14,-306.02 452.64,-312.35 458.44,-316.27\"/>\n<text text-anchor=\"middle\" x=\"465.9\" y=\"-326.86\" font-family=\"Times,serif\" font-size=\"14.00\">False</text>\n</g>\n<!-- 2 -->\n<g id=\"node3\" class=\"node\">\n<title>2</title>\n<polygon fill=\"#6cb6ec\" stroke=\"black\" points=\"255,-187 124,-187 124,-104 255,-104 255,-187\"/>\n<text text-anchor=\"middle\" x=\"189.5\" y=\"-171.8\" font-family=\"Times,serif\" font-size=\"14.00\">X[3] &lt;= 24.5</text>\n<text text-anchor=\"middle\" x=\"189.5\" y=\"-156.8\" font-family=\"Times,serif\" font-size=\"14.00\">gini = 0.324</text>\n<text text-anchor=\"middle\" x=\"189.5\" y=\"-141.8\" font-family=\"Times,serif\" font-size=\"14.00\">samples = 54</text>\n<text text-anchor=\"middle\" x=\"189.5\" y=\"-126.8\" font-family=\"Times,serif\" font-size=\"14.00\">value = [11, 43]</text>\n<text text-anchor=\"middle\" x=\"189.5\" y=\"-111.8\" font-family=\"Times,serif\" font-size=\"14.00\">class = YES</text>\n</g>\n<!-- 1&#45;&gt;2 -->\n<g id=\"edge2\" class=\"edge\">\n<title>1&#45;&gt;2</title>\n<path fill=\"none\" stroke=\"black\" d=\"M281.58,-222.91C270.21,-213.47 258,-203.34 246.32,-193.65\"/>\n<polygon fill=\"black\" stroke=\"black\" points=\"248.26,-190.71 238.33,-187.02 243.79,-196.1 248.26,-190.71\"/>\n</g>\n<!-- 5 -->\n<g id=\"node6\" class=\"node\">\n<title>5</title>\n<polygon fill=\"#e5823b\" stroke=\"black\" points=\"395.5,-187 273.5,-187 273.5,-104 395.5,-104 395.5,-187\"/>\n<text text-anchor=\"middle\" x=\"334.5\" y=\"-171.8\" font-family=\"Times,serif\" font-size=\"14.00\">X[5] &lt;= 4.0</text>\n<text text-anchor=\"middle\" x=\"334.5\" y=\"-156.8\" font-family=\"Times,serif\" font-size=\"14.00\">gini = 0.02</text>\n<text text-anchor=\"middle\" x=\"334.5\" y=\"-141.8\" font-family=\"Times,serif\" font-size=\"14.00\">samples = 98</text>\n<text text-anchor=\"middle\" x=\"334.5\" y=\"-126.8\" font-family=\"Times,serif\" font-size=\"14.00\">value = [97, 1]</text>\n<text text-anchor=\"middle\" x=\"334.5\" y=\"-111.8\" font-family=\"Times,serif\" font-size=\"14.00\">class = NO</text>\n</g>\n<!-- 1&#45;&gt;5 -->\n<g id=\"edge5\" class=\"edge\">\n<title>1&#45;&gt;5</title>\n<path fill=\"none\" stroke=\"black\" d=\"M331.89,-222.91C332.17,-214.56 332.48,-205.67 332.77,-197.02\"/>\n<polygon fill=\"black\" stroke=\"black\" points=\"336.27,-197.13 333.11,-187.02 329.27,-196.9 336.27,-197.13\"/>\n</g>\n<!-- 3 -->\n<g id=\"node4\" class=\"node\">\n<title>3</title>\n<polygon fill=\"#e58139\" stroke=\"black\" points=\"113,-68 0,-68 0,0 113,0 113,-68\"/>\n<text text-anchor=\"middle\" x=\"56.5\" y=\"-52.8\" font-family=\"Times,serif\" font-size=\"14.00\">gini = 0.0</text>\n<text text-anchor=\"middle\" x=\"56.5\" y=\"-37.8\" font-family=\"Times,serif\" font-size=\"14.00\">samples = 8</text>\n<text text-anchor=\"middle\" x=\"56.5\" y=\"-22.8\" font-family=\"Times,serif\" font-size=\"14.00\">value = [8, 0]</text>\n<text text-anchor=\"middle\" x=\"56.5\" y=\"-7.8\" font-family=\"Times,serif\" font-size=\"14.00\">class = NO</text>\n</g>\n<!-- 2&#45;&gt;3 -->\n<g id=\"edge3\" class=\"edge\">\n<title>2&#45;&gt;3</title>\n<path fill=\"none\" stroke=\"black\" d=\"M139.98,-103.73C128.45,-94.24 116.2,-84.16 104.74,-74.72\"/>\n<polygon fill=\"black\" stroke=\"black\" points=\"106.89,-71.95 96.95,-68.3 102.44,-77.36 106.89,-71.95\"/>\n</g>\n<!-- 4 -->\n<g id=\"node5\" class=\"node\">\n<title>4</title>\n<polygon fill=\"#47a4e7\" stroke=\"black\" points=\"253.5,-68 131.5,-68 131.5,0 253.5,0 253.5,-68\"/>\n<text text-anchor=\"middle\" x=\"192.5\" y=\"-52.8\" font-family=\"Times,serif\" font-size=\"14.00\">gini = 0.122</text>\n<text text-anchor=\"middle\" x=\"192.5\" y=\"-37.8\" font-family=\"Times,serif\" font-size=\"14.00\">samples = 46</text>\n<text text-anchor=\"middle\" x=\"192.5\" y=\"-22.8\" font-family=\"Times,serif\" font-size=\"14.00\">value = [3, 43]</text>\n<text text-anchor=\"middle\" x=\"192.5\" y=\"-7.8\" font-family=\"Times,serif\" font-size=\"14.00\">class = YES</text>\n</g>\n<!-- 2&#45;&gt;4 -->\n<g id=\"edge4\" class=\"edge\">\n<title>2&#45;&gt;4</title>\n<path fill=\"none\" stroke=\"black\" d=\"M190.62,-103.73C190.84,-95.52 191.08,-86.86 191.31,-78.56\"/>\n<polygon fill=\"black\" stroke=\"black\" points=\"194.81,-78.39 191.59,-68.3 187.82,-78.2 194.81,-78.39\"/>\n</g>\n<!-- 6 -->\n<g id=\"node7\" class=\"node\">\n<title>6</title>\n<polygon fill=\"#f2c09c\" stroke=\"black\" points=\"389,-68 276,-68 276,0 389,0 389,-68\"/>\n<text text-anchor=\"middle\" x=\"332.5\" y=\"-52.8\" font-family=\"Times,serif\" font-size=\"14.00\">gini = 0.444</text>\n<text text-anchor=\"middle\" x=\"332.5\" y=\"-37.8\" font-family=\"Times,serif\" font-size=\"14.00\">samples = 3</text>\n<text text-anchor=\"middle\" x=\"332.5\" y=\"-22.8\" font-family=\"Times,serif\" font-size=\"14.00\">value = [2, 1]</text>\n<text text-anchor=\"middle\" x=\"332.5\" y=\"-7.8\" font-family=\"Times,serif\" font-size=\"14.00\">class = NO</text>\n</g>\n<!-- 5&#45;&gt;6 -->\n<g id=\"edge6\" class=\"edge\">\n<title>5&#45;&gt;6</title>\n<path fill=\"none\" stroke=\"black\" d=\"M333.76,-103.73C333.61,-95.52 333.45,-86.86 333.3,-78.56\"/>\n<polygon fill=\"black\" stroke=\"black\" points=\"336.79,-78.23 333.11,-68.3 329.79,-78.36 336.79,-78.23\"/>\n</g>\n<!-- 7 -->\n<g id=\"node8\" class=\"node\">\n<title>7</title>\n<polygon fill=\"#e58139\" stroke=\"black\" points=\"529.5,-68 407.5,-68 407.5,0 529.5,0 529.5,-68\"/>\n<text text-anchor=\"middle\" x=\"468.5\" y=\"-52.8\" font-family=\"Times,serif\" font-size=\"14.00\">gini = 0.0</text>\n<text text-anchor=\"middle\" x=\"468.5\" y=\"-37.8\" font-family=\"Times,serif\" font-size=\"14.00\">samples = 95</text>\n<text text-anchor=\"middle\" x=\"468.5\" y=\"-22.8\" font-family=\"Times,serif\" font-size=\"14.00\">value = [95, 0]</text>\n<text text-anchor=\"middle\" x=\"468.5\" y=\"-7.8\" font-family=\"Times,serif\" font-size=\"14.00\">class = NO</text>\n</g>\n<!-- 5&#45;&gt;7 -->\n<g id=\"edge7\" class=\"edge\">\n<title>5&#45;&gt;7</title>\n<path fill=\"none\" stroke=\"black\" d=\"M384.4,-103.73C396,-94.24 408.35,-84.16 419.9,-74.72\"/>\n<polygon fill=\"black\" stroke=\"black\" points=\"422.22,-77.34 427.75,-68.3 417.79,-71.92 422.22,-77.34\"/>\n</g>\n<!-- 9 -->\n<g id=\"node10\" class=\"node\">\n<title>9</title>\n<polygon fill=\"#399de5\" stroke=\"black\" points=\"551,-179.5 420,-179.5 420,-111.5 551,-111.5 551,-179.5\"/>\n<text text-anchor=\"middle\" x=\"485.5\" y=\"-164.3\" font-family=\"Times,serif\" font-size=\"14.00\">gini = 0.0</text>\n<text text-anchor=\"middle\" x=\"485.5\" y=\"-149.3\" font-family=\"Times,serif\" font-size=\"14.00\">samples = 158</text>\n<text text-anchor=\"middle\" x=\"485.5\" y=\"-134.3\" font-family=\"Times,serif\" font-size=\"14.00\">value = [0, 158]</text>\n<text text-anchor=\"middle\" x=\"485.5\" y=\"-119.3\" font-family=\"Times,serif\" font-size=\"14.00\">class = YES</text>\n</g>\n<!-- 8&#45;&gt;9 -->\n<g id=\"edge9\" class=\"edge\">\n<title>8&#45;&gt;9</title>\n<path fill=\"none\" stroke=\"black\" d=\"M487.46,-222.91C487.18,-212.2 486.89,-200.62 486.61,-189.78\"/>\n<polygon fill=\"black\" stroke=\"black\" points=\"490.11,-189.57 486.35,-179.67 483.11,-189.75 490.11,-189.57\"/>\n</g>\n<!-- 10 -->\n<g id=\"node11\" class=\"node\">\n<title>10</title>\n<polygon fill=\"#f6fbfe\" stroke=\"black\" points=\"700,-187 569,-187 569,-104 700,-104 700,-187\"/>\n<text text-anchor=\"middle\" x=\"634.5\" y=\"-171.8\" font-family=\"Times,serif\" font-size=\"14.00\">X[3] &lt;= 140.5</text>\n<text text-anchor=\"middle\" x=\"634.5\" y=\"-156.8\" font-family=\"Times,serif\" font-size=\"14.00\">gini = 0.5</text>\n<text text-anchor=\"middle\" x=\"634.5\" y=\"-141.8\" font-family=\"Times,serif\" font-size=\"14.00\">samples = 45</text>\n<text text-anchor=\"middle\" x=\"634.5\" y=\"-126.8\" font-family=\"Times,serif\" font-size=\"14.00\">value = [22, 23]</text>\n<text text-anchor=\"middle\" x=\"634.5\" y=\"-111.8\" font-family=\"Times,serif\" font-size=\"14.00\">class = YES</text>\n</g>\n<!-- 8&#45;&gt;10 -->\n<g id=\"edge10\" class=\"edge\">\n<title>8&#45;&gt;10</title>\n<path fill=\"none\" stroke=\"black\" d=\"M539.15,-222.91C551.04,-213.38 563.81,-203.15 576.01,-193.37\"/>\n<polygon fill=\"black\" stroke=\"black\" points=\"578.32,-196.01 583.94,-187.02 573.94,-190.54 578.32,-196.01\"/>\n</g>\n<!-- 11 -->\n<g id=\"node12\" class=\"node\">\n<title>11</title>\n<polygon fill=\"#e58139\" stroke=\"black\" points=\"682.5,-68 560.5,-68 560.5,0 682.5,0 682.5,-68\"/>\n<text text-anchor=\"middle\" x=\"621.5\" y=\"-52.8\" font-family=\"Times,serif\" font-size=\"14.00\">gini = 0.0</text>\n<text text-anchor=\"middle\" x=\"621.5\" y=\"-37.8\" font-family=\"Times,serif\" font-size=\"14.00\">samples = 22</text>\n<text text-anchor=\"middle\" x=\"621.5\" y=\"-22.8\" font-family=\"Times,serif\" font-size=\"14.00\">value = [22, 0]</text>\n<text text-anchor=\"middle\" x=\"621.5\" y=\"-7.8\" font-family=\"Times,serif\" font-size=\"14.00\">class = NO</text>\n</g>\n<!-- 10&#45;&gt;11 -->\n<g id=\"edge11\" class=\"edge\">\n<title>10&#45;&gt;11</title>\n<path fill=\"none\" stroke=\"black\" d=\"M629.66,-103.73C628.67,-95.43 627.63,-86.67 626.64,-78.28\"/>\n<polygon fill=\"black\" stroke=\"black\" points=\"630.11,-77.82 625.45,-68.3 623.16,-78.64 630.11,-77.82\"/>\n</g>\n<!-- 12 -->\n<g id=\"node13\" class=\"node\">\n<title>12</title>\n<polygon fill=\"#399de5\" stroke=\"black\" points=\"822.5,-68 700.5,-68 700.5,0 822.5,0 822.5,-68\"/>\n<text text-anchor=\"middle\" x=\"761.5\" y=\"-52.8\" font-family=\"Times,serif\" font-size=\"14.00\">gini = 0.0</text>\n<text text-anchor=\"middle\" x=\"761.5\" y=\"-37.8\" font-family=\"Times,serif\" font-size=\"14.00\">samples = 23</text>\n<text text-anchor=\"middle\" x=\"761.5\" y=\"-22.8\" font-family=\"Times,serif\" font-size=\"14.00\">value = [0, 23]</text>\n<text text-anchor=\"middle\" x=\"761.5\" y=\"-7.8\" font-family=\"Times,serif\" font-size=\"14.00\">class = YES</text>\n</g>\n<!-- 10&#45;&gt;12 -->\n<g id=\"edge12\" class=\"edge\">\n<title>10&#45;&gt;12</title>\n<path fill=\"none\" stroke=\"black\" d=\"M681.79,-103.73C692.69,-94.33 704.26,-84.35 715.12,-74.99\"/>\n<polygon fill=\"black\" stroke=\"black\" points=\"717.59,-77.48 722.88,-68.3 713.02,-72.18 717.59,-77.48\"/>\n</g>\n</g>\n</svg>\n"
     },
     "metadata": {},
     "execution_count": 63
    }
   ],
   "metadata": {
    "colab": {},
    "colab_type": "code",
    "id": "_UIWhKZBDuW7"
   }
  },
  {
   "cell_type": "code",
   "execution_count": 64,
   "source": [
    "print(\"Gini impurity  model - max depth 3\")\n",
    "print(\"Accuracy:\", metrics.accuracy_score(y_test,y_pred))\n",
    "print(\"Balanced accuracy:\", metrics.balanced_accuracy_score(y_test,y_pred))\n",
    "print('Precision score' , metrics.precision_score(y_test,y_pred, pos_label = \"YES\"))\n",
    "print('Recall score' , metrics.recall_score(y_test,y_pred, pos_label = \"NO\"))"
   ],
   "outputs": [
    {
     "output_type": "stream",
     "name": "stdout",
     "text": [
      "Gini impurity  model - max depth 3\n",
      "Accuracy: 0.9747899159663865\n",
      "Balanced accuracy: 0.9691994996873046\n",
      "Precision score 0.9746835443037974\n",
      "Recall score 0.9512195121951219\n"
     ]
    }
   ],
   "metadata": {
    "colab": {},
    "colab_type": "code",
    "id": "R4t7e9-GDuW9"
   }
  },
  {
   "cell_type": "markdown",
   "source": [
    "Now this is an elegant tree. Its accuracy might not be the highest, but it's still the best model we've produced so far. Why is that? Write your answer here: \n",
    "\n",
    "\n",
    "This model only has a small depth, so the risk of overfitting is lower and most of the end point have a gini of 0.0 or close to 0.0.\n",
    "\n",
    "Because the model is more generalizeable and the accuracy is still very high this is the best model to use. "
   ],
   "metadata": {
    "colab_type": "text",
    "id": "UzGThBXSDuW-"
   }
  },
  {
   "cell_type": "markdown",
   "source": [
    "# 4. Evaluating and concluding\n",
    "## 4a. How many customers will buy Hidden Farm coffee? \n",
    "Let's first ascertain how many loyal customers claimed, in the survey, that they will purchase the Hidden Farm coffee. "
   ],
   "metadata": {
    "colab_type": "text",
    "id": "jS1niFlCDuW_"
   }
  },
  {
   "cell_type": "code",
   "execution_count": 65,
   "source": [
    "# Call value_counts() on the 'Decision' column of the original coffeeData\n",
    "df['Decision'].value_counts()"
   ],
   "outputs": [
    {
     "output_type": "execute_result",
     "data": {
      "text/plain": [
       "YES    303\n",
       "NO     171\n",
       "Name: Decision, dtype: int64"
      ]
     },
     "metadata": {},
     "execution_count": 65
    }
   ],
   "metadata": {
    "colab": {},
    "colab_type": "code",
    "id": "QPHXnHZvDuXC"
   }
  },
  {
   "cell_type": "markdown",
   "source": [
    "Let's now determine the number of people that, according to the model, will be willing to buy the Hidden Farm coffee. \n",
    "1. First we subset the Prediction dataset into `new_X` considering all the variables except `Decision` \n",
    "2. Use that dataset to predict a new variable called `potential_buyers`"
   ],
   "metadata": {
    "colab_type": "text",
    "id": "kw_5g_ZEDuXD"
   }
  },
  {
   "cell_type": "code",
   "execution_count": 67,
   "source": [
    "# Feature selection\n",
    "# Make a variable called feature_cols, and assign it a list containing all the column names except 'Decision'\n",
    "feature_cols = [a for a in Prediction.columns if a != 'Decision']\n",
    "\n",
    "\n",
    "# Make a variable called new_X, and assign it the subset of Prediction, containing just the feature_cols \n",
    "new_X = Prediction[feature_cols]"
   ],
   "outputs": [],
   "metadata": {
    "colab": {},
    "colab_type": "code",
    "id": "mwypR8ymDuXE"
   }
  },
  {
   "cell_type": "code",
   "execution_count": 68,
   "source": [
    "# Call get_dummies() on the Pandas object pd, with new_X plugged in, to one-hot encode all features in the training set\n",
    "new_X = pd.get_dummies(new_X)\n",
    "\n",
    "# Make a variable called potential_buyers, and assign it the result of calling predict() on a model of your choice; \n",
    "# don't forget to pass new_X to predict()\n",
    "potential_buyers  = entr_model2.predict(new_X)"
   ],
   "outputs": [],
   "metadata": {
    "colab": {},
    "colab_type": "code",
    "id": "0ajvbeRSDuXG"
   }
  },
  {
   "cell_type": "code",
   "execution_count": 69,
   "source": [
    "# Let's get the numbers of YES's and NO's in the potential buyers \n",
    "# Call unique() on np, and pass potential_buyers and return_counts=True \n",
    "np.unique(potential_buyers, return_counts=True)"
   ],
   "outputs": [
    {
     "output_type": "execute_result",
     "data": {
      "text/plain": [
       "(array(['NO', 'YES'], dtype=object), array([ 45, 183]))"
      ]
     },
     "metadata": {},
     "execution_count": 69
    }
   ],
   "metadata": {
    "colab": {},
    "colab_type": "code",
    "id": "-MO_KWT9DuXI"
   }
  },
  {
   "cell_type": "markdown",
   "source": [
    "The total number of potential buyers is 303 + 183 = 486"
   ],
   "metadata": {
    "colab_type": "text",
    "id": "3CB7HbiTDuXJ"
   }
  },
  {
   "cell_type": "code",
   "execution_count": 71,
   "source": [
    "# Print the total number of surveyed people \n",
    "print(df.shape[0])"
   ],
   "outputs": [
    {
     "output_type": "stream",
     "name": "stdout",
     "text": [
      "702\n"
     ]
    }
   ],
   "metadata": {
    "colab": {},
    "colab_type": "code",
    "id": "9EGFQcTuDuXK"
   }
  },
  {
   "cell_type": "code",
   "execution_count": 93,
   "source": [
    "# Let's calculate the proportion of buyers\n",
    "486/df.shape[0]"
   ],
   "outputs": [
    {
     "output_type": "execute_result",
     "data": {
      "text/plain": [
       "0.6923076923076923"
      ]
     },
     "metadata": {},
     "execution_count": 93
    }
   ],
   "metadata": {
    "colab": {},
    "colab_type": "code",
    "id": "22_KRMX4DuXM"
   }
  },
  {
   "cell_type": "code",
   "execution_count": 95,
   "source": [
    "# Print the percentage of people who want to buy the Hidden Farm coffee, by our model \n",
    "\n",
    "print(f\"{round(100* (486 /df.shape[0]), 2)}% of our sample said they will be a buyer or our model predicts to be buyers.\")"
   ],
   "outputs": [
    {
     "output_type": "stream",
     "name": "stdout",
     "text": [
      "69.23% of our sample said they will be a buyer or our model predicts to be buyers.\n"
     ]
    }
   ],
   "metadata": {
    "colab": {},
    "colab_type": "code",
    "id": "xLMCDMpmDuXO"
   }
  },
  {
   "cell_type": "markdown",
   "source": [
    "## 4b. Decision\n",
    "Remember how you thought at the start: if more than 70% of the interviewed customers are likely to buy the Hidden Farm coffee, you will strike the deal with the local Hidden Farm farmers and sell the coffee. Otherwise, you won't strike the deal and the Hidden Farm coffee will remain in legends only. Well now's crunch time. Are you going to go ahead with that idea? If so, you won't be striking the deal with the Chinese farmers. \n",
    "\n",
    "They're called `decision trees`, aren't they? So where's the decision? What should you do? (Cue existential cat emoji). \n",
    "\n",
    "Ultimately, though, we can't write an algorithm to actually *make the business decision* for us. This is because such decisions depend on our values, what risks we are willing to take, the stakes of our decisions, and how important it us for us to *know* that we will succeed. What are you going to do with the models you've made? Are you going to risk everything, strike the deal with the *Hidden Farm* farmers, and sell the coffee? \n",
    "\n",
    "The philosopher of language Jason Stanley once wrote that the number of doubts our evidence has to rule out in order for us to know a given proposition depends on our stakes: the higher our stakes, the more doubts our evidence has to rule out, and therefore the harder it is for us to know things. We can end up paralyzed in predicaments; sometimes, we can act to better our situation only if we already know certain things, which we can only if our stakes were lower and we'd *already* bettered our situation. \n",
    "\n",
    "Data science and machine learning can't solve such problems. But what it can do is help us make great use of our data to help *inform* our decisions."
   ],
   "metadata": {
    "colab_type": "text",
    "id": "9bRDyi6rDuXQ"
   }
  },
  {
   "cell_type": "markdown",
   "source": [
    "## 5. Random Forest\n",
    "You might have noticed an important fact about decision trees. Each time we run a given decision tree algorithm to make a prediction (such as whether customers will buy the Hidden Farm coffee) we will actually get a slightly different result. This might seem weird, but it has a simple explanation: machine learning algorithms are by definition ***stochastic***, in that their output is at least partly determined by randomness. \n",
    "\n",
    "To account for this variability and ensure that we get the most accurate prediction, we might want to actually make lots of decision trees, and get a value that captures the centre or average of the outputs of those trees. Luckily, there's a method for this, known as the ***Random Forest***. \n",
    "\n",
    "Essentially, Random Forest involves making lots of trees with similar properties, and then performing summary statistics on the outputs of those trees to reach that central value. Random forests are hugely powerful classifers, and they can improve predictive accuracy and control over-fitting. \n",
    "\n",
    "Why not try to inform your decision with random forest? You'll need to make use of the RandomForestClassifier function within the sklearn.ensemble module, found [here](https://scikit-learn.org/stable/modules/generated/sklearn.ensemble.RandomForestClassifier.html). "
   ],
   "metadata": {
    "colab_type": "text",
    "id": "crWWrpdox8i-"
   }
  },
  {
   "cell_type": "markdown",
   "source": [
    "### 5a. Import necessary modules"
   ],
   "metadata": {
    "colab_type": "text",
    "id": "fI4fiVWq0IH9"
   }
  },
  {
   "cell_type": "code",
   "execution_count": 96,
   "source": [
    "from sklearn.ensemble import RandomForestClassifier\n",
    "from sklearn.datasets import make_classification"
   ],
   "outputs": [],
   "metadata": {
    "colab": {},
    "colab_type": "code",
    "id": "vSRTnHnD0D-O"
   }
  },
  {
   "cell_type": "markdown",
   "source": [
    "### 5b. Model\n",
    "You'll use your X_train and y_train variables just as before.\n",
    "\n",
    "You'll then need to make a variable (call it firstRFModel) to store your new Random Forest model. You'll assign this variable the result of calling RandomForestClassifier().\n",
    "\n",
    "Then, just as before, you'll call fit() on that firstRFModel variable, and plug in X_train and y_train.\n",
    "\n",
    "Finally, you should make a variable called y_pred, and assign it the result of calling the predict() method on your new firstRFModel, with the X_test data passed to it. "
   ],
   "metadata": {
    "colab_type": "text",
    "id": "jKmFvvjb0WB9"
   }
  },
  {
   "cell_type": "code",
   "execution_count": 108,
   "source": [
    "# Plug in appropriate max_depth and random_state parameters \n",
    "firstRFModel = RandomForestClassifier(max_depth=3, random_state=246)\n",
    "# Model and fit\n",
    "firstRFModel.fit(X_train,y_train)\n",
    "\n",
    "potential_buyers  = firstRFModel.predict(new_X)\n",
    "print(np.unique(potential_buyers, return_counts=True))\n",
    "\n",
    "print((190+303) / df.shape[0])\n",
    "\n",
    "\n"
   ],
   "outputs": [
    {
     "output_type": "stream",
     "name": "stdout",
     "text": [
      "(array(['NO', 'YES'], dtype=object), array([ 38, 190]))\n",
      "0.7022792022792023\n"
     ]
    }
   ],
   "metadata": {
    "colab": {},
    "colab_type": "code",
    "id": "OQEeTiRG1aSm"
   }
  },
  {
   "cell_type": "markdown",
   "source": [
    "### 5c. Revise conclusion\n",
    " \n",
    "Has your conclusion changed? Or is the result of executing random forest the same as your best model reached by a single decision tree?\n",
    " \n",
    "The RandomForests model predicts that 70.22% of our sample will be buyers. Since RandomForests are more generalizable than single decision trees this would result would satisfy the 70% threshold for going forward with the Hidden Village coffee supplier.\n",
    " \n",
    "I would discount this conclusion by where the 70% threshold came from. If that was established based on some calculation then That would be solid evidence to proceed with the plan. If it was picked because it was a nice round number then the difference between then and the difference between the models is close enough to be lost in noise. If I wanted to be more confident in the population I would bootstrap the underlying sample and train a few thousand models to get a more clear understanding of distribution of % of buyers of the population.\n",
    " \n",
    "Overall I would conclude that the business should use the Hidden Village Coffee supplier.\n",
    " \n",
    " \n",
    "\n"
   ],
   "metadata": {
    "colab_type": "text",
    "id": "sCIt6pyn1zpb"
   }
  }
 ],
 "metadata": {
  "colab": {
   "collapsed_sections": [],
   "name": "Springboard Decision Tree Specialty Coffee Case Study - Tier 3.ipynb",
   "provenance": []
  },
  "kernelspec": {
   "name": "python3",
   "display_name": "Python 3.8.10 64-bit"
  },
  "language_info": {
   "codemirror_mode": {
    "name": "ipython",
    "version": 3
   },
   "file_extension": ".py",
   "mimetype": "text/x-python",
   "name": "python",
   "nbconvert_exporter": "python",
   "pygments_lexer": "ipython3",
   "version": "3.8.10"
  },
  "interpreter": {
   "hash": "916dbcbb3f70747c44a77c7bcd40155683ae19c65e1c03b4aa3499c5328201f1"
  }
 },
 "nbformat": 4,
 "nbformat_minor": 4
}