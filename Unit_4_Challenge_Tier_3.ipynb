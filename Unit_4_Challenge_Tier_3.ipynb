{
  "cells": [
    {
      "cell_type": "markdown",
      "metadata": {
        "id": "Tia3MP1SJpgj"
      },
      "source": [
        "# Springboard Data Science Career Track Unit 4 Challenge - Tier 3 Complete\n",
        "\n",
        "## Objectives\n",
        "Hey! Great job getting through those challenging DataCamp courses. You're learning a lot in a short span of time. \n",
        "\n",
        "In this notebook, you're going to apply the skills you've been learning, bridging the gap between the controlled environment of DataCamp and the *slightly* messier work that data scientists do with actual datasets!\n",
        "\n",
        "Here’s the mystery we’re going to solve: ***which boroughs of London have seen the greatest increase in housing prices, on average, over the last two decades?***\n",
        "\n",
        "\n",
        "A borough is just a fancy word for district. You may be familiar with the five boroughs of New York… well, there are 32 boroughs within Greater London [(here's some info for the curious)](https://en.wikipedia.org/wiki/London_boroughs). Some of them are more desirable areas to live in, and the data will reflect that with a greater rise in housing prices.\n",
        "\n",
        "***This is the Tier 3 notebook, which means it's not filled in at all: we'll just give you the skeleton of a project, the brief and the data. It's up to you to play around with it and see what you can find out! Good luck! If you struggle, feel free to look at easier tiers for help; but try to dip in and out of them, as the more independent work you do, the better it is for your learning!***\n",
        "\n",
        "This challenge will make use of only what you learned in the following DataCamp courses: \n",
        "- Prework courses (Introduction to Python for Data Science, Intermediate Python for Data Science)\n",
        "- Data Types for Data Science\n",
        "- Python Data Science Toolbox (Part One) \n",
        "- pandas Foundations\n",
        "- Manipulating DataFrames with pandas\n",
        "- Merging DataFrames with pandas\n",
        "\n",
        "Of the tools, techniques and concepts in the above DataCamp courses, this challenge should require the application of the following: \n",
        "- **pandas**\n",
        "    - **data ingestion and inspection** (pandas Foundations, Module One) \n",
        "    - **exploratory data analysis** (pandas Foundations, Module Two)\n",
        "    - **tidying and cleaning** (Manipulating DataFrames with pandas, Module Three) \n",
        "    - **transforming DataFrames** (Manipulating DataFrames with pandas, Module One)\n",
        "    - **subsetting DataFrames with lists** (Manipulating DataFrames with pandas, Module One) \n",
        "    - **filtering DataFrames** (Manipulating DataFrames with pandas, Module One) \n",
        "    - **grouping data** (Manipulating DataFrames with pandas, Module Four) \n",
        "    - **melting data** (Manipulating DataFrames with pandas, Module Three) \n",
        "    - **advanced indexing** (Manipulating DataFrames with pandas, Module Four) \n",
        "- **matplotlib** (Intermediate Python for Data Science, Module One)\n",
        "- **fundamental data types** (Data Types for Data Science, Module One) \n",
        "- **dictionaries** (Intermediate Python for Data Science, Module Two)\n",
        "- **handling dates and times** (Data Types for Data Science, Module Four)\n",
        "- **function definition** (Python Data Science Toolbox - Part One, Module One)\n",
        "- **default arguments, variable length, and scope** (Python Data Science Toolbox - Part One, Module Two) \n",
        "- **lambda functions and error handling** (Python Data Science Toolbox - Part One, Module Four) "
      ]
    },
    {
      "cell_type": "markdown",
      "metadata": {
        "id": "Ipgd2nV8Jpgl"
      },
      "source": [
        "## The Data Science Pipeline\n",
        "\n",
        "This is Tier Three, so we'll get you started. But after that, it's all in your hands! When you feel done with your investigations, look back over what you've accomplished, and prepare a quick presentation of your findings for the next mentor meeting. \n",
        "\n",
        "Data Science is magical. In this case study, you'll get to apply some complex machine learning algorithms. But as  [David Spiegelhalter](https://www.youtube.com/watch?v=oUs1uvsz0Ok) reminds us, there is no substitute for simply **taking a really, really good look at the data.** Sometimes, this is all we need to answer our question.\n",
        "\n",
        "Data Science projects generally adhere to the four stages of Data Science Pipeline:\n",
        "1. Sourcing and loading \n",
        "2. Cleaning, transforming, and visualizing \n",
        "3. Modeling \n",
        "4. Evaluating and concluding \n"
      ]
    },
    {
      "cell_type": "markdown",
      "metadata": {
        "id": "zswDqbefJpgm"
      },
      "source": [
        "### 1. Sourcing and Loading \n",
        "\n",
        "Any Data Science project kicks off by importing  ***pandas***. The documentation of this wonderful library can be found [here](https://pandas.pydata.org/). As you've seen, pandas is conveniently connected to the [Numpy](http://www.numpy.org/) and [Matplotlib](https://matplotlib.org/) libraries. \n",
        "\n",
        "***Hint:*** This part of the data science pipeline will test those skills you acquired in the pandas Foundations course, Module One. "
      ]
    },
    {
      "cell_type": "markdown",
      "metadata": {
        "id": "aEau5nEvJpgm"
      },
      "source": [
        "#### 1.1. Importing Libraries"
      ]
    },
    {
      "cell_type": "code",
      "execution_count": null,
      "metadata": {
        "id": "7Bt_Q_oPJpgn"
      },
      "outputs": [],
      "source": [
        "# Let's import the pandas, numpy libraries as pd, and np respectively. \n",
        "import pandas as pd\n",
        "import numpy as np\n",
        "\n",
        "# Load the pyplot collection of functions from matplotlib, as plt \n",
        "import matplotlib.pyplot as plt\n",
        "%matplotlib inline "
      ]
    },
    {
      "cell_type": "markdown",
      "metadata": {
        "id": "koUrawxsJpgq"
      },
      "source": [
        "#### 1.2.  Loading the data\n",
        "Your data comes from the [London Datastore](https://data.london.gov.uk/): a free, open-source data-sharing portal for London-oriented datasets. "
      ]
    },
    {
      "cell_type": "code",
      "execution_count": null,
      "metadata": {
        "id": "AiLiD4v3Jpgr"
      },
      "outputs": [],
      "source": [
        "# First, make a variable called url_LondonHousePrices, and assign it the following link, enclosed in quotation-marks as a string:\n",
        "# https://data.london.gov.uk/download/uk-house-price-index/70ac0766-8902-4eb5-aab5-01951aaed773/UK%20House%20price%20index.xls\n",
        "\n",
        "url_LondonHousePrices  = \"https://data.london.gov.uk/download/uk-house-price-index/70ac0766-8902-4eb5-aab5-01951aaed773/UK%20House%20price%20index.xls\"\n",
        "\n",
        "# The dataset we're interested in contains the Average prices of the houses, and is actually on a particular sheet of the Excel file. \n",
        "# As a result, we need to specify the sheet name in the read_excel() method.\n",
        "# Put this data into a variable called properties.  \n",
        "properties = pd.read_excel(url_LondonHousePrices, sheet_name='Average price', index_col= None)"
      ]
    },
    {
      "cell_type": "markdown",
      "metadata": {
        "id": "POukEJXgJpgu"
      },
      "source": [
        "### 2. Cleaning, transforming, and visualizing\n",
        "This second stage is arguably the most important part of any Data Science project. The first thing to do is take a proper look at the data. Cleaning forms the majority of this stage, and can be done both before or after Transformation.\n",
        "\n",
        "The end goal of data cleaning is to have tidy data. When data is tidy: \n",
        "\n",
        "1. Each variable has a column.\n",
        "2. Each observation forms a row.\n",
        "\n",
        "Keep the end goal in mind as you move through this process, every step will take you closer. \n",
        "\n",
        "\n",
        "\n",
        "***Hint:*** This part of the data science pipeline should test those skills you acquired in: \n",
        "- Intermediate Python for data science, all modules.\n",
        "- pandas Foundations, all modules. \n",
        "- Manipulating DataFrames with pandas, all modules.\n",
        "- Data Types for Data Science, Module Four.\n",
        "- Python Data Science Toolbox - Part One, all modules"
      ]
    },
    {
      "cell_type": "markdown",
      "metadata": {
        "id": "Te0Q548tnzZa"
      },
      "source": [
        "**2.1. Exploring your data** \n",
        "\n",
        "Think about your pandas functions for checking out a dataframe. "
      ]
    },
    {
      "cell_type": "code",
      "execution_count": null,
      "metadata": {
        "colab": {
          "base_uri": "https://localhost:8080/"
        },
        "id": "Rxirxw_qoAJa",
        "outputId": "4419dbae-93a2-487f-dd1c-7396b63c9c58"
      },
      "outputs": [
        {
          "name": "stdout",
          "output_type": "stream",
          "text": [
            "Index(['Unnamed: 0', 'City of London', 'Barking & Dagenham', 'Barnet',\n",
            "       'Bexley', 'Brent', 'Bromley', 'Camden', 'Croydon', 'Ealing', 'Enfield',\n",
            "       'Greenwich', 'Hackney', 'Hammersmith & Fulham', 'Haringey', 'Harrow',\n",
            "       'Havering', 'Hillingdon', 'Hounslow', 'Islington',\n",
            "       'Kensington & Chelsea', 'Kingston upon Thames', 'Lambeth', 'Lewisham',\n",
            "       'Merton', 'Newham', 'Redbridge', 'Richmond upon Thames', 'Southwark',\n",
            "       'Sutton', 'Tower Hamlets', 'Waltham Forest', 'Wandsworth',\n",
            "       'Westminster', 'Unnamed: 34', 'Inner London', 'Outer London',\n",
            "       'Unnamed: 37', 'NORTH EAST', 'NORTH WEST', 'YORKS & THE HUMBER',\n",
            "       'EAST MIDLANDS', 'WEST MIDLANDS', 'EAST OF ENGLAND', 'LONDON',\n",
            "       'SOUTH EAST', 'SOUTH WEST', 'Unnamed: 47', 'England'],\n",
            "      dtype='object')\n",
            "Unnamed: 0              datetime64[ns]\n",
            "City of London                  object\n",
            "Barking & Dagenham              object\n",
            "Barnet                          object\n",
            "Bexley                          object\n",
            "Brent                           object\n",
            "Bromley                         object\n",
            "Camden                          object\n",
            "Croydon                         object\n",
            "Ealing                          object\n",
            "Enfield                         object\n",
            "Greenwich                       object\n",
            "Hackney                         object\n",
            "Hammersmith & Fulham            object\n",
            "Haringey                        object\n",
            "Harrow                          object\n",
            "Havering                        object\n",
            "Hillingdon                      object\n",
            "Hounslow                        object\n",
            "Islington                       object\n",
            "Kensington & Chelsea            object\n",
            "Kingston upon Thames            object\n",
            "Lambeth                         object\n",
            "Lewisham                        object\n",
            "Merton                          object\n",
            "Newham                          object\n",
            "Redbridge                       object\n",
            "Richmond upon Thames            object\n",
            "Southwark                       object\n",
            "Sutton                          object\n",
            "Tower Hamlets                   object\n",
            "Waltham Forest                  object\n",
            "Wandsworth                      object\n",
            "Westminster                     object\n",
            "Unnamed: 34                    float64\n",
            "Inner London                    object\n",
            "Outer London                    object\n",
            "Unnamed: 37                    float64\n",
            "NORTH EAST                      object\n",
            "NORTH WEST                      object\n",
            "YORKS & THE HUMBER              object\n",
            "EAST MIDLANDS                   object\n",
            "WEST MIDLANDS                   object\n",
            "EAST OF ENGLAND                 object\n",
            "LONDON                          object\n",
            "SOUTH EAST                      object\n",
            "SOUTH WEST                      object\n",
            "Unnamed: 47                    float64\n",
            "England                         object\n",
            "dtype: object\n",
            "  Unnamed: 0 City of London  ... Unnamed: 47    England\n",
            "0        NaT      E09000001  ...         NaN  E92000001\n",
            "\n",
            "[1 rows x 49 columns]\n",
            "    Unnamed: 0 City of London  ... Unnamed: 47 England\n",
            "314 2021-02-01         675309  ...         NaN  268291\n",
            "\n",
            "[1 rows x 49 columns]\n"
          ]
        }
      ],
      "source": [
        "print(properties.columns)\n",
        "print(properties.dtypes)\n",
        "print(properties.head(1))\n",
        "print(properties.tail(1))\n"
      ]
    },
    {
      "cell_type": "markdown",
      "metadata": {
        "id": "tE9Sqt9-oAta"
      },
      "source": [
        "**2.2. Cleaning the data**\n",
        "\n",
        "You might find you need to transpose your dataframe, check out what its row indexes are, and reset the index. You  also might find you need to assign the values of the first row to your column headings  . (Hint: recall the .columns feature of DataFrames, as well as the iloc[] method).\n",
        "\n",
        "Don't be afraid to use StackOverflow for help  with this."
      ]
    },
    {
      "cell_type": "code",
      "execution_count": null,
      "metadata": {
        "colab": {
          "base_uri": "https://localhost:8080/"
        },
        "id": "cdAu1A3YoH_r",
        "outputId": "7b51a897-8b3e-4b7c-f6ab-c98ec6101b25"
      },
      "outputs": [
        {
          "name": "stdout",
          "output_type": "stream",
          "text": [
            "  Unnamed: 0 City of London Barking & Dagenham  ... SOUTH WEST Unnamed: 47  England\n",
            "1 1995-01-01          91449            50460.2  ...    54705.2         NaN  53202.8\n",
            "\n",
            "[1 rows x 49 columns]\n"
          ]
        }
      ],
      "source": [
        "properties = properties.drop([0]) # drop the firstrow since it is just area codes\n",
        "print(properties.head(1))"
      ]
    },
    {
      "cell_type": "code",
      "execution_count": null,
      "metadata": {
        "colab": {
          "base_uri": "https://localhost:8080/"
        },
        "id": "2PPzmMc1jGfy",
        "outputId": "3b214a41-06ec-4f61-da7a-281c884bea9d"
      },
      "outputs": [
        {
          "name": "stdout",
          "output_type": "stream",
          "text": [
            "           City of London Barking & Dagenham  ... Unnamed: 47  England\n",
            "Date                                          ...                     \n",
            "1995-01-01          91449            50460.2  ...         NaN  53202.8\n",
            "\n",
            "[1 rows x 48 columns]\n"
          ]
        }
      ],
      "source": [
        "properties = properties.set_index('Unnamed: 0')\n",
        "properties.index.name = 'Date'\n",
        "print(properties.head(1))"
      ]
    },
    {
      "cell_type": "markdown",
      "metadata": {
        "id": "o1uLbJAsoIjK"
      },
      "source": [
        "**2.3. Cleaning the data (part 2)**\n",
        "\n",
        "You might we have to **rename** a couple columns. How do you do this? The clue's pretty bold..."
      ]
    },
    {
      "cell_type": "code",
      "execution_count": null,
      "metadata": {
        "colab": {
          "base_uri": "https://localhost:8080/"
        },
        "id": "GKkmn1AnoVZS",
        "outputId": "5cc3719b-6da6-4c26-d8f8-b2707bb424b6"
      },
      "outputs": [
        {
          "name": "stdout",
          "output_type": "stream",
          "text": [
            "Index(['City of London', 'Barking & Dagenham', 'Barnet', 'Bexley', 'Brent',\n",
            "       'Bromley', 'Camden', 'Croydon', 'Ealing', 'Enfield', 'Greenwich',\n",
            "       'Hackney', 'Hammersmith & Fulham', 'Haringey', 'Harrow', 'Havering',\n",
            "       'Hillingdon', 'Hounslow', 'Islington', 'Kensington & Chelsea',\n",
            "       'Kingston upon Thames', 'Lambeth', 'Lewisham', 'Merton', 'Newham',\n",
            "       'Redbridge', 'Richmond upon Thames', 'Southwark', 'Sutton',\n",
            "       'Tower Hamlets', 'Waltham Forest', 'Wandsworth', 'Westminster',\n",
            "       'Unnamed: 34', 'Inner London', 'Outer London', 'Unnamed: 37',\n",
            "       'NORTH EAST', 'NORTH WEST', 'YORKS & THE HUMBER', 'EAST MIDLANDS',\n",
            "       'WEST MIDLANDS', 'EAST OF ENGLAND', 'LONDON', 'SOUTH EAST',\n",
            "       'SOUTH WEST', 'Unnamed: 47', 'England'],\n",
            "      dtype='object')\n",
            "['Unnamed: 34', 'Unnamed: 37', 'Unnamed: 47']\n",
            "       Unnamed: 34  Unnamed: 37  Unnamed: 47\n",
            "count          0.0          0.0          0.0\n",
            "mean           NaN          NaN          NaN\n",
            "std            NaN          NaN          NaN\n",
            "min            NaN          NaN          NaN\n",
            "25%            NaN          NaN          NaN\n",
            "50%            NaN          NaN          NaN\n",
            "75%            NaN          NaN          NaN\n",
            "max            NaN          NaN          NaN\n",
            "           City of London Barking & Dagenham  ... SOUTH WEST  England\n",
            "Date                                          ...                    \n",
            "1995-01-01          91449            50460.2  ...    54705.2  53202.8\n",
            "\n",
            "[1 rows x 45 columns]\n"
          ]
        }
      ],
      "source": [
        "col_names = properties.columns\n",
        "print(col_names)\n",
        "# it looks like there are several columns with  'Unnamed:'\n",
        "unnamed_cols = [name for name in col_names if 'Unnamed' in name]\n",
        "print(unnamed_cols)\n",
        "# Now that you have the subset of unnamed columns see if there is any data there\n",
        "\n",
        "print(properties[unnamed_cols].describe())\n",
        "# because there are no values there you can drop them\n",
        "properties = properties.drop(unnamed_cols, axis='columns')\n",
        "print(properties.head(1))"
      ]
    },
    {
      "cell_type": "code",
      "execution_count": null,
      "metadata": {
        "colab": {
          "base_uri": "https://localhost:8080/"
        },
        "id": "S2wM0qLuo2Zt",
        "outputId": "138387bc-7047-4022-fc88-8c2458732b3b"
      },
      "outputs": [
        {
          "name": "stdout",
          "output_type": "stream",
          "text": [
            "32\n",
            "           Barking & Dagenham   Barnet  ... Wandsworth Westminster\n",
            "Date                                    ...                       \n",
            "1995-01-01            50460.2  93284.5  ...      88559      133025\n",
            "\n",
            "[1 rows x 32 columns]\n"
          ]
        }
      ],
      "source": [
        "print(len(properties.columns[1:33]))\n",
        "london_col_names =properties.columns[1:33] # according to wikipedia these are the boroughs in London\n",
        "london_properties = properties[london_col_names] # subset to only have the boroughs\n",
        "print(london_properties.head(1))"
      ]
    },
    {
      "cell_type": "markdown",
      "metadata": {
        "id": "jy8BzXHmoWEw"
      },
      "source": [
        "**2.4.Transforming the data**\n",
        "\n",
        "Remember what Wes McKinney said about tidy data? \n",
        "\n",
        "You might need to **melt** your DataFrame here. "
      ]
    },
    {
      "cell_type": "code",
      "execution_count": null,
      "metadata": {
        "colab": {
          "base_uri": "https://localhost:8080/"
        },
        "id": "p9o_WCcRjGf0",
        "outputId": "82d6f418-409e-48f4-b68b-ad833174ac14"
      },
      "outputs": [
        {
          "name": "stdout",
          "output_type": "stream",
          "text": [
            "                      variable    value\n",
            "Date                                   \n",
            "1995-01-01  Barking & Dagenham  50460.2\n",
            "1995-02-01  Barking & Dagenham  51085.8\n",
            "1995-03-01  Barking & Dagenham    51269\n",
            "        Date            variable    value\n",
            "0 1995-01-01  Barking & Dagenham  50460.2\n",
            "1 1995-02-01  Barking & Dagenham  51085.8\n",
            "2 1995-03-01  Barking & Dagenham    51269\n",
            "        Date      London Borough average price\n",
            "0 1995-01-01  Barking & Dagenham       50460.2\n",
            "1 1995-02-01  Barking & Dagenham       51085.8\n",
            "2 1995-03-01  Barking & Dagenham         51269\n"
          ]
        }
      ],
      "source": [
        "melted_properties = pd.melt(london_properties,ignore_index=False)\n",
        "print(melted_properties.head(3))\n",
        "# rename the columns\n",
        "melted_properties.reset_index(inplace=True)\n",
        "print(melted_properties.head(3))\n",
        "melted_properties.columns = ['Date', 'London Borough','average price']\n",
        "print(melted_properties.head(3))\n"
      ]
    },
    {
      "cell_type": "markdown",
      "metadata": {
        "id": "7kIsgAo7o3mf"
      },
      "source": [
        "Remember to make sure your column data types are all correct. Average prices, for example, should be floating point numbers... "
      ]
    },
    {
      "cell_type": "code",
      "execution_count": null,
      "metadata": {
        "colab": {
          "base_uri": "https://localhost:8080/"
        },
        "id": "ZcR4IHbcpOaq",
        "outputId": "06cd08b4-88f5-4750-b565-365070c44908"
      },
      "outputs": [
        {
          "name": "stdout",
          "output_type": "stream",
          "text": [
            "Date              datetime64[ns]\n",
            "London Borough            object\n",
            "average price             object\n",
            "dtype: object\n",
            "Date              datetime64[ns]\n",
            "London Borough          category\n",
            "average price            float64\n",
            "dtype: object\n"
          ]
        }
      ],
      "source": [
        "print(melted_properties.dtypes)\n",
        "melted_properties['London Borough'] = melted_properties['London Borough'].astype(\"category\")\n",
        "melted_properties['average price'] = melted_properties['average price'].astype(\"float\")\n",
        "print(melted_properties.dtypes)"
      ]
    },
    {
      "cell_type": "markdown",
      "metadata": {
        "id": "knLUXHLypOtw"
      },
      "source": [
        "**2.5. Cleaning the data (part 3)**\n",
        "\n",
        "Do we have an equal number of observations in the ID, Average Price, Month, and London Borough columns? Remember that there are only 32 London Boroughs. How many entries do you have in that column? \n",
        "\n",
        "Check out the contents of the London Borough column, and if you find null values, get rid of them however you see fit. "
      ]
    },
    {
      "cell_type": "code",
      "execution_count": null,
      "metadata": {
        "colab": {
          "base_uri": "https://localhost:8080/"
        },
        "id": "BnvTW5a3p0fC",
        "outputId": "eb453e82-dc6e-4ebb-f3a5-cfe0afea84ae"
      },
      "outputs": [
        {
          "name": "stdout",
          "output_type": "stream",
          "text": [
            "num unique London Boroughs: 32\n",
            "num null values in London Borough: 0\n",
            "num average prices: 10048\n",
            "num null values in average price column: 0\n",
            "num unique Dates: 314\n",
            "start Date: 1995-01-01 00:00:00\n",
            "end Date: 2021-02-01 00:00:00\n",
            "        Date      London Borough  average price\n",
            "0 1995-01-01  Barking & Dagenham    50460.22660\n",
            "1 1995-02-01  Barking & Dagenham    51085.77983\n",
            "2 1995-03-01  Barking & Dagenham    51268.96956\n",
            "3 1995-04-01  Barking & Dagenham    53133.50526\n"
          ]
        }
      ],
      "source": [
        "print('num unique London Boroughs: ' + str(melted_properties['London Borough'].nunique())) # there are 32 unique values\n",
        "print('num null values in London Borough: ' +str(melted_properties['London Borough'].isna().sum()))\n",
        "\n",
        "print('num average prices: ' + str(melted_properties['average price'].count())) # there are 10048 prices with no null values. \n",
        "print('num null values in average price column: ' +str(melted_properties['average price'].isna().sum()))\n",
        "\n",
        "print('num unique Dates: ' + str(melted_properties['Date'].nunique())) # there are 10048 prices with no null values. \n",
        "print('start Date: ' +str(melted_properties['Date'].min()))\n",
        "print('end Date: ' +str(melted_properties['Date'].max()))\n",
        "\n",
        "print(melted_properties.head(4))\n",
        "\n",
        "# I have "
      ]
    },
    {
      "cell_type": "markdown",
      "metadata": {
        "id": "PGEx6mJsp6dG"
      },
      "source": [
        "**2.6. Visualizing the data**\n",
        "\n",
        "To visualize the data, why not subset on a particular London Borough? Maybe do a line plot of Month against Average Price?"
      ]
    },
    {
      "cell_type": "code",
      "execution_count": null,
      "metadata": {
        "colab": {
          "base_uri": "https://localhost:8080/",
          "height": 283
        },
        "id": "nAg5pT9cqHAR",
        "outputId": "fac6f3f4-27e0-447f-f4f0-b090db3cf3c1"
      },
      "outputs": [
        {
          "data": {
            "text/plain": [
              "[<matplotlib.lines.Line2D at 0x7f453a320990>]"
            ]
          },
          "execution_count": 19,
          "metadata": {
            "tags": []
          },
          "output_type": "execute_result"
        },
        {
          "data": {
            "image/png": "[encoded data removed]",
            "text/plain": [
              "<Figure size 432x288 with 1 Axes>"
            ]
          },
          "metadata": {
            "needs_background": "light",
            "tags": []
          },
          "output_type": "display_data"
        }
      ],
      "source": [
        "Barking_filter = melted_properties['London Borough'] == 'Barking & Dagenham'\n",
        "only_barking = melted_properties[Barking_filter][['Date','average price']]\n",
        "only_barking.set_index('Date', inplace=True)\n",
        "plt.plot(only_barking)"
      ]
    },
    {
      "cell_type": "markdown",
      "metadata": {
        "id": "aWTPqSJeqHnC"
      },
      "source": [
        "To limit the number of data points you have, you might want to extract the year from every month value your *Month* column. \n",
        "\n",
        "To this end, you *could* apply a ***lambda function***. Your logic could work as follows:\n",
        "1. look through the `Month` column\n",
        "2. extract the year from each individual value in that column \n",
        "3. store that corresponding year as separate column. \n",
        "\n",
        "Whether you go ahead with this is up to you. Just so long as you answer our initial brief: which boroughs of London have seen the greatest house price increase, on average, over the past two decades? "
      ]
    },
    {
      "cell_type": "code",
      "execution_count": null,
      "metadata": {
        "colab": {
          "base_uri": "https://localhost:8080/"
        },
        "id": "e0DF92cyqnu8",
        "outputId": "47302f2c-529b-4c50-fb06-71ce5a7cace6"
      },
      "outputs": [
        {
          "name": "stdout",
          "output_type": "stream",
          "text": [
            "                               average price\n",
            "Date       London Borough                   \n",
            "1995-01-01 Barking & Dagenham    50460.22660\n",
            "1995-02-01 Barking & Dagenham    51085.77983\n",
            "1995-03-01 Barking & Dagenham    51268.96956\n",
            "1995-04-01 Barking & Dagenham    53133.50526\n",
            "1995-05-01 Barking & Dagenham    53042.24852\n"
          ]
        }
      ],
      "source": [
        "melted_properties.set_index(['Date', 'London Borough'], inplace=True)\n",
        "print(melted_properties.head())"
      ]
    },
    {
      "cell_type": "markdown",
      "metadata": {
        "id": "2knuTxAEqoJ4"
      },
      "source": [
        "**3. Modeling**\n",
        "\n",
        "Consider creating a function that will calculate a ratio of house prices, comparing the price of a house in 2018 to the price in 1998.\n",
        "\n",
        "Consider calling this function create_price_ratio.\n",
        "\n",
        "You'd want this function to:\n",
        "1. Take a filter of dfg, specifically where this filter constrains the London_Borough, as an argument. For example, one admissible argument should be: dfg[dfg['London_Borough']=='Camden'].\n",
        "2. Get the Average Price for that Borough, for the years 1998 and 2018.\n",
        "4. Calculate the ratio of the Average Price for 1998 divided by the Average Price for 2018.\n",
        "5. Return that ratio.\n",
        "\n",
        "Once you've written this function, you ultimately want to use it to iterate through all the unique London_Boroughs and work out the ratio capturing the difference of house prices between 1998 and 2018.\n",
        "\n",
        "Bear in mind: you don't have to write a function like this if you don't want to. If you can solve the brief otherwise, then great! \n",
        "\n",
        "***Hint***: This section should test the skills you acquired in:\n",
        "- Python Data Science Toolbox - Part One, all modules"
      ]
    },
    {
      "cell_type": "code",
      "execution_count": 198,
      "metadata": {
        "colab": {
          "base_uri": "https://localhost:8080/",
          "height": 1000
        },
        "id": "tCF6neScgzqL",
        "outputId": "8fd15d5d-e12d-4613-f8b5-6c638125e1dc"
      },
      "outputs": [
        {
          "data": {
            "text/html": [
              "<div>\n",
              "<style scoped>\n",
              "    .dataframe tbody tr th:only-of-type {\n",
              "        vertical-align: middle;\n",
              "    }\n",
              "\n",
              "    .dataframe tbody tr th {\n",
              "        vertical-align: top;\n",
              "    }\n",
              "\n",
              "    .dataframe thead th {\n",
              "        text-align: right;\n",
              "    }\n",
              "</style>\n",
              "<table border=\"1\" class=\"dataframe\">\n",
              "  <thead>\n",
              "    <tr style=\"text-align: right;\">\n",
              "      <th></th>\n",
              "      <th>London Borough</th>\n",
              "      <th>percent change</th>\n",
              "      <th>price ratio</th>\n",
              "    </tr>\n",
              "  </thead>\n",
              "  <tbody>\n",
              "    <tr>\n",
              "      <th>10</th>\n",
              "      <td>Hackney</td>\n",
              "      <td>0.090850</td>\n",
              "      <td>8.998686</td>\n",
              "    </tr>\n",
              "    <tr>\n",
              "      <th>26</th>\n",
              "      <td>Southwark</td>\n",
              "      <td>0.088401</td>\n",
              "      <td>8.421073</td>\n",
              "    </tr>\n",
              "    <tr>\n",
              "      <th>20</th>\n",
              "      <td>Lambeth</td>\n",
              "      <td>0.085816</td>\n",
              "      <td>7.913606</td>\n",
              "    </tr>\n",
              "    <tr>\n",
              "      <th>29</th>\n",
              "      <td>Waltham Forest</td>\n",
              "      <td>0.085278</td>\n",
              "      <td>7.749143</td>\n",
              "    </tr>\n",
              "    <tr>\n",
              "      <th>21</th>\n",
              "      <td>Lewisham</td>\n",
              "      <td>0.084198</td>\n",
              "      <td>7.662656</td>\n",
              "    </tr>\n",
              "    <tr>\n",
              "      <th>23</th>\n",
              "      <td>Newham</td>\n",
              "      <td>0.083052</td>\n",
              "      <td>7.272860</td>\n",
              "    </tr>\n",
              "    <tr>\n",
              "      <th>28</th>\n",
              "      <td>Tower Hamlets</td>\n",
              "      <td>0.082489</td>\n",
              "      <td>7.183216</td>\n",
              "    </tr>\n",
              "    <tr>\n",
              "      <th>17</th>\n",
              "      <td>Islington</td>\n",
              "      <td>0.082356</td>\n",
              "      <td>7.274039</td>\n",
              "    </tr>\n",
              "    <tr>\n",
              "      <th>31</th>\n",
              "      <td>Westminster</td>\n",
              "      <td>0.081745</td>\n",
              "      <td>7.282358</td>\n",
              "    </tr>\n",
              "    <tr>\n",
              "      <th>12</th>\n",
              "      <td>Haringey</td>\n",
              "      <td>0.081396</td>\n",
              "      <td>7.251789</td>\n",
              "    </tr>\n",
              "    <tr>\n",
              "      <th>22</th>\n",
              "      <td>Merton</td>\n",
              "      <td>0.080347</td>\n",
              "      <td>7.025443</td>\n",
              "    </tr>\n",
              "    <tr>\n",
              "      <th>3</th>\n",
              "      <td>Brent</td>\n",
              "      <td>0.080154</td>\n",
              "      <td>6.959089</td>\n",
              "    </tr>\n",
              "    <tr>\n",
              "      <th>30</th>\n",
              "      <td>Wandsworth</td>\n",
              "      <td>0.080082</td>\n",
              "      <td>6.924923</td>\n",
              "    </tr>\n",
              "    <tr>\n",
              "      <th>5</th>\n",
              "      <td>Camden</td>\n",
              "      <td>0.079337</td>\n",
              "      <td>6.840170</td>\n",
              "    </tr>\n",
              "    <tr>\n",
              "      <th>18</th>\n",
              "      <td>Kensington &amp; Chelsea</td>\n",
              "      <td>0.079105</td>\n",
              "      <td>6.645687</td>\n",
              "    </tr>\n",
              "    <tr>\n",
              "      <th>9</th>\n",
              "      <td>Greenwich</td>\n",
              "      <td>0.077115</td>\n",
              "      <td>6.547872</td>\n",
              "    </tr>\n",
              "    <tr>\n",
              "      <th>0</th>\n",
              "      <td>Barking &amp; Dagenham</td>\n",
              "      <td>0.076407</td>\n",
              "      <td>6.179626</td>\n",
              "    </tr>\n",
              "    <tr>\n",
              "      <th>25</th>\n",
              "      <td>Richmond upon Thames</td>\n",
              "      <td>0.076274</td>\n",
              "      <td>6.350290</td>\n",
              "    </tr>\n",
              "    <tr>\n",
              "      <th>7</th>\n",
              "      <td>Ealing</td>\n",
              "      <td>0.075898</td>\n",
              "      <td>6.320955</td>\n",
              "    </tr>\n",
              "    <tr>\n",
              "      <th>24</th>\n",
              "      <td>Redbridge</td>\n",
              "      <td>0.075638</td>\n",
              "      <td>6.260757</td>\n",
              "    </tr>\n",
              "    <tr>\n",
              "      <th>19</th>\n",
              "      <td>Kingston upon Thames</td>\n",
              "      <td>0.074912</td>\n",
              "      <td>6.102367</td>\n",
              "    </tr>\n",
              "    <tr>\n",
              "      <th>16</th>\n",
              "      <td>Hounslow</td>\n",
              "      <td>0.072751</td>\n",
              "      <td>5.899773</td>\n",
              "    </tr>\n",
              "    <tr>\n",
              "      <th>15</th>\n",
              "      <td>Hillingdon</td>\n",
              "      <td>0.072718</td>\n",
              "      <td>5.848236</td>\n",
              "    </tr>\n",
              "    <tr>\n",
              "      <th>1</th>\n",
              "      <td>Barnet</td>\n",
              "      <td>0.072664</td>\n",
              "      <td>5.841916</td>\n",
              "    </tr>\n",
              "    <tr>\n",
              "      <th>27</th>\n",
              "      <td>Sutton</td>\n",
              "      <td>0.072559</td>\n",
              "      <td>5.789395</td>\n",
              "    </tr>\n",
              "    <tr>\n",
              "      <th>6</th>\n",
              "      <td>Croydon</td>\n",
              "      <td>0.071912</td>\n",
              "      <td>5.672195</td>\n",
              "    </tr>\n",
              "    <tr>\n",
              "      <th>11</th>\n",
              "      <td>Hammersmith &amp; Fulham</td>\n",
              "      <td>0.071882</td>\n",
              "      <td>5.680622</td>\n",
              "    </tr>\n",
              "    <tr>\n",
              "      <th>8</th>\n",
              "      <td>Enfield</td>\n",
              "      <td>0.071630</td>\n",
              "      <td>5.712403</td>\n",
              "    </tr>\n",
              "    <tr>\n",
              "      <th>13</th>\n",
              "      <td>Harrow</td>\n",
              "      <td>0.071533</td>\n",
              "      <td>5.668102</td>\n",
              "    </tr>\n",
              "    <tr>\n",
              "      <th>4</th>\n",
              "      <td>Bromley</td>\n",
              "      <td>0.071276</td>\n",
              "      <td>5.660284</td>\n",
              "    </tr>\n",
              "    <tr>\n",
              "      <th>14</th>\n",
              "      <td>Havering</td>\n",
              "      <td>0.071038</td>\n",
              "      <td>5.589930</td>\n",
              "    </tr>\n",
              "    <tr>\n",
              "      <th>2</th>\n",
              "      <td>Bexley</td>\n",
              "      <td>0.070994</td>\n",
              "      <td>5.617514</td>\n",
              "    </tr>\n",
              "  </tbody>\n",
              "</table>\n",
              "</div>"
            ],
            "text/plain": [
              "          London Borough  percent change  price ratio\n",
              "10               Hackney        0.090850     8.998686\n",
              "26             Southwark        0.088401     8.421073\n",
              "20               Lambeth        0.085816     7.913606\n",
              "29        Waltham Forest        0.085278     7.749143\n",
              "21              Lewisham        0.084198     7.662656\n",
              "23                Newham        0.083052     7.272860\n",
              "28         Tower Hamlets        0.082489     7.183216\n",
              "17             Islington        0.082356     7.274039\n",
              "31           Westminster        0.081745     7.282358\n",
              "12              Haringey        0.081396     7.251789\n",
              "22                Merton        0.080347     7.025443\n",
              "3                  Brent        0.080154     6.959089\n",
              "30            Wandsworth        0.080082     6.924923\n",
              "5                 Camden        0.079337     6.840170\n",
              "18  Kensington & Chelsea        0.079105     6.645687\n",
              "9              Greenwich        0.077115     6.547872\n",
              "0     Barking & Dagenham        0.076407     6.179626\n",
              "25  Richmond upon Thames        0.076274     6.350290\n",
              "7                 Ealing        0.075898     6.320955\n",
              "24             Redbridge        0.075638     6.260757\n",
              "19  Kingston upon Thames        0.074912     6.102367\n",
              "16              Hounslow        0.072751     5.899773\n",
              "15            Hillingdon        0.072718     5.848236\n",
              "1                 Barnet        0.072664     5.841916\n",
              "27                Sutton        0.072559     5.789395\n",
              "6                Croydon        0.071912     5.672195\n",
              "11  Hammersmith & Fulham        0.071882     5.680622\n",
              "8                Enfield        0.071630     5.712403\n",
              "13                Harrow        0.071533     5.668102\n",
              "4                Bromley        0.071276     5.660284\n",
              "14              Havering        0.071038     5.589930\n",
              "2                 Bexley        0.070994     5.617514"
            ]
          },
          "execution_count": 198,
          "metadata": {
            "tags": []
          },
          "output_type": "execute_result"
        }
      ],
      "source": [
        "def compute_price_ratio_change(col:pd.Series) -> float:\n",
        "  \"\"\"\n",
        "    Return the last element / first element\n",
        "  \"\"\"\n",
        "  return float(col[-1]/ col[0])\n",
        "property_change_df = pd.DataFrame(yearly_properties.pct_change().mean())\n",
        "\n",
        "property_change_df['price ratio'] = [compute_price_ratio_change(yearly_properties[col]) for col in yearly_properties.columns ]\n",
        "property_change_df.reset_index( inplace=True)\n",
        "\n",
        "property_change_df.columns = ['price', 'London Borough', 'percent change', 'price ratio']\n",
        "del property_change_df['price']\n",
        "\n",
        "property_change_df.sort_values(by=['percent change','price ratio'], ascending=False)"
      ]
    },
    {
      "cell_type": "code",
      "execution_count": 93,
      "metadata": {
        "colab": {
          "base_uri": "https://localhost:8080/",
          "height": 281
        },
        "id": "cKTyr437UgDa",
        "outputId": "1e9838aa-6e7f-4f43-838b-92b4281c485f"
      },
      "outputs": [
        {
          "data": {
            "image/png": "[encoded data removed]",
            "text/plain": [
              "<Figure size 432x288 with 1 Axes>"
            ]
          },
          "metadata": {
            "needs_background": "light",
            "tags": []
          },
          "output_type": "display_data"
        }
      ],
      "source": [
        "yearly_properties = melted_properties.unstack()\n",
        "yearly_properties = yearly_properties.resample('A').mean()\n",
        "plt.plot(yearly_properties)\n",
        "plt.title('Average house price per year by borough')\n",
        "plt.show()\n"
      ]
    },
    {
      "cell_type": "code",
      "execution_count": 114,
      "metadata": {
        "colab": {
          "base_uri": "https://localhost:8080/",
          "height": 279
        },
        "id": "uqNxfOTOvsgi",
        "outputId": "cff73e2e-be81-4905-a390-b04e7bec25e5"
      },
      "outputs": [
        {
          "data": {
            "image/png": "[encoded data removed]",
            "text/plain": [
              "<Figure size 432x288 with 1 Axes>"
            ]
          },
          "metadata": {
            "needs_background": "light",
            "tags": []
          },
          "output_type": "display_data"
        }
      ],
      "source": [
        "# verify this by ploting Hackney monthly average sale price \n",
        "only_hackney = properties[['Hackney']]\n",
        "only_hackney.plot()\n",
        "plt.show()"
      ]
    },
    {
      "cell_type": "markdown",
      "metadata": {
        "id": "NzYUI7FxJpgv"
      },
      "source": [
        "### 4. Conclusion\n",
        "What can you conclude? Type out your conclusion below. \n",
        "\n",
        "Look back at your notebook. Think about how you might summarize what you have done, and prepare a quick presentation on it to your mentor at your next meeting. \n",
        "\n",
        "We hope you enjoyed this practical project. It should have consolidated your data hygiene and pandas skills by looking at a real-world problem involving just the kind of dataset you might encounter as a budding data scientist. Congratulations, and looking forward to seeing you at the next step in the course! "
      ]
    },
    {
      "cell_type": "markdown",
      "metadata": {
        "id": "Q9LscPrKHdX6"
      },
      "source": [
        "# My Conclusions\r\n",
        "\r\n",
        "There are a couple of ways to determine the \"greatest average increase\". The first is to take the average yearly change per borough. I calculated that in the <b>percent change</b> column in property_change_df. \r\n",
        "\r\n",
        "The second way is to compute the ratio of the average price of 2021 and 1995. This is the <b>price ratio</b> column in property_change_df. \r\n",
        "\r\n",
        "In both cases Hackney was the borough where house prices increased by the greatest amount. Hackney had average house prices rise by about 9% a year and by a factor of 9 since 1995. \r\n"
      ]
    }
  ],
  "metadata": {
    "colab": {
      "collapsed_sections": [],
      "name": "Unit 4 Challenge - Tier 3.ipynb",
      "provenance": []
    },
    "kernelspec": {
      "display_name": "Python 3.9.4 64-bit",
      "name": "python394jvsc74a57bd06f6d64a7ba9cd062c59eea959ce2d8fc2832d4e9d0b0a9d5e546a142dd474f01"
    },
    "language_info": {
      "name": "python",
      "version": ""
    },
    "metadata": {
      "interpreter": {
        "hash": "6f6d64a7ba9cd062c59eea959ce2d8fc2832d4e9d0b0a9d5e546a142dd474f01"
      }
    }
  },
  "nbformat": 4,
  "nbformat_minor": 0
}