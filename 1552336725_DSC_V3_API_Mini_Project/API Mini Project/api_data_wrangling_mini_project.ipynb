{
 "cells": [
  {
   "cell_type": "markdown",
   "metadata": {},
   "source": [
    "This exercise will require you to pull some data from the Qunadl API. Qaundl is currently the most widely used aggregator of financial market data."
   ]
  },
  {
   "cell_type": "markdown",
   "metadata": {},
   "source": [
    "As a first step, you will need to register a free account on the http://www.quandl.com website."
   ]
  },
  {
   "cell_type": "markdown",
   "metadata": {},
   "source": [
    "After you register, you will be provided with a unique API key, that you should store:"
   ]
  },
  {
   "cell_type": "code",
   "execution_count": 122,
   "metadata": {
    "collapsed": true
   },
   "outputs": [],
   "source": [
    "# Store the API key as a string - according to PEP8, constants are always named in all upper case\r\n",
    "API_KEY = 'Fake KEY'"
   ]
  },
  {
   "cell_type": "markdown",
   "metadata": {},
   "source": [
    "Qaundl has a large number of data sources, but, unfortunately, most of them require a Premium subscription. Still, there are also a good number of free datasets."
   ]
  },
  {
   "cell_type": "markdown",
   "metadata": {},
   "source": [
    "For this mini project, we will focus on equities data from the Frankfurt Stock Exhange (FSE), which is available for free. We'll try and analyze the stock prices of a company called Carl Zeiss Meditec, which manufactures tools for eye examinations, as well as medical lasers for laser eye surgery: https://www.zeiss.com/meditec/int/home.html. The company is listed under the stock ticker AFX_X."
   ]
  },
  {
   "cell_type": "markdown",
   "metadata": {},
   "source": [
    "You can find the detailed Quandl API instructions here: https://docs.quandl.com/docs/time-series"
   ]
  },
  {
   "cell_type": "markdown",
   "metadata": {},
   "source": [
    "While there is a dedicated Python package for connecting to the Quandl API, we would prefer that you use the *requests* package, which can be easily downloaded using *pip* or *conda*. You can find the documentation for the package here: http://docs.python-requests.org/en/master/ "
   ]
  },
  {
   "cell_type": "markdown",
   "metadata": {},
   "source": [
    "Finally, apart from the *requests* package, you are encouraged to not use any third party Python packages, such as *pandas*, and instead focus on what's available in the Python Standard Library (the *collections* module might come in handy: https://pymotw.com/3/collections/ ).\n",
    "Also, since you won't have access to DataFrames, you are encouraged to us Python's native data structures - preferably dictionaries, though some questions can also be answered using lists.\n",
    "You can read more on these data structures here: https://docs.python.org/3/tutorial/datastructures.html"
   ]
  },
  {
   "cell_type": "markdown",
   "metadata": {},
   "source": [
    "Keep in mind that the JSON responses you will be getting from the API map almost one-to-one to Python's dictionaries. Unfortunately, they can be very nested, so make sure you read up on indexing dictionaries in the documentation provided above."
   ]
  },
  {
   "cell_type": "code",
   "execution_count": 123,
   "metadata": {
    "collapsed": true
   },
   "outputs": [],
   "source": [
    "# First, import the relevant modules\r\n",
    "#import json\r\n",
    "import requests\r\n",
    "\r\n"
   ]
  },
  {
   "cell_type": "code",
   "execution_count": 124,
   "metadata": {
    "collapsed": true
   },
   "outputs": [
    {
     "data": {
      "text/plain": "{'limit': None,\n 'transform': None,\n 'column_index': None,\n 'column_names': ['Date',\n  'Open',\n  'High',\n  'Low',\n  'Close',\n  'Change',\n  'Traded Volume',\n  'Turnover',\n  'Last Price of the Day',\n  'Daily Traded Units',\n  'Daily Turnover'],\n 'start_date': '2020-12-01',\n 'end_date': '2020-12-01',\n 'frequency': 'daily',\n 'data': [['2020-12-01',\n   112.2,\n   112.2,\n   111.5,\n   112.0,\n   None,\n   51.0,\n   5703.0,\n   None,\n   None,\n   None]],\n 'collapse': None,\n 'order': None}"
     },
     "execution_count": 124,
     "metadata": {},
     "output_type": "execute_result"
    }
   ],
   "source": [
    "# Now, call the Quandl API and pull out a small sample of the data (only one day) to get a glimpse\r\n",
    "# into the JSON structure that will be returned\r\n",
    "TICKER = 'AFX_X'\r\n",
    "EXCHANGE = 'FSE'\r\n",
    "call = f'https://www.quandl.com/api/v3/datasets/{EXCHANGE}/{TICKER}/data.json?api_key={API_KEY}&start_date=2020-12-01'\r\n",
    "response = requests.get(call).json()\r\n",
    "\r\n",
    "a_day = response['dataset_data']\r\n",
    "a_day"
   ]
  },
  {
   "cell_type": "code",
   "execution_count": 125,
   "metadata": {
    "collapsed": true
   },
   "outputs": [
    {
     "name": "stdout",
     "output_type": "stream",
     "text": [
      "dict_keys(['limit', 'transform', 'column_index', 'column_names', 'start_date', 'end_date', 'frequency', 'data', 'collapse', 'order'])\n",
      "['Date', 'Open', 'High', 'Low', 'Close', 'Change', 'Traded Volume', 'Turnover', 'Last Price of the Day', 'Daily Traded Units', 'Daily Turnover']\n",
      "[['2020-12-01', 112.2, 112.2, 111.5, 112.0, None, 51.0, 5703.0, None, None, None]]\n"
     ]
    }
   ],
   "source": [
    "# Inspect the JSON structure of the object you created, and take note of how nested it is,\r\n",
    "# as well as the overall structure\r\n",
    "print(a_day.keys())\r\n",
    "print(a_day['column_names'])# this element is a list\r\n",
    "print(a_day['data'])# this element is a 2D list of a row of data for a day\r\n",
    "\r\n",
    "# the rest of the keys are single values, meta data, or data associated with the API call such as limit. \r\n"
   ]
  },
  {
   "cell_type": "markdown",
   "metadata": {},
   "source": [
    "These are your tasks for this mini project:\n",
    "\n",
    "1. Collect data from the Franfurt Stock Exchange, for the ticker AFX_X, for the whole year 2017 (keep in mind that the date format is YYYY-MM-DD).\n",
    "2. Convert the returned JSON object into a Python dictionary.\n",
    "3. Calculate what the highest and lowest opening prices were for the stock in this period.\n",
    "4. What was the largest change in any one day (based on High and Low price)?\n",
    "5. What was the largest change between any two days (based on Closing Price)?\n",
    "6. What was the average daily trading volume during this year?\n",
    "7. (Optional) What was the median trading volume during this year. (Note: you may need to implement your own function for calculating the median.)"
   ]
  },
  {
   "cell_type": "code",
   "execution_count": 126,
   "metadata": {
    "collapsed": true
   },
   "outputs": [
    {
     "name": "stdout",
     "output_type": "stream",
     "text": [
      "<class 'dict'>\n"
     ]
    },
    {
     "data": {
      "text/plain": "dict_keys(['limit', 'transform', 'column_index', 'column_names', 'start_date', 'end_date', 'frequency', 'data', 'collapse', 'order'])"
     },
     "execution_count": 126,
     "metadata": {},
     "output_type": "execute_result"
    }
   ],
   "source": [
    "# 1. Collect data from the Franfurt Stock Exchange, for the ticker AFX_X, for the whole year 2017 (keep in mind that the date format is YYYY-MM-DD).\r\n",
    "start = '2017-01-01'\r\n",
    "end = '2017-12-31'\r\n",
    "get_2017 = f'https://www.quandl.com/api/v3/datasets/{EXCHANGE}/{TICKER}/data.json?api_key={API_KEY}&start_date={start}&end_date={end}'\r\n",
    "\r\n",
    "#2. Convert the returned JSON object into a Python dictionary.\r\n",
    "data = requests.get(get_2017).json()['dataset_data']\r\n",
    "print(type(data))\r\n",
    "data.keys()\r\n",
    "\r\n"
   ]
  },
  {
   "cell_type": "code",
   "execution_count": 127,
   "metadata": {},
   "outputs": [
    {
     "name": "stdout",
     "output_type": "stream",
     "text": [
      "['Date', 'Open', 'High', 'Low', 'Close', 'Change', 'Traded Volume', 'Turnover', 'Last Price of the Day', 'Daily Traded Units', 'Daily Turnover']\n",
      "51.65\n",
      "['2017-12-28', 51.65, 51.82, 51.43, 51.6, None, 40660.0, 2099024.0, None, None, None]\n",
      "The minimum opening price is 34.0\n",
      "The maximum opening price is 53.11\n"
     ]
    }
   ],
   "source": [
    "#3. Calculate what the highest and lowest opening prices were for the stock in this period.\r\n",
    "\r\n",
    "cols = data['column_names']\r\n",
    "numbers = data['data']\r\n",
    "print(cols)\r\n",
    "# Index 1 is Open price for that day\r\n",
    "\r\n",
    "open_prices = [day[1] for day in numbers if day[1] is not None] # drop all the missing data\r\n",
    "print(open_prices[1])\r\n",
    "print(numbers[1])\r\n",
    "\r\n",
    "# spot check to see that the values are correct\r\n",
    "# they are so you can move on\r\n",
    "\r\n",
    "print(f'The minimum opening price is {min(open_prices)}')\r\n",
    "print(f'The maximum opening price is {max(open_prices)}')"
   ]
  },
  {
   "cell_type": "code",
   "execution_count": 128,
   "metadata": {},
   "outputs": [
    {
     "name": "stdout",
     "output_type": "stream",
     "text": [
      "The largest daily change between open and close is 2.66.\n"
     ]
    }
   ],
   "source": [
    "#4. What was the largest change in any one day (based on High and Low price)?\r\n",
    "open_close = [(day[1],day[2]) for day in numbers]\r\n",
    "\r\n",
    "\r\n",
    "max_change =0\r\n",
    "for day in open_close:\r\n",
    "    try:\r\n",
    "        day_change = round(day[1] - day[0],2)\r\n",
    "    except:\r\n",
    "        day_change = 0 # catch errors with missing data\r\n",
    "    if abs(day_change) > abs(max_change):\r\n",
    "        max_change = day_change\r\n",
    "\r\n",
    "print(f'The largest daily change between open and close is {max_change}.')"
   ]
  },
  {
   "cell_type": "code",
   "execution_count": 129,
   "metadata": {},
   "outputs": [
    {
     "name": "stdout",
     "output_type": "stream",
     "text": [
      "The maximum daily change between closing prices is 2.81\n"
     ]
    }
   ],
   "source": [
    "#5. What was the largest change between any two days (based on Closing Price)?\r\n",
    "\r\n",
    "close_prices = [day[2] for day in numbers if day[2] is not None]\r\n",
    "\r\n",
    "max_daily_close_change  = 0\r\n",
    "\r\n",
    "for i in range(1, len(close_prices)):\r\n",
    "    yesterday_close = close_prices[i-1]\r\n",
    "    today_close = close_prices[i]\r\n",
    "    if abs(today_close - yesterday_close) > max_daily_close_change:\r\n",
    "        max_daily_close_change = round(today_close - yesterday_close,2)\r\n",
    "\r\n",
    "print(f'The maximum daily change between closing prices is {max_daily_close_change}')"
   ]
  },
  {
   "cell_type": "code",
   "execution_count": 130,
   "metadata": {},
   "outputs": [
    {
     "name": "stdout",
     "output_type": "stream",
     "text": [
      "['Date', 'Open', 'High', 'Low', 'Close', 'Change', 'Traded Volume', 'Turnover', 'Last Price of the Day', 'Daily Traded Units', 'Daily Turnover']\n",
      "The average traded volumne is 89124\n"
     ]
    }
   ],
   "source": [
    "# 6. What was the average daily trading volume during this year?\r\n",
    "print(cols)\r\n",
    "# 'Traded Volume' is in index 6 \r\n",
    "\r\n",
    "traded_volume = [day[6] for day in numbers if day[6] is not None]\r\n",
    "\r\n",
    "average_traded_volume = round(sum(traded_volume) / len(traded_volume))\r\n",
    "\r\n",
    "print(f'The average traded volumne is {average_traded_volume}')"
   ]
  },
  {
   "cell_type": "code",
   "execution_count": 131,
   "metadata": {},
   "outputs": [
    {
     "name": "stdout",
     "output_type": "stream",
     "text": [
      "The median traded volumne is 76286.0.\n"
     ]
    }
   ],
   "source": [
    "# 7. (Optional) What was the median trading volume during this year. (Note: you may need to implement your own function for calculating the median.)\r\n",
    "\r\n",
    "\r\n",
    "# The median is the middle value. You just need to sort the list and return the value at the middle index.\r\n",
    "\r\n",
    "mid_index = int((len(traded_volume)-1) / 2)\r\n",
    "mid_index\r\n",
    "\r\n",
    "\r\n",
    "print(f'The median traded volumne is {sorted(traded_volume)[mid_index]}.')"
   ]
  }
 ],
 "metadata": {
  "kernelspec": {
   "display_name": "Python 3.8.8 64-bit ('SpringBoardRoot': conda)",
   "name": "python388jvsc74a57bd034254dbed0a11299c26a60998b10651945ddc6175a352e28bb4ea7f4f8edb40d"
  },
  "language_info": {
   "codemirror_mode": {
    "name": "ipython",
    "version": 3
   },
   "file_extension": ".py",
   "mimetype": "text/x-python",
   "name": "python",
   "nbconvert_exporter": "python",
   "pygments_lexer": "ipython3",
   "version": "3.8.8"
  }
 },
 "nbformat": 4,
 "nbformat_minor": 2
}